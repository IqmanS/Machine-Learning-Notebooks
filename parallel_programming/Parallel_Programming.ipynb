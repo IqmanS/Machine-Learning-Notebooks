{
  "nbformat": 4,
  "nbformat_minor": 0,
  "metadata": {
    "colab": {
      "provenance": [],
      "authorship_tag": "ABX9TyNHE8ee0SOGl+r8yfaSjga4",
      "include_colab_link": true
    },
    "kernelspec": {
      "name": "python3",
      "display_name": "Python 3"
    },
    "language_info": {
      "name": "python"
    }
  },
  "cells": [
    {
      "cell_type": "markdown",
      "metadata": {
        "id": "view-in-github",
        "colab_type": "text"
      },
      "source": [
        "<a href=\"https://colab.research.google.com/github/IqmanS/Machine-Learning-Notebooks/blob/main/parallel_programming/Parallel_Programming.ipynb\" target=\"_parent\"><img src=\"https://colab.research.google.com/assets/colab-badge.svg\" alt=\"Open In Colab\"/></a>"
      ]
    },
    {
      "cell_type": "code",
      "source": [
        "import time\n",
        "import multiprocessing #older way\n",
        "import concurrent.futures\n",
        "import threading\n",
        "import logging\n",
        "import os\n",
        "import numpy as np"
      ],
      "metadata": {
        "id": "XpAV6OfhuIVa"
      },
      "execution_count": 46,
      "outputs": []
    },
    {
      "cell_type": "code",
      "source": [
        "logger = logging.getLogger()\n",
        "logger.setLevel(logging.DEBUG)\n",
        "logging.debug(\"test\")\n",
        "\n",
        "CPU = os.cpu_count()"
      ],
      "metadata": {
        "colab": {
          "base_uri": "https://localhost:8080/"
        },
        "id": "iGKdGsLjwh_F",
        "outputId": "75517feb-0d8e-45d3-f591-913e15493b66"
      },
      "execution_count": 17,
      "outputs": [
        {
          "output_type": "stream",
          "name": "stderr",
          "text": [
            "DEBUG:root:test\n"
          ]
        }
      ]
    },
    {
      "cell_type": "markdown",
      "source": [
        "# Serial"
      ],
      "metadata": {
        "id": "WIMsCUE0uE_b"
      }
    },
    {
      "cell_type": "code",
      "source": [
        "start = time.perf_counter()\n",
        "\n",
        "def do_something():\n",
        "    print(\"Sleep Start\")\n",
        "    time.sleep(1)\n",
        "    print(\"Sleep End\")\n",
        "\n",
        "do_something()\n",
        "do_something()\n",
        "\n",
        "finish = time.perf_counter()\n",
        "print(\"Time Taken:\",round(finish-start,2))"
      ],
      "metadata": {
        "colab": {
          "base_uri": "https://localhost:8080/"
        },
        "id": "myZ5cTbRuGRr",
        "outputId": "128f12b8-3dd7-4785-c12b-ccf7d12a2c13"
      },
      "execution_count": 13,
      "outputs": [
        {
          "output_type": "stream",
          "name": "stdout",
          "text": [
            "Sleep Start\n",
            "Sleep End\n",
            "Sleep Start\n",
            "Sleep End\n",
            "Time Taken: 2.0\n"
          ]
        }
      ]
    },
    {
      "cell_type": "markdown",
      "source": [
        "# Multiprocessing (older way)"
      ],
      "metadata": {
        "id": "LEotTw7iu2EW"
      }
    },
    {
      "cell_type": "code",
      "source": [
        "start = time.perf_counter()\n",
        "\n",
        "p1 = multiprocessing.Process(target = do_something,args=())\n",
        "p2 = multiprocessing.Process(target = do_something,args=())\n",
        "\n",
        "p1.start()\n",
        "p2.start()\n",
        "\n",
        "p1.join()\n",
        "p2.join()\n",
        "\n",
        "finish = time.perf_counter()\n",
        "print(\"Time Taken:\",round(finish-start,2))"
      ],
      "metadata": {
        "colab": {
          "base_uri": "https://localhost:8080/"
        },
        "id": "-fjUavi6u3h8",
        "outputId": "6fcb6e24-c202-4ac7-9fca-555a8ad41532"
      },
      "execution_count": 14,
      "outputs": [
        {
          "output_type": "stream",
          "name": "stdout",
          "text": [
            "Sleep Start\n",
            "Sleep Start\n",
            "Sleep End\n",
            "Sleep End\n",
            "Time Taken: 1.05\n"
          ]
        }
      ]
    },
    {
      "cell_type": "code",
      "source": [
        "start = time.perf_counter()\n",
        "\n",
        "process = []\n",
        "for _ in range(10):\n",
        "    p = multiprocessing.Process(target = do_something,args=())\n",
        "    p.start()\n",
        "    process.append(p)\n",
        "\n",
        "for p in process:\n",
        "    p.join()\n",
        "\n",
        "finish = time.perf_counter()\n",
        "print(\"Time Taken:\",round(finish-start,2))"
      ],
      "metadata": {
        "colab": {
          "base_uri": "https://localhost:8080/"
        },
        "id": "x2iVEOfavrpc",
        "outputId": "cb68a6d8-6951-46f0-9c5b-9b09834d1622"
      },
      "execution_count": 16,
      "outputs": [
        {
          "output_type": "stream",
          "name": "stdout",
          "text": [
            "Sleep Start\n",
            "Sleep StartSleep Start\n",
            "\n",
            "Sleep StartSleep Start\n",
            "\n",
            "Sleep Start\n",
            "Sleep Start\n",
            "Sleep Start\n",
            "Sleep Start\n",
            "Sleep Start\n",
            "Sleep End\n",
            "Sleep End\n",
            "Sleep End\n",
            "Sleep EndSleep End\n",
            "\n",
            "Sleep EndSleep End\n",
            "\n",
            "Sleep End\n",
            "Sleep End\n",
            "Sleep End\n",
            "Time Taken: 1.18\n"
          ]
        }
      ]
    },
    {
      "cell_type": "markdown",
      "source": [
        "# concurrent.futures.ProcessPoolExecutor and ThreadPoolExecutor (New)\n",
        "\n",
        "\n",
        "* ProcessPool is for CPU bound tasks so you can benefit from multiple CPU.\n",
        "* ThreadPool is for IO bound tasks so you can benefit from IO wait.\n",
        "\n",
        "\n"
      ],
      "metadata": {
        "id": "jXm3Qzbtww_r"
      }
    },
    {
      "cell_type": "code",
      "source": [
        "def do_something(seconds):\n",
        "    print(f\"Sleep Start for {seconds}s\")\n",
        "    time.sleep(seconds)\n",
        "    return f\"Sleep End of {seconds}s\""
      ],
      "metadata": {
        "id": "LZ6ouBQ5z1gq"
      },
      "execution_count": 37,
      "outputs": []
    },
    {
      "cell_type": "code",
      "source": [
        "# ProcessPoolExecutor\n",
        "start = time.perf_counter()\n",
        "\n",
        "with concurrent.futures.ProcessPoolExecutor() as executor:\n",
        "    # f1 = executor.submit(do_something,1)\n",
        "    results = [executor.submit(do_something,1) for _ in range(10)]\n",
        "\n",
        "    for f in concurrent.futures.as_completed(results):\n",
        "        print(f.result())\n",
        "\n",
        "\n",
        "finish = time.perf_counter()\n",
        "print(\"Time Taken:\",round(finish-start,2))"
      ],
      "metadata": {
        "colab": {
          "base_uri": "https://localhost:8080/"
        },
        "id": "rr3b9abbKRp5",
        "outputId": "72fac8f8-5630-4263-c4d9-10de983d56f4"
      },
      "execution_count": 38,
      "outputs": [
        {
          "output_type": "stream",
          "name": "stdout",
          "text": [
            "Sleep Start for 1sSleep Start for 1s\n",
            "\n",
            "Sleep Start for 1s\n",
            "Sleep Start for 1s\n",
            "Sleep End of 1s\n",
            "Sleep End of 1s\n",
            "Sleep Start for 1s\n",
            "\n",
            "Sleep Start for 1sSleep End of 1s\n",
            "Sleep End of 1s\n",
            "Sleep Start for 1s\n",
            "Sleep Start for 1s\n",
            "Sleep End of 1s\n",
            "Sleep End of 1s\n",
            "Sleep Start for 1s\n",
            "Sleep Start for 1s\n",
            "Sleep End of 1s\n",
            "Sleep End of 1s\n",
            "Sleep End of 1s\n",
            "Sleep End of 1s\n",
            "Time Taken: 5.1\n"
          ]
        }
      ]
    },
    {
      "cell_type": "code",
      "source": [
        "# ThreadPoolExecutor\n",
        "start = time.perf_counter()\n",
        "\n",
        "with concurrent.futures.ThreadPoolExecutor() as executor:\n",
        "    # f1 = executor.submit(do_something,1)\n",
        "    results = [executor.submit(do_something,1) for _ in range(10)]\n",
        "\n",
        "    for f in concurrent.futures.as_completed(results):\n",
        "        print(f.result())\n",
        "\n",
        "\n",
        "finish = time.perf_counter()\n",
        "print(\"Time Taken:\",round(finish-start,2))"
      ],
      "metadata": {
        "colab": {
          "base_uri": "https://localhost:8080/"
        },
        "id": "YjK3lshWuBkI",
        "outputId": "44764178-7cae-4a40-c2b1-d5dfbea2e840"
      },
      "execution_count": 39,
      "outputs": [
        {
          "output_type": "stream",
          "name": "stdout",
          "text": [
            "Sleep Start for 1s\n",
            "Sleep Start for 1s\n",
            "Sleep Start for 1s\n",
            "Sleep Start for 1s\n",
            "Sleep Start for 1s\n",
            "Sleep Start for 1s\n",
            "Sleep Start for 1sSleep End of 1s\n",
            "\n",
            "Sleep Start for 1s\n",
            "Sleep End of 1s\n",
            "Sleep Start for 1sSleep End of 1s\n",
            "\n",
            "Sleep Start for 1sSleep End of 1s\n",
            "\n",
            "Sleep End of 1s\n",
            "Sleep End of 1s\n",
            "Sleep End of 1s\n",
            "Sleep End of 1s\n",
            "Sleep End of 1s\n",
            "Sleep End of 1s\n",
            "Time Taken: 2.01\n"
          ]
        }
      ]
    },
    {
      "cell_type": "code",
      "source": [
        "# ProcessPoolExecutor\n",
        "start = time.perf_counter()\n",
        "\n",
        "with concurrent.futures.ProcessPoolExecutor() as executor:\n",
        "    # f1 = executor.submit(do_something,1)\n",
        "    results = [executor.submit(do_something,_) for _ in range(5,0,-1)]\n",
        "\n",
        "    for f in concurrent.futures.as_completed(results):\n",
        "        print(f.result())\n",
        "\n",
        "\n",
        "finish = time.perf_counter()\n",
        "print(\"Time Taken using ProcessPoolExecutor:\",round(finish-start,2))\n",
        "\n",
        "print(\"\\n\",\"--\"*50)\n",
        "\n",
        "# ThreadPoolExecutor\n",
        "start = time.perf_counter()\n",
        "\n",
        "with concurrent.futures.ThreadPoolExecutor() as executor:\n",
        "    # f1 = executor.submit(do_something,1)\n",
        "    results = [executor.submit(do_something,_) for _ in range(5,0,-1)]\n",
        "\n",
        "    for f in concurrent.futures.as_completed(results):\n",
        "        print(f.result())\n",
        "\n",
        "\n",
        "finish = time.perf_counter()\n",
        "print(\"Time Taken using ThreadPoolExecutor:\",round(finish-start,2))"
      ],
      "metadata": {
        "colab": {
          "base_uri": "https://localhost:8080/"
        },
        "id": "EC9nWb1-0DRX",
        "outputId": "bcc47c8c-394f-4593-d329-a4d57206884e"
      },
      "execution_count": 40,
      "outputs": [
        {
          "output_type": "stream",
          "name": "stdout",
          "text": [
            "Sleep Start for 4sSleep Start for 5s\n",
            "\n",
            "Sleep Start for 3s\n",
            "Sleep End of 4s\n",
            "Sleep Start for 2s\n",
            "Sleep End of 5s\n",
            "Sleep Start for 1s\n",
            "Sleep End of 3s\n",
            "Sleep End of 2s\n",
            "Sleep End of 1s\n",
            "Time Taken using ProcessPoolExecutor: 8.06\n",
            "\n",
            " ----------------------------------------------------------------------------------------------------\n",
            "Sleep Start for 5s\n",
            "Sleep Start for 4s\n",
            "Sleep Start for 3sSleep Start for 2s\n",
            "Sleep Start for 1s\n",
            "\n",
            "Sleep End of 1s\n",
            "Sleep End of 2s\n",
            "Sleep End of 3s\n",
            "Sleep End of 4s\n",
            "Sleep End of 5s\n",
            "Time Taken using ThreadPoolExecutor: 5.01\n"
          ]
        }
      ]
    },
    {
      "cell_type": "markdown",
      "source": [
        "# Using 'map'"
      ],
      "metadata": {
        "id": "JM9sGniL1ivf"
      }
    },
    {
      "cell_type": "code",
      "source": [
        "# ProcessPoolExecutor\n",
        "start = time.perf_counter()\n",
        "\n",
        "with concurrent.futures.ProcessPoolExecutor() as executor:\n",
        "    results = executor.map(do_something,list(range(5,0,-1)))\n",
        "\n",
        "    for f in results:\n",
        "        print(f)\n",
        "\n",
        "\n",
        "finish = time.perf_counter()\n",
        "print(\"Time Taken using ProcessPoolExecutor:\",round(finish-start,2))\n",
        "\n",
        "print(\"\\n\",\"--\"*50)\n",
        "\n",
        "# ThreadPoolExecutor\n",
        "start = time.perf_counter()\n",
        "\n",
        "with concurrent.futures.ThreadPoolExecutor() as executor:\n",
        "    results = executor.map(do_something,list(range(5,0,-1)))\n",
        "\n",
        "    for f in results:\n",
        "        # Handle exceptions here\n",
        "        print(f)\n",
        "\n",
        "\n",
        "finish = time.perf_counter()\n",
        "print(\"Time Taken using ThreadPoolExecutor:\",round(finish-start,2))"
      ],
      "metadata": {
        "colab": {
          "base_uri": "https://localhost:8080/"
        },
        "id": "FQJ7LH741iHD",
        "outputId": "31f30deb-9a64-440c-bf6e-5f8652b40010"
      },
      "execution_count": 43,
      "outputs": [
        {
          "output_type": "stream",
          "name": "stdout",
          "text": [
            "Sleep Start for 5s\n",
            "Sleep Start for 4s\n",
            "Sleep Start for 3s\n",
            "Sleep Start for 2s\n",
            "Sleep End of 5s\n",
            "Sleep End of 4s\n",
            "Sleep Start for 1s\n",
            "Sleep End of 3s\n",
            "Sleep End of 2s\n",
            "Sleep End of 1s\n",
            "Time Taken using ProcessPoolExecutor: 8.06\n",
            "\n",
            " ----------------------------------------------------------------------------------------------------\n",
            "Sleep Start for 5s\n",
            "Sleep Start for 4s\n",
            "Sleep Start for 3s\n",
            "Sleep Start for 2s\n",
            "Sleep Start for 1s\n",
            "Sleep End of 5s\n",
            "Sleep End of 4s\n",
            "Sleep End of 3s\n",
            "Sleep End of 2s\n",
            "Sleep End of 1s\n",
            "Time Taken using ThreadPoolExecutor: 5.0\n"
          ]
        }
      ]
    },
    {
      "cell_type": "markdown",
      "source": [
        "# Creating 10000 (500x500) matrices and multiplying them"
      ],
      "metadata": {
        "id": "zUS25KlT2b_s"
      }
    },
    {
      "cell_type": "code",
      "source": [
        "def CreateAndMultiply(): # Creates 2 Matrices and multiples them\n",
        "    mat1 = 10 * np.random.random_sample((500,500))\n",
        "    mat2 = 10 * np.random.random_sample((500,500))\n",
        "    mul = mat1*mat2"
      ],
      "metadata": {
        "id": "jT2E6obH99W5"
      },
      "execution_count": 74,
      "outputs": []
    },
    {
      "cell_type": "code",
      "source": [
        "# Using ProcessPoolExecutor\n",
        "start = time.perf_counter()\n",
        "\n",
        "with concurrent.futures.ProcessPoolExecutor() as executor:\n",
        "    [executor.submit(CreateAndMultiply) for _ in range(5000)]\n",
        "\n",
        "finish = time.perf_counter()\n",
        "print(\"Time Taken using ProcessPoolExecutor:\",round(finish-start,2))\n"
      ],
      "metadata": {
        "colab": {
          "base_uri": "https://localhost:8080/"
        },
        "id": "S-F8kLMi-BfO",
        "outputId": "678c3735-8340-4819-b1d9-0dc443b4a067"
      },
      "execution_count": 72,
      "outputs": [
        {
          "output_type": "stream",
          "name": "stdout",
          "text": [
            "Time Taken using ProcessPoolExecutor: 38.63\n"
          ]
        }
      ]
    },
    {
      "cell_type": "code",
      "source": [
        "# Using ThreadPoolExecutor\n",
        "start = time.perf_counter()\n",
        "\n",
        "with concurrent.futures.ThreadPoolExecutor() as executor:\n",
        "    [executor.submit(CreateAndMultiply) for _ in range(5000)]\n",
        "\n",
        "\n",
        "finish = time.perf_counter()\n",
        "print(\"Time Taken using ThreadPoolExecutor:\",round(finish-start,2))\n"
      ],
      "metadata": {
        "colab": {
          "base_uri": "https://localhost:8080/"
        },
        "id": "SY7_S4hO2uQh",
        "outputId": "32f6d727-6abf-4a5c-957e-1fbd1948d821"
      },
      "execution_count": 73,
      "outputs": [
        {
          "output_type": "stream",
          "name": "stdout",
          "text": [
            "Time Taken using ThreadPoolExecutor: 40.94\n"
          ]
        }
      ]
    }
  ]
}