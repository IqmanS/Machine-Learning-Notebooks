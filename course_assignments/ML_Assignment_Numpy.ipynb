{
  "nbformat": 4,
  "nbformat_minor": 0,
  "metadata": {
    "colab": {
      "provenance": [],
      "include_colab_link": true
    },
    "kernelspec": {
      "name": "python3",
      "display_name": "Python 3"
    },
    "language_info": {
      "name": "python"
    }
  },
  "cells": [
    {
      "cell_type": "markdown",
      "metadata": {
        "id": "view-in-github",
        "colab_type": "text"
      },
      "source": [
        "<a href=\"https://colab.research.google.com/github/IqmanS/Machine-Learning-Notebooks/blob/main/course_assignments/ML_Assignment_Numpy.ipynb\" target=\"_parent\"><img src=\"https://colab.research.google.com/assets/colab-badge.svg\" alt=\"Open In Colab\"/></a>"
      ]
    },
    {
      "cell_type": "markdown",
      "source": [
        "## Iqman Singh Bhatia\n",
        "## 102103189"
      ],
      "metadata": {
        "id": "iiUQ2da8mC44"
      }
    },
    {
      "cell_type": "code",
      "execution_count": null,
      "metadata": {
        "colab": {
          "base_uri": "https://localhost:8080/"
        },
        "id": "oFkAkLj7go4_",
        "outputId": "b54ffe1a-1aac-481e-fb76-fdb7b00686b5"
      },
      "outputs": [
        {
          "output_type": "stream",
          "name": "stdout",
          "text": [
            "[1 2 3 6 5 4]\n",
            "[4 5 6 3 2 1]\n"
          ]
        }
      ],
      "source": [
        "#Q1 a\n",
        "import numpy as np\n",
        "arr = np.array([1,2,3,6,5,4])\n",
        "print(arr)\n",
        "new_arr = arr[::-1]\n",
        "print(new_arr)"
      ]
    },
    {
      "cell_type": "code",
      "source": [
        "# Q1 b\n",
        "array1 = np.array([[1, 2, 3], [2, 4, 5], [1, 2, 3]])\n",
        "print(array1)\n",
        "new_array1 = np.ndarray.flatten(array1)\n",
        "print(new_array1)"
      ],
      "metadata": {
        "colab": {
          "base_uri": "https://localhost:8080/"
        },
        "id": "T13xeTnohP8d",
        "outputId": "3aad9ffa-efac-4ea3-ac70-f59d6e6520b3"
      },
      "execution_count": null,
      "outputs": [
        {
          "output_type": "stream",
          "name": "stdout",
          "text": [
            "[[1 2 3]\n",
            " [2 4 5]\n",
            " [1 2 3]]\n",
            "[1 2 3 2 4 5 1 2 3]\n"
          ]
        }
      ]
    },
    {
      "cell_type": "code",
      "source": [
        "#Q1 c\n",
        "arr1 = np.array([[1, 2], [3, 4]])\n",
        "arr2 = np.array([[1, 2], [3, 4]])\n",
        "print(\"arr1 \", arr1)\n",
        "print(\"arr2 \", arr2)\n",
        "print(\"arr1 > arr2\")\n",
        "print(np.greater(arr1,arr2))\n",
        "print(\"arr1 >= arr2\")\n",
        "print(np.greater_equal(arr1,arr2))\n",
        "print(\"arr1 < arr2\")\n",
        "print(np.less(arr1,arr2))\n",
        "print(\"arr1 <= arr2\")\n",
        "print(np.less_equal(arr1,arr2))\n",
        "print(\"arr1 = arr2\")\n",
        "print(np.equal(arr1,arr2))\n",
        "\n"
      ],
      "metadata": {
        "colab": {
          "base_uri": "https://localhost:8080/"
        },
        "id": "B5QAiaOChypp",
        "outputId": "6df94dc1-42da-433c-b56f-149b1e310eb7"
      },
      "execution_count": null,
      "outputs": [
        {
          "output_type": "stream",
          "name": "stdout",
          "text": [
            "arr1  [[1 2]\n",
            " [3 4]]\n",
            "arr2  [[1 2]\n",
            " [3 4]]\n",
            "arr1 > arr2\n",
            "[[False False]\n",
            " [False False]]\n",
            "arr1 >= arr2\n",
            "[[ True  True]\n",
            " [ True  True]]\n",
            "arr1 < arr2\n",
            "[[False False]\n",
            " [False False]]\n",
            "arr1 <= arr2\n",
            "[[ True  True]\n",
            " [ True  True]]\n",
            "arr1 = arr2\n",
            "[[ True  True]\n",
            " [ True  True]]\n"
          ]
        }
      ]
    },
    {
      "cell_type": "code",
      "source": [
        "#Q1 d\n",
        "x = np.array([1,2,3,4,5,1,2,1,1,1])\n",
        "print(x)\n",
        "print(\"most frequent value is \", np.bincount(x).argmax())\n",
        "print(\"Index values are \", np.where(x==1)[0])\n",
        "y = np.array([1, 1, 1, 2, 3, 4, 2, 4, 3, 3, ])\n",
        "print(y)\n",
        "print(\"most frequent value is \", np.bincount(x).argmax())\n",
        "print(\"Index values are \", np.where(y==1)[0])\n"
      ],
      "metadata": {
        "colab": {
          "base_uri": "https://localhost:8080/"
        },
        "id": "cqQ4XuEZjDXB",
        "outputId": "fed5ce75-b463-4204-a9d9-05af3e291bc5"
      },
      "execution_count": null,
      "outputs": [
        {
          "output_type": "stream",
          "name": "stdout",
          "text": [
            "[1 2 3 4 5 1 2 1 1 1]\n",
            "most frequent value is  1\n",
            "Index values are  [0 5 7 8 9]\n",
            "[1 1 1 2 3 4 2 4 3 3]\n",
            "most frequent value is  1\n",
            "Index values are  [0 1 2]\n"
          ]
        }
      ]
    },
    {
      "cell_type": "code",
      "source": [
        "# Q1 e\n",
        "gfg = np.matrix('[4, 1, 9; 12, 3, 1; 4, 5, 6]')\n",
        "arr_gfg = np.array(gfg)\n",
        "print(gfg)\n",
        "sum = np.sum(gfg)\n",
        "print(\"Sum of elements is \", sum)\n",
        "a = np.sum(arr_gfg,axis=0)\n",
        "print(\"Sum of elememts column wise \",a)\n",
        "b = np.sum(arr_gfg, axis=1)\n",
        "print(\"Sum of elements row wise \",b)\n"
      ],
      "metadata": {
        "colab": {
          "base_uri": "https://localhost:8080/"
        },
        "id": "QCmWtWATlK1v",
        "outputId": "8aaee672-e786-4d0f-aa00-bb5e6ca267fe"
      },
      "execution_count": null,
      "outputs": [
        {
          "output_type": "stream",
          "name": "stdout",
          "text": [
            "[[ 4  1  9]\n",
            " [12  3  1]\n",
            " [ 4  5  6]]\n",
            "Sum of elements is  45\n",
            "Sum of elememts column wise  [20  9 16]\n",
            "Sum of elements row wise  [14 16 15]\n"
          ]
        }
      ]
    },
    {
      "cell_type": "code",
      "source": [
        "# Q1 f\n",
        "\n",
        "n_array = np.array([[55, 25, 15], [30, 44, 2], [11, 45, 77]])\n",
        "\n",
        "\n",
        "diagonal_sum = np.trace(n_array)\n",
        "print(\"Sum of diagonal elements:\", diagonal_sum)\n",
        "\n",
        "eigenvalues = np.linalg.eigvals(n_array)\n",
        "print(\"Eigenvalues of matrix:\")\n",
        "print(eigenvalues)\n",
        "\n",
        "eigenvectors = np.linalg.eig(n_array)\n",
        "print(\"Eigenvectors of matrix:\")\n",
        "print(eigenvectors)\n",
        "\n",
        "inverse_matrix = np.linalg.inv(n_array)\n",
        "print(\"Inverse of matrix:\")\n",
        "print(inverse_matrix)\n",
        "\n",
        "determinant = np.linalg.det(n_array)\n",
        "print(\"Determinant of matrix:\", determinant)\n"
      ],
      "metadata": {
        "colab": {
          "base_uri": "https://localhost:8080/"
        },
        "id": "exvHW9Crolo5",
        "outputId": "efa5dcd5-d8d9-43a4-dbb2-bce0ae5f83f2"
      },
      "execution_count": null,
      "outputs": [
        {
          "output_type": "stream",
          "name": "stdout",
          "text": [
            "Sum of diagonal elements: 176\n",
            "Eigenvalues of matrix:\n",
            "[98.16835147 28.097044   49.73460452]\n",
            "Eigenvectors of matrix:\n",
            "(array([98.16835147, 28.097044  , 49.73460452]), array([[ 0.4574917 ,  0.34637121, -0.15017693],\n",
            "       [ 0.28447814, -0.72784061, -0.4852124 ],\n",
            "       [ 0.84248058,  0.59184038,  0.8614034 ]]))\n",
            "Inverse of matrix:\n",
            "[[ 0.02404141 -0.00911212 -0.00444671]\n",
            " [-0.01667882  0.02966905  0.0024785 ]\n",
            " [ 0.00631287 -0.01603732  0.01217379]]\n",
            "Determinant of matrix: 137180.0000000001\n"
          ]
        }
      ]
    },
    {
      "cell_type": "code",
      "source": [
        "# Q1 g\n",
        "p = np.array([[1, 2], [2, 3]])\n",
        "q = np.array([[4, 5], [6, 7]])\n",
        "result = np.dot(p, q)\n",
        "covariance = np.cov(p, q)\n",
        "print(\"Matrix Multiplication Result:\")\n",
        "print(result)\n",
        "print(\"Covariance between Matrices:\")\n",
        "print(covariance)\n"
      ],
      "metadata": {
        "colab": {
          "base_uri": "https://localhost:8080/"
        },
        "id": "-KE8mbFdrIso",
        "outputId": "a050558b-521d-469b-8e73-5ba396c4e412"
      },
      "execution_count": null,
      "outputs": [
        {
          "output_type": "stream",
          "name": "stdout",
          "text": [
            "Matrix Multiplication Result:\n",
            "[[16 19]\n",
            " [26 31]]\n",
            "Covariance between Matrices:\n",
            "[[0.5 0.5 0.5 0.5]\n",
            " [0.5 0.5 0.5 0.5]\n",
            " [0.5 0.5 0.5 0.5]\n",
            " [0.5 0.5 0.5 0.5]]\n"
          ]
        }
      ]
    },
    {
      "cell_type": "code",
      "source": [
        "#Q1 h\n",
        "x = np.array([[2, 3, 4], [3, 2, 9]])\n",
        "y = np.array([[1, 5, 0], [5, 10, 3]])\n",
        "inner = np.inner(x,y)\n",
        "print(\"Inner product is \", inner)\n",
        "outer = np.outer(x,y)\n",
        "print(\"Outer product is \", outer)\n",
        "X, Y = np.meshgrid(x.flatten(), y.flatten())\n",
        "cartesian_product = np.column_stack((X.ravel(), Y.ravel()))\n",
        "print(\"Cartesian Product:\")\n",
        "print(cartesian_product)"
      ],
      "metadata": {
        "colab": {
          "base_uri": "https://localhost:8080/"
        },
        "id": "fEHnT_cKsC0D",
        "outputId": "309d39bc-574f-4865-c0db-0d5ddc9256b8"
      },
      "execution_count": null,
      "outputs": [
        {
          "output_type": "stream",
          "name": "stdout",
          "text": [
            "Inner product is  [[17 52]\n",
            " [13 62]]\n",
            "Outer product is  [[ 2 10  0 10 20  6]\n",
            " [ 3 15  0 15 30  9]\n",
            " [ 4 20  0 20 40 12]\n",
            " [ 3 15  0 15 30  9]\n",
            " [ 2 10  0 10 20  6]\n",
            " [ 9 45  0 45 90 27]]\n",
            "Cartesian Product:\n",
            "[[ 2  1]\n",
            " [ 3  1]\n",
            " [ 4  1]\n",
            " [ 3  1]\n",
            " [ 2  1]\n",
            " [ 9  1]\n",
            " [ 2  5]\n",
            " [ 3  5]\n",
            " [ 4  5]\n",
            " [ 3  5]\n",
            " [ 2  5]\n",
            " [ 9  5]\n",
            " [ 2  0]\n",
            " [ 3  0]\n",
            " [ 4  0]\n",
            " [ 3  0]\n",
            " [ 2  0]\n",
            " [ 9  0]\n",
            " [ 2  5]\n",
            " [ 3  5]\n",
            " [ 4  5]\n",
            " [ 3  5]\n",
            " [ 2  5]\n",
            " [ 9  5]\n",
            " [ 2 10]\n",
            " [ 3 10]\n",
            " [ 4 10]\n",
            " [ 3 10]\n",
            " [ 2 10]\n",
            " [ 9 10]\n",
            " [ 2  3]\n",
            " [ 3  3]\n",
            " [ 4  3]\n",
            " [ 3  3]\n",
            " [ 2  3]\n",
            " [ 9  3]]\n"
          ]
        }
      ]
    },
    {
      "cell_type": "code",
      "source": [
        "# Q2 a\n",
        "array = np.array([[1, -2, 3],[-4, 5, -6]])\n",
        "print(array)\n",
        "new = np.fabs(array)\n",
        "print(new)\n",
        "flat_arr = np.ndarray.flatten(array)\n",
        "print(flat_arr)\n",
        "print(\"25th percentile of flattened array : \",np.percentile(flat_arr,25))\n",
        "print(\"50th percentile of flattened array : \",np.percentile(flat_arr,50))\n",
        "print(\"75th percentile of flattened array : \",np.percentile(flat_arr,75))\n",
        "print(\"Percentiles for each column :\",np.percentile(array,[25,50,75],axis=0))\n",
        "print(\"Percentiles for each row :\",np.percentile(array,[25,50,75],axis=1))"
      ],
      "metadata": {
        "colab": {
          "base_uri": "https://localhost:8080/"
        },
        "id": "Eo7W487V6lcm",
        "outputId": "e8882fd8-23c5-44b5-d9fb-364fe79c86e0"
      },
      "execution_count": null,
      "outputs": [
        {
          "output_type": "stream",
          "name": "stdout",
          "text": [
            "[[ 1 -2  3]\n",
            " [-4  5 -6]]\n",
            "[[1. 2. 3.]\n",
            " [4. 5. 6.]]\n",
            "[ 1 -2  3 -4  5 -6]\n",
            "25th percentile of flattened array :  -3.5\n",
            "50th percentile of flattened array :  -0.5\n",
            "75th percentile of flattened array :  2.5\n",
            "Percentiles for each column : [[-2.75 -0.25 -3.75]\n",
            " [-1.5   1.5  -1.5 ]\n",
            " [-0.25  3.25  0.75]]\n",
            "Percentiles for each row : [[-0.5 -5. ]\n",
            " [ 1.  -4. ]\n",
            " [ 2.   0.5]]\n"
          ]
        }
      ]
    },
    {
      "cell_type": "code",
      "source": [
        "#Q2 b\n",
        "a = np.array([-1.8, -1.6, -0.5, 0.5,1.6, 1.8, 3.0])\n",
        "print(a)\n",
        "print(\"Floor values : \", np.floor(a))\n",
        "print(\"Ceiling values : \", np.ceil(a))\n",
        "print(\"Truncated values : \", np.trunc(a))\n",
        "print(\"Rounded values : \", np.round(a))\n"
      ],
      "metadata": {
        "colab": {
          "base_uri": "https://localhost:8080/"
        },
        "id": "DfNY9Xd57A40",
        "outputId": "ac8872d8-4f21-47ed-b7d7-2fff7b3246c3"
      },
      "execution_count": null,
      "outputs": [
        {
          "output_type": "stream",
          "name": "stdout",
          "text": [
            "[-1.8 -1.6 -0.5  0.5  1.6  1.8  3. ]\n",
            "Floor values :  [-2. -2. -1.  0.  1.  1.  3.]\n",
            "Ceiling values :  [-1. -1. -0.  1.  2.  2.  3.]\n",
            "Truncated values :  [-1. -1. -0.  0.  1.  1.  3.]\n",
            "Rounded values :  [-2. -2. -0.  0.  2.  2.  3.]\n"
          ]
        }
      ]
    },
    {
      "cell_type": "code",
      "source": [
        "# Q3 a\n",
        "array = np.array([10, 52, 62, 16, 16, 54, 453])\n",
        "print(array)\n",
        "print(\"Sorted array : \", np.sort(array))\n",
        "print(\"Indices of sorted array : \", np.argsort(array))\n",
        "k = 4\n",
        "print(\"4 smallest values : \", np.sort(array[:k]))\n",
        "n = 5\n",
        "print(\"5 largest values : \", np.sort(array[-n :]))\n"
      ],
      "metadata": {
        "colab": {
          "base_uri": "https://localhost:8080/"
        },
        "id": "9X-ZwOEr9ceq",
        "outputId": "ea5d420d-6a73-43b3-c7aa-5211a2a11a09"
      },
      "execution_count": null,
      "outputs": [
        {
          "output_type": "stream",
          "name": "stdout",
          "text": [
            "[ 10  52  62  16  16  54 453]\n",
            "Sorted array :  [ 10  16  16  52  54  62 453]\n",
            "Indices of sorted array :  [0 3 4 1 5 2 6]\n",
            "4 smallest values :  [10 16 52 62]\n",
            "5 largest values :  [ 16  16  54  62 453]\n"
          ]
        }
      ]
    },
    {
      "cell_type": "code",
      "source": [
        "# Q3 b\n",
        "array = np.array([1.0, 1.2, 2.2, 2.0, 3.0, 2.0])\n",
        "print(array)\n",
        "print(\"Integer elements are : \", array[array.astype(int)==array])\n",
        "print(\"Float elements are : \", array[array.astype(float)==array])"
      ],
      "metadata": {
        "colab": {
          "base_uri": "https://localhost:8080/"
        },
        "id": "wSHEf1eU_Nyl",
        "outputId": "c4f2ae80-c930-4f15-d0db-838778f2cc1d"
      },
      "execution_count": null,
      "outputs": [
        {
          "output_type": "stream",
          "name": "stdout",
          "text": [
            "[1.  1.2 2.2 2.  3.  2. ]\n",
            "Integer elements are :  [1. 2. 3. 2.]\n",
            "Float elements are :  [1.  1.2 2.2 2.  3.  2. ]\n"
          ]
        }
      ]
    },
    {
      "cell_type": "code",
      "source": [
        "#Q4\n",
        "from PIL import Image\n",
        "\n",
        "\n",
        "def img_to_array(path, output_path):\n",
        "    image = Image.open(path)\n",
        "\n",
        "    image_array = np.array(image)\n",
        "\n",
        "    with open(output_path, 'w') as file:\n",
        "        for row in image_array:\n",
        "            for pixel in row:\n",
        "                file.write(' '.join(map(str, pixel)) + '\\n')\n",
        "\n",
        "img_path = '/content/2017-02-17.png'\n",
        "output_path = 'output_array.txt'\n",
        "img_to_array(img_path, output_path)\n"
      ],
      "metadata": {
        "id": "layo3b1bDYft",
        "outputId": "40ac42b7-ccbf-4061-f7f5-3f8879ddcc1e",
        "colab": {
          "base_uri": "https://localhost:8080/",
          "height": 346
        }
      },
      "execution_count": null,
      "outputs": [
        {
          "output_type": "error",
          "ename": "FileNotFoundError",
          "evalue": "ignored",
          "traceback": [
            "\u001b[0;31m---------------------------------------------------------------------------\u001b[0m",
            "\u001b[0;31mFileNotFoundError\u001b[0m                         Traceback (most recent call last)",
            "\u001b[0;32m<ipython-input-13-429b38862c4d>\u001b[0m in \u001b[0;36m<cell line: 17>\u001b[0;34m()\u001b[0m\n\u001b[1;32m     15\u001b[0m \u001b[0mimg_path\u001b[0m \u001b[0;34m=\u001b[0m \u001b[0;34m'/content/2017-02-17.png'\u001b[0m\u001b[0;34m\u001b[0m\u001b[0;34m\u001b[0m\u001b[0m\n\u001b[1;32m     16\u001b[0m \u001b[0moutput_path\u001b[0m \u001b[0;34m=\u001b[0m \u001b[0;34m'output_array.txt'\u001b[0m\u001b[0;34m\u001b[0m\u001b[0;34m\u001b[0m\u001b[0m\n\u001b[0;32m---> 17\u001b[0;31m \u001b[0mimg_to_array\u001b[0m\u001b[0;34m(\u001b[0m\u001b[0mimg_path\u001b[0m\u001b[0;34m,\u001b[0m \u001b[0moutput_path\u001b[0m\u001b[0;34m)\u001b[0m\u001b[0;34m\u001b[0m\u001b[0;34m\u001b[0m\u001b[0m\n\u001b[0m",
            "\u001b[0;32m<ipython-input-13-429b38862c4d>\u001b[0m in \u001b[0;36mimg_to_array\u001b[0;34m(path, output_path)\u001b[0m\n\u001b[1;32m      4\u001b[0m \u001b[0;34m\u001b[0m\u001b[0m\n\u001b[1;32m      5\u001b[0m \u001b[0;32mdef\u001b[0m \u001b[0mimg_to_array\u001b[0m\u001b[0;34m(\u001b[0m\u001b[0mpath\u001b[0m\u001b[0;34m,\u001b[0m \u001b[0moutput_path\u001b[0m\u001b[0;34m)\u001b[0m\u001b[0;34m:\u001b[0m\u001b[0;34m\u001b[0m\u001b[0;34m\u001b[0m\u001b[0m\n\u001b[0;32m----> 6\u001b[0;31m     \u001b[0mimage\u001b[0m \u001b[0;34m=\u001b[0m \u001b[0mImage\u001b[0m\u001b[0;34m.\u001b[0m\u001b[0mopen\u001b[0m\u001b[0;34m(\u001b[0m\u001b[0mpath\u001b[0m\u001b[0;34m)\u001b[0m\u001b[0;34m\u001b[0m\u001b[0;34m\u001b[0m\u001b[0m\n\u001b[0m\u001b[1;32m      7\u001b[0m \u001b[0;34m\u001b[0m\u001b[0m\n\u001b[1;32m      8\u001b[0m     \u001b[0mimage_array\u001b[0m \u001b[0;34m=\u001b[0m \u001b[0mnp\u001b[0m\u001b[0;34m.\u001b[0m\u001b[0marray\u001b[0m\u001b[0;34m(\u001b[0m\u001b[0mimage\u001b[0m\u001b[0;34m)\u001b[0m\u001b[0;34m\u001b[0m\u001b[0;34m\u001b[0m\u001b[0m\n",
            "\u001b[0;32m/usr/local/lib/python3.10/dist-packages/PIL/Image.py\u001b[0m in \u001b[0;36mopen\u001b[0;34m(fp, mode, formats)\u001b[0m\n\u001b[1;32m   3225\u001b[0m \u001b[0;34m\u001b[0m\u001b[0m\n\u001b[1;32m   3226\u001b[0m     \u001b[0;32mif\u001b[0m \u001b[0mfilename\u001b[0m\u001b[0;34m:\u001b[0m\u001b[0;34m\u001b[0m\u001b[0;34m\u001b[0m\u001b[0m\n\u001b[0;32m-> 3227\u001b[0;31m         \u001b[0mfp\u001b[0m \u001b[0;34m=\u001b[0m \u001b[0mbuiltins\u001b[0m\u001b[0;34m.\u001b[0m\u001b[0mopen\u001b[0m\u001b[0;34m(\u001b[0m\u001b[0mfilename\u001b[0m\u001b[0;34m,\u001b[0m \u001b[0;34m\"rb\"\u001b[0m\u001b[0;34m)\u001b[0m\u001b[0;34m\u001b[0m\u001b[0;34m\u001b[0m\u001b[0m\n\u001b[0m\u001b[1;32m   3228\u001b[0m         \u001b[0mexclusive_fp\u001b[0m \u001b[0;34m=\u001b[0m \u001b[0;32mTrue\u001b[0m\u001b[0;34m\u001b[0m\u001b[0;34m\u001b[0m\u001b[0m\n\u001b[1;32m   3229\u001b[0m \u001b[0;34m\u001b[0m\u001b[0m\n",
            "\u001b[0;31mFileNotFoundError\u001b[0m: [Errno 2] No such file or directory: '/content/2017-02-17.png'"
          ]
        }
      ]
    }
  ]
}