{
 "cells": [
  {
   "cell_type": "code",
   "execution_count": 1,
   "id": "939169e4",
   "metadata": {
    "_cell_guid": "b1076dfc-b9ad-4769-8c92-a6c4dae69d19",
    "_uuid": "8f2839f25d086af736a60e9eeb907d3b93b6e0e5",
    "execution": {
     "iopub.execute_input": "2023-06-03T06:04:53.388197Z",
     "iopub.status.busy": "2023-06-03T06:04:53.387444Z",
     "iopub.status.idle": "2023-06-03T06:04:55.067702Z",
     "shell.execute_reply": "2023-06-03T06:04:55.065647Z"
    },
    "papermill": {
     "duration": 1.691736,
     "end_time": "2023-06-03T06:04:55.070597",
     "exception": false,
     "start_time": "2023-06-03T06:04:53.378861",
     "status": "completed"
    },
    "tags": []
   },
   "outputs": [
    {
     "name": "stdout",
     "output_type": "stream",
     "text": [
      "/kaggle/input/playground-series-s3e16/sample_submission.csv\n",
      "/kaggle/input/playground-series-s3e16/train.csv\n",
      "/kaggle/input/playground-series-s3e16/test.csv\n",
      "Setup Complete\n"
     ]
    }
   ],
   "source": [
    "import numpy as np # linear algebra\n",
    "import pandas as pd # data processing, CSV file I/O (e.g. pd.read_csv)\n",
    "\n",
    "import os\n",
    "for dirname, _, filenames in os.walk('/kaggle/input'):\n",
    "    for filename in filenames:\n",
    "        print(os.path.join(dirname, filename))\n",
    "\n",
    "pd.plotting.register_matplotlib_converters()\n",
    "import matplotlib.pyplot as plt\n",
    "%matplotlib inline\n",
    "import seaborn as sns\n",
    "sns.set_style(\"dark\") # Theme for plots as Dark\n",
    "print(\"Setup Complete\")"
   ]
  },
  {
   "cell_type": "code",
   "execution_count": 2,
   "id": "3fd769d2",
   "metadata": {
    "execution": {
     "iopub.execute_input": "2023-06-03T06:04:55.084889Z",
     "iopub.status.busy": "2023-06-03T06:04:55.084489Z",
     "iopub.status.idle": "2023-06-03T06:04:55.313873Z",
     "shell.execute_reply": "2023-06-03T06:04:55.311905Z"
    },
    "papermill": {
     "duration": 0.239668,
     "end_time": "2023-06-03T06:04:55.316793",
     "exception": false,
     "start_time": "2023-06-03T06:04:55.077125",
     "status": "completed"
    },
    "tags": []
   },
   "outputs": [],
   "source": [
    "crab_train = pd.read_csv('../input/playground-series-s3e16/train.csv')\n",
    "crab_test = pd.read_csv('../input/playground-series-s3e16/test.csv')"
   ]
  },
  {
   "cell_type": "code",
   "execution_count": 3,
   "id": "8dde41db",
   "metadata": {
    "execution": {
     "iopub.execute_input": "2023-06-03T06:04:55.332999Z",
     "iopub.status.busy": "2023-06-03T06:04:55.332568Z",
     "iopub.status.idle": "2023-06-03T06:04:55.375565Z",
     "shell.execute_reply": "2023-06-03T06:04:55.374137Z"
    },
    "papermill": {
     "duration": 0.053949,
     "end_time": "2023-06-03T06:04:55.377764",
     "exception": false,
     "start_time": "2023-06-03T06:04:55.323815",
     "status": "completed"
    },
    "tags": []
   },
   "outputs": [
    {
     "name": "stdout",
     "output_type": "stream",
     "text": [
      "<class 'pandas.core.frame.DataFrame'>\n",
      "RangeIndex: 74051 entries, 0 to 74050\n",
      "Data columns (total 10 columns):\n",
      " #   Column          Non-Null Count  Dtype  \n",
      "---  ------          --------------  -----  \n",
      " 0   id              74051 non-null  int64  \n",
      " 1   Sex             74051 non-null  object \n",
      " 2   Length          74051 non-null  float64\n",
      " 3   Diameter        74051 non-null  float64\n",
      " 4   Height          74051 non-null  float64\n",
      " 5   Weight          74051 non-null  float64\n",
      " 6   Shucked Weight  74051 non-null  float64\n",
      " 7   Viscera Weight  74051 non-null  float64\n",
      " 8   Shell Weight    74051 non-null  float64\n",
      " 9   Age             74051 non-null  int64  \n",
      "dtypes: float64(7), int64(2), object(1)\n",
      "memory usage: 5.6+ MB\n"
     ]
    }
   ],
   "source": [
    "crab_train.info()"
   ]
  },
  {
   "cell_type": "code",
   "execution_count": 4,
   "id": "1e35a417",
   "metadata": {
    "execution": {
     "iopub.execute_input": "2023-06-03T06:04:55.395559Z",
     "iopub.status.busy": "2023-06-03T06:04:55.394218Z",
     "iopub.status.idle": "2023-06-03T06:04:55.414568Z",
     "shell.execute_reply": "2023-06-03T06:04:55.412987Z"
    },
    "papermill": {
     "duration": 0.030334,
     "end_time": "2023-06-03T06:04:55.417015",
     "exception": false,
     "start_time": "2023-06-03T06:04:55.386681",
     "status": "completed"
    },
    "tags": []
   },
   "outputs": [
    {
     "name": "stdout",
     "output_type": "stream",
     "text": [
      "<class 'pandas.core.frame.DataFrame'>\n",
      "RangeIndex: 49368 entries, 0 to 49367\n",
      "Data columns (total 9 columns):\n",
      " #   Column          Non-Null Count  Dtype  \n",
      "---  ------          --------------  -----  \n",
      " 0   id              49368 non-null  int64  \n",
      " 1   Sex             49368 non-null  object \n",
      " 2   Length          49368 non-null  float64\n",
      " 3   Diameter        49368 non-null  float64\n",
      " 4   Height          49368 non-null  float64\n",
      " 5   Weight          49368 non-null  float64\n",
      " 6   Shucked Weight  49368 non-null  float64\n",
      " 7   Viscera Weight  49368 non-null  float64\n",
      " 8   Shell Weight    49368 non-null  float64\n",
      "dtypes: float64(7), int64(1), object(1)\n",
      "memory usage: 3.4+ MB\n"
     ]
    }
   ],
   "source": [
    "crab_test.info()"
   ]
  },
  {
   "cell_type": "code",
   "execution_count": 5,
   "id": "ff36dea3",
   "metadata": {
    "execution": {
     "iopub.execute_input": "2023-06-03T06:04:55.431695Z",
     "iopub.status.busy": "2023-06-03T06:04:55.431299Z",
     "iopub.status.idle": "2023-06-03T06:04:55.440070Z",
     "shell.execute_reply": "2023-06-03T06:04:55.438659Z"
    },
    "papermill": {
     "duration": 0.018789,
     "end_time": "2023-06-03T06:04:55.442466",
     "exception": false,
     "start_time": "2023-06-03T06:04:55.423677",
     "status": "completed"
    },
    "tags": []
   },
   "outputs": [
    {
     "data": {
      "text/plain": [
       "Index(['id', 'Sex', 'Length', 'Diameter', 'Height', 'Weight', 'Shucked Weight',\n",
       "       'Viscera Weight', 'Shell Weight', 'Age'],\n",
       "      dtype='object')"
      ]
     },
     "execution_count": 5,
     "metadata": {},
     "output_type": "execute_result"
    }
   ],
   "source": [
    "crab_train.columns"
   ]
  },
  {
   "cell_type": "code",
   "execution_count": 6,
   "id": "91c567d0",
   "metadata": {
    "execution": {
     "iopub.execute_input": "2023-06-03T06:04:55.457782Z",
     "iopub.status.busy": "2023-06-03T06:04:55.457461Z",
     "iopub.status.idle": "2023-06-03T06:04:55.483865Z",
     "shell.execute_reply": "2023-06-03T06:04:55.482399Z"
    },
    "papermill": {
     "duration": 0.036791,
     "end_time": "2023-06-03T06:04:55.486284",
     "exception": false,
     "start_time": "2023-06-03T06:04:55.449493",
     "status": "completed"
    },
    "tags": []
   },
   "outputs": [],
   "source": [
    "dummy = []\n",
    "cols = ['Sex']\n",
    "for i in cols:\n",
    "    dummy.append(pd.get_dummies(crab_train[i]))\n",
    "crab_dummy = pd.concat(dummy, axis=1)\n",
    "crab_train = pd.concat((crab_train,crab_dummy), axis=1)\n",
    "\n",
    "dummy = []\n",
    "for i in cols:\n",
    "    dummy.append(pd.get_dummies(crab_test[i]))\n",
    "crab_dummy = pd.concat(dummy, axis=1)\n",
    "crab_test = pd.concat((crab_test,crab_dummy), axis=1)"
   ]
  },
  {
   "cell_type": "code",
   "execution_count": 7,
   "id": "bee1dc86",
   "metadata": {
    "execution": {
     "iopub.execute_input": "2023-06-03T06:04:55.500618Z",
     "iopub.status.busy": "2023-06-03T06:04:55.500219Z",
     "iopub.status.idle": "2023-06-03T06:04:55.511939Z",
     "shell.execute_reply": "2023-06-03T06:04:55.510747Z"
    },
    "papermill": {
     "duration": 0.022086,
     "end_time": "2023-06-03T06:04:55.514792",
     "exception": false,
     "start_time": "2023-06-03T06:04:55.492706",
     "status": "completed"
    },
    "tags": []
   },
   "outputs": [],
   "source": [
    "crab_train.drop(cols,axis=1,inplace=True)\n",
    "crab_test.drop(cols,axis=1,inplace=True)"
   ]
  },
  {
   "cell_type": "code",
   "execution_count": 8,
   "id": "389d92d5",
   "metadata": {
    "execution": {
     "iopub.execute_input": "2023-06-03T06:04:55.529602Z",
     "iopub.status.busy": "2023-06-03T06:04:55.528930Z",
     "iopub.status.idle": "2023-06-03T06:04:56.040530Z",
     "shell.execute_reply": "2023-06-03T06:04:56.039487Z"
    },
    "papermill": {
     "duration": 0.521515,
     "end_time": "2023-06-03T06:04:56.042875",
     "exception": false,
     "start_time": "2023-06-03T06:04:55.521360",
     "status": "completed"
    },
    "tags": []
   },
   "outputs": [
    {
     "data": {
      "image/png": "[encoded data removed]",
      "text/plain": [
       "<Figure size 800x600 with 2 Axes>"
      ]
     },
     "metadata": {},
     "output_type": "display_data"
    }
   ],
   "source": [
    "features = ['Length', 'Diameter', 'Height', 'Weight', 'Shucked Weight','Viscera Weight', 'Shell Weight','Age']\n",
    "corr = crab_train[features].corr()\n",
    "plt.figure(figsize = (8,6))\n",
    "sns.heatmap(corr, cmap = 'magma', annot = True);"
   ]
  },
  {
   "cell_type": "markdown",
   "id": "56a3df6a",
   "metadata": {
    "papermill": {
     "duration": 0.007301,
     "end_time": "2023-06-03T06:04:56.057733",
     "exception": false,
     "start_time": "2023-06-03T06:04:56.050432",
     "status": "completed"
    },
    "tags": []
   },
   "source": [
    "# **FEATURE ENGINEERING**"
   ]
  },
  {
   "cell_type": "code",
   "execution_count": 9,
   "id": "a0957299",
   "metadata": {
    "execution": {
     "iopub.execute_input": "2023-06-03T06:04:56.074384Z",
     "iopub.status.busy": "2023-06-03T06:04:56.073809Z",
     "iopub.status.idle": "2023-06-03T06:04:56.081542Z",
     "shell.execute_reply": "2023-06-03T06:04:56.080260Z"
    },
    "papermill": {
     "duration": 0.018792,
     "end_time": "2023-06-03T06:04:56.083917",
     "exception": false,
     "start_time": "2023-06-03T06:04:56.065125",
     "status": "completed"
    },
    "tags": []
   },
   "outputs": [],
   "source": [
    "# crab_train['Length'].replace(to_replace=0, method='ffill')\n",
    "# crab_train['Height'].replace(to_replace=0, method='ffill')\n",
    "# crab_train['Diameter'].replace(to_replace=0, method='ffill')\n",
    "\n",
    "# crab_test['Length'].replace(to_replace=0, method='ffill')\n",
    "# crab_test['Height'].replace(to_replace=0, method='ffill')\n",
    "# crab_test['Diameter'].replace(to_replace=0, method='ffill')\n",
    "\n",
    "\n",
    "# crab_train['Top Area'] = np.pi* crab_train['Length'] * crab_train['Diameter']\n",
    "# # crab_train['Density'] = crab_train['Weight']/(crab_train['Top Area'] * crab_train['Height'])\n",
    "# # crab_train[\"Length Diameter Ratio\"]=crab_train['Length']/crab_train['Diameter']\n",
    "# # crab_train[\"Length Height Ratio\"]=crab_train['Length']/crab_train['Height']\n",
    "# crab_train['Shell Shuck Ratio']=crab_train[\"Shell Weight\"]/crab_train[\"Shucked Weight\"]\n",
    "\n",
    "# crab_test['Top Area'] = np.pi* crab_test['Length'] * crab_test['Diameter']\n",
    "# # crab_test['Density'] = crab_test['Weight']/(crab_test['Top Area'] * crab_test['Height'])\n",
    "# # crab_test[\"Length Diameter Ratio\"]=crab_test['Length']/crab_test['Diameter']\n",
    "# # crab_test[\"Length Height Ratio\"]=crab_test['Length']/crab_test['Height']\n",
    "# crab_test['Shell Shuck Ratio']=crab_test[\"Shell Weight\"]/crab_test[\"Shucked Weight\"]"
   ]
  },
  {
   "cell_type": "markdown",
   "id": "f79074d2",
   "metadata": {
    "papermill": {
     "duration": 0.006883,
     "end_time": "2023-06-03T06:04:56.098125",
     "exception": false,
     "start_time": "2023-06-03T06:04:56.091242",
     "status": "completed"
    },
    "tags": []
   },
   "source": [
    "# **Models**"
   ]
  },
  {
   "cell_type": "code",
   "execution_count": 10,
   "id": "427cf0a5",
   "metadata": {
    "execution": {
     "iopub.execute_input": "2023-06-03T06:04:56.114578Z",
     "iopub.status.busy": "2023-06-03T06:04:56.113906Z",
     "iopub.status.idle": "2023-06-03T06:04:56.120579Z",
     "shell.execute_reply": "2023-06-03T06:04:56.119533Z"
    },
    "papermill": {
     "duration": 0.017387,
     "end_time": "2023-06-03T06:04:56.122756",
     "exception": false,
     "start_time": "2023-06-03T06:04:56.105369",
     "status": "completed"
    },
    "tags": []
   },
   "outputs": [
    {
     "data": {
      "text/plain": [
       "Index(['id', 'Length', 'Diameter', 'Height', 'Weight', 'Shucked Weight',\n",
       "       'Viscera Weight', 'Shell Weight', 'Age', 'F', 'I', 'M'],\n",
       "      dtype='object')"
      ]
     },
     "execution_count": 10,
     "metadata": {},
     "output_type": "execute_result"
    }
   ],
   "source": [
    "crab_train.columns"
   ]
  },
  {
   "cell_type": "code",
   "execution_count": 11,
   "id": "9a23aef0",
   "metadata": {
    "execution": {
     "iopub.execute_input": "2023-06-03T06:04:56.139046Z",
     "iopub.status.busy": "2023-06-03T06:04:56.138681Z",
     "iopub.status.idle": "2023-06-03T06:04:56.144112Z",
     "shell.execute_reply": "2023-06-03T06:04:56.142572Z"
    },
    "papermill": {
     "duration": 0.016022,
     "end_time": "2023-06-03T06:04:56.146202",
     "exception": false,
     "start_time": "2023-06-03T06:04:56.130180",
     "status": "completed"
    },
    "tags": []
   },
   "outputs": [],
   "source": [
    "# X_train = crab_train[['id', 'Length', 'Diameter', 'Height', 'Weight', 'Shucked Weight',\n",
    "#        'Viscera Weight', 'Shell Weight', 'F', 'I', 'M']]\n",
    "# X_test = crab_test[['id', 'Length', 'Diameter', 'Height', 'Weight', 'Shucked Weight',\n",
    "#        'Viscera Weight', 'Shell Weight', 'F', 'I', 'M']]\n",
    "# y_train = crab_train.Age"
   ]
  },
  {
   "cell_type": "code",
   "execution_count": 12,
   "id": "fef342eb",
   "metadata": {
    "execution": {
     "iopub.execute_input": "2023-06-03T06:04:56.162053Z",
     "iopub.status.busy": "2023-06-03T06:04:56.161661Z",
     "iopub.status.idle": "2023-06-03T06:04:58.604753Z",
     "shell.execute_reply": "2023-06-03T06:04:58.603471Z"
    },
    "papermill": {
     "duration": 2.453819,
     "end_time": "2023-06-03T06:04:58.607282",
     "exception": false,
     "start_time": "2023-06-03T06:04:56.153463",
     "status": "completed"
    },
    "tags": []
   },
   "outputs": [],
   "source": [
    "from sklearn.model_selection import train_test_split\n",
    "from sklearn.metrics import mean_absolute_error\n",
    "from sklearn.tree import DecisionTreeRegressor\n",
    "from sklearn.ensemble import RandomForestRegressor\n",
    "from sklearn.ensemble import GradientBoostingRegressor\n",
    "from sklearn import datasets, ensemble\n",
    "from catboost import CatBoostRegressor\n",
    "import xgboost as xgb\n",
    "from lightgbm import LGBMRegressor\n",
    "from sklearn.ensemble import VotingRegressor\n",
    "from sklearn.ensemble import HistGradientBoostingRegressor\n",
    "from sklearn.metrics import mean_absolute_error\n",
    "from sklearn.linear_model import SGDRegressor\n",
    "from sklearn.linear_model import BayesianRidge\n",
    "\n",
    "X_train, X_test, y_train, y_test = train_test_split(crab_train[['id', 'Length', 'Diameter', 'Height', 'Weight', 'Shucked Weight',\n",
    "        'Viscera Weight', 'Shell Weight', 'F', 'I', 'M']], crab_train.Age, test_size=0.3,random_state=100)"
   ]
  },
  {
   "cell_type": "code",
   "execution_count": 13,
   "id": "3f59191c",
   "metadata": {
    "execution": {
     "iopub.execute_input": "2023-06-03T06:04:58.624858Z",
     "iopub.status.busy": "2023-06-03T06:04:58.624478Z",
     "iopub.status.idle": "2023-06-03T06:05:17.445959Z",
     "shell.execute_reply": "2023-06-03T06:05:17.444326Z"
    },
    "papermill": {
     "duration": 18.832781,
     "end_time": "2023-06-03T06:05:17.448155",
     "exception": false,
     "start_time": "2023-06-03T06:04:58.615374",
     "status": "completed"
    },
    "tags": []
   },
   "outputs": [
    {
     "data": {
      "text/html": [
       "<style>#sk-container-id-1 {color: black;background-color: white;}#sk-container-id-1 pre{padding: 0;}#sk-container-id-1 div.sk-toggleable {background-color: white;}#sk-container-id-1 label.sk-toggleable__label {cursor: pointer;display: block;width: 100%;margin-bottom: 0;padding: 0.3em;box-sizing: border-box;text-align: center;}#sk-container-id-1 label.sk-toggleable__label-arrow:before {content: \"▸\";float: left;margin-right: 0.25em;color: #696969;}#sk-container-id-1 label.sk-toggleable__label-arrow:hover:before {color: black;}#sk-container-id-1 div.sk-estimator:hover label.sk-toggleable__label-arrow:before {color: black;}#sk-container-id-1 div.sk-toggleable__content {max-height: 0;max-width: 0;overflow: hidden;text-align: left;background-color: #f0f8ff;}#sk-container-id-1 div.sk-toggleable__content pre {margin: 0.2em;color: black;border-radius: 0.25em;background-color: #f0f8ff;}#sk-container-id-1 input.sk-toggleable__control:checked~div.sk-toggleable__content {max-height: 200px;max-width: 100%;overflow: auto;}#sk-container-id-1 input.sk-toggleable__control:checked~label.sk-toggleable__label-arrow:before {content: \"▾\";}#sk-container-id-1 div.sk-estimator input.sk-toggleable__control:checked~label.sk-toggleable__label {background-color: #d4ebff;}#sk-container-id-1 div.sk-label input.sk-toggleable__control:checked~label.sk-toggleable__label {background-color: #d4ebff;}#sk-container-id-1 input.sk-hidden--visually {border: 0;clip: rect(1px 1px 1px 1px);clip: rect(1px, 1px, 1px, 1px);height: 1px;margin: -1px;overflow: hidden;padding: 0;position: absolute;width: 1px;}#sk-container-id-1 div.sk-estimator {font-family: monospace;background-color: #f0f8ff;border: 1px dotted black;border-radius: 0.25em;box-sizing: border-box;margin-bottom: 0.5em;}#sk-container-id-1 div.sk-estimator:hover {background-color: #d4ebff;}#sk-container-id-1 div.sk-parallel-item::after {content: \"\";width: 100%;border-bottom: 1px solid gray;flex-grow: 1;}#sk-container-id-1 div.sk-label:hover label.sk-toggleable__label {background-color: #d4ebff;}#sk-container-id-1 div.sk-serial::before {content: \"\";position: absolute;border-left: 1px solid gray;box-sizing: border-box;top: 0;bottom: 0;left: 50%;z-index: 0;}#sk-container-id-1 div.sk-serial {display: flex;flex-direction: column;align-items: center;background-color: white;padding-right: 0.2em;padding-left: 0.2em;position: relative;}#sk-container-id-1 div.sk-item {position: relative;z-index: 1;}#sk-container-id-1 div.sk-parallel {display: flex;align-items: stretch;justify-content: center;background-color: white;position: relative;}#sk-container-id-1 div.sk-item::before, #sk-container-id-1 div.sk-parallel-item::before {content: \"\";position: absolute;border-left: 1px solid gray;box-sizing: border-box;top: 0;bottom: 0;left: 50%;z-index: -1;}#sk-container-id-1 div.sk-parallel-item {display: flex;flex-direction: column;z-index: 1;position: relative;background-color: white;}#sk-container-id-1 div.sk-parallel-item:first-child::after {align-self: flex-end;width: 50%;}#sk-container-id-1 div.sk-parallel-item:last-child::after {align-self: flex-start;width: 50%;}#sk-container-id-1 div.sk-parallel-item:only-child::after {width: 0;}#sk-container-id-1 div.sk-dashed-wrapped {border: 1px dashed gray;margin: 0 0.4em 0.5em 0.4em;box-sizing: border-box;padding-bottom: 0.4em;background-color: white;}#sk-container-id-1 div.sk-label label {font-family: monospace;font-weight: bold;display: inline-block;line-height: 1.2em;}#sk-container-id-1 div.sk-label-container {text-align: center;}#sk-container-id-1 div.sk-container {/* jupyter's `normalize.less` sets `[hidden] { display: none; }` but bootstrap.min.css set `[hidden] { display: none !important; }` so we also need the `!important` here to be able to override the default hidden behavior on the sphinx rendered scikit-learn.org. See: https://github.com/scikit-learn/scikit-learn/issues/21755 */display: inline-block !important;position: relative;}#sk-container-id-1 div.sk-text-repr-fallback {display: none;}</style><div id=\"sk-container-id-1\" class=\"sk-top-container\"><div class=\"sk-text-repr-fallback\"><pre>RandomForestRegressor(max_depth=12, min_samples_leaf=10)</pre><b>In a Jupyter environment, please rerun this cell to show the HTML representation or trust the notebook. <br />On GitHub, the HTML representation is unable to render, please try loading this page with nbviewer.org.</b></div><div class=\"sk-container\" hidden><div class=\"sk-item\"><div class=\"sk-estimator sk-toggleable\"><input class=\"sk-toggleable__control sk-hidden--visually\" id=\"sk-estimator-id-1\" type=\"checkbox\" checked><label for=\"sk-estimator-id-1\" class=\"sk-toggleable__label sk-toggleable__label-arrow\">RandomForestRegressor</label><div class=\"sk-toggleable__content\"><pre>RandomForestRegressor(max_depth=12, min_samples_leaf=10)</pre></div></div></div></div></div>"
      ],
      "text/plain": [
       "RandomForestRegressor(max_depth=12, min_samples_leaf=10)"
      ]
     },
     "execution_count": 13,
     "metadata": {},
     "output_type": "execute_result"
    }
   ],
   "source": [
    "rfmodel = RandomForestRegressor(max_depth= 12,min_samples_leaf= 10)\n",
    "rfmodel.fit(X_train,y_train)"
   ]
  },
  {
   "cell_type": "code",
   "execution_count": 14,
   "id": "88b2d5c8",
   "metadata": {
    "execution": {
     "iopub.execute_input": "2023-06-03T06:05:17.464373Z",
     "iopub.status.busy": "2023-06-03T06:05:17.463979Z",
     "iopub.status.idle": "2023-06-03T06:05:17.544108Z",
     "shell.execute_reply": "2023-06-03T06:05:17.543211Z"
    },
    "papermill": {
     "duration": 0.091184,
     "end_time": "2023-06-03T06:05:17.546781",
     "exception": false,
     "start_time": "2023-06-03T06:05:17.455597",
     "status": "completed"
    },
    "tags": []
   },
   "outputs": [
    {
     "name": "stdout",
     "output_type": "stream",
     "text": [
      "Convergence after  4  iterations\n"
     ]
    },
    {
     "data": {
      "text/html": [
       "<style>#sk-container-id-2 {color: black;background-color: white;}#sk-container-id-2 pre{padding: 0;}#sk-container-id-2 div.sk-toggleable {background-color: white;}#sk-container-id-2 label.sk-toggleable__label {cursor: pointer;display: block;width: 100%;margin-bottom: 0;padding: 0.3em;box-sizing: border-box;text-align: center;}#sk-container-id-2 label.sk-toggleable__label-arrow:before {content: \"▸\";float: left;margin-right: 0.25em;color: #696969;}#sk-container-id-2 label.sk-toggleable__label-arrow:hover:before {color: black;}#sk-container-id-2 div.sk-estimator:hover label.sk-toggleable__label-arrow:before {color: black;}#sk-container-id-2 div.sk-toggleable__content {max-height: 0;max-width: 0;overflow: hidden;text-align: left;background-color: #f0f8ff;}#sk-container-id-2 div.sk-toggleable__content pre {margin: 0.2em;color: black;border-radius: 0.25em;background-color: #f0f8ff;}#sk-container-id-2 input.sk-toggleable__control:checked~div.sk-toggleable__content {max-height: 200px;max-width: 100%;overflow: auto;}#sk-container-id-2 input.sk-toggleable__control:checked~label.sk-toggleable__label-arrow:before {content: \"▾\";}#sk-container-id-2 div.sk-estimator input.sk-toggleable__control:checked~label.sk-toggleable__label {background-color: #d4ebff;}#sk-container-id-2 div.sk-label input.sk-toggleable__control:checked~label.sk-toggleable__label {background-color: #d4ebff;}#sk-container-id-2 input.sk-hidden--visually {border: 0;clip: rect(1px 1px 1px 1px);clip: rect(1px, 1px, 1px, 1px);height: 1px;margin: -1px;overflow: hidden;padding: 0;position: absolute;width: 1px;}#sk-container-id-2 div.sk-estimator {font-family: monospace;background-color: #f0f8ff;border: 1px dotted black;border-radius: 0.25em;box-sizing: border-box;margin-bottom: 0.5em;}#sk-container-id-2 div.sk-estimator:hover {background-color: #d4ebff;}#sk-container-id-2 div.sk-parallel-item::after {content: \"\";width: 100%;border-bottom: 1px solid gray;flex-grow: 1;}#sk-container-id-2 div.sk-label:hover label.sk-toggleable__label {background-color: #d4ebff;}#sk-container-id-2 div.sk-serial::before {content: \"\";position: absolute;border-left: 1px solid gray;box-sizing: border-box;top: 0;bottom: 0;left: 50%;z-index: 0;}#sk-container-id-2 div.sk-serial {display: flex;flex-direction: column;align-items: center;background-color: white;padding-right: 0.2em;padding-left: 0.2em;position: relative;}#sk-container-id-2 div.sk-item {position: relative;z-index: 1;}#sk-container-id-2 div.sk-parallel {display: flex;align-items: stretch;justify-content: center;background-color: white;position: relative;}#sk-container-id-2 div.sk-item::before, #sk-container-id-2 div.sk-parallel-item::before {content: \"\";position: absolute;border-left: 1px solid gray;box-sizing: border-box;top: 0;bottom: 0;left: 50%;z-index: -1;}#sk-container-id-2 div.sk-parallel-item {display: flex;flex-direction: column;z-index: 1;position: relative;background-color: white;}#sk-container-id-2 div.sk-parallel-item:first-child::after {align-self: flex-end;width: 50%;}#sk-container-id-2 div.sk-parallel-item:last-child::after {align-self: flex-start;width: 50%;}#sk-container-id-2 div.sk-parallel-item:only-child::after {width: 0;}#sk-container-id-2 div.sk-dashed-wrapped {border: 1px dashed gray;margin: 0 0.4em 0.5em 0.4em;box-sizing: border-box;padding-bottom: 0.4em;background-color: white;}#sk-container-id-2 div.sk-label label {font-family: monospace;font-weight: bold;display: inline-block;line-height: 1.2em;}#sk-container-id-2 div.sk-label-container {text-align: center;}#sk-container-id-2 div.sk-container {/* jupyter's `normalize.less` sets `[hidden] { display: none; }` but bootstrap.min.css set `[hidden] { display: none !important; }` so we also need the `!important` here to be able to override the default hidden behavior on the sphinx rendered scikit-learn.org. See: https://github.com/scikit-learn/scikit-learn/issues/21755 */display: inline-block !important;position: relative;}#sk-container-id-2 div.sk-text-repr-fallback {display: none;}</style><div id=\"sk-container-id-2\" class=\"sk-top-container\"><div class=\"sk-text-repr-fallback\"><pre>BayesianRidge(compute_score=True, tol=0.0001, verbose=True)</pre><b>In a Jupyter environment, please rerun this cell to show the HTML representation or trust the notebook. <br />On GitHub, the HTML representation is unable to render, please try loading this page with nbviewer.org.</b></div><div class=\"sk-container\" hidden><div class=\"sk-item\"><div class=\"sk-estimator sk-toggleable\"><input class=\"sk-toggleable__control sk-hidden--visually\" id=\"sk-estimator-id-2\" type=\"checkbox\" checked><label for=\"sk-estimator-id-2\" class=\"sk-toggleable__label sk-toggleable__label-arrow\">BayesianRidge</label><div class=\"sk-toggleable__content\"><pre>BayesianRidge(compute_score=True, tol=0.0001, verbose=True)</pre></div></div></div></div></div>"
      ],
      "text/plain": [
       "BayesianRidge(compute_score=True, tol=0.0001, verbose=True)"
      ]
     },
     "execution_count": 14,
     "metadata": {},
     "output_type": "execute_result"
    }
   ],
   "source": [
    "brmodel = BayesianRidge(verbose=True,tol=0.0001,compute_score=True)\n",
    "brmodel.fit(X_train,y_train)"
   ]
  },
  {
   "cell_type": "code",
   "execution_count": 15,
   "id": "98287bb5",
   "metadata": {
    "execution": {
     "iopub.execute_input": "2023-06-03T06:05:17.575452Z",
     "iopub.status.busy": "2023-06-03T06:05:17.575066Z",
     "iopub.status.idle": "2023-06-03T06:05:44.186184Z",
     "shell.execute_reply": "2023-06-03T06:05:44.185047Z"
    },
    "papermill": {
     "duration": 26.631112,
     "end_time": "2023-06-03T06:05:44.188056",
     "exception": false,
     "start_time": "2023-06-03T06:05:17.556944",
     "status": "completed"
    },
    "tags": []
   },
   "outputs": [
    {
     "data": {
      "text/html": [
       "<style>#sk-container-id-3 {color: black;background-color: white;}#sk-container-id-3 pre{padding: 0;}#sk-container-id-3 div.sk-toggleable {background-color: white;}#sk-container-id-3 label.sk-toggleable__label {cursor: pointer;display: block;width: 100%;margin-bottom: 0;padding: 0.3em;box-sizing: border-box;text-align: center;}#sk-container-id-3 label.sk-toggleable__label-arrow:before {content: \"▸\";float: left;margin-right: 0.25em;color: #696969;}#sk-container-id-3 label.sk-toggleable__label-arrow:hover:before {color: black;}#sk-container-id-3 div.sk-estimator:hover label.sk-toggleable__label-arrow:before {color: black;}#sk-container-id-3 div.sk-toggleable__content {max-height: 0;max-width: 0;overflow: hidden;text-align: left;background-color: #f0f8ff;}#sk-container-id-3 div.sk-toggleable__content pre {margin: 0.2em;color: black;border-radius: 0.25em;background-color: #f0f8ff;}#sk-container-id-3 input.sk-toggleable__control:checked~div.sk-toggleable__content {max-height: 200px;max-width: 100%;overflow: auto;}#sk-container-id-3 input.sk-toggleable__control:checked~label.sk-toggleable__label-arrow:before {content: \"▾\";}#sk-container-id-3 div.sk-estimator input.sk-toggleable__control:checked~label.sk-toggleable__label {background-color: #d4ebff;}#sk-container-id-3 div.sk-label input.sk-toggleable__control:checked~label.sk-toggleable__label {background-color: #d4ebff;}#sk-container-id-3 input.sk-hidden--visually {border: 0;clip: rect(1px 1px 1px 1px);clip: rect(1px, 1px, 1px, 1px);height: 1px;margin: -1px;overflow: hidden;padding: 0;position: absolute;width: 1px;}#sk-container-id-3 div.sk-estimator {font-family: monospace;background-color: #f0f8ff;border: 1px dotted black;border-radius: 0.25em;box-sizing: border-box;margin-bottom: 0.5em;}#sk-container-id-3 div.sk-estimator:hover {background-color: #d4ebff;}#sk-container-id-3 div.sk-parallel-item::after {content: \"\";width: 100%;border-bottom: 1px solid gray;flex-grow: 1;}#sk-container-id-3 div.sk-label:hover label.sk-toggleable__label {background-color: #d4ebff;}#sk-container-id-3 div.sk-serial::before {content: \"\";position: absolute;border-left: 1px solid gray;box-sizing: border-box;top: 0;bottom: 0;left: 50%;z-index: 0;}#sk-container-id-3 div.sk-serial {display: flex;flex-direction: column;align-items: center;background-color: white;padding-right: 0.2em;padding-left: 0.2em;position: relative;}#sk-container-id-3 div.sk-item {position: relative;z-index: 1;}#sk-container-id-3 div.sk-parallel {display: flex;align-items: stretch;justify-content: center;background-color: white;position: relative;}#sk-container-id-3 div.sk-item::before, #sk-container-id-3 div.sk-parallel-item::before {content: \"\";position: absolute;border-left: 1px solid gray;box-sizing: border-box;top: 0;bottom: 0;left: 50%;z-index: -1;}#sk-container-id-3 div.sk-parallel-item {display: flex;flex-direction: column;z-index: 1;position: relative;background-color: white;}#sk-container-id-3 div.sk-parallel-item:first-child::after {align-self: flex-end;width: 50%;}#sk-container-id-3 div.sk-parallel-item:last-child::after {align-self: flex-start;width: 50%;}#sk-container-id-3 div.sk-parallel-item:only-child::after {width: 0;}#sk-container-id-3 div.sk-dashed-wrapped {border: 1px dashed gray;margin: 0 0.4em 0.5em 0.4em;box-sizing: border-box;padding-bottom: 0.4em;background-color: white;}#sk-container-id-3 div.sk-label label {font-family: monospace;font-weight: bold;display: inline-block;line-height: 1.2em;}#sk-container-id-3 div.sk-label-container {text-align: center;}#sk-container-id-3 div.sk-container {/* jupyter's `normalize.less` sets `[hidden] { display: none; }` but bootstrap.min.css set `[hidden] { display: none !important; }` so we also need the `!important` here to be able to override the default hidden behavior on the sphinx rendered scikit-learn.org. See: https://github.com/scikit-learn/scikit-learn/issues/21755 */display: inline-block !important;position: relative;}#sk-container-id-3 div.sk-text-repr-fallback {display: none;}</style><div id=\"sk-container-id-3\" class=\"sk-top-container\"><div class=\"sk-text-repr-fallback\"><pre>GradientBoostingRegressor(loss=&#x27;absolute_error&#x27;, max_depth=8, random_state=100)</pre><b>In a Jupyter environment, please rerun this cell to show the HTML representation or trust the notebook. <br />On GitHub, the HTML representation is unable to render, please try loading this page with nbviewer.org.</b></div><div class=\"sk-container\" hidden><div class=\"sk-item\"><div class=\"sk-estimator sk-toggleable\"><input class=\"sk-toggleable__control sk-hidden--visually\" id=\"sk-estimator-id-3\" type=\"checkbox\" checked><label for=\"sk-estimator-id-3\" class=\"sk-toggleable__label sk-toggleable__label-arrow\">GradientBoostingRegressor</label><div class=\"sk-toggleable__content\"><pre>GradientBoostingRegressor(loss=&#x27;absolute_error&#x27;, max_depth=8, random_state=100)</pre></div></div></div></div></div>"
      ],
      "text/plain": [
       "GradientBoostingRegressor(loss='absolute_error', max_depth=8, random_state=100)"
      ]
     },
     "execution_count": 15,
     "metadata": {},
     "output_type": "execute_result"
    }
   ],
   "source": [
    "gbmodel = GradientBoostingRegressor(max_depth= 8,loss='absolute_error',random_state=100)\n",
    "gbmodel.fit(X_train, y_train)"
   ]
  },
  {
   "cell_type": "code",
   "execution_count": 16,
   "id": "7c49640e",
   "metadata": {
    "execution": {
     "iopub.execute_input": "2023-06-03T06:05:44.204946Z",
     "iopub.status.busy": "2023-06-03T06:05:44.204596Z",
     "iopub.status.idle": "2023-06-03T06:06:22.036285Z",
     "shell.execute_reply": "2023-06-03T06:06:22.034695Z"
    },
    "papermill": {
     "duration": 37.8501,
     "end_time": "2023-06-03T06:06:22.045674",
     "exception": false,
     "start_time": "2023-06-03T06:05:44.195574",
     "status": "completed"
    },
    "tags": []
   },
   "outputs": [
    {
     "data": {
      "text/html": [
       "<style>#sk-container-id-4 {color: black;background-color: white;}#sk-container-id-4 pre{padding: 0;}#sk-container-id-4 div.sk-toggleable {background-color: white;}#sk-container-id-4 label.sk-toggleable__label {cursor: pointer;display: block;width: 100%;margin-bottom: 0;padding: 0.3em;box-sizing: border-box;text-align: center;}#sk-container-id-4 label.sk-toggleable__label-arrow:before {content: \"▸\";float: left;margin-right: 0.25em;color: #696969;}#sk-container-id-4 label.sk-toggleable__label-arrow:hover:before {color: black;}#sk-container-id-4 div.sk-estimator:hover label.sk-toggleable__label-arrow:before {color: black;}#sk-container-id-4 div.sk-toggleable__content {max-height: 0;max-width: 0;overflow: hidden;text-align: left;background-color: #f0f8ff;}#sk-container-id-4 div.sk-toggleable__content pre {margin: 0.2em;color: black;border-radius: 0.25em;background-color: #f0f8ff;}#sk-container-id-4 input.sk-toggleable__control:checked~div.sk-toggleable__content {max-height: 200px;max-width: 100%;overflow: auto;}#sk-container-id-4 input.sk-toggleable__control:checked~label.sk-toggleable__label-arrow:before {content: \"▾\";}#sk-container-id-4 div.sk-estimator input.sk-toggleable__control:checked~label.sk-toggleable__label {background-color: #d4ebff;}#sk-container-id-4 div.sk-label input.sk-toggleable__control:checked~label.sk-toggleable__label {background-color: #d4ebff;}#sk-container-id-4 input.sk-hidden--visually {border: 0;clip: rect(1px 1px 1px 1px);clip: rect(1px, 1px, 1px, 1px);height: 1px;margin: -1px;overflow: hidden;padding: 0;position: absolute;width: 1px;}#sk-container-id-4 div.sk-estimator {font-family: monospace;background-color: #f0f8ff;border: 1px dotted black;border-radius: 0.25em;box-sizing: border-box;margin-bottom: 0.5em;}#sk-container-id-4 div.sk-estimator:hover {background-color: #d4ebff;}#sk-container-id-4 div.sk-parallel-item::after {content: \"\";width: 100%;border-bottom: 1px solid gray;flex-grow: 1;}#sk-container-id-4 div.sk-label:hover label.sk-toggleable__label {background-color: #d4ebff;}#sk-container-id-4 div.sk-serial::before {content: \"\";position: absolute;border-left: 1px solid gray;box-sizing: border-box;top: 0;bottom: 0;left: 50%;z-index: 0;}#sk-container-id-4 div.sk-serial {display: flex;flex-direction: column;align-items: center;background-color: white;padding-right: 0.2em;padding-left: 0.2em;position: relative;}#sk-container-id-4 div.sk-item {position: relative;z-index: 1;}#sk-container-id-4 div.sk-parallel {display: flex;align-items: stretch;justify-content: center;background-color: white;position: relative;}#sk-container-id-4 div.sk-item::before, #sk-container-id-4 div.sk-parallel-item::before {content: \"\";position: absolute;border-left: 1px solid gray;box-sizing: border-box;top: 0;bottom: 0;left: 50%;z-index: -1;}#sk-container-id-4 div.sk-parallel-item {display: flex;flex-direction: column;z-index: 1;position: relative;background-color: white;}#sk-container-id-4 div.sk-parallel-item:first-child::after {align-self: flex-end;width: 50%;}#sk-container-id-4 div.sk-parallel-item:last-child::after {align-self: flex-start;width: 50%;}#sk-container-id-4 div.sk-parallel-item:only-child::after {width: 0;}#sk-container-id-4 div.sk-dashed-wrapped {border: 1px dashed gray;margin: 0 0.4em 0.5em 0.4em;box-sizing: border-box;padding-bottom: 0.4em;background-color: white;}#sk-container-id-4 div.sk-label label {font-family: monospace;font-weight: bold;display: inline-block;line-height: 1.2em;}#sk-container-id-4 div.sk-label-container {text-align: center;}#sk-container-id-4 div.sk-container {/* jupyter's `normalize.less` sets `[hidden] { display: none; }` but bootstrap.min.css set `[hidden] { display: none !important; }` so we also need the `!important` here to be able to override the default hidden behavior on the sphinx rendered scikit-learn.org. See: https://github.com/scikit-learn/scikit-learn/issues/21755 */display: inline-block !important;position: relative;}#sk-container-id-4 div.sk-text-repr-fallback {display: none;}</style><div id=\"sk-container-id-4\" class=\"sk-top-container\"><div class=\"sk-text-repr-fallback\"><pre>XGBRegressor(base_score=None, booster=None, callbacks=None,\n",
       "             colsample_bylevel=None, colsample_bynode=None,\n",
       "             colsample_bytree=None, early_stopping_rounds=None,\n",
       "             enable_categorical=False, eval_metric=None, feature_types=None,\n",
       "             gamma=None, gpu_id=None, grow_policy=None, importance_type=None,\n",
       "             interaction_constraints=None, learning_rate=0.01, max_bin=None,\n",
       "             max_cat_threshold=None, max_cat_to_onehot=None,\n",
       "             max_delta_step=None, max_depth=8, max_leaves=None,\n",
       "             min_child_weight=None, missing=nan, monotone_constraints=None,\n",
       "             n_estimators=1000, n_jobs=None, num_parallel_tree=None,\n",
       "             predictor=None, random_state=100, ...)</pre><b>In a Jupyter environment, please rerun this cell to show the HTML representation or trust the notebook. <br />On GitHub, the HTML representation is unable to render, please try loading this page with nbviewer.org.</b></div><div class=\"sk-container\" hidden><div class=\"sk-item\"><div class=\"sk-estimator sk-toggleable\"><input class=\"sk-toggleable__control sk-hidden--visually\" id=\"sk-estimator-id-4\" type=\"checkbox\" checked><label for=\"sk-estimator-id-4\" class=\"sk-toggleable__label sk-toggleable__label-arrow\">XGBRegressor</label><div class=\"sk-toggleable__content\"><pre>XGBRegressor(base_score=None, booster=None, callbacks=None,\n",
       "             colsample_bylevel=None, colsample_bynode=None,\n",
       "             colsample_bytree=None, early_stopping_rounds=None,\n",
       "             enable_categorical=False, eval_metric=None, feature_types=None,\n",
       "             gamma=None, gpu_id=None, grow_policy=None, importance_type=None,\n",
       "             interaction_constraints=None, learning_rate=0.01, max_bin=None,\n",
       "             max_cat_threshold=None, max_cat_to_onehot=None,\n",
       "             max_delta_step=None, max_depth=8, max_leaves=None,\n",
       "             min_child_weight=None, missing=nan, monotone_constraints=None,\n",
       "             n_estimators=1000, n_jobs=None, num_parallel_tree=None,\n",
       "             predictor=None, random_state=100, ...)</pre></div></div></div></div></div>"
      ],
      "text/plain": [
       "XGBRegressor(base_score=None, booster=None, callbacks=None,\n",
       "             colsample_bylevel=None, colsample_bynode=None,\n",
       "             colsample_bytree=None, early_stopping_rounds=None,\n",
       "             enable_categorical=False, eval_metric=None, feature_types=None,\n",
       "             gamma=None, gpu_id=None, grow_policy=None, importance_type=None,\n",
       "             interaction_constraints=None, learning_rate=0.01, max_bin=None,\n",
       "             max_cat_threshold=None, max_cat_to_onehot=None,\n",
       "             max_delta_step=None, max_depth=8, max_leaves=None,\n",
       "             min_child_weight=None, missing=nan, monotone_constraints=None,\n",
       "             n_estimators=1000, n_jobs=None, num_parallel_tree=None,\n",
       "             predictor=None, random_state=100, ...)"
      ]
     },
     "execution_count": 16,
     "metadata": {},
     "output_type": "execute_result"
    }
   ],
   "source": [
    "xgbmodel = xgb.XGBRegressor(max_depth= 8,random_state=100,learning_rate = 0.01,n_estimators= 1000 )\n",
    "xgbmodel.fit(X_train, y_train)"
   ]
  },
  {
   "cell_type": "code",
   "execution_count": 17,
   "id": "71132df5",
   "metadata": {
    "execution": {
     "iopub.execute_input": "2023-06-03T06:06:22.063242Z",
     "iopub.status.busy": "2023-06-03T06:06:22.062935Z",
     "iopub.status.idle": "2023-06-03T06:06:27.898578Z",
     "shell.execute_reply": "2023-06-03T06:06:27.897185Z"
    },
    "papermill": {
     "duration": 5.847196,
     "end_time": "2023-06-03T06:06:27.900852",
     "exception": false,
     "start_time": "2023-06-03T06:06:22.053656",
     "status": "completed"
    },
    "tags": []
   },
   "outputs": [
    {
     "data": {
      "text/plain": [
       "<catboost.core.CatBoostRegressor at 0x78c3d79a1ea0>"
      ]
     },
     "execution_count": 17,
     "metadata": {},
     "output_type": "execute_result"
    }
   ],
   "source": [
    "catmodel = CatBoostRegressor(random_state=100, verbose=False)\n",
    "catmodel.fit(X_train, y_train)"
   ]
  },
  {
   "cell_type": "code",
   "execution_count": 18,
   "id": "497296e1",
   "metadata": {
    "execution": {
     "iopub.execute_input": "2023-06-03T06:06:27.918997Z",
     "iopub.status.busy": "2023-06-03T06:06:27.918340Z",
     "iopub.status.idle": "2023-06-03T06:06:28.879736Z",
     "shell.execute_reply": "2023-06-03T06:06:28.879075Z"
    },
    "papermill": {
     "duration": 0.972585,
     "end_time": "2023-06-03T06:06:28.881827",
     "exception": false,
     "start_time": "2023-06-03T06:06:27.909242",
     "status": "completed"
    },
    "tags": []
   },
   "outputs": [
    {
     "data": {
      "text/html": [
       "<style>#sk-container-id-5 {color: black;background-color: white;}#sk-container-id-5 pre{padding: 0;}#sk-container-id-5 div.sk-toggleable {background-color: white;}#sk-container-id-5 label.sk-toggleable__label {cursor: pointer;display: block;width: 100%;margin-bottom: 0;padding: 0.3em;box-sizing: border-box;text-align: center;}#sk-container-id-5 label.sk-toggleable__label-arrow:before {content: \"▸\";float: left;margin-right: 0.25em;color: #696969;}#sk-container-id-5 label.sk-toggleable__label-arrow:hover:before {color: black;}#sk-container-id-5 div.sk-estimator:hover label.sk-toggleable__label-arrow:before {color: black;}#sk-container-id-5 div.sk-toggleable__content {max-height: 0;max-width: 0;overflow: hidden;text-align: left;background-color: #f0f8ff;}#sk-container-id-5 div.sk-toggleable__content pre {margin: 0.2em;color: black;border-radius: 0.25em;background-color: #f0f8ff;}#sk-container-id-5 input.sk-toggleable__control:checked~div.sk-toggleable__content {max-height: 200px;max-width: 100%;overflow: auto;}#sk-container-id-5 input.sk-toggleable__control:checked~label.sk-toggleable__label-arrow:before {content: \"▾\";}#sk-container-id-5 div.sk-estimator input.sk-toggleable__control:checked~label.sk-toggleable__label {background-color: #d4ebff;}#sk-container-id-5 div.sk-label input.sk-toggleable__control:checked~label.sk-toggleable__label {background-color: #d4ebff;}#sk-container-id-5 input.sk-hidden--visually {border: 0;clip: rect(1px 1px 1px 1px);clip: rect(1px, 1px, 1px, 1px);height: 1px;margin: -1px;overflow: hidden;padding: 0;position: absolute;width: 1px;}#sk-container-id-5 div.sk-estimator {font-family: monospace;background-color: #f0f8ff;border: 1px dotted black;border-radius: 0.25em;box-sizing: border-box;margin-bottom: 0.5em;}#sk-container-id-5 div.sk-estimator:hover {background-color: #d4ebff;}#sk-container-id-5 div.sk-parallel-item::after {content: \"\";width: 100%;border-bottom: 1px solid gray;flex-grow: 1;}#sk-container-id-5 div.sk-label:hover label.sk-toggleable__label {background-color: #d4ebff;}#sk-container-id-5 div.sk-serial::before {content: \"\";position: absolute;border-left: 1px solid gray;box-sizing: border-box;top: 0;bottom: 0;left: 50%;z-index: 0;}#sk-container-id-5 div.sk-serial {display: flex;flex-direction: column;align-items: center;background-color: white;padding-right: 0.2em;padding-left: 0.2em;position: relative;}#sk-container-id-5 div.sk-item {position: relative;z-index: 1;}#sk-container-id-5 div.sk-parallel {display: flex;align-items: stretch;justify-content: center;background-color: white;position: relative;}#sk-container-id-5 div.sk-item::before, #sk-container-id-5 div.sk-parallel-item::before {content: \"\";position: absolute;border-left: 1px solid gray;box-sizing: border-box;top: 0;bottom: 0;left: 50%;z-index: -1;}#sk-container-id-5 div.sk-parallel-item {display: flex;flex-direction: column;z-index: 1;position: relative;background-color: white;}#sk-container-id-5 div.sk-parallel-item:first-child::after {align-self: flex-end;width: 50%;}#sk-container-id-5 div.sk-parallel-item:last-child::after {align-self: flex-start;width: 50%;}#sk-container-id-5 div.sk-parallel-item:only-child::after {width: 0;}#sk-container-id-5 div.sk-dashed-wrapped {border: 1px dashed gray;margin: 0 0.4em 0.5em 0.4em;box-sizing: border-box;padding-bottom: 0.4em;background-color: white;}#sk-container-id-5 div.sk-label label {font-family: monospace;font-weight: bold;display: inline-block;line-height: 1.2em;}#sk-container-id-5 div.sk-label-container {text-align: center;}#sk-container-id-5 div.sk-container {/* jupyter's `normalize.less` sets `[hidden] { display: none; }` but bootstrap.min.css set `[hidden] { display: none !important; }` so we also need the `!important` here to be able to override the default hidden behavior on the sphinx rendered scikit-learn.org. See: https://github.com/scikit-learn/scikit-learn/issues/21755 */display: inline-block !important;position: relative;}#sk-container-id-5 div.sk-text-repr-fallback {display: none;}</style><div id=\"sk-container-id-5\" class=\"sk-top-container\"><div class=\"sk-text-repr-fallback\"><pre>LGBMRegressor(max_depth=8, random_state=100)</pre><b>In a Jupyter environment, please rerun this cell to show the HTML representation or trust the notebook. <br />On GitHub, the HTML representation is unable to render, please try loading this page with nbviewer.org.</b></div><div class=\"sk-container\" hidden><div class=\"sk-item\"><div class=\"sk-estimator sk-toggleable\"><input class=\"sk-toggleable__control sk-hidden--visually\" id=\"sk-estimator-id-5\" type=\"checkbox\" checked><label for=\"sk-estimator-id-5\" class=\"sk-toggleable__label sk-toggleable__label-arrow\">LGBMRegressor</label><div class=\"sk-toggleable__content\"><pre>LGBMRegressor(max_depth=8, random_state=100)</pre></div></div></div></div></div>"
      ],
      "text/plain": [
       "LGBMRegressor(max_depth=8, random_state=100)"
      ]
     },
     "execution_count": 18,
     "metadata": {},
     "output_type": "execute_result"
    }
   ],
   "source": [
    "lgbmodel = LGBMRegressor(max_depth= 8,random_state=100)\n",
    "lgbmodel.fit(X_train, y_train)"
   ]
  },
  {
   "cell_type": "code",
   "execution_count": 19,
   "id": "d9f7c597",
   "metadata": {
    "execution": {
     "iopub.execute_input": "2023-06-03T06:06:28.901057Z",
     "iopub.status.busy": "2023-06-03T06:06:28.899919Z",
     "iopub.status.idle": "2023-06-03T06:08:35.531042Z",
     "shell.execute_reply": "2023-06-03T06:08:35.529278Z"
    },
    "papermill": {
     "duration": 126.643789,
     "end_time": "2023-06-03T06:08:35.534015",
     "exception": false,
     "start_time": "2023-06-03T06:06:28.890226",
     "status": "completed"
    },
    "tags": []
   },
   "outputs": [
    {
     "data": {
      "text/html": [
       "<style>#sk-container-id-6 {color: black;background-color: white;}#sk-container-id-6 pre{padding: 0;}#sk-container-id-6 div.sk-toggleable {background-color: white;}#sk-container-id-6 label.sk-toggleable__label {cursor: pointer;display: block;width: 100%;margin-bottom: 0;padding: 0.3em;box-sizing: border-box;text-align: center;}#sk-container-id-6 label.sk-toggleable__label-arrow:before {content: \"▸\";float: left;margin-right: 0.25em;color: #696969;}#sk-container-id-6 label.sk-toggleable__label-arrow:hover:before {color: black;}#sk-container-id-6 div.sk-estimator:hover label.sk-toggleable__label-arrow:before {color: black;}#sk-container-id-6 div.sk-toggleable__content {max-height: 0;max-width: 0;overflow: hidden;text-align: left;background-color: #f0f8ff;}#sk-container-id-6 div.sk-toggleable__content pre {margin: 0.2em;color: black;border-radius: 0.25em;background-color: #f0f8ff;}#sk-container-id-6 input.sk-toggleable__control:checked~div.sk-toggleable__content {max-height: 200px;max-width: 100%;overflow: auto;}#sk-container-id-6 input.sk-toggleable__control:checked~label.sk-toggleable__label-arrow:before {content: \"▾\";}#sk-container-id-6 div.sk-estimator input.sk-toggleable__control:checked~label.sk-toggleable__label {background-color: #d4ebff;}#sk-container-id-6 div.sk-label input.sk-toggleable__control:checked~label.sk-toggleable__label {background-color: #d4ebff;}#sk-container-id-6 input.sk-hidden--visually {border: 0;clip: rect(1px 1px 1px 1px);clip: rect(1px, 1px, 1px, 1px);height: 1px;margin: -1px;overflow: hidden;padding: 0;position: absolute;width: 1px;}#sk-container-id-6 div.sk-estimator {font-family: monospace;background-color: #f0f8ff;border: 1px dotted black;border-radius: 0.25em;box-sizing: border-box;margin-bottom: 0.5em;}#sk-container-id-6 div.sk-estimator:hover {background-color: #d4ebff;}#sk-container-id-6 div.sk-parallel-item::after {content: \"\";width: 100%;border-bottom: 1px solid gray;flex-grow: 1;}#sk-container-id-6 div.sk-label:hover label.sk-toggleable__label {background-color: #d4ebff;}#sk-container-id-6 div.sk-serial::before {content: \"\";position: absolute;border-left: 1px solid gray;box-sizing: border-box;top: 0;bottom: 0;left: 50%;z-index: 0;}#sk-container-id-6 div.sk-serial {display: flex;flex-direction: column;align-items: center;background-color: white;padding-right: 0.2em;padding-left: 0.2em;position: relative;}#sk-container-id-6 div.sk-item {position: relative;z-index: 1;}#sk-container-id-6 div.sk-parallel {display: flex;align-items: stretch;justify-content: center;background-color: white;position: relative;}#sk-container-id-6 div.sk-item::before, #sk-container-id-6 div.sk-parallel-item::before {content: \"\";position: absolute;border-left: 1px solid gray;box-sizing: border-box;top: 0;bottom: 0;left: 50%;z-index: -1;}#sk-container-id-6 div.sk-parallel-item {display: flex;flex-direction: column;z-index: 1;position: relative;background-color: white;}#sk-container-id-6 div.sk-parallel-item:first-child::after {align-self: flex-end;width: 50%;}#sk-container-id-6 div.sk-parallel-item:last-child::after {align-self: flex-start;width: 50%;}#sk-container-id-6 div.sk-parallel-item:only-child::after {width: 0;}#sk-container-id-6 div.sk-dashed-wrapped {border: 1px dashed gray;margin: 0 0.4em 0.5em 0.4em;box-sizing: border-box;padding-bottom: 0.4em;background-color: white;}#sk-container-id-6 div.sk-label label {font-family: monospace;font-weight: bold;display: inline-block;line-height: 1.2em;}#sk-container-id-6 div.sk-label-container {text-align: center;}#sk-container-id-6 div.sk-container {/* jupyter's `normalize.less` sets `[hidden] { display: none; }` but bootstrap.min.css set `[hidden] { display: none !important; }` so we also need the `!important` here to be able to override the default hidden behavior on the sphinx rendered scikit-learn.org. See: https://github.com/scikit-learn/scikit-learn/issues/21755 */display: inline-block !important;position: relative;}#sk-container-id-6 div.sk-text-repr-fallback {display: none;}</style><div id=\"sk-container-id-6\" class=\"sk-top-container\"><div class=\"sk-text-repr-fallback\"><pre>VotingRegressor(estimators=[(&#x27;rf&#x27;,\n",
       "                             RandomForestRegressor(max_depth=12,\n",
       "                                                   min_samples_leaf=10)),\n",
       "                            (&#x27;gb&#x27;,\n",
       "                             GradientBoostingRegressor(loss=&#x27;absolute_error&#x27;,\n",
       "                                                       max_depth=8,\n",
       "                                                       random_state=100)),\n",
       "                            (&#x27;xgb&#x27;,\n",
       "                             XGBRegressor(base_score=None, booster=None,\n",
       "                                          callbacks=None,\n",
       "                                          colsample_bylevel=None,\n",
       "                                          colsample_bynode=None,\n",
       "                                          colsample_bytree=None,\n",
       "                                          early_stopping_rounds=None,\n",
       "                                          enable_categoric...\n",
       "                                          max_cat_threshold=None,\n",
       "                                          max_cat_to_onehot=None,\n",
       "                                          max_delta_step=None, max_depth=8,\n",
       "                                          max_leaves=None,\n",
       "                                          min_child_weight=None, missing=nan,\n",
       "                                          monotone_constraints=None,\n",
       "                                          n_estimators=1000, n_jobs=None,\n",
       "                                          num_parallel_tree=None,\n",
       "                                          predictor=None, random_state=100, ...)),\n",
       "                            (&#x27;cat&#x27;,\n",
       "                             &lt;catboost.core.CatBoostRegressor object at 0x78c3d79a1ea0&gt;),\n",
       "                            (&#x27;lgb&#x27;,\n",
       "                             LGBMRegressor(max_depth=8, random_state=100))])</pre><b>In a Jupyter environment, please rerun this cell to show the HTML representation or trust the notebook. <br />On GitHub, the HTML representation is unable to render, please try loading this page with nbviewer.org.</b></div><div class=\"sk-container\" hidden><div class=\"sk-item sk-dashed-wrapped\"><div class=\"sk-label-container\"><div class=\"sk-label sk-toggleable\"><input class=\"sk-toggleable__control sk-hidden--visually\" id=\"sk-estimator-id-6\" type=\"checkbox\" ><label for=\"sk-estimator-id-6\" class=\"sk-toggleable__label sk-toggleable__label-arrow\">VotingRegressor</label><div class=\"sk-toggleable__content\"><pre>VotingRegressor(estimators=[(&#x27;rf&#x27;,\n",
       "                             RandomForestRegressor(max_depth=12,\n",
       "                                                   min_samples_leaf=10)),\n",
       "                            (&#x27;gb&#x27;,\n",
       "                             GradientBoostingRegressor(loss=&#x27;absolute_error&#x27;,\n",
       "                                                       max_depth=8,\n",
       "                                                       random_state=100)),\n",
       "                            (&#x27;xgb&#x27;,\n",
       "                             XGBRegressor(base_score=None, booster=None,\n",
       "                                          callbacks=None,\n",
       "                                          colsample_bylevel=None,\n",
       "                                          colsample_bynode=None,\n",
       "                                          colsample_bytree=None,\n",
       "                                          early_stopping_rounds=None,\n",
       "                                          enable_categoric...\n",
       "                                          max_cat_threshold=None,\n",
       "                                          max_cat_to_onehot=None,\n",
       "                                          max_delta_step=None, max_depth=8,\n",
       "                                          max_leaves=None,\n",
       "                                          min_child_weight=None, missing=nan,\n",
       "                                          monotone_constraints=None,\n",
       "                                          n_estimators=1000, n_jobs=None,\n",
       "                                          num_parallel_tree=None,\n",
       "                                          predictor=None, random_state=100, ...)),\n",
       "                            (&#x27;cat&#x27;,\n",
       "                             &lt;catboost.core.CatBoostRegressor object at 0x78c3d79a1ea0&gt;),\n",
       "                            (&#x27;lgb&#x27;,\n",
       "                             LGBMRegressor(max_depth=8, random_state=100))])</pre></div></div></div><div class=\"sk-parallel\"><div class=\"sk-parallel-item\"><div class=\"sk-item\"><div class=\"sk-label-container\"><div class=\"sk-label sk-toggleable\"><label>rf</label></div></div><div class=\"sk-serial\"><div class=\"sk-item\"><div class=\"sk-estimator sk-toggleable\"><input class=\"sk-toggleable__control sk-hidden--visually\" id=\"sk-estimator-id-7\" type=\"checkbox\" ><label for=\"sk-estimator-id-7\" class=\"sk-toggleable__label sk-toggleable__label-arrow\">RandomForestRegressor</label><div class=\"sk-toggleable__content\"><pre>RandomForestRegressor(max_depth=12, min_samples_leaf=10)</pre></div></div></div></div></div></div><div class=\"sk-parallel-item\"><div class=\"sk-item\"><div class=\"sk-label-container\"><div class=\"sk-label sk-toggleable\"><label>gb</label></div></div><div class=\"sk-serial\"><div class=\"sk-item\"><div class=\"sk-estimator sk-toggleable\"><input class=\"sk-toggleable__control sk-hidden--visually\" id=\"sk-estimator-id-8\" type=\"checkbox\" ><label for=\"sk-estimator-id-8\" class=\"sk-toggleable__label sk-toggleable__label-arrow\">GradientBoostingRegressor</label><div class=\"sk-toggleable__content\"><pre>GradientBoostingRegressor(loss=&#x27;absolute_error&#x27;, max_depth=8, random_state=100)</pre></div></div></div></div></div></div><div class=\"sk-parallel-item\"><div class=\"sk-item\"><div class=\"sk-label-container\"><div class=\"sk-label sk-toggleable\"><label>xgb</label></div></div><div class=\"sk-serial\"><div class=\"sk-item\"><div class=\"sk-estimator sk-toggleable\"><input class=\"sk-toggleable__control sk-hidden--visually\" id=\"sk-estimator-id-9\" type=\"checkbox\" ><label for=\"sk-estimator-id-9\" class=\"sk-toggleable__label sk-toggleable__label-arrow\">XGBRegressor</label><div class=\"sk-toggleable__content\"><pre>XGBRegressor(base_score=None, booster=None, callbacks=None,\n",
       "             colsample_bylevel=None, colsample_bynode=None,\n",
       "             colsample_bytree=None, early_stopping_rounds=None,\n",
       "             enable_categorical=False, eval_metric=None, feature_types=None,\n",
       "             gamma=None, gpu_id=None, grow_policy=None, importance_type=None,\n",
       "             interaction_constraints=None, learning_rate=0.01, max_bin=None,\n",
       "             max_cat_threshold=None, max_cat_to_onehot=None,\n",
       "             max_delta_step=None, max_depth=8, max_leaves=None,\n",
       "             min_child_weight=None, missing=nan, monotone_constraints=None,\n",
       "             n_estimators=1000, n_jobs=None, num_parallel_tree=None,\n",
       "             predictor=None, random_state=100, ...)</pre></div></div></div></div></div></div><div class=\"sk-parallel-item\"><div class=\"sk-item\"><div class=\"sk-label-container\"><div class=\"sk-label sk-toggleable\"><label>cat</label></div></div><div class=\"sk-serial\"><div class=\"sk-item\"><div class=\"sk-estimator sk-toggleable\"><input class=\"sk-toggleable__control sk-hidden--visually\" id=\"sk-estimator-id-10\" type=\"checkbox\" ><label for=\"sk-estimator-id-10\" class=\"sk-toggleable__label sk-toggleable__label-arrow\">CatBoostRegressor</label><div class=\"sk-toggleable__content\"><pre>&lt;catboost.core.CatBoostRegressor object at 0x78c3d79a1ea0&gt;</pre></div></div></div></div></div></div><div class=\"sk-parallel-item\"><div class=\"sk-item\"><div class=\"sk-label-container\"><div class=\"sk-label sk-toggleable\"><label>lgb</label></div></div><div class=\"sk-serial\"><div class=\"sk-item\"><div class=\"sk-estimator sk-toggleable\"><input class=\"sk-toggleable__control sk-hidden--visually\" id=\"sk-estimator-id-11\" type=\"checkbox\" ><label for=\"sk-estimator-id-11\" class=\"sk-toggleable__label sk-toggleable__label-arrow\">LGBMRegressor</label><div class=\"sk-toggleable__content\"><pre>LGBMRegressor(max_depth=8, random_state=100)</pre></div></div></div></div></div></div></div></div></div></div>"
      ],
      "text/plain": [
       "VotingRegressor(estimators=[('rf',\n",
       "                             RandomForestRegressor(max_depth=12,\n",
       "                                                   min_samples_leaf=10)),\n",
       "                            ('gb',\n",
       "                             GradientBoostingRegressor(loss='absolute_error',\n",
       "                                                       max_depth=8,\n",
       "                                                       random_state=100)),\n",
       "                            ('xgb',\n",
       "                             XGBRegressor(base_score=None, booster=None,\n",
       "                                          callbacks=None,\n",
       "                                          colsample_bylevel=None,\n",
       "                                          colsample_bynode=None,\n",
       "                                          colsample_bytree=None,\n",
       "                                          early_stopping_rounds=None,\n",
       "                                          enable_categoric...\n",
       "                                          max_cat_threshold=None,\n",
       "                                          max_cat_to_onehot=None,\n",
       "                                          max_delta_step=None, max_depth=8,\n",
       "                                          max_leaves=None,\n",
       "                                          min_child_weight=None, missing=nan,\n",
       "                                          monotone_constraints=None,\n",
       "                                          n_estimators=1000, n_jobs=None,\n",
       "                                          num_parallel_tree=None,\n",
       "                                          predictor=None, random_state=100, ...)),\n",
       "                            ('cat',\n",
       "                             <catboost.core.CatBoostRegressor object at 0x78c3d79a1ea0>),\n",
       "                            ('lgb',\n",
       "                             LGBMRegressor(max_depth=8, random_state=100))])"
      ]
     },
     "execution_count": 19,
     "metadata": {},
     "output_type": "execute_result"
    }
   ],
   "source": [
    "vrmodel = VotingRegressor([('rf', rfmodel), ('gb', gbmodel),('xgb', xgbmodel),('cat',catmodel), ('lgb', lgbmodel)])\n",
    "vrmodel.fit(X_train, y_train)"
   ]
  },
  {
   "cell_type": "code",
   "execution_count": 20,
   "id": "2890f562",
   "metadata": {
    "execution": {
     "iopub.execute_input": "2023-06-03T06:08:35.553646Z",
     "iopub.status.busy": "2023-06-03T06:08:35.553228Z",
     "iopub.status.idle": "2023-06-03T06:08:38.265855Z",
     "shell.execute_reply": "2023-06-03T06:08:38.264906Z"
    },
    "papermill": {
     "duration": 2.724985,
     "end_time": "2023-06-03T06:08:38.267878",
     "exception": false,
     "start_time": "2023-06-03T06:08:35.542893",
     "status": "completed"
    },
    "tags": []
   },
   "outputs": [
    {
     "name": "stdout",
     "output_type": "stream",
     "text": [
      "1.4096217295591749\n",
      "1.486787784487542\n",
      "1.3643412974593272\n",
      "1.4079117361143592\n",
      "1.4047328888876698\n",
      "1.4041908360326925\n",
      "1.3849740872704863\n"
     ]
    }
   ],
   "source": [
    "print(mean_absolute_error(y_test, rfmodel.predict(X_test)))\n",
    "print(mean_absolute_error(y_test, brmodel.predict(X_test)))\n",
    "print(mean_absolute_error(y_test, gbmodel.predict(X_test)))\n",
    "print(mean_absolute_error(y_test, xgbmodel.predict(X_test)))\n",
    "print(mean_absolute_error(y_test, catmodel.predict(X_test)))\n",
    "print(mean_absolute_error(y_test, lgbmodel.predict(X_test)))\n",
    "print(mean_absolute_error(y_test, vrmodel.predict(X_test)))"
   ]
  },
  {
   "cell_type": "code",
   "execution_count": 21,
   "id": "d30b4474",
   "metadata": {
    "execution": {
     "iopub.execute_input": "2023-06-03T06:08:38.287142Z",
     "iopub.status.busy": "2023-06-03T06:08:38.286806Z",
     "iopub.status.idle": "2023-06-03T06:08:41.016143Z",
     "shell.execute_reply": "2023-06-03T06:08:41.015386Z"
    },
    "papermill": {
     "duration": 2.741689,
     "end_time": "2023-06-03T06:08:41.018589",
     "exception": false,
     "start_time": "2023-06-03T06:08:38.276900",
     "status": "completed"
    },
    "tags": []
   },
   "outputs": [],
   "source": [
    "predictions = vrmodel.predict(crab_test)"
   ]
  },
  {
   "cell_type": "code",
   "execution_count": 22,
   "id": "d3f32785",
   "metadata": {
    "execution": {
     "iopub.execute_input": "2023-06-03T06:08:41.038664Z",
     "iopub.status.busy": "2023-06-03T06:08:41.037533Z",
     "iopub.status.idle": "2023-06-03T06:08:41.043395Z",
     "shell.execute_reply": "2023-06-03T06:08:41.042451Z"
    },
    "papermill": {
     "duration": 0.017949,
     "end_time": "2023-06-03T06:08:41.045382",
     "exception": false,
     "start_time": "2023-06-03T06:08:41.027433",
     "status": "completed"
    },
    "tags": []
   },
   "outputs": [],
   "source": [
    "crab_test['Age'] = predictions"
   ]
  },
  {
   "cell_type": "code",
   "execution_count": 23,
   "id": "08c45352",
   "metadata": {
    "execution": {
     "iopub.execute_input": "2023-06-03T06:08:41.064726Z",
     "iopub.status.busy": "2023-06-03T06:08:41.064420Z",
     "iopub.status.idle": "2023-06-03T06:08:41.073361Z",
     "shell.execute_reply": "2023-06-03T06:08:41.071492Z"
    },
    "papermill": {
     "duration": 0.021751,
     "end_time": "2023-06-03T06:08:41.075937",
     "exception": false,
     "start_time": "2023-06-03T06:08:41.054186",
     "status": "completed"
    },
    "tags": []
   },
   "outputs": [
    {
     "data": {
      "text/plain": [
       "Index(['id', 'Length', 'Diameter', 'Height', 'Weight', 'Shucked Weight',\n",
       "       'Viscera Weight', 'Shell Weight', 'F', 'I', 'M', 'Age'],\n",
       "      dtype='object')"
      ]
     },
     "execution_count": 23,
     "metadata": {},
     "output_type": "execute_result"
    }
   ],
   "source": [
    "crab_test.columns"
   ]
  },
  {
   "cell_type": "code",
   "execution_count": 24,
   "id": "21a3c14f",
   "metadata": {
    "execution": {
     "iopub.execute_input": "2023-06-03T06:08:41.095211Z",
     "iopub.status.busy": "2023-06-03T06:08:41.094842Z",
     "iopub.status.idle": "2023-06-03T06:08:41.102434Z",
     "shell.execute_reply": "2023-06-03T06:08:41.100575Z"
    },
    "papermill": {
     "duration": 0.020208,
     "end_time": "2023-06-03T06:08:41.105095",
     "exception": false,
     "start_time": "2023-06-03T06:08:41.084887",
     "status": "completed"
    },
    "tags": []
   },
   "outputs": [],
   "source": [
    "crab_test.drop(['F', 'I', 'M', 'Length', 'Diameter', 'Height', 'Weight', 'Shucked Weight',\n",
    "       'Viscera Weight', 'Shell Weight'],axis = 1,inplace = True)"
   ]
  },
  {
   "cell_type": "code",
   "execution_count": 25,
   "id": "c258df3d",
   "metadata": {
    "execution": {
     "iopub.execute_input": "2023-06-03T06:08:41.126570Z",
     "iopub.status.busy": "2023-06-03T06:08:41.126164Z",
     "iopub.status.idle": "2023-06-03T06:08:41.152271Z",
     "shell.execute_reply": "2023-06-03T06:08:41.150827Z"
    },
    "papermill": {
     "duration": 0.039671,
     "end_time": "2023-06-03T06:08:41.154960",
     "exception": false,
     "start_time": "2023-06-03T06:08:41.115289",
     "status": "completed"
    },
    "tags": []
   },
   "outputs": [
    {
     "data": {
      "text/html": [
       "<div>\n",
       "<style scoped>\n",
       "    .dataframe tbody tr th:only-of-type {\n",
       "        vertical-align: middle;\n",
       "    }\n",
       "\n",
       "    .dataframe tbody tr th {\n",
       "        vertical-align: top;\n",
       "    }\n",
       "\n",
       "    .dataframe thead th {\n",
       "        text-align: right;\n",
       "    }\n",
       "</style>\n",
       "<table border=\"1\" class=\"dataframe\">\n",
       "  <thead>\n",
       "    <tr style=\"text-align: right;\">\n",
       "      <th></th>\n",
       "      <th>id</th>\n",
       "      <th>Age</th>\n",
       "    </tr>\n",
       "  </thead>\n",
       "  <tbody>\n",
       "    <tr>\n",
       "      <th>0</th>\n",
       "      <td>74051</td>\n",
       "      <td>7.709117</td>\n",
       "    </tr>\n",
       "    <tr>\n",
       "      <th>1</th>\n",
       "      <td>74052</td>\n",
       "      <td>7.760742</td>\n",
       "    </tr>\n",
       "    <tr>\n",
       "      <th>2</th>\n",
       "      <td>74053</td>\n",
       "      <td>10.131306</td>\n",
       "    </tr>\n",
       "    <tr>\n",
       "      <th>3</th>\n",
       "      <td>74054</td>\n",
       "      <td>9.678642</td>\n",
       "    </tr>\n",
       "    <tr>\n",
       "      <th>4</th>\n",
       "      <td>74055</td>\n",
       "      <td>7.356475</td>\n",
       "    </tr>\n",
       "  </tbody>\n",
       "</table>\n",
       "</div>"
      ],
      "text/plain": [
       "      id        Age\n",
       "0  74051   7.709117\n",
       "1  74052   7.760742\n",
       "2  74053  10.131306\n",
       "3  74054   9.678642\n",
       "4  74055   7.356475"
      ]
     },
     "execution_count": 25,
     "metadata": {},
     "output_type": "execute_result"
    }
   ],
   "source": [
    "crab_test.head()"
   ]
  },
  {
   "cell_type": "code",
   "execution_count": 26,
   "id": "bfb8a80d",
   "metadata": {
    "execution": {
     "iopub.execute_input": "2023-06-03T06:08:41.176392Z",
     "iopub.status.busy": "2023-06-03T06:08:41.175984Z",
     "iopub.status.idle": "2023-06-03T06:08:41.272433Z",
     "shell.execute_reply": "2023-06-03T06:08:41.271406Z"
    },
    "papermill": {
     "duration": 0.109644,
     "end_time": "2023-06-03T06:08:41.274678",
     "exception": false,
     "start_time": "2023-06-03T06:08:41.165034",
     "status": "completed"
    },
    "tags": []
   },
   "outputs": [],
   "source": [
    "crab_test.to_csv('submissionvr.csv',header=True,index=False)"
   ]
  }
 ],
 "metadata": {
  "kernelspec": {
   "display_name": "Python 3",
   "language": "python",
   "name": "python3"
  },
  "language_info": {
   "codemirror_mode": {
    "name": "ipython",
    "version": 3
   },
   "file_extension": ".py",
   "mimetype": "text/x-python",
   "name": "python",
   "nbconvert_exporter": "python",
   "pygments_lexer": "ipython3",
   "version": "3.10.10"
  },
  "papermill": {
   "default_parameters": {},
   "duration": 241.088564,
   "end_time": "2023-06-03T06:08:42.507538",
   "environment_variables": {},
   "exception": null,
   "input_path": "__notebook__.ipynb",
   "output_path": "__notebook__.ipynb",
   "parameters": {},
   "start_time": "2023-06-03T06:04:41.418974",
   "version": "2.4.0"
  }
 },
 "nbformat": 4,
 "nbformat_minor": 5
}
