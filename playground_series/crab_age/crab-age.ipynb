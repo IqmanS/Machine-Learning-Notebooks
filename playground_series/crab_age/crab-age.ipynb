{
 "cells": [
  {
   "cell_type": "code",
   "execution_count": 1,
   "id": "58269c09",
   "metadata": {
    "_cell_guid": "b1076dfc-b9ad-4769-8c92-a6c4dae69d19",
    "_uuid": "8f2839f25d086af736a60e9eeb907d3b93b6e0e5",
    "execution": {
     "iopub.execute_input": "2023-05-30T10:56:22.383016Z",
     "iopub.status.busy": "2023-05-30T10:56:22.382603Z",
     "iopub.status.idle": "2023-05-30T10:56:22.398004Z",
     "shell.execute_reply": "2023-05-30T10:56:22.396736Z"
    },
    "papermill": {
     "duration": 0.026016,
     "end_time": "2023-05-30T10:56:22.400814",
     "exception": false,
     "start_time": "2023-05-30T10:56:22.374798",
     "status": "completed"
    },
    "tags": []
   },
   "outputs": [
    {
     "name": "stdout",
     "output_type": "stream",
     "text": [
      "/kaggle/input/playground-series-s3e16/sample_submission.csv\n",
      "/kaggle/input/playground-series-s3e16/train.csv\n",
      "/kaggle/input/playground-series-s3e16/test.csv\n"
     ]
    }
   ],
   "source": [
    "# This Python 3 environment comes with many helpful analytics libraries installed\n",
    "# It is defined by the kaggle/python Docker image: https://github.com/kaggle/docker-python\n",
    "# For example, here's several helpful packages to load\n",
    "\n",
    "import numpy as np # linear algebra\n",
    "import pandas as pd # data processing, CSV file I/O (e.g. pd.read_csv)\n",
    "\n",
    "# Input data files are available in the read-only \"../input/\" directory\n",
    "# For example, running this (by clicking run or pressing Shift+Enter) will list all files under the input directory\n",
    "\n",
    "import os\n",
    "for dirname, _, filenames in os.walk('/kaggle/input'):\n",
    "    for filename in filenames:\n",
    "        print(os.path.join(dirname, filename))\n",
    "\n",
    "# You can write up to 20GB to the current directory (/kaggle/working/) that gets preserved as output when you create a version using \"Save & Run All\" \n",
    "# You can also write temporary files to /kaggle/temp/, but they won't be saved outside of the current session"
   ]
  },
  {
   "cell_type": "code",
   "execution_count": 2,
   "id": "f33f6fa0",
   "metadata": {
    "execution": {
     "iopub.execute_input": "2023-05-30T10:56:22.414476Z",
     "iopub.status.busy": "2023-05-30T10:56:22.413726Z",
     "iopub.status.idle": "2023-05-30T10:56:22.772798Z",
     "shell.execute_reply": "2023-05-30T10:56:22.771545Z"
    },
    "papermill": {
     "duration": 0.36879,
     "end_time": "2023-05-30T10:56:22.775471",
     "exception": false,
     "start_time": "2023-05-30T10:56:22.406681",
     "status": "completed"
    },
    "tags": []
   },
   "outputs": [],
   "source": [
    "crab_train = pd.read_csv('../input/playground-series-s3e16/train.csv')\n",
    "crab_test = pd.read_csv('../input/playground-series-s3e16/test.csv')"
   ]
  },
  {
   "cell_type": "code",
   "execution_count": 3,
   "id": "38f6c646",
   "metadata": {
    "execution": {
     "iopub.execute_input": "2023-05-30T10:56:22.789355Z",
     "iopub.status.busy": "2023-05-30T10:56:22.788942Z",
     "iopub.status.idle": "2023-05-30T10:56:22.849388Z",
     "shell.execute_reply": "2023-05-30T10:56:22.847912Z"
    },
    "papermill": {
     "duration": 0.070133,
     "end_time": "2023-05-30T10:56:22.851957",
     "exception": false,
     "start_time": "2023-05-30T10:56:22.781824",
     "status": "completed"
    },
    "tags": []
   },
   "outputs": [
    {
     "name": "stdout",
     "output_type": "stream",
     "text": [
      "<class 'pandas.core.frame.DataFrame'>\n",
      "RangeIndex: 74051 entries, 0 to 74050\n",
      "Data columns (total 10 columns):\n",
      " #   Column          Non-Null Count  Dtype  \n",
      "---  ------          --------------  -----  \n",
      " 0   id              74051 non-null  int64  \n",
      " 1   Sex             74051 non-null  object \n",
      " 2   Length          74051 non-null  float64\n",
      " 3   Diameter        74051 non-null  float64\n",
      " 4   Height          74051 non-null  float64\n",
      " 5   Weight          74051 non-null  float64\n",
      " 6   Shucked Weight  74051 non-null  float64\n",
      " 7   Viscera Weight  74051 non-null  float64\n",
      " 8   Shell Weight    74051 non-null  float64\n",
      " 9   Age             74051 non-null  int64  \n",
      "dtypes: float64(7), int64(2), object(1)\n",
      "memory usage: 5.6+ MB\n"
     ]
    }
   ],
   "source": [
    "crab_train.info()"
   ]
  },
  {
   "cell_type": "code",
   "execution_count": 4,
   "id": "907c56ff",
   "metadata": {
    "execution": {
     "iopub.execute_input": "2023-05-30T10:56:22.865772Z",
     "iopub.status.busy": "2023-05-30T10:56:22.865345Z",
     "iopub.status.idle": "2023-05-30T10:56:22.896025Z",
     "shell.execute_reply": "2023-05-30T10:56:22.894203Z"
    },
    "papermill": {
     "duration": 0.040536,
     "end_time": "2023-05-30T10:56:22.898486",
     "exception": false,
     "start_time": "2023-05-30T10:56:22.857950",
     "status": "completed"
    },
    "tags": []
   },
   "outputs": [
    {
     "name": "stdout",
     "output_type": "stream",
     "text": [
      "<class 'pandas.core.frame.DataFrame'>\n",
      "RangeIndex: 49368 entries, 0 to 49367\n",
      "Data columns (total 9 columns):\n",
      " #   Column          Non-Null Count  Dtype  \n",
      "---  ------          --------------  -----  \n",
      " 0   id              49368 non-null  int64  \n",
      " 1   Sex             49368 non-null  object \n",
      " 2   Length          49368 non-null  float64\n",
      " 3   Diameter        49368 non-null  float64\n",
      " 4   Height          49368 non-null  float64\n",
      " 5   Weight          49368 non-null  float64\n",
      " 6   Shucked Weight  49368 non-null  float64\n",
      " 7   Viscera Weight  49368 non-null  float64\n",
      " 8   Shell Weight    49368 non-null  float64\n",
      "dtypes: float64(7), int64(1), object(1)\n",
      "memory usage: 3.4+ MB\n"
     ]
    }
   ],
   "source": [
    "crab_test.info()"
   ]
  },
  {
   "cell_type": "code",
   "execution_count": 5,
   "id": "507b2a50",
   "metadata": {
    "execution": {
     "iopub.execute_input": "2023-05-30T10:56:22.912342Z",
     "iopub.status.busy": "2023-05-30T10:56:22.911897Z",
     "iopub.status.idle": "2023-05-30T10:56:22.948140Z",
     "shell.execute_reply": "2023-05-30T10:56:22.946893Z"
    },
    "papermill": {
     "duration": 0.046507,
     "end_time": "2023-05-30T10:56:22.950918",
     "exception": false,
     "start_time": "2023-05-30T10:56:22.904411",
     "status": "completed"
    },
    "tags": []
   },
   "outputs": [
    {
     "data": {
      "text/html": [
       "<div>\n",
       "<style scoped>\n",
       "    .dataframe tbody tr th:only-of-type {\n",
       "        vertical-align: middle;\n",
       "    }\n",
       "\n",
       "    .dataframe tbody tr th {\n",
       "        vertical-align: top;\n",
       "    }\n",
       "\n",
       "    .dataframe thead th {\n",
       "        text-align: right;\n",
       "    }\n",
       "</style>\n",
       "<table border=\"1\" class=\"dataframe\">\n",
       "  <thead>\n",
       "    <tr style=\"text-align: right;\">\n",
       "      <th></th>\n",
       "      <th>id</th>\n",
       "      <th>Sex</th>\n",
       "      <th>Length</th>\n",
       "      <th>Diameter</th>\n",
       "      <th>Height</th>\n",
       "      <th>Weight</th>\n",
       "      <th>Shucked Weight</th>\n",
       "      <th>Viscera Weight</th>\n",
       "      <th>Shell Weight</th>\n",
       "      <th>Age</th>\n",
       "    </tr>\n",
       "  </thead>\n",
       "  <tbody>\n",
       "    <tr>\n",
       "      <th>0</th>\n",
       "      <td>0</td>\n",
       "      <td>I</td>\n",
       "      <td>1.5250</td>\n",
       "      <td>1.1750</td>\n",
       "      <td>0.3750</td>\n",
       "      <td>28.973189</td>\n",
       "      <td>12.728926</td>\n",
       "      <td>6.647958</td>\n",
       "      <td>8.348928</td>\n",
       "      <td>9</td>\n",
       "    </tr>\n",
       "    <tr>\n",
       "      <th>1</th>\n",
       "      <td>1</td>\n",
       "      <td>I</td>\n",
       "      <td>1.1000</td>\n",
       "      <td>0.8250</td>\n",
       "      <td>0.2750</td>\n",
       "      <td>10.418441</td>\n",
       "      <td>4.521745</td>\n",
       "      <td>2.324659</td>\n",
       "      <td>3.401940</td>\n",
       "      <td>8</td>\n",
       "    </tr>\n",
       "    <tr>\n",
       "      <th>2</th>\n",
       "      <td>2</td>\n",
       "      <td>M</td>\n",
       "      <td>1.3875</td>\n",
       "      <td>1.1125</td>\n",
       "      <td>0.3750</td>\n",
       "      <td>24.777463</td>\n",
       "      <td>11.339800</td>\n",
       "      <td>5.556502</td>\n",
       "      <td>6.662133</td>\n",
       "      <td>9</td>\n",
       "    </tr>\n",
       "    <tr>\n",
       "      <th>3</th>\n",
       "      <td>3</td>\n",
       "      <td>F</td>\n",
       "      <td>1.7000</td>\n",
       "      <td>1.4125</td>\n",
       "      <td>0.5000</td>\n",
       "      <td>50.660556</td>\n",
       "      <td>20.354941</td>\n",
       "      <td>10.991839</td>\n",
       "      <td>14.996885</td>\n",
       "      <td>11</td>\n",
       "    </tr>\n",
       "    <tr>\n",
       "      <th>4</th>\n",
       "      <td>4</td>\n",
       "      <td>I</td>\n",
       "      <td>1.2500</td>\n",
       "      <td>1.0125</td>\n",
       "      <td>0.3375</td>\n",
       "      <td>23.289114</td>\n",
       "      <td>11.977664</td>\n",
       "      <td>4.507570</td>\n",
       "      <td>5.953395</td>\n",
       "      <td>8</td>\n",
       "    </tr>\n",
       "  </tbody>\n",
       "</table>\n",
       "</div>"
      ],
      "text/plain": [
       "   id Sex  Length  Diameter  Height     Weight  Shucked Weight  \\\n",
       "0   0   I  1.5250    1.1750  0.3750  28.973189       12.728926   \n",
       "1   1   I  1.1000    0.8250  0.2750  10.418441        4.521745   \n",
       "2   2   M  1.3875    1.1125  0.3750  24.777463       11.339800   \n",
       "3   3   F  1.7000    1.4125  0.5000  50.660556       20.354941   \n",
       "4   4   I  1.2500    1.0125  0.3375  23.289114       11.977664   \n",
       "\n",
       "   Viscera Weight  Shell Weight  Age  \n",
       "0        6.647958      8.348928    9  \n",
       "1        2.324659      3.401940    8  \n",
       "2        5.556502      6.662133    9  \n",
       "3       10.991839     14.996885   11  \n",
       "4        4.507570      5.953395    8  "
      ]
     },
     "execution_count": 5,
     "metadata": {},
     "output_type": "execute_result"
    }
   ],
   "source": [
    "crab_train.head()"
   ]
  },
  {
   "cell_type": "code",
   "execution_count": 6,
   "id": "09cdbb8b",
   "metadata": {
    "execution": {
     "iopub.execute_input": "2023-05-30T10:56:22.965567Z",
     "iopub.status.busy": "2023-05-30T10:56:22.965186Z",
     "iopub.status.idle": "2023-05-30T10:56:22.972812Z",
     "shell.execute_reply": "2023-05-30T10:56:22.971622Z"
    },
    "papermill": {
     "duration": 0.017942,
     "end_time": "2023-05-30T10:56:22.975495",
     "exception": false,
     "start_time": "2023-05-30T10:56:22.957553",
     "status": "completed"
    },
    "tags": []
   },
   "outputs": [
    {
     "data": {
      "text/plain": [
       "Index(['id', 'Sex', 'Length', 'Diameter', 'Height', 'Weight', 'Shucked Weight',\n",
       "       'Viscera Weight', 'Shell Weight', 'Age'],\n",
       "      dtype='object')"
      ]
     },
     "execution_count": 6,
     "metadata": {},
     "output_type": "execute_result"
    }
   ],
   "source": [
    "crab_train.columns"
   ]
  },
  {
   "cell_type": "code",
   "execution_count": 7,
   "id": "09ffea6e",
   "metadata": {
    "execution": {
     "iopub.execute_input": "2023-05-30T10:56:22.992016Z",
     "iopub.status.busy": "2023-05-30T10:56:22.991555Z",
     "iopub.status.idle": "2023-05-30T10:56:23.007879Z",
     "shell.execute_reply": "2023-05-30T10:56:23.006845Z"
    },
    "papermill": {
     "duration": 0.028219,
     "end_time": "2023-05-30T10:56:23.010344",
     "exception": false,
     "start_time": "2023-05-30T10:56:22.982125",
     "status": "completed"
    },
    "tags": []
   },
   "outputs": [],
   "source": [
    "X_train = crab_train[['id', 'Length', 'Diameter', 'Height', 'Weight', 'Shucked Weight','Viscera Weight', 'Shell Weight']]\n",
    "X_test = crab_test[['id', 'Length', 'Diameter', 'Height', 'Weight', 'Shucked Weight','Viscera Weight', 'Shell Weight']]\n",
    "y_train = crab_train.Age"
   ]
  },
  {
   "cell_type": "code",
   "execution_count": 8,
   "id": "16e9489f",
   "metadata": {
    "execution": {
     "iopub.execute_input": "2023-05-30T10:56:23.025280Z",
     "iopub.status.busy": "2023-05-30T10:56:23.024877Z",
     "iopub.status.idle": "2023-05-30T10:57:15.338471Z",
     "shell.execute_reply": "2023-05-30T10:57:15.337145Z"
    },
    "papermill": {
     "duration": 52.326201,
     "end_time": "2023-05-30T10:57:15.343047",
     "exception": false,
     "start_time": "2023-05-30T10:56:23.016846",
     "status": "completed"
    },
    "tags": []
   },
   "outputs": [],
   "source": [
    "from sklearn.ensemble import RandomForestRegressor\n",
    "from sklearn.linear_model import SGDRegressor\n",
    "from sklearn.linear_model import BayesianRidge\n",
    "\n",
    "rfmodel = RandomForestRegressor()\n",
    "brmodel = BayesianRidge()\n",
    "\n",
    "rfmodel.fit(X_train,y_train)\n",
    "brmodel.fit(X_train,y_train)\n",
    "\n",
    "rfpred = rfmodel.predict(X_test)\n",
    "rounded_rfpred = (np.rint(rfpred)).astype(int)\n",
    "brpred = brmodel.predict(X_test)\n",
    "rounded_brpred = (np.rint(brpred)).astype(int)"
   ]
  },
  {
   "cell_type": "code",
   "execution_count": 9,
   "id": "e18df0be",
   "metadata": {
    "execution": {
     "iopub.execute_input": "2023-05-30T10:57:15.403870Z",
     "iopub.status.busy": "2023-05-30T10:57:15.401993Z",
     "iopub.status.idle": "2023-05-30T10:57:15.416887Z",
     "shell.execute_reply": "2023-05-30T10:57:15.415673Z"
    },
    "papermill": {
     "duration": 0.059067,
     "end_time": "2023-05-30T10:57:15.427503",
     "exception": false,
     "start_time": "2023-05-30T10:57:15.368436",
     "status": "completed"
    },
    "tags": []
   },
   "outputs": [
    {
     "data": {
      "text/plain": [
       "Index(['id', 'Sex', 'Length', 'Diameter', 'Height', 'Weight', 'Shucked Weight',\n",
       "       'Viscera Weight', 'Shell Weight', 'Age'],\n",
       "      dtype='object')"
      ]
     },
     "execution_count": 9,
     "metadata": {},
     "output_type": "execute_result"
    }
   ],
   "source": [
    "crab_test['Age'] = rounded_rfpred\n",
    "crab_test.columns"
   ]
  },
  {
   "cell_type": "code",
   "execution_count": 10,
   "id": "737c89d1",
   "metadata": {
    "execution": {
     "iopub.execute_input": "2023-05-30T10:57:15.470992Z",
     "iopub.status.busy": "2023-05-30T10:57:15.470489Z",
     "iopub.status.idle": "2023-05-30T10:57:15.478185Z",
     "shell.execute_reply": "2023-05-30T10:57:15.476773Z"
    },
    "papermill": {
     "duration": 0.021116,
     "end_time": "2023-05-30T10:57:15.482397",
     "exception": false,
     "start_time": "2023-05-30T10:57:15.461281",
     "status": "completed"
    },
    "tags": []
   },
   "outputs": [],
   "source": [
    "crab_test.drop(['Sex', 'Length', 'Diameter', 'Height', 'Weight', 'Shucked Weight',\n",
    "       'Viscera Weight', 'Shell Weight'],axis = 1,inplace = True)"
   ]
  },
  {
   "cell_type": "code",
   "execution_count": 11,
   "id": "17b1ebe0",
   "metadata": {
    "execution": {
     "iopub.execute_input": "2023-05-30T10:57:15.502987Z",
     "iopub.status.busy": "2023-05-30T10:57:15.502561Z",
     "iopub.status.idle": "2023-05-30T10:57:15.513516Z",
     "shell.execute_reply": "2023-05-30T10:57:15.512168Z"
    },
    "papermill": {
     "duration": 0.024285,
     "end_time": "2023-05-30T10:57:15.516106",
     "exception": false,
     "start_time": "2023-05-30T10:57:15.491821",
     "status": "completed"
    },
    "tags": []
   },
   "outputs": [
    {
     "data": {
      "text/html": [
       "<div>\n",
       "<style scoped>\n",
       "    .dataframe tbody tr th:only-of-type {\n",
       "        vertical-align: middle;\n",
       "    }\n",
       "\n",
       "    .dataframe tbody tr th {\n",
       "        vertical-align: top;\n",
       "    }\n",
       "\n",
       "    .dataframe thead th {\n",
       "        text-align: right;\n",
       "    }\n",
       "</style>\n",
       "<table border=\"1\" class=\"dataframe\">\n",
       "  <thead>\n",
       "    <tr style=\"text-align: right;\">\n",
       "      <th></th>\n",
       "      <th>id</th>\n",
       "      <th>Age</th>\n",
       "    </tr>\n",
       "  </thead>\n",
       "  <tbody>\n",
       "    <tr>\n",
       "      <th>0</th>\n",
       "      <td>74051</td>\n",
       "      <td>12</td>\n",
       "    </tr>\n",
       "    <tr>\n",
       "      <th>1</th>\n",
       "      <td>74052</td>\n",
       "      <td>8</td>\n",
       "    </tr>\n",
       "    <tr>\n",
       "      <th>2</th>\n",
       "      <td>74053</td>\n",
       "      <td>11</td>\n",
       "    </tr>\n",
       "    <tr>\n",
       "      <th>3</th>\n",
       "      <td>74054</td>\n",
       "      <td>11</td>\n",
       "    </tr>\n",
       "    <tr>\n",
       "      <th>4</th>\n",
       "      <td>74055</td>\n",
       "      <td>8</td>\n",
       "    </tr>\n",
       "  </tbody>\n",
       "</table>\n",
       "</div>"
      ],
      "text/plain": [
       "      id  Age\n",
       "0  74051   12\n",
       "1  74052    8\n",
       "2  74053   11\n",
       "3  74054   11\n",
       "4  74055    8"
      ]
     },
     "execution_count": 11,
     "metadata": {},
     "output_type": "execute_result"
    }
   ],
   "source": [
    "crab_test.head()"
   ]
  },
  {
   "cell_type": "code",
   "execution_count": 12,
   "id": "4dae87e7",
   "metadata": {
    "execution": {
     "iopub.execute_input": "2023-05-30T10:57:15.531745Z",
     "iopub.status.busy": "2023-05-30T10:57:15.531298Z",
     "iopub.status.idle": "2023-05-30T10:57:15.655523Z",
     "shell.execute_reply": "2023-05-30T10:57:15.654217Z"
    },
    "papermill": {
     "duration": 0.13512,
     "end_time": "2023-05-30T10:57:15.658373",
     "exception": false,
     "start_time": "2023-05-30T10:57:15.523253",
     "status": "completed"
    },
    "tags": []
   },
   "outputs": [],
   "source": [
    "crab_test.to_csv('submissionrf.csv',header=True,index=False)"
   ]
  },
  {
   "cell_type": "code",
   "execution_count": 13,
   "id": "6cddd7f3",
   "metadata": {
    "execution": {
     "iopub.execute_input": "2023-05-30T10:57:15.674401Z",
     "iopub.status.busy": "2023-05-30T10:57:15.673985Z",
     "iopub.status.idle": "2023-05-30T10:57:15.679678Z",
     "shell.execute_reply": "2023-05-30T10:57:15.678520Z"
    },
    "papermill": {
     "duration": 0.016754,
     "end_time": "2023-05-30T10:57:15.682089",
     "exception": false,
     "start_time": "2023-05-30T10:57:15.665335",
     "status": "completed"
    },
    "tags": []
   },
   "outputs": [],
   "source": [
    "crab_test['Age'] = rounded_brpred"
   ]
  },
  {
   "cell_type": "code",
   "execution_count": 14,
   "id": "f9acc366",
   "metadata": {
    "execution": {
     "iopub.execute_input": "2023-05-30T10:57:15.698880Z",
     "iopub.status.busy": "2023-05-30T10:57:15.698442Z",
     "iopub.status.idle": "2023-05-30T10:57:15.707393Z",
     "shell.execute_reply": "2023-05-30T10:57:15.706504Z"
    },
    "papermill": {
     "duration": 0.020289,
     "end_time": "2023-05-30T10:57:15.709954",
     "exception": false,
     "start_time": "2023-05-30T10:57:15.689665",
     "status": "completed"
    },
    "tags": []
   },
   "outputs": [
    {
     "data": {
      "text/html": [
       "<div>\n",
       "<style scoped>\n",
       "    .dataframe tbody tr th:only-of-type {\n",
       "        vertical-align: middle;\n",
       "    }\n",
       "\n",
       "    .dataframe tbody tr th {\n",
       "        vertical-align: top;\n",
       "    }\n",
       "\n",
       "    .dataframe thead th {\n",
       "        text-align: right;\n",
       "    }\n",
       "</style>\n",
       "<table border=\"1\" class=\"dataframe\">\n",
       "  <thead>\n",
       "    <tr style=\"text-align: right;\">\n",
       "      <th></th>\n",
       "      <th>id</th>\n",
       "      <th>Age</th>\n",
       "    </tr>\n",
       "  </thead>\n",
       "  <tbody>\n",
       "    <tr>\n",
       "      <th>0</th>\n",
       "      <td>74051</td>\n",
       "      <td>8</td>\n",
       "    </tr>\n",
       "    <tr>\n",
       "      <th>1</th>\n",
       "      <td>74052</td>\n",
       "      <td>8</td>\n",
       "    </tr>\n",
       "    <tr>\n",
       "      <th>2</th>\n",
       "      <td>74053</td>\n",
       "      <td>10</td>\n",
       "    </tr>\n",
       "    <tr>\n",
       "      <th>3</th>\n",
       "      <td>74054</td>\n",
       "      <td>9</td>\n",
       "    </tr>\n",
       "    <tr>\n",
       "      <th>4</th>\n",
       "      <td>74055</td>\n",
       "      <td>8</td>\n",
       "    </tr>\n",
       "  </tbody>\n",
       "</table>\n",
       "</div>"
      ],
      "text/plain": [
       "      id  Age\n",
       "0  74051    8\n",
       "1  74052    8\n",
       "2  74053   10\n",
       "3  74054    9\n",
       "4  74055    8"
      ]
     },
     "execution_count": 14,
     "metadata": {},
     "output_type": "execute_result"
    }
   ],
   "source": [
    "crab_test.head()"
   ]
  },
  {
   "cell_type": "code",
   "execution_count": 15,
   "id": "842c92e0",
   "metadata": {
    "execution": {
     "iopub.execute_input": "2023-05-30T10:57:15.727524Z",
     "iopub.status.busy": "2023-05-30T10:57:15.726306Z",
     "iopub.status.idle": "2023-05-30T10:57:15.846249Z",
     "shell.execute_reply": "2023-05-30T10:57:15.845005Z"
    },
    "papermill": {
     "duration": 0.132015,
     "end_time": "2023-05-30T10:57:15.849092",
     "exception": false,
     "start_time": "2023-05-30T10:57:15.717077",
     "status": "completed"
    },
    "tags": []
   },
   "outputs": [],
   "source": [
    "crab_test.to_csv('submissionbr.csv',header=True,index=False)"
   ]
  }
 ],
 "metadata": {
  "kernelspec": {
   "display_name": "Python 3",
   "language": "python",
   "name": "python3"
  },
  "language_info": {
   "codemirror_mode": {
    "name": "ipython",
    "version": 3
   },
   "file_extension": ".py",
   "mimetype": "text/x-python",
   "name": "python",
   "nbconvert_exporter": "python",
   "pygments_lexer": "ipython3",
   "version": "3.10.10"
  },
  "papermill": {
   "default_parameters": {},
   "duration": 67.919243,
   "end_time": "2023-05-30T10:57:16.881018",
   "environment_variables": {},
   "exception": null,
   "input_path": "__notebook__.ipynb",
   "output_path": "__notebook__.ipynb",
   "parameters": {},
   "start_time": "2023-05-30T10:56:08.961775",
   "version": "2.4.0"
  }
 },
 "nbformat": 4,
 "nbformat_minor": 5
}
