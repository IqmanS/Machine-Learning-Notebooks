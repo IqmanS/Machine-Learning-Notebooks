{
 "cells": [
  {
   "cell_type": "code",
   "execution_count": 1,
   "id": "f1311722",
   "metadata": {
    "_cell_guid": "b1076dfc-b9ad-4769-8c92-a6c4dae69d19",
    "_uuid": "8f2839f25d086af736a60e9eeb907d3b93b6e0e5",
    "execution": {
     "iopub.execute_input": "2023-05-30T11:08:58.746416Z",
     "iopub.status.busy": "2023-05-30T11:08:58.745970Z",
     "iopub.status.idle": "2023-05-30T11:08:58.762032Z",
     "shell.execute_reply": "2023-05-30T11:08:58.760616Z"
    },
    "papermill": {
     "duration": 0.027838,
     "end_time": "2023-05-30T11:08:58.765156",
     "exception": false,
     "start_time": "2023-05-30T11:08:58.737318",
     "status": "completed"
    },
    "tags": []
   },
   "outputs": [
    {
     "name": "stdout",
     "output_type": "stream",
     "text": [
      "/kaggle/input/playground-series-s3e16/sample_submission.csv\n",
      "/kaggle/input/playground-series-s3e16/train.csv\n",
      "/kaggle/input/playground-series-s3e16/test.csv\n"
     ]
    }
   ],
   "source": [
    "# This Python 3 environment comes with many helpful analytics libraries installed\n",
    "# It is defined by the kaggle/python Docker image: https://github.com/kaggle/docker-python\n",
    "# For example, here's several helpful packages to load\n",
    "\n",
    "import numpy as np # linear algebra\n",
    "import pandas as pd # data processing, CSV file I/O (e.g. pd.read_csv)\n",
    "\n",
    "# Input data files are available in the read-only \"../input/\" directory\n",
    "# For example, running this (by clicking run or pressing Shift+Enter) will list all files under the input directory\n",
    "\n",
    "import os\n",
    "for dirname, _, filenames in os.walk('/kaggle/input'):\n",
    "    for filename in filenames:\n",
    "        print(os.path.join(dirname, filename))\n",
    "\n",
    "# You can write up to 20GB to the current directory (/kaggle/working/) that gets preserved as output when you create a version using \"Save & Run All\" \n",
    "# You can also write temporary files to /kaggle/temp/, but they won't be saved outside of the current session"
   ]
  },
  {
   "cell_type": "code",
   "execution_count": 2,
   "id": "0bb2b96e",
   "metadata": {
    "execution": {
     "iopub.execute_input": "2023-05-30T11:08:58.780047Z",
     "iopub.status.busy": "2023-05-30T11:08:58.779598Z",
     "iopub.status.idle": "2023-05-30T11:08:59.105279Z",
     "shell.execute_reply": "2023-05-30T11:08:59.104051Z"
    },
    "papermill": {
     "duration": 0.336293,
     "end_time": "2023-05-30T11:08:59.108228",
     "exception": false,
     "start_time": "2023-05-30T11:08:58.771935",
     "status": "completed"
    },
    "tags": []
   },
   "outputs": [],
   "source": [
    "crab_train = pd.read_csv('../input/playground-series-s3e16/train.csv')\n",
    "crab_test = pd.read_csv('../input/playground-series-s3e16/test.csv')"
   ]
  },
  {
   "cell_type": "code",
   "execution_count": 3,
   "id": "c29dd8a9",
   "metadata": {
    "execution": {
     "iopub.execute_input": "2023-05-30T11:08:59.123896Z",
     "iopub.status.busy": "2023-05-30T11:08:59.122784Z",
     "iopub.status.idle": "2023-05-30T11:08:59.181759Z",
     "shell.execute_reply": "2023-05-30T11:08:59.180628Z"
    },
    "papermill": {
     "duration": 0.069884,
     "end_time": "2023-05-30T11:08:59.184561",
     "exception": false,
     "start_time": "2023-05-30T11:08:59.114677",
     "status": "completed"
    },
    "tags": []
   },
   "outputs": [
    {
     "name": "stdout",
     "output_type": "stream",
     "text": [
      "<class 'pandas.core.frame.DataFrame'>\n",
      "RangeIndex: 74051 entries, 0 to 74050\n",
      "Data columns (total 10 columns):\n",
      " #   Column          Non-Null Count  Dtype  \n",
      "---  ------          --------------  -----  \n",
      " 0   id              74051 non-null  int64  \n",
      " 1   Sex             74051 non-null  object \n",
      " 2   Length          74051 non-null  float64\n",
      " 3   Diameter        74051 non-null  float64\n",
      " 4   Height          74051 non-null  float64\n",
      " 5   Weight          74051 non-null  float64\n",
      " 6   Shucked Weight  74051 non-null  float64\n",
      " 7   Viscera Weight  74051 non-null  float64\n",
      " 8   Shell Weight    74051 non-null  float64\n",
      " 9   Age             74051 non-null  int64  \n",
      "dtypes: float64(7), int64(2), object(1)\n",
      "memory usage: 5.6+ MB\n"
     ]
    }
   ],
   "source": [
    "crab_train.info()"
   ]
  },
  {
   "cell_type": "code",
   "execution_count": 4,
   "id": "e8b075e4",
   "metadata": {
    "execution": {
     "iopub.execute_input": "2023-05-30T11:08:59.199867Z",
     "iopub.status.busy": "2023-05-30T11:08:59.199182Z",
     "iopub.status.idle": "2023-05-30T11:08:59.228483Z",
     "shell.execute_reply": "2023-05-30T11:08:59.227146Z"
    },
    "papermill": {
     "duration": 0.039942,
     "end_time": "2023-05-30T11:08:59.230930",
     "exception": false,
     "start_time": "2023-05-30T11:08:59.190988",
     "status": "completed"
    },
    "tags": []
   },
   "outputs": [
    {
     "name": "stdout",
     "output_type": "stream",
     "text": [
      "<class 'pandas.core.frame.DataFrame'>\n",
      "RangeIndex: 49368 entries, 0 to 49367\n",
      "Data columns (total 9 columns):\n",
      " #   Column          Non-Null Count  Dtype  \n",
      "---  ------          --------------  -----  \n",
      " 0   id              49368 non-null  int64  \n",
      " 1   Sex             49368 non-null  object \n",
      " 2   Length          49368 non-null  float64\n",
      " 3   Diameter        49368 non-null  float64\n",
      " 4   Height          49368 non-null  float64\n",
      " 5   Weight          49368 non-null  float64\n",
      " 6   Shucked Weight  49368 non-null  float64\n",
      " 7   Viscera Weight  49368 non-null  float64\n",
      " 8   Shell Weight    49368 non-null  float64\n",
      "dtypes: float64(7), int64(1), object(1)\n",
      "memory usage: 3.4+ MB\n"
     ]
    }
   ],
   "source": [
    "crab_test.info()"
   ]
  },
  {
   "cell_type": "code",
   "execution_count": 5,
   "id": "183a4e84",
   "metadata": {
    "execution": {
     "iopub.execute_input": "2023-05-30T11:08:59.246014Z",
     "iopub.status.busy": "2023-05-30T11:08:59.245401Z",
     "iopub.status.idle": "2023-05-30T11:08:59.253460Z",
     "shell.execute_reply": "2023-05-30T11:08:59.252332Z"
    },
    "papermill": {
     "duration": 0.018488,
     "end_time": "2023-05-30T11:08:59.255983",
     "exception": false,
     "start_time": "2023-05-30T11:08:59.237495",
     "status": "completed"
    },
    "tags": []
   },
   "outputs": [
    {
     "data": {
      "text/plain": [
       "Index(['id', 'Sex', 'Length', 'Diameter', 'Height', 'Weight', 'Shucked Weight',\n",
       "       'Viscera Weight', 'Shell Weight', 'Age'],\n",
       "      dtype='object')"
      ]
     },
     "execution_count": 5,
     "metadata": {},
     "output_type": "execute_result"
    }
   ],
   "source": [
    "crab_train.columns"
   ]
  },
  {
   "cell_type": "code",
   "execution_count": 6,
   "id": "938b15de",
   "metadata": {
    "execution": {
     "iopub.execute_input": "2023-05-30T11:08:59.271755Z",
     "iopub.status.busy": "2023-05-30T11:08:59.271022Z",
     "iopub.status.idle": "2023-05-30T11:08:59.306299Z",
     "shell.execute_reply": "2023-05-30T11:08:59.305048Z"
    },
    "papermill": {
     "duration": 0.046444,
     "end_time": "2023-05-30T11:08:59.309123",
     "exception": false,
     "start_time": "2023-05-30T11:08:59.262679",
     "status": "completed"
    },
    "tags": []
   },
   "outputs": [],
   "source": [
    "dummy = []\n",
    "cols = ['Sex']\n",
    "for i in cols:\n",
    "    dummy.append(pd.get_dummies(crab_train[i]))\n",
    "crab_dummy = pd.concat(dummy, axis=1)\n",
    "crab_train = pd.concat((crab_train,crab_dummy), axis=1)\n",
    "\n",
    "dummy = []\n",
    "for i in cols:\n",
    "    dummy.append(pd.get_dummies(crab_test[i]))\n",
    "crab_dummy = pd.concat(dummy, axis=1)\n",
    "crab_test = pd.concat((crab_test,crab_dummy), axis=1)"
   ]
  },
  {
   "cell_type": "code",
   "execution_count": 7,
   "id": "ed48b20d",
   "metadata": {
    "execution": {
     "iopub.execute_input": "2023-05-30T11:08:59.326263Z",
     "iopub.status.busy": "2023-05-30T11:08:59.325808Z",
     "iopub.status.idle": "2023-05-30T11:08:59.341425Z",
     "shell.execute_reply": "2023-05-30T11:08:59.340194Z"
    },
    "papermill": {
     "duration": 0.026654,
     "end_time": "2023-05-30T11:08:59.344098",
     "exception": false,
     "start_time": "2023-05-30T11:08:59.317444",
     "status": "completed"
    },
    "tags": []
   },
   "outputs": [],
   "source": [
    "crab_train.drop(cols,axis=1,inplace=True)\n",
    "crab_test.drop(cols,axis=1,inplace=True)"
   ]
  },
  {
   "cell_type": "code",
   "execution_count": 8,
   "id": "df68d6ce",
   "metadata": {
    "execution": {
     "iopub.execute_input": "2023-05-30T11:08:59.360118Z",
     "iopub.status.busy": "2023-05-30T11:08:59.359721Z",
     "iopub.status.idle": "2023-05-30T11:08:59.367404Z",
     "shell.execute_reply": "2023-05-30T11:08:59.366232Z"
    },
    "papermill": {
     "duration": 0.018897,
     "end_time": "2023-05-30T11:08:59.370204",
     "exception": false,
     "start_time": "2023-05-30T11:08:59.351307",
     "status": "completed"
    },
    "tags": []
   },
   "outputs": [
    {
     "data": {
      "text/plain": [
       "Index(['id', 'Length', 'Diameter', 'Height', 'Weight', 'Shucked Weight',\n",
       "       'Viscera Weight', 'Shell Weight', 'F', 'I', 'M'],\n",
       "      dtype='object')"
      ]
     },
     "execution_count": 8,
     "metadata": {},
     "output_type": "execute_result"
    }
   ],
   "source": [
    "crab_test.columns"
   ]
  },
  {
   "cell_type": "code",
   "execution_count": 9,
   "id": "be276eb9",
   "metadata": {
    "execution": {
     "iopub.execute_input": "2023-05-30T11:08:59.386503Z",
     "iopub.status.busy": "2023-05-30T11:08:59.386069Z",
     "iopub.status.idle": "2023-05-30T11:08:59.399706Z",
     "shell.execute_reply": "2023-05-30T11:08:59.398534Z"
    },
    "papermill": {
     "duration": 0.025017,
     "end_time": "2023-05-30T11:08:59.402389",
     "exception": false,
     "start_time": "2023-05-30T11:08:59.377372",
     "status": "completed"
    },
    "tags": []
   },
   "outputs": [],
   "source": [
    "X_train = crab_train[['id', 'Length', 'Diameter', 'Height', 'Weight', 'Shucked Weight',\n",
    "       'Viscera Weight', 'Shell Weight', 'F', 'I', 'M']]\n",
    "X_test = crab_test[['id', 'Length', 'Diameter', 'Height', 'Weight', 'Shucked Weight',\n",
    "       'Viscera Weight', 'Shell Weight', 'F', 'I', 'M']]\n",
    "y_train = crab_train.Age"
   ]
  },
  {
   "cell_type": "code",
   "execution_count": 10,
   "id": "da3fb575",
   "metadata": {
    "execution": {
     "iopub.execute_input": "2023-05-30T11:08:59.419035Z",
     "iopub.status.busy": "2023-05-30T11:08:59.418662Z",
     "iopub.status.idle": "2023-05-30T11:09:55.320937Z",
     "shell.execute_reply": "2023-05-30T11:09:55.319070Z"
    },
    "papermill": {
     "duration": 55.916114,
     "end_time": "2023-05-30T11:09:55.325787",
     "exception": false,
     "start_time": "2023-05-30T11:08:59.409673",
     "status": "completed"
    },
    "tags": []
   },
   "outputs": [],
   "source": [
    "from sklearn.ensemble import RandomForestRegressor\n",
    "from sklearn.linear_model import SGDRegressor\n",
    "from sklearn.linear_model import BayesianRidge\n",
    "\n",
    "rfmodel = RandomForestRegressor()\n",
    "brmodel = BayesianRidge()\n",
    "\n",
    "rfmodel.fit(X_train,y_train)\n",
    "brmodel.fit(X_train,y_train)\n",
    "\n",
    "rfpred = rfmodel.predict(X_test)\n",
    "rounded_rfpred = (np.rint(rfpred)).astype(int)\n",
    "brpred = brmodel.predict(X_test)\n",
    "rounded_brpred = (np.rint(brpred)).astype(int)"
   ]
  },
  {
   "cell_type": "code",
   "execution_count": 11,
   "id": "ba4ed2b2",
   "metadata": {
    "execution": {
     "iopub.execute_input": "2023-05-30T11:09:55.357404Z",
     "iopub.status.busy": "2023-05-30T11:09:55.356664Z",
     "iopub.status.idle": "2023-05-30T11:09:55.368377Z",
     "shell.execute_reply": "2023-05-30T11:09:55.367077Z"
    },
    "papermill": {
     "duration": 0.031381,
     "end_time": "2023-05-30T11:09:55.372157",
     "exception": false,
     "start_time": "2023-05-30T11:09:55.340776",
     "status": "completed"
    },
    "tags": []
   },
   "outputs": [
    {
     "data": {
      "text/plain": [
       "Index(['id', 'Length', 'Diameter', 'Height', 'Weight', 'Shucked Weight',\n",
       "       'Viscera Weight', 'Shell Weight', 'F', 'I', 'M', 'Age'],\n",
       "      dtype='object')"
      ]
     },
     "execution_count": 11,
     "metadata": {},
     "output_type": "execute_result"
    }
   ],
   "source": [
    "crab_test['Age'] = rounded_rfpred\n",
    "crab_test.columns"
   ]
  },
  {
   "cell_type": "code",
   "execution_count": 12,
   "id": "e7220c2a",
   "metadata": {
    "execution": {
     "iopub.execute_input": "2023-05-30T11:09:55.402911Z",
     "iopub.status.busy": "2023-05-30T11:09:55.402265Z",
     "iopub.status.idle": "2023-05-30T11:09:55.413970Z",
     "shell.execute_reply": "2023-05-30T11:09:55.412570Z"
    },
    "papermill": {
     "duration": 0.032814,
     "end_time": "2023-05-30T11:09:55.419048",
     "exception": false,
     "start_time": "2023-05-30T11:09:55.386234",
     "status": "completed"
    },
    "tags": []
   },
   "outputs": [],
   "source": [
    "crab_test.drop(['F', 'I', 'M', 'Length', 'Diameter', 'Height', 'Weight', 'Shucked Weight',\n",
    "       'Viscera Weight', 'Shell Weight'],axis = 1,inplace = True)"
   ]
  },
  {
   "cell_type": "code",
   "execution_count": 13,
   "id": "9a01df51",
   "metadata": {
    "execution": {
     "iopub.execute_input": "2023-05-30T11:09:55.445956Z",
     "iopub.status.busy": "2023-05-30T11:09:55.445553Z",
     "iopub.status.idle": "2023-05-30T11:09:55.468964Z",
     "shell.execute_reply": "2023-05-30T11:09:55.467419Z"
    },
    "papermill": {
     "duration": 0.036525,
     "end_time": "2023-05-30T11:09:55.471525",
     "exception": false,
     "start_time": "2023-05-30T11:09:55.435000",
     "status": "completed"
    },
    "tags": []
   },
   "outputs": [
    {
     "data": {
      "text/html": [
       "<div>\n",
       "<style scoped>\n",
       "    .dataframe tbody tr th:only-of-type {\n",
       "        vertical-align: middle;\n",
       "    }\n",
       "\n",
       "    .dataframe tbody tr th {\n",
       "        vertical-align: top;\n",
       "    }\n",
       "\n",
       "    .dataframe thead th {\n",
       "        text-align: right;\n",
       "    }\n",
       "</style>\n",
       "<table border=\"1\" class=\"dataframe\">\n",
       "  <thead>\n",
       "    <tr style=\"text-align: right;\">\n",
       "      <th></th>\n",
       "      <th>id</th>\n",
       "      <th>Age</th>\n",
       "    </tr>\n",
       "  </thead>\n",
       "  <tbody>\n",
       "    <tr>\n",
       "      <th>0</th>\n",
       "      <td>74051</td>\n",
       "      <td>12</td>\n",
       "    </tr>\n",
       "    <tr>\n",
       "      <th>1</th>\n",
       "      <td>74052</td>\n",
       "      <td>8</td>\n",
       "    </tr>\n",
       "    <tr>\n",
       "      <th>2</th>\n",
       "      <td>74053</td>\n",
       "      <td>12</td>\n",
       "    </tr>\n",
       "    <tr>\n",
       "      <th>3</th>\n",
       "      <td>74054</td>\n",
       "      <td>10</td>\n",
       "    </tr>\n",
       "    <tr>\n",
       "      <th>4</th>\n",
       "      <td>74055</td>\n",
       "      <td>8</td>\n",
       "    </tr>\n",
       "  </tbody>\n",
       "</table>\n",
       "</div>"
      ],
      "text/plain": [
       "      id  Age\n",
       "0  74051   12\n",
       "1  74052    8\n",
       "2  74053   12\n",
       "3  74054   10\n",
       "4  74055    8"
      ]
     },
     "execution_count": 13,
     "metadata": {},
     "output_type": "execute_result"
    }
   ],
   "source": [
    "crab_test.head()"
   ]
  },
  {
   "cell_type": "code",
   "execution_count": 14,
   "id": "2523b823",
   "metadata": {
    "execution": {
     "iopub.execute_input": "2023-05-30T11:09:55.488518Z",
     "iopub.status.busy": "2023-05-30T11:09:55.487727Z",
     "iopub.status.idle": "2023-05-30T11:09:55.611573Z",
     "shell.execute_reply": "2023-05-30T11:09:55.610223Z"
    },
    "papermill": {
     "duration": 0.135663,
     "end_time": "2023-05-30T11:09:55.614478",
     "exception": false,
     "start_time": "2023-05-30T11:09:55.478815",
     "status": "completed"
    },
    "tags": []
   },
   "outputs": [],
   "source": [
    "crab_test.to_csv('submissionrf.csv',header=True,index=False)"
   ]
  },
  {
   "cell_type": "code",
   "execution_count": 15,
   "id": "208d262c",
   "metadata": {
    "execution": {
     "iopub.execute_input": "2023-05-30T11:09:55.630753Z",
     "iopub.status.busy": "2023-05-30T11:09:55.630366Z",
     "iopub.status.idle": "2023-05-30T11:09:55.635647Z",
     "shell.execute_reply": "2023-05-30T11:09:55.634406Z"
    },
    "papermill": {
     "duration": 0.016393,
     "end_time": "2023-05-30T11:09:55.638001",
     "exception": false,
     "start_time": "2023-05-30T11:09:55.621608",
     "status": "completed"
    },
    "tags": []
   },
   "outputs": [],
   "source": [
    "crab_test['Age'] = rounded_brpred"
   ]
  },
  {
   "cell_type": "code",
   "execution_count": 16,
   "id": "2989e168",
   "metadata": {
    "execution": {
     "iopub.execute_input": "2023-05-30T11:09:55.654108Z",
     "iopub.status.busy": "2023-05-30T11:09:55.653715Z",
     "iopub.status.idle": "2023-05-30T11:09:55.663277Z",
     "shell.execute_reply": "2023-05-30T11:09:55.662451Z"
    },
    "papermill": {
     "duration": 0.020127,
     "end_time": "2023-05-30T11:09:55.665305",
     "exception": false,
     "start_time": "2023-05-30T11:09:55.645178",
     "status": "completed"
    },
    "tags": []
   },
   "outputs": [
    {
     "data": {
      "text/html": [
       "<div>\n",
       "<style scoped>\n",
       "    .dataframe tbody tr th:only-of-type {\n",
       "        vertical-align: middle;\n",
       "    }\n",
       "\n",
       "    .dataframe tbody tr th {\n",
       "        vertical-align: top;\n",
       "    }\n",
       "\n",
       "    .dataframe thead th {\n",
       "        text-align: right;\n",
       "    }\n",
       "</style>\n",
       "<table border=\"1\" class=\"dataframe\">\n",
       "  <thead>\n",
       "    <tr style=\"text-align: right;\">\n",
       "      <th></th>\n",
       "      <th>id</th>\n",
       "      <th>Age</th>\n",
       "    </tr>\n",
       "  </thead>\n",
       "  <tbody>\n",
       "    <tr>\n",
       "      <th>0</th>\n",
       "      <td>74051</td>\n",
       "      <td>8</td>\n",
       "    </tr>\n",
       "    <tr>\n",
       "      <th>1</th>\n",
       "      <td>74052</td>\n",
       "      <td>8</td>\n",
       "    </tr>\n",
       "    <tr>\n",
       "      <th>2</th>\n",
       "      <td>74053</td>\n",
       "      <td>10</td>\n",
       "    </tr>\n",
       "    <tr>\n",
       "      <th>3</th>\n",
       "      <td>74054</td>\n",
       "      <td>10</td>\n",
       "    </tr>\n",
       "    <tr>\n",
       "      <th>4</th>\n",
       "      <td>74055</td>\n",
       "      <td>8</td>\n",
       "    </tr>\n",
       "  </tbody>\n",
       "</table>\n",
       "</div>"
      ],
      "text/plain": [
       "      id  Age\n",
       "0  74051    8\n",
       "1  74052    8\n",
       "2  74053   10\n",
       "3  74054   10\n",
       "4  74055    8"
      ]
     },
     "execution_count": 16,
     "metadata": {},
     "output_type": "execute_result"
    }
   ],
   "source": [
    "crab_test.head()"
   ]
  },
  {
   "cell_type": "code",
   "execution_count": 17,
   "id": "3c4cd0a2",
   "metadata": {
    "execution": {
     "iopub.execute_input": "2023-05-30T11:09:55.683451Z",
     "iopub.status.busy": "2023-05-30T11:09:55.682677Z",
     "iopub.status.idle": "2023-05-30T11:09:55.800713Z",
     "shell.execute_reply": "2023-05-30T11:09:55.799517Z"
    },
    "papermill": {
     "duration": 0.12998,
     "end_time": "2023-05-30T11:09:55.803535",
     "exception": false,
     "start_time": "2023-05-30T11:09:55.673555",
     "status": "completed"
    },
    "tags": []
   },
   "outputs": [],
   "source": [
    "crab_test.to_csv('submissionbr.csv',header=True,index=False)"
   ]
  }
 ],
 "metadata": {
  "kernelspec": {
   "display_name": "Python 3",
   "language": "python",
   "name": "python3"
  },
  "language_info": {
   "codemirror_mode": {
    "name": "ipython",
    "version": 3
   },
   "file_extension": ".py",
   "mimetype": "text/x-python",
   "name": "python",
   "nbconvert_exporter": "python",
   "pygments_lexer": "ipython3",
   "version": "3.10.10"
  },
  "papermill": {
   "default_parameters": {},
   "duration": 71.375949,
   "end_time": "2023-05-30T11:09:56.934906",
   "environment_variables": {},
   "exception": null,
   "input_path": "__notebook__.ipynb",
   "output_path": "__notebook__.ipynb",
   "parameters": {},
   "start_time": "2023-05-30T11:08:45.558957",
   "version": "2.4.0"
  }
 },
 "nbformat": 4,
 "nbformat_minor": 5
}
