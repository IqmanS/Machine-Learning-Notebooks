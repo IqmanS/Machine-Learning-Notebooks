{
 "cells": [
  {
   "cell_type": "code",
   "execution_count": 1,
   "id": "95303696",
   "metadata": {
    "_cell_guid": "b1076dfc-b9ad-4769-8c92-a6c4dae69d19",
    "_uuid": "8f2839f25d086af736a60e9eeb907d3b93b6e0e5",
    "execution": {
     "iopub.execute_input": "2023-04-21T17:17:05.579953Z",
     "iopub.status.busy": "2023-04-21T17:17:05.579049Z",
     "iopub.status.idle": "2023-04-21T17:17:05.598227Z",
     "shell.execute_reply": "2023-04-21T17:17:05.596730Z"
    },
    "papermill": {
     "duration": 0.028933,
     "end_time": "2023-04-21T17:17:05.601116",
     "exception": false,
     "start_time": "2023-04-21T17:17:05.572183",
     "status": "completed"
    },
    "tags": []
   },
   "outputs": [
    {
     "name": "stdout",
     "output_type": "stream",
     "text": [
      "/kaggle/input/playground-series-s3e13/sample_submission.csv\n",
      "/kaggle/input/playground-series-s3e13/train.csv\n",
      "/kaggle/input/playground-series-s3e13/test.csv\n"
     ]
    }
   ],
   "source": [
    "# This Python 3 environment comes with many helpful analytics libraries installed\n",
    "# It is defined by the kaggle/python Docker image: https://github.com/kaggle/docker-python\n",
    "# For example, here's several helpful packages to load\n",
    "\n",
    "import numpy as np # linear algebra\n",
    "import pandas as pd # data processing, CSV file I/O (e.g. pd.read_csv)\n",
    "\n",
    "# Input data files are available in the read-only \"../input/\" directory\n",
    "# For example, running this (by clicking run or pressing Shift+Enter) will list all files under the input directory\n",
    "\n",
    "import os\n",
    "for dirname, _, filenames in os.walk('/kaggle/input'):\n",
    "    for filename in filenames:\n",
    "        print(os.path.join(dirname, filename))\n",
    "\n",
    "# You can write up to 20GB to the current directory (/kaggle/working/) that gets preserved as output when you create a version using \"Save & Run All\" \n",
    "# You can also write temporary files to /kaggle/temp/, but they won't be saved outside of the current session"
   ]
  },
  {
   "cell_type": "code",
   "execution_count": 2,
   "id": "e4123ef6",
   "metadata": {
    "execution": {
     "iopub.execute_input": "2023-04-21T17:17:05.611337Z",
     "iopub.status.busy": "2023-04-21T17:17:05.610756Z",
     "iopub.status.idle": "2023-04-21T17:17:05.639566Z",
     "shell.execute_reply": "2023-04-21T17:17:05.638056Z"
    },
    "papermill": {
     "duration": 0.037324,
     "end_time": "2023-04-21T17:17:05.642551",
     "exception": false,
     "start_time": "2023-04-21T17:17:05.605227",
     "status": "completed"
    },
    "tags": []
   },
   "outputs": [],
   "source": [
    "dataset = pd.read_csv('../input/playground-series-s3e13/train.csv')"
   ]
  },
  {
   "cell_type": "code",
   "execution_count": 3,
   "id": "38153d34",
   "metadata": {
    "execution": {
     "iopub.execute_input": "2023-04-21T17:17:05.652849Z",
     "iopub.status.busy": "2023-04-21T17:17:05.652145Z",
     "iopub.status.idle": "2023-04-21T17:17:05.706258Z",
     "shell.execute_reply": "2023-04-21T17:17:05.704792Z"
    },
    "papermill": {
     "duration": 0.062781,
     "end_time": "2023-04-21T17:17:05.709509",
     "exception": false,
     "start_time": "2023-04-21T17:17:05.646728",
     "status": "completed"
    },
    "tags": []
   },
   "outputs": [
    {
     "data": {
      "text/html": [
       "<div>\n",
       "<style scoped>\n",
       "    .dataframe tbody tr th:only-of-type {\n",
       "        vertical-align: middle;\n",
       "    }\n",
       "\n",
       "    .dataframe tbody tr th {\n",
       "        vertical-align: top;\n",
       "    }\n",
       "\n",
       "    .dataframe thead th {\n",
       "        text-align: right;\n",
       "    }\n",
       "</style>\n",
       "<table border=\"1\" class=\"dataframe\">\n",
       "  <thead>\n",
       "    <tr style=\"text-align: right;\">\n",
       "      <th></th>\n",
       "      <th>id</th>\n",
       "      <th>sudden_fever</th>\n",
       "      <th>headache</th>\n",
       "      <th>mouth_bleed</th>\n",
       "      <th>nose_bleed</th>\n",
       "      <th>muscle_pain</th>\n",
       "      <th>joint_pain</th>\n",
       "      <th>vomiting</th>\n",
       "      <th>rash</th>\n",
       "      <th>diarrhea</th>\n",
       "      <th>...</th>\n",
       "      <th>breathing_restriction</th>\n",
       "      <th>toe_inflammation</th>\n",
       "      <th>finger_inflammation</th>\n",
       "      <th>lips_irritation</th>\n",
       "      <th>itchiness</th>\n",
       "      <th>ulcers</th>\n",
       "      <th>toenail_loss</th>\n",
       "      <th>speech_problem</th>\n",
       "      <th>bullseye_rash</th>\n",
       "      <th>prognosis</th>\n",
       "    </tr>\n",
       "  </thead>\n",
       "  <tbody>\n",
       "    <tr>\n",
       "      <th>0</th>\n",
       "      <td>0</td>\n",
       "      <td>1.0</td>\n",
       "      <td>1.0</td>\n",
       "      <td>0.0</td>\n",
       "      <td>1.0</td>\n",
       "      <td>1.0</td>\n",
       "      <td>1.0</td>\n",
       "      <td>1.0</td>\n",
       "      <td>0.0</td>\n",
       "      <td>1.0</td>\n",
       "      <td>...</td>\n",
       "      <td>0.0</td>\n",
       "      <td>0.0</td>\n",
       "      <td>0.0</td>\n",
       "      <td>0.0</td>\n",
       "      <td>0.0</td>\n",
       "      <td>0.0</td>\n",
       "      <td>0.0</td>\n",
       "      <td>0.0</td>\n",
       "      <td>0.0</td>\n",
       "      <td>Lyme_disease</td>\n",
       "    </tr>\n",
       "    <tr>\n",
       "      <th>1</th>\n",
       "      <td>1</td>\n",
       "      <td>0.0</td>\n",
       "      <td>0.0</td>\n",
       "      <td>0.0</td>\n",
       "      <td>0.0</td>\n",
       "      <td>0.0</td>\n",
       "      <td>0.0</td>\n",
       "      <td>1.0</td>\n",
       "      <td>0.0</td>\n",
       "      <td>1.0</td>\n",
       "      <td>...</td>\n",
       "      <td>0.0</td>\n",
       "      <td>0.0</td>\n",
       "      <td>0.0</td>\n",
       "      <td>0.0</td>\n",
       "      <td>0.0</td>\n",
       "      <td>0.0</td>\n",
       "      <td>0.0</td>\n",
       "      <td>0.0</td>\n",
       "      <td>0.0</td>\n",
       "      <td>Tungiasis</td>\n",
       "    </tr>\n",
       "    <tr>\n",
       "      <th>2</th>\n",
       "      <td>2</td>\n",
       "      <td>0.0</td>\n",
       "      <td>1.0</td>\n",
       "      <td>1.0</td>\n",
       "      <td>1.0</td>\n",
       "      <td>0.0</td>\n",
       "      <td>1.0</td>\n",
       "      <td>1.0</td>\n",
       "      <td>1.0</td>\n",
       "      <td>1.0</td>\n",
       "      <td>...</td>\n",
       "      <td>1.0</td>\n",
       "      <td>1.0</td>\n",
       "      <td>1.0</td>\n",
       "      <td>1.0</td>\n",
       "      <td>1.0</td>\n",
       "      <td>0.0</td>\n",
       "      <td>1.0</td>\n",
       "      <td>1.0</td>\n",
       "      <td>1.0</td>\n",
       "      <td>Lyme_disease</td>\n",
       "    </tr>\n",
       "    <tr>\n",
       "      <th>3</th>\n",
       "      <td>3</td>\n",
       "      <td>0.0</td>\n",
       "      <td>0.0</td>\n",
       "      <td>1.0</td>\n",
       "      <td>1.0</td>\n",
       "      <td>1.0</td>\n",
       "      <td>1.0</td>\n",
       "      <td>0.0</td>\n",
       "      <td>1.0</td>\n",
       "      <td>0.0</td>\n",
       "      <td>...</td>\n",
       "      <td>0.0</td>\n",
       "      <td>0.0</td>\n",
       "      <td>0.0</td>\n",
       "      <td>0.0</td>\n",
       "      <td>0.0</td>\n",
       "      <td>0.0</td>\n",
       "      <td>0.0</td>\n",
       "      <td>0.0</td>\n",
       "      <td>0.0</td>\n",
       "      <td>Zika</td>\n",
       "    </tr>\n",
       "    <tr>\n",
       "      <th>4</th>\n",
       "      <td>4</td>\n",
       "      <td>0.0</td>\n",
       "      <td>0.0</td>\n",
       "      <td>0.0</td>\n",
       "      <td>0.0</td>\n",
       "      <td>0.0</td>\n",
       "      <td>0.0</td>\n",
       "      <td>0.0</td>\n",
       "      <td>0.0</td>\n",
       "      <td>1.0</td>\n",
       "      <td>...</td>\n",
       "      <td>0.0</td>\n",
       "      <td>1.0</td>\n",
       "      <td>0.0</td>\n",
       "      <td>0.0</td>\n",
       "      <td>1.0</td>\n",
       "      <td>1.0</td>\n",
       "      <td>1.0</td>\n",
       "      <td>0.0</td>\n",
       "      <td>0.0</td>\n",
       "      <td>Rift_Valley_fever</td>\n",
       "    </tr>\n",
       "  </tbody>\n",
       "</table>\n",
       "<p>5 rows × 66 columns</p>\n",
       "</div>"
      ],
      "text/plain": [
       "   id  sudden_fever  headache  mouth_bleed  nose_bleed  muscle_pain  \\\n",
       "0   0           1.0       1.0          0.0         1.0          1.0   \n",
       "1   1           0.0       0.0          0.0         0.0          0.0   \n",
       "2   2           0.0       1.0          1.0         1.0          0.0   \n",
       "3   3           0.0       0.0          1.0         1.0          1.0   \n",
       "4   4           0.0       0.0          0.0         0.0          0.0   \n",
       "\n",
       "   joint_pain  vomiting  rash  diarrhea  ...  breathing_restriction  \\\n",
       "0         1.0       1.0   0.0       1.0  ...                    0.0   \n",
       "1         0.0       1.0   0.0       1.0  ...                    0.0   \n",
       "2         1.0       1.0   1.0       1.0  ...                    1.0   \n",
       "3         1.0       0.0   1.0       0.0  ...                    0.0   \n",
       "4         0.0       0.0   0.0       1.0  ...                    0.0   \n",
       "\n",
       "   toe_inflammation  finger_inflammation  lips_irritation  itchiness  ulcers  \\\n",
       "0               0.0                  0.0              0.0        0.0     0.0   \n",
       "1               0.0                  0.0              0.0        0.0     0.0   \n",
       "2               1.0                  1.0              1.0        1.0     0.0   \n",
       "3               0.0                  0.0              0.0        0.0     0.0   \n",
       "4               1.0                  0.0              0.0        1.0     1.0   \n",
       "\n",
       "   toenail_loss  speech_problem  bullseye_rash          prognosis  \n",
       "0           0.0             0.0            0.0       Lyme_disease  \n",
       "1           0.0             0.0            0.0          Tungiasis  \n",
       "2           1.0             1.0            1.0       Lyme_disease  \n",
       "3           0.0             0.0            0.0               Zika  \n",
       "4           1.0             0.0            0.0  Rift_Valley_fever  \n",
       "\n",
       "[5 rows x 66 columns]"
      ]
     },
     "execution_count": 3,
     "metadata": {},
     "output_type": "execute_result"
    }
   ],
   "source": [
    "dataset.head()"
   ]
  },
  {
   "cell_type": "code",
   "execution_count": 4,
   "id": "9c21f573",
   "metadata": {
    "execution": {
     "iopub.execute_input": "2023-04-21T17:17:05.719946Z",
     "iopub.status.busy": "2023-04-21T17:17:05.719557Z",
     "iopub.status.idle": "2023-04-21T17:17:05.748148Z",
     "shell.execute_reply": "2023-04-21T17:17:05.747067Z"
    },
    "papermill": {
     "duration": 0.037082,
     "end_time": "2023-04-21T17:17:05.750997",
     "exception": false,
     "start_time": "2023-04-21T17:17:05.713915",
     "status": "completed"
    },
    "tags": []
   },
   "outputs": [
    {
     "name": "stdout",
     "output_type": "stream",
     "text": [
      "<class 'pandas.core.frame.DataFrame'>\n",
      "RangeIndex: 707 entries, 0 to 706\n",
      "Data columns (total 66 columns):\n",
      " #   Column                 Non-Null Count  Dtype  \n",
      "---  ------                 --------------  -----  \n",
      " 0   id                     707 non-null    int64  \n",
      " 1   sudden_fever           707 non-null    float64\n",
      " 2   headache               707 non-null    float64\n",
      " 3   mouth_bleed            707 non-null    float64\n",
      " 4   nose_bleed             707 non-null    float64\n",
      " 5   muscle_pain            707 non-null    float64\n",
      " 6   joint_pain             707 non-null    float64\n",
      " 7   vomiting               707 non-null    float64\n",
      " 8   rash                   707 non-null    float64\n",
      " 9   diarrhea               707 non-null    float64\n",
      " 10  hypotension            707 non-null    float64\n",
      " 11  pleural_effusion       707 non-null    float64\n",
      " 12  ascites                707 non-null    float64\n",
      " 13  gastro_bleeding        707 non-null    float64\n",
      " 14  swelling               707 non-null    float64\n",
      " 15  nausea                 707 non-null    float64\n",
      " 16  chills                 707 non-null    float64\n",
      " 17  myalgia                707 non-null    float64\n",
      " 18  digestion_trouble      707 non-null    float64\n",
      " 19  fatigue                707 non-null    float64\n",
      " 20  skin_lesions           707 non-null    float64\n",
      " 21  stomach_pain           707 non-null    float64\n",
      " 22  orbital_pain           707 non-null    float64\n",
      " 23  neck_pain              707 non-null    float64\n",
      " 24  weakness               707 non-null    float64\n",
      " 25  back_pain              707 non-null    float64\n",
      " 26  weight_loss            707 non-null    float64\n",
      " 27  gum_bleed              707 non-null    float64\n",
      " 28  jaundice               707 non-null    float64\n",
      " 29  coma                   707 non-null    float64\n",
      " 30  diziness               707 non-null    float64\n",
      " 31  inflammation           707 non-null    float64\n",
      " 32  red_eyes               707 non-null    float64\n",
      " 33  loss_of_appetite       707 non-null    float64\n",
      " 34  urination_loss         707 non-null    float64\n",
      " 35  slow_heart_rate        707 non-null    float64\n",
      " 36  abdominal_pain         707 non-null    float64\n",
      " 37  light_sensitivity      707 non-null    float64\n",
      " 38  yellow_skin            707 non-null    float64\n",
      " 39  yellow_eyes            707 non-null    float64\n",
      " 40  facial_distortion      707 non-null    float64\n",
      " 41  microcephaly           707 non-null    float64\n",
      " 42  rigor                  707 non-null    float64\n",
      " 43  bitter_tongue          707 non-null    float64\n",
      " 44  convulsion             707 non-null    float64\n",
      " 45  anemia                 707 non-null    float64\n",
      " 46  cocacola_urine         707 non-null    float64\n",
      " 47  hypoglycemia           707 non-null    float64\n",
      " 48  prostraction           707 non-null    float64\n",
      " 49  hyperpyrexia           707 non-null    float64\n",
      " 50  stiff_neck             707 non-null    float64\n",
      " 51  irritability           707 non-null    float64\n",
      " 52  confusion              707 non-null    float64\n",
      " 53  tremor                 707 non-null    float64\n",
      " 54  paralysis              707 non-null    float64\n",
      " 55  lymph_swells           707 non-null    float64\n",
      " 56  breathing_restriction  707 non-null    float64\n",
      " 57  toe_inflammation       707 non-null    float64\n",
      " 58  finger_inflammation    707 non-null    float64\n",
      " 59  lips_irritation        707 non-null    float64\n",
      " 60  itchiness              707 non-null    float64\n",
      " 61  ulcers                 707 non-null    float64\n",
      " 62  toenail_loss           707 non-null    float64\n",
      " 63  speech_problem         707 non-null    float64\n",
      " 64  bullseye_rash          707 non-null    float64\n",
      " 65  prognosis              707 non-null    object \n",
      "dtypes: float64(64), int64(1), object(1)\n",
      "memory usage: 364.7+ KB\n"
     ]
    }
   ],
   "source": [
    "dataset.info()"
   ]
  },
  {
   "cell_type": "code",
   "execution_count": 5,
   "id": "585e3f7d",
   "metadata": {
    "execution": {
     "iopub.execute_input": "2023-04-21T17:17:05.761634Z",
     "iopub.status.busy": "2023-04-21T17:17:05.761209Z",
     "iopub.status.idle": "2023-04-21T17:17:05.769610Z",
     "shell.execute_reply": "2023-04-21T17:17:05.768283Z"
    },
    "papermill": {
     "duration": 0.016832,
     "end_time": "2023-04-21T17:17:05.772196",
     "exception": false,
     "start_time": "2023-04-21T17:17:05.755364",
     "status": "completed"
    },
    "tags": []
   },
   "outputs": [
    {
     "data": {
      "text/plain": [
       "array(['Lyme_disease', 'Tungiasis', 'Zika', 'Rift_Valley_fever',\n",
       "       'West_Nile_fever', 'Malaria', 'Chikungunya', 'Plague', 'Dengue',\n",
       "       'Yellow_Fever', 'Japanese_encephalitis'], dtype=object)"
      ]
     },
     "execution_count": 5,
     "metadata": {},
     "output_type": "execute_result"
    }
   ],
   "source": [
    "dataset.prognosis.unique()"
   ]
  },
  {
   "cell_type": "code",
   "execution_count": 6,
   "id": "02616c97",
   "metadata": {
    "execution": {
     "iopub.execute_input": "2023-04-21T17:17:05.782948Z",
     "iopub.status.busy": "2023-04-21T17:17:05.782542Z",
     "iopub.status.idle": "2023-04-21T17:17:05.790674Z",
     "shell.execute_reply": "2023-04-21T17:17:05.789419Z"
    },
    "papermill": {
     "duration": 0.016445,
     "end_time": "2023-04-21T17:17:05.793265",
     "exception": false,
     "start_time": "2023-04-21T17:17:05.776820",
     "status": "completed"
    },
    "tags": []
   },
   "outputs": [
    {
     "data": {
      "text/plain": [
       "Index(['id', 'sudden_fever', 'headache', 'mouth_bleed', 'nose_bleed',\n",
       "       'muscle_pain', 'joint_pain', 'vomiting', 'rash', 'diarrhea',\n",
       "       'hypotension', 'pleural_effusion', 'ascites', 'gastro_bleeding',\n",
       "       'swelling', 'nausea', 'chills', 'myalgia', 'digestion_trouble',\n",
       "       'fatigue', 'skin_lesions', 'stomach_pain', 'orbital_pain', 'neck_pain',\n",
       "       'weakness', 'back_pain', 'weight_loss', 'gum_bleed', 'jaundice', 'coma',\n",
       "       'diziness', 'inflammation', 'red_eyes', 'loss_of_appetite',\n",
       "       'urination_loss', 'slow_heart_rate', 'abdominal_pain',\n",
       "       'light_sensitivity', 'yellow_skin', 'yellow_eyes', 'facial_distortion',\n",
       "       'microcephaly', 'rigor', 'bitter_tongue', 'convulsion', 'anemia',\n",
       "       'cocacola_urine', 'hypoglycemia', 'prostraction', 'hyperpyrexia',\n",
       "       'stiff_neck', 'irritability', 'confusion', 'tremor', 'paralysis',\n",
       "       'lymph_swells', 'breathing_restriction', 'toe_inflammation',\n",
       "       'finger_inflammation', 'lips_irritation', 'itchiness', 'ulcers',\n",
       "       'toenail_loss', 'speech_problem', 'bullseye_rash', 'prognosis'],\n",
       "      dtype='object')"
      ]
     },
     "execution_count": 6,
     "metadata": {},
     "output_type": "execute_result"
    }
   ],
   "source": [
    "dataset.columns"
   ]
  },
  {
   "cell_type": "code",
   "execution_count": 7,
   "id": "2b3a0392",
   "metadata": {
    "execution": {
     "iopub.execute_input": "2023-04-21T17:17:05.804728Z",
     "iopub.status.busy": "2023-04-21T17:17:05.803788Z",
     "iopub.status.idle": "2023-04-21T17:17:05.813285Z",
     "shell.execute_reply": "2023-04-21T17:17:05.812046Z"
    },
    "papermill": {
     "duration": 0.017751,
     "end_time": "2023-04-21T17:17:05.815700",
     "exception": false,
     "start_time": "2023-04-21T17:17:05.797949",
     "status": "completed"
    },
    "tags": []
   },
   "outputs": [],
   "source": [
    "y = dataset.prognosis\n",
    "X = dataset[['id', 'sudden_fever', 'headache', 'mouth_bleed', 'nose_bleed',\n",
    "       'muscle_pain', 'joint_pain', 'vomiting', 'rash', 'diarrhea',\n",
    "       'hypotension', 'pleural_effusion', 'ascites', 'gastro_bleeding',\n",
    "       'swelling', 'nausea', 'chills', 'myalgia', 'digestion_trouble',\n",
    "       'fatigue', 'skin_lesions', 'stomach_pain', 'orbital_pain', 'neck_pain',\n",
    "       'weakness', 'back_pain', 'weight_loss', 'gum_bleed', 'jaundice', 'coma',\n",
    "       'diziness', 'inflammation', 'red_eyes', 'loss_of_appetite',\n",
    "       'urination_loss', 'slow_heart_rate', 'abdominal_pain',\n",
    "       'light_sensitivity', 'yellow_skin', 'yellow_eyes', 'facial_distortion',\n",
    "       'microcephaly', 'rigor', 'bitter_tongue', 'convulsion', 'anemia',\n",
    "       'cocacola_urine', 'hypoglycemia', 'prostraction', 'hyperpyrexia',\n",
    "       'stiff_neck', 'irritability', 'confusion', 'tremor', 'paralysis',\n",
    "       'lymph_swells', 'breathing_restriction', 'toe_inflammation',\n",
    "       'finger_inflammation', 'lips_irritation', 'itchiness', 'ulcers',\n",
    "       'toenail_loss', 'speech_problem', 'bullseye_rash']]"
   ]
  },
  {
   "cell_type": "code",
   "execution_count": 8,
   "id": "f45fdb84",
   "metadata": {
    "execution": {
     "iopub.execute_input": "2023-04-21T17:17:05.827023Z",
     "iopub.status.busy": "2023-04-21T17:17:05.826610Z",
     "iopub.status.idle": "2023-04-21T17:17:06.999079Z",
     "shell.execute_reply": "2023-04-21T17:17:06.998001Z"
    },
    "papermill": {
     "duration": 1.181245,
     "end_time": "2023-04-21T17:17:07.001800",
     "exception": false,
     "start_time": "2023-04-21T17:17:05.820555",
     "status": "completed"
    },
    "tags": []
   },
   "outputs": [],
   "source": [
    "from sklearn.model_selection import train_test_split\n",
    "\n",
    "X_train, X_test, y_train, y_test = train_test_split(X, y, test_size=0.25, random_state=2)"
   ]
  },
  {
   "cell_type": "code",
   "execution_count": 9,
   "id": "360a6587",
   "metadata": {
    "execution": {
     "iopub.execute_input": "2023-04-21T17:17:07.013694Z",
     "iopub.status.busy": "2023-04-21T17:17:07.012528Z",
     "iopub.status.idle": "2023-04-21T17:17:07.018336Z",
     "shell.execute_reply": "2023-04-21T17:17:07.017013Z"
    },
    "papermill": {
     "duration": 0.014384,
     "end_time": "2023-04-21T17:17:07.020924",
     "exception": false,
     "start_time": "2023-04-21T17:17:07.006540",
     "status": "completed"
    },
    "tags": []
   },
   "outputs": [],
   "source": [
    "from sklearn.metrics import mean_absolute_error"
   ]
  },
  {
   "cell_type": "code",
   "execution_count": 10,
   "id": "0035b7dd",
   "metadata": {
    "execution": {
     "iopub.execute_input": "2023-04-21T17:17:07.032252Z",
     "iopub.status.busy": "2023-04-21T17:17:07.031852Z",
     "iopub.status.idle": "2023-04-21T17:17:07.669270Z",
     "shell.execute_reply": "2023-04-21T17:17:07.667640Z"
    },
    "papermill": {
     "duration": 0.646389,
     "end_time": "2023-04-21T17:17:07.671979",
     "exception": false,
     "start_time": "2023-04-21T17:17:07.025590",
     "status": "completed"
    },
    "tags": []
   },
   "outputs": [
    {
     "name": "stdout",
     "output_type": "stream",
     "text": [
      "0.23163841807909605\n"
     ]
    }
   ],
   "source": [
    "from sklearn.ensemble import RandomForestClassifier\n",
    "from sklearn.metrics  import accuracy_score\n",
    "\n",
    "rfModel = RandomForestClassifier()\n",
    "rfModel.fit(X_train,y_train)\n",
    "predrf = rfModel.predict(X_test)\n",
    "print(accuracy_score(y_test,predrf))"
   ]
  },
  {
   "cell_type": "code",
   "execution_count": 11,
   "id": "9ecb3a6b",
   "metadata": {
    "execution": {
     "iopub.execute_input": "2023-04-21T17:17:07.683117Z",
     "iopub.status.busy": "2023-04-21T17:17:07.682720Z",
     "iopub.status.idle": "2023-04-21T17:17:07.893492Z",
     "shell.execute_reply": "2023-04-21T17:17:07.891761Z"
    },
    "papermill": {
     "duration": 0.223445,
     "end_time": "2023-04-21T17:17:07.900202",
     "exception": false,
     "start_time": "2023-04-21T17:17:07.676757",
     "status": "completed"
    },
    "tags": []
   },
   "outputs": [
    {
     "name": "stdout",
     "output_type": "stream",
     "text": [
      "0.1977401129943503\n"
     ]
    },
    {
     "name": "stderr",
     "output_type": "stream",
     "text": [
      "/opt/conda/lib/python3.7/site-packages/sklearn/linear_model/_logistic.py:818: ConvergenceWarning: lbfgs failed to converge (status=1):\n",
      "STOP: TOTAL NO. of ITERATIONS REACHED LIMIT.\n",
      "\n",
      "Increase the number of iterations (max_iter) or scale the data as shown in:\n",
      "    https://scikit-learn.org/stable/modules/preprocessing.html\n",
      "Please also refer to the documentation for alternative solver options:\n",
      "    https://scikit-learn.org/stable/modules/linear_model.html#logistic-regression\n",
      "  extra_warning_msg=_LOGISTIC_SOLVER_CONVERGENCE_MSG,\n"
     ]
    }
   ],
   "source": [
    "from sklearn.linear_model import LogisticRegression\n",
    "from sklearn.metrics  import accuracy_score\n",
    "\n",
    "lrModel = LogisticRegression()\n",
    "lrModel.fit(X_train,y_train)\n",
    "predlr = lrModel.predict(X_test)\n",
    "print(accuracy_score(y_test,predlr))"
   ]
  },
  {
   "cell_type": "code",
   "execution_count": 12,
   "id": "91af6836",
   "metadata": {
    "execution": {
     "iopub.execute_input": "2023-04-21T17:17:07.927827Z",
     "iopub.status.busy": "2023-04-21T17:17:07.927084Z",
     "iopub.status.idle": "2023-04-21T17:17:10.229674Z",
     "shell.execute_reply": "2023-04-21T17:17:10.227902Z"
    },
    "papermill": {
     "duration": 2.320019,
     "end_time": "2023-04-21T17:17:10.232277",
     "exception": false,
     "start_time": "2023-04-21T17:17:07.912258",
     "status": "completed"
    },
    "tags": []
   },
   "outputs": [
    {
     "name": "stdout",
     "output_type": "stream",
     "text": [
      "0.22598870056497175\n"
     ]
    }
   ],
   "source": [
    "from sklearn.ensemble import GradientBoostingClassifier\n",
    "from sklearn.metrics  import accuracy_score\n",
    "\n",
    "gbModel = GradientBoostingClassifier()\n",
    "gbModel.fit(X_train,y_train)\n",
    "predgb = gbModel.predict(X_test)\n",
    "print(accuracy_score(y_test,predgb))"
   ]
  }
 ],
 "metadata": {
  "kernelspec": {
   "display_name": "Python 3",
   "language": "python",
   "name": "python3"
  },
  "language_info": {
   "codemirror_mode": {
    "name": "ipython",
    "version": 3
   },
   "file_extension": ".py",
   "mimetype": "text/x-python",
   "name": "python",
   "nbconvert_exporter": "python",
   "pygments_lexer": "ipython3",
   "version": "3.7.12"
  },
  "papermill": {
   "default_parameters": {},
   "duration": 16.290129,
   "end_time": "2023-04-21T17:17:11.061139",
   "environment_variables": {},
   "exception": null,
   "input_path": "__notebook__.ipynb",
   "output_path": "__notebook__.ipynb",
   "parameters": {},
   "start_time": "2023-04-21T17:16:54.771010",
   "version": "2.4.0"
  }
 },
 "nbformat": 4,
 "nbformat_minor": 5
}
