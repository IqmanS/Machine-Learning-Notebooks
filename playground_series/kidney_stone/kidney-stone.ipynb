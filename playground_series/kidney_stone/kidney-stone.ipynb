{
 "cells": [
  {
   "cell_type": "code",
   "execution_count": 1,
   "id": "672546d5",
   "metadata": {
    "_cell_guid": "b1076dfc-b9ad-4769-8c92-a6c4dae69d19",
    "_uuid": "8f2839f25d086af736a60e9eeb907d3b93b6e0e5",
    "execution": {
     "iopub.execute_input": "2023-04-08T17:00:24.021338Z",
     "iopub.status.busy": "2023-04-08T17:00:24.020931Z",
     "iopub.status.idle": "2023-04-08T17:00:24.033838Z",
     "shell.execute_reply": "2023-04-08T17:00:24.032828Z"
    },
    "papermill": {
     "duration": 0.022466,
     "end_time": "2023-04-08T17:00:24.036344",
     "exception": false,
     "start_time": "2023-04-08T17:00:24.013878",
     "status": "completed"
    },
    "tags": []
   },
   "outputs": [
    {
     "name": "stdout",
     "output_type": "stream",
     "text": [
      "/kaggle/input/playground-series-s3e12/sample_submission.csv\n",
      "/kaggle/input/playground-series-s3e12/train.csv\n",
      "/kaggle/input/playground-series-s3e12/test.csv\n"
     ]
    }
   ],
   "source": [
    "# This Python 3 environment comes with many helpful analytics libraries installed\n",
    "# It is defined by the kaggle/python Docker image: https://github.com/kaggle/docker-python\n",
    "# For example, here's several helpful packages to load\n",
    "\n",
    "import numpy as np # linear algebra\n",
    "import pandas as pd # data processing, CSV file I/O (e.g. pd.read_csv)\n",
    "\n",
    "# Input data files are available in the read-only \"../input/\" directory\n",
    "# For example, running this (by clicking run or pressing Shift+Enter) will list all files under the input directory\n",
    "\n",
    "import os\n",
    "for dirname, _, filenames in os.walk('/kaggle/input'):\n",
    "    for filename in filenames:\n",
    "        print(os.path.join(dirname, filename))\n",
    "\n",
    "# You can write up to 20GB to the current directory (/kaggle/working/) that gets preserved as output when you create a version using \"Save & Run All\" \n",
    "# You can also write temporary files to /kaggle/temp/, but they won't be saved outside of the current session"
   ]
  },
  {
   "cell_type": "code",
   "execution_count": 2,
   "id": "f2edf134",
   "metadata": {
    "execution": {
     "iopub.execute_input": "2023-04-08T17:00:24.046166Z",
     "iopub.status.busy": "2023-04-08T17:00:24.045727Z",
     "iopub.status.idle": "2023-04-08T17:00:24.095780Z",
     "shell.execute_reply": "2023-04-08T17:00:24.094030Z"
    },
    "papermill": {
     "duration": 0.057814,
     "end_time": "2023-04-08T17:00:24.098525",
     "exception": false,
     "start_time": "2023-04-08T17:00:24.040711",
     "status": "completed"
    },
    "tags": []
   },
   "outputs": [
    {
     "name": "stdout",
     "output_type": "stream",
     "text": [
      "<class 'pandas.core.frame.DataFrame'>\n",
      "RangeIndex: 414 entries, 0 to 413\n",
      "Data columns (total 8 columns):\n",
      " #   Column   Non-Null Count  Dtype  \n",
      "---  ------   --------------  -----  \n",
      " 0   id       414 non-null    int64  \n",
      " 1   gravity  414 non-null    float64\n",
      " 2   ph       414 non-null    float64\n",
      " 3   osmo     414 non-null    int64  \n",
      " 4   cond     414 non-null    float64\n",
      " 5   urea     414 non-null    int64  \n",
      " 6   calc     414 non-null    float64\n",
      " 7   target   414 non-null    int64  \n",
      "dtypes: float64(4), int64(4)\n",
      "memory usage: 26.0 KB\n",
      "<class 'pandas.core.frame.DataFrame'>\n",
      "RangeIndex: 276 entries, 0 to 275\n",
      "Data columns (total 7 columns):\n",
      " #   Column   Non-Null Count  Dtype  \n",
      "---  ------   --------------  -----  \n",
      " 0   id       276 non-null    int64  \n",
      " 1   gravity  276 non-null    float64\n",
      " 2   ph       276 non-null    float64\n",
      " 3   osmo     276 non-null    int64  \n",
      " 4   cond     276 non-null    float64\n",
      " 5   urea     276 non-null    int64  \n",
      " 6   calc     276 non-null    float64\n",
      "dtypes: float64(4), int64(3)\n",
      "memory usage: 15.2 KB\n",
      "None None\n"
     ]
    }
   ],
   "source": [
    "kidney_train = pd.read_csv(\"../input/playground-series-s3e12/train.csv\")\n",
    "kidney_test = pd.read_csv(\"../input/playground-series-s3e12/test.csv\")\n",
    "print(kidney_train.info(),kidney_test.info())"
   ]
  },
  {
   "cell_type": "code",
   "execution_count": 3,
   "id": "6d511221",
   "metadata": {
    "execution": {
     "iopub.execute_input": "2023-04-08T17:00:24.108584Z",
     "iopub.status.busy": "2023-04-08T17:00:24.107845Z",
     "iopub.status.idle": "2023-04-08T17:00:24.128260Z",
     "shell.execute_reply": "2023-04-08T17:00:24.127059Z"
    },
    "papermill": {
     "duration": 0.028231,
     "end_time": "2023-04-08T17:00:24.130814",
     "exception": false,
     "start_time": "2023-04-08T17:00:24.102583",
     "status": "completed"
    },
    "tags": []
   },
   "outputs": [
    {
     "data": {
      "text/plain": [
       "<bound method NDFrame.head of       id  gravity    ph  osmo  cond  urea  calc  target\n",
       "0      0    1.013  6.19   443  14.8   124  1.45       0\n",
       "1      1    1.025  5.40   703  23.6   394  4.18       0\n",
       "2      2    1.009  6.13   371  24.5   159  9.04       0\n",
       "3      3    1.021  4.91   442  20.8   398  6.63       1\n",
       "4      4    1.021  5.53   874  17.8   385  2.21       1\n",
       "..   ...      ...   ...   ...   ...   ...   ...     ...\n",
       "409  409    1.011  5.21   527  21.4    75  1.53       0\n",
       "410  410    1.024  5.53   577  19.7   224  0.77       0\n",
       "411  411    1.018  6.28   455  22.2   270  7.68       1\n",
       "412  412    1.008  7.12   325  12.6    75  1.03       1\n",
       "413  413    1.011  6.13   364   9.9   159  0.27       0\n",
       "\n",
       "[414 rows x 8 columns]>"
      ]
     },
     "execution_count": 3,
     "metadata": {},
     "output_type": "execute_result"
    }
   ],
   "source": [
    "kidney_train.head"
   ]
  },
  {
   "cell_type": "code",
   "execution_count": 4,
   "id": "7f8030b7",
   "metadata": {
    "execution": {
     "iopub.execute_input": "2023-04-08T17:00:24.141097Z",
     "iopub.status.busy": "2023-04-08T17:00:24.140672Z",
     "iopub.status.idle": "2023-04-08T17:00:24.147577Z",
     "shell.execute_reply": "2023-04-08T17:00:24.146467Z"
    },
    "papermill": {
     "duration": 0.015108,
     "end_time": "2023-04-08T17:00:24.149989",
     "exception": false,
     "start_time": "2023-04-08T17:00:24.134881",
     "status": "completed"
    },
    "tags": []
   },
   "outputs": [
    {
     "data": {
      "text/plain": [
       "Index(['id', 'gravity', 'ph', 'osmo', 'cond', 'urea', 'calc', 'target'], dtype='object')"
      ]
     },
     "execution_count": 4,
     "metadata": {},
     "output_type": "execute_result"
    }
   ],
   "source": [
    "kidney_train.columns"
   ]
  },
  {
   "cell_type": "code",
   "execution_count": 5,
   "id": "2336622e",
   "metadata": {
    "execution": {
     "iopub.execute_input": "2023-04-08T17:00:24.159706Z",
     "iopub.status.busy": "2023-04-08T17:00:24.159302Z",
     "iopub.status.idle": "2023-04-08T17:00:24.164345Z",
     "shell.execute_reply": "2023-04-08T17:00:24.163241Z"
    },
    "papermill": {
     "duration": 0.01247,
     "end_time": "2023-04-08T17:00:24.166540",
     "exception": false,
     "start_time": "2023-04-08T17:00:24.154070",
     "status": "completed"
    },
    "tags": []
   },
   "outputs": [],
   "source": [
    "# from sklearn.model_selection import train_test_split\n",
    "# X_train,X_test,y_train,y_test = train_test_split(X,y,random_state = True,test_size = 0.3)"
   ]
  },
  {
   "cell_type": "code",
   "execution_count": 6,
   "id": "01caaa3b",
   "metadata": {
    "execution": {
     "iopub.execute_input": "2023-04-08T17:00:24.176422Z",
     "iopub.status.busy": "2023-04-08T17:00:24.176021Z",
     "iopub.status.idle": "2023-04-08T17:00:24.184198Z",
     "shell.execute_reply": "2023-04-08T17:00:24.182854Z"
    },
    "papermill": {
     "duration": 0.016035,
     "end_time": "2023-04-08T17:00:24.186701",
     "exception": false,
     "start_time": "2023-04-08T17:00:24.170666",
     "status": "completed"
    },
    "tags": []
   },
   "outputs": [],
   "source": [
    "X_train = kidney_train[['id', 'gravity', 'ph', 'osmo', 'cond', 'urea', 'calc']]\n",
    "X_test = kidney_test[['id', 'gravity', 'ph', 'osmo', 'cond', 'urea', 'calc']]\n",
    "y_train = kidney_train.target"
   ]
  },
  {
   "cell_type": "code",
   "execution_count": 7,
   "id": "56df4f7d",
   "metadata": {
    "execution": {
     "iopub.execute_input": "2023-04-08T17:00:24.196925Z",
     "iopub.status.busy": "2023-04-08T17:00:24.196505Z",
     "iopub.status.idle": "2023-04-08T17:00:25.821609Z",
     "shell.execute_reply": "2023-04-08T17:00:25.820343Z"
    },
    "papermill": {
     "duration": 1.633856,
     "end_time": "2023-04-08T17:00:25.824822",
     "exception": false,
     "start_time": "2023-04-08T17:00:24.190966",
     "status": "completed"
    },
    "tags": []
   },
   "outputs": [],
   "source": [
    "from sklearn.ensemble import RandomForestClassifier\n",
    "\n",
    "model = RandomForestClassifier(max_depth = 53)\n",
    "\n",
    "model.fit(X_train,y_train)\n",
    "pred = model.predict(X_test)"
   ]
  },
  {
   "cell_type": "code",
   "execution_count": 8,
   "id": "4fc9b88b",
   "metadata": {
    "execution": {
     "iopub.execute_input": "2023-04-08T17:00:25.836005Z",
     "iopub.status.busy": "2023-04-08T17:00:25.835539Z",
     "iopub.status.idle": "2023-04-08T17:00:25.841941Z",
     "shell.execute_reply": "2023-04-08T17:00:25.840856Z"
    },
    "papermill": {
     "duration": 0.015392,
     "end_time": "2023-04-08T17:00:25.844674",
     "exception": false,
     "start_time": "2023-04-08T17:00:25.829282",
     "status": "completed"
    },
    "tags": []
   },
   "outputs": [
    {
     "name": "stdout",
     "output_type": "stream",
     "text": [
      "[0 1 1 1 1 1 1 1 0 0 0 0 1 0 0 0 1 0 0 0 0 0 0 1 1 0 0 0 0 1 1 1 1 1 1 0 1\n",
      " 0 0 1 1 1 1 1 1 0 1 0 1 0 1 1 1 0 1 0 1 0 1 1 1 0 0 0 0 1 0 1 0 0 0 1 0 0\n",
      " 1 0 0 0 0 1 0 0 0 0 1 0 0 0 0 1 1 1 0 0 0 1 0 0 0 1 0 1 0 0 1 1 0 1 1 1 0\n",
      " 0 1 0 0 0 1 0 0 1 0 0 0 0 0 0 1 1 1 0 1 0 0 0 0 1 0 1 0 0 0 0 0 1 1 0 0 1\n",
      " 1 0 1 1 0 0 1 1 1 1 0 1 0 0 1 0 1 0 1 0 1 0 0 0 1 1 0 0 1 0 1 0 1 1 0 0 0\n",
      " 0 0 0 1 0 0 1 1 1 1 0 1 0 1 1 0 1 0 0 0 0 1 1 0 1 0 1 1 0 0 0 0 1 0 0 1 1\n",
      " 1 1 0 0 0 0 1 0 0 0 1 1 1 0 0 0 1 1 0 0 1 0 0 0 1 1 1 1 1 0 1 0 0 1 1 1 1\n",
      " 0 0 0 0 1 0 0 1 1 0 0 1 1 0 1 0 1]\n"
     ]
    }
   ],
   "source": [
    "print(pred)"
   ]
  },
  {
   "cell_type": "code",
   "execution_count": 9,
   "id": "d44a368f",
   "metadata": {
    "execution": {
     "iopub.execute_input": "2023-04-08T17:00:25.854980Z",
     "iopub.status.busy": "2023-04-08T17:00:25.854306Z",
     "iopub.status.idle": "2023-04-08T17:00:25.863057Z",
     "shell.execute_reply": "2023-04-08T17:00:25.861917Z"
    },
    "papermill": {
     "duration": 0.01676,
     "end_time": "2023-04-08T17:00:25.865552",
     "exception": false,
     "start_time": "2023-04-08T17:00:25.848792",
     "status": "completed"
    },
    "tags": []
   },
   "outputs": [
    {
     "data": {
      "text/plain": [
       "Index(['id', 'gravity', 'ph', 'osmo', 'cond', 'urea', 'calc', 'target'], dtype='object')"
      ]
     },
     "execution_count": 9,
     "metadata": {},
     "output_type": "execute_result"
    }
   ],
   "source": [
    "kidney_test['target'] = pred\n",
    "kidney_test.columns"
   ]
  },
  {
   "cell_type": "code",
   "execution_count": 10,
   "id": "9f22bc93",
   "metadata": {
    "execution": {
     "iopub.execute_input": "2023-04-08T17:00:25.876482Z",
     "iopub.status.busy": "2023-04-08T17:00:25.875366Z",
     "iopub.status.idle": "2023-04-08T17:00:25.881691Z",
     "shell.execute_reply": "2023-04-08T17:00:25.880838Z"
    },
    "papermill": {
     "duration": 0.014218,
     "end_time": "2023-04-08T17:00:25.884165",
     "exception": false,
     "start_time": "2023-04-08T17:00:25.869947",
     "status": "completed"
    },
    "tags": []
   },
   "outputs": [],
   "source": [
    "kidney_test.drop(['gravity', 'ph', 'osmo', 'cond', 'urea', 'calc'],axis = 1,inplace = True)"
   ]
  },
  {
   "cell_type": "code",
   "execution_count": 11,
   "id": "2febf726",
   "metadata": {
    "execution": {
     "iopub.execute_input": "2023-04-08T17:00:25.894679Z",
     "iopub.status.busy": "2023-04-08T17:00:25.893910Z",
     "iopub.status.idle": "2023-04-08T17:00:25.904373Z",
     "shell.execute_reply": "2023-04-08T17:00:25.903405Z"
    },
    "papermill": {
     "duration": 0.01832,
     "end_time": "2023-04-08T17:00:25.906846",
     "exception": false,
     "start_time": "2023-04-08T17:00:25.888526",
     "status": "completed"
    },
    "tags": []
   },
   "outputs": [],
   "source": [
    "kidney_test.to_csv('submission.csv',header=True,index=False)"
   ]
  },
  {
   "cell_type": "code",
   "execution_count": 12,
   "id": "4ab7ef18",
   "metadata": {
    "execution": {
     "iopub.execute_input": "2023-04-08T17:00:25.917877Z",
     "iopub.status.busy": "2023-04-08T17:00:25.916747Z",
     "iopub.status.idle": "2023-04-08T17:00:25.921471Z",
     "shell.execute_reply": "2023-04-08T17:00:25.920380Z"
    },
    "papermill": {
     "duration": 0.012638,
     "end_time": "2023-04-08T17:00:25.923873",
     "exception": false,
     "start_time": "2023-04-08T17:00:25.911235",
     "status": "completed"
    },
    "tags": []
   },
   "outputs": [],
   "source": [
    "# accuracy_score(y_test,pred)"
   ]
  }
 ],
 "metadata": {
  "kernelspec": {
   "display_name": "Python 3",
   "language": "python",
   "name": "python3"
  },
  "language_info": {
   "codemirror_mode": {
    "name": "ipython",
    "version": 3
   },
   "file_extension": ".py",
   "mimetype": "text/x-python",
   "name": "python",
   "nbconvert_exporter": "python",
   "pygments_lexer": "ipython3",
   "version": "3.7.12"
  },
  "papermill": {
   "default_parameters": {},
   "duration": 12.717644,
   "end_time": "2023-04-08T17:00:26.650209",
   "environment_variables": {},
   "exception": null,
   "input_path": "__notebook__.ipynb",
   "output_path": "__notebook__.ipynb",
   "parameters": {},
   "start_time": "2023-04-08T17:00:13.932565",
   "version": "2.4.0"
  }
 },
 "nbformat": 4,
 "nbformat_minor": 5
}
