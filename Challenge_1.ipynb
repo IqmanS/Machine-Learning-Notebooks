{
  "nbformat": 4,
  "nbformat_minor": 0,
  "metadata": {
    "colab": {
      "provenance": [],
      "authorship_tag": "ABX9TyM5U0ZbHyvveLXXcVWn7dxH",
      "include_colab_link": true
    },
    "kernelspec": {
      "name": "python3",
      "display_name": "Python 3"
    },
    "language_info": {
      "name": "python"
    }
  },
  "cells": [
    {
      "cell_type": "markdown",
      "metadata": {
        "id": "view-in-github",
        "colab_type": "text"
      },
      "source": [
        "<a href=\"https://colab.research.google.com/github/IqmanS/machine_learning_notebooks/blob/main/Challenge_1.ipynb\" target=\"_parent\"><img src=\"https://colab.research.google.com/assets/colab-badge.svg\" alt=\"Open In Colab\"/></a>"
      ]
    },
    {
      "cell_type": "markdown",
      "source": [
        "#Challenge Question\n",
        "----\n",
        "Write a python program to sort the list of heterogeneous data.<br>\n",
        "L = [\"Ram\", 1, \"Shyam\", 2, \"Aman\", 3]<br>\n",
        "print(L)<br>\n",
        "L.sort()<br>\n",
        "print(L)<br><br>\n",
        "Above code gives error. Correct it."
      ],
      "metadata": {
        "id": "mV1NmBEzCJSj"
      }
    },
    {
      "cell_type": "code",
      "execution_count": 26,
      "metadata": {
        "colab": {
          "base_uri": "https://localhost:8080/"
        },
        "id": "pH7TmDDwCCnP",
        "outputId": "8467fc66-da86-474b-e0d4-02522139987d"
      },
      "outputs": [
        {
          "output_type": "execute_result",
          "data": {
            "text/plain": [
              "['Ram', 1, 'Shyam', 2, 'Aman', 3]"
            ]
          },
          "metadata": {},
          "execution_count": 26
        }
      ],
      "source": [
        "L = [\"Ram\",1,\"Shyam\",2,\"Aman\",3]\n",
        "L"
      ]
    },
    {
      "cell_type": "code",
      "source": [
        "L = [str(i) for i in L]"
      ],
      "metadata": {
        "id": "obuYCsE1CdrD"
      },
      "execution_count": 27,
      "outputs": []
    },
    {
      "cell_type": "code",
      "source": [
        "L.sort()\n",
        "L"
      ],
      "metadata": {
        "colab": {
          "base_uri": "https://localhost:8080/"
        },
        "id": "MqfAGNgHCdp-",
        "outputId": "4f70b9c3-552f-42d0-f2a0-4f3414d99d64"
      },
      "execution_count": 30,
      "outputs": [
        {
          "output_type": "execute_result",
          "data": {
            "text/plain": [
              "['1', '2', '3', 'Aman', 'Ram', 'Shyam']"
            ]
          },
          "metadata": {},
          "execution_count": 30
        }
      ]
    },
    {
      "cell_type": "code",
      "source": [
        "newL = []\n",
        "for i in L:\n",
        "  newL.extend([int(i) if i.isdigit() else i])\n",
        "L =newL\n",
        "del newL"
      ],
      "metadata": {
        "id": "_NRLEPjQC2wW"
      },
      "execution_count": 32,
      "outputs": []
    },
    {
      "cell_type": "code",
      "source": [
        "L #sorted"
      ],
      "metadata": {
        "colab": {
          "base_uri": "https://localhost:8080/"
        },
        "id": "cTuQMLaqDD0P",
        "outputId": "7aee271e-61f4-4d56-b736-d66ff2edc776"
      },
      "execution_count": 33,
      "outputs": [
        {
          "output_type": "execute_result",
          "data": {
            "text/plain": [
              "[1, 2, 3, 'Aman', 'Ram', 'Shyam']"
            ]
          },
          "metadata": {},
          "execution_count": 33
        }
      ]
    }
  ]
}