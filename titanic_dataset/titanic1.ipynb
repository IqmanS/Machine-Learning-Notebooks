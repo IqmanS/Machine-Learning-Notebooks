{
 "cells": [
  {
   "cell_type": "code",
   "execution_count": 1,
   "id": "06856940",
   "metadata": {
    "_cell_guid": "b1076dfc-b9ad-4769-8c92-a6c4dae69d19",
    "_uuid": "8f2839f25d086af736a60e9eeb907d3b93b6e0e5",
    "execution": {
     "iopub.execute_input": "2023-03-28T09:13:06.144528Z",
     "iopub.status.busy": "2023-03-28T09:13:06.143964Z",
     "iopub.status.idle": "2023-03-28T09:13:07.621267Z",
     "shell.execute_reply": "2023-03-28T09:13:07.620026Z"
    },
    "papermill": {
     "duration": 1.489007,
     "end_time": "2023-03-28T09:13:07.625167",
     "exception": false,
     "start_time": "2023-03-28T09:13:06.136160",
     "status": "completed"
    },
    "tags": []
   },
   "outputs": [
    {
     "name": "stdout",
     "output_type": "stream",
     "text": [
      "/kaggle/input/titanic/train.csv\n",
      "/kaggle/input/titanic/test.csv\n",
      "/kaggle/input/titanic/gender_submission.csv\n"
     ]
    }
   ],
   "source": [
    "# This Python 3 environment comes with many helpful analytics libraries installed\n",
    "# It is defined by the kaggle/python Docker image: https://github.com/kaggle/docker-python\n",
    "# For example, here's several helpful packages to load\n",
    "\n",
    "import numpy as np # linear algebra\n",
    "import pandas as pd # data processing, CSV file I/O (e.g. pd.read_csv)\n",
    "pd.options.mode.chained_assignment = None  # default='warn'\n",
    "from sklearn.ensemble import RandomForestClassifier\n",
    "from sklearn.tree import DecisionTreeClassifier\n",
    "from sklearn.metrics import mean_absolute_error\n",
    "from sklearn.model_selection import train_test_split\n",
    "\n",
    "# Input data files are available in the read-only \"../input/\" directory\n",
    "# For example, running this (by clicking run or pressing Shift+Enter) will list all files under the input directory\n",
    "\n",
    "import os\n",
    "for dirname, _, filenames in os.walk('/kaggle/input'):\n",
    "    for filename in filenames:\n",
    "        print(os.path.join(dirname, filename))\n",
    "\n",
    "# You can write up to 20GB to the current directory (/kaggle/working/) that gets preserved as output when you create a version using \"Save & Run All\" \n",
    "# You can also write temporary files to /kaggle/temp/, but they won't be saved outside of the current session"
   ]
  },
  {
   "cell_type": "code",
   "execution_count": 2,
   "id": "6aba5991",
   "metadata": {
    "execution": {
     "iopub.execute_input": "2023-03-28T09:13:07.637168Z",
     "iopub.status.busy": "2023-03-28T09:13:07.635934Z",
     "iopub.status.idle": "2023-03-28T09:13:07.660520Z",
     "shell.execute_reply": "2023-03-28T09:13:07.659132Z"
    },
    "papermill": {
     "duration": 0.033956,
     "end_time": "2023-03-28T09:13:07.664240",
     "exception": false,
     "start_time": "2023-03-28T09:13:07.630284",
     "status": "completed"
    },
    "tags": []
   },
   "outputs": [
    {
     "name": "stdout",
     "output_type": "stream",
     "text": [
      "Index(['PassengerId', 'Survived', 'Pclass', 'Name', 'Sex', 'Age', 'SibSp',\n",
      "       'Parch', 'Ticket', 'Fare', 'Cabin', 'Embarked'],\n",
      "      dtype='object')\n"
     ]
    }
   ],
   "source": [
    "titanic_file_path = '/kaggle/input/titanic/train.csv'\n",
    "titanic_data = pd.read_csv(titanic_file_path)\n",
    "print(titanic_data.columns)"
   ]
  },
  {
   "cell_type": "code",
   "execution_count": 3,
   "id": "977df5b7",
   "metadata": {
    "execution": {
     "iopub.execute_input": "2023-03-28T09:13:07.675407Z",
     "iopub.status.busy": "2023-03-28T09:13:07.674967Z",
     "iopub.status.idle": "2023-03-28T09:13:07.688656Z",
     "shell.execute_reply": "2023-03-28T09:13:07.687376Z"
    },
    "papermill": {
     "duration": 0.022503,
     "end_time": "2023-03-28T09:13:07.691488",
     "exception": false,
     "start_time": "2023-03-28T09:13:07.668985",
     "status": "completed"
    },
    "tags": []
   },
   "outputs": [],
   "source": [
    "titanic_data = titanic_data.drop(['Cabin'],axis = 1)"
   ]
  },
  {
   "cell_type": "code",
   "execution_count": 4,
   "id": "a49203cf",
   "metadata": {
    "execution": {
     "iopub.execute_input": "2023-03-28T09:13:07.702370Z",
     "iopub.status.busy": "2023-03-28T09:13:07.701547Z",
     "iopub.status.idle": "2023-03-28T09:13:07.726121Z",
     "shell.execute_reply": "2023-03-28T09:13:07.724390Z"
    },
    "papermill": {
     "duration": 0.033125,
     "end_time": "2023-03-28T09:13:07.728980",
     "exception": false,
     "start_time": "2023-03-28T09:13:07.695855",
     "status": "completed"
    },
    "tags": []
   },
   "outputs": [
    {
     "name": "stdout",
     "output_type": "stream",
     "text": [
      "<class 'pandas.core.frame.DataFrame'>\n",
      "RangeIndex: 891 entries, 0 to 890\n",
      "Data columns (total 11 columns):\n",
      " #   Column       Non-Null Count  Dtype  \n",
      "---  ------       --------------  -----  \n",
      " 0   PassengerId  891 non-null    int64  \n",
      " 1   Survived     891 non-null    int64  \n",
      " 2   Pclass       891 non-null    int64  \n",
      " 3   Name         891 non-null    object \n",
      " 4   Sex          891 non-null    object \n",
      " 5   Age          714 non-null    float64\n",
      " 6   SibSp        891 non-null    int64  \n",
      " 7   Parch        891 non-null    int64  \n",
      " 8   Ticket       891 non-null    object \n",
      " 9   Fare         891 non-null    float64\n",
      " 10  Embarked     889 non-null    object \n",
      "dtypes: float64(2), int64(5), object(4)\n",
      "memory usage: 76.7+ KB\n"
     ]
    }
   ],
   "source": [
    "titanic_data.info()\n",
    "# total = 891\n",
    "# age = 714 (177 missing)\n",
    "# cabin = missing\n",
    "# embarked = 2 missing "
   ]
  },
  {
   "cell_type": "code",
   "execution_count": 5,
   "id": "282759db",
   "metadata": {
    "execution": {
     "iopub.execute_input": "2023-03-28T09:13:07.740444Z",
     "iopub.status.busy": "2023-03-28T09:13:07.739486Z",
     "iopub.status.idle": "2023-03-28T09:13:07.757507Z",
     "shell.execute_reply": "2023-03-28T09:13:07.756340Z"
    },
    "papermill": {
     "duration": 0.026486,
     "end_time": "2023-03-28T09:13:07.759968",
     "exception": false,
     "start_time": "2023-03-28T09:13:07.733482",
     "status": "completed"
    },
    "tags": []
   },
   "outputs": [
    {
     "name": "stdout",
     "output_type": "stream",
     "text": [
      "<class 'pandas.core.frame.DataFrame'>\n",
      "Int64Index: 889 entries, 0 to 890\n",
      "Data columns (total 11 columns):\n",
      " #   Column       Non-Null Count  Dtype  \n",
      "---  ------       --------------  -----  \n",
      " 0   PassengerId  889 non-null    int64  \n",
      " 1   Survived     889 non-null    int64  \n",
      " 2   Pclass       889 non-null    int64  \n",
      " 3   Name         889 non-null    object \n",
      " 4   Sex          889 non-null    object \n",
      " 5   Age          889 non-null    float64\n",
      " 6   SibSp        889 non-null    int64  \n",
      " 7   Parch        889 non-null    int64  \n",
      " 8   Ticket       889 non-null    object \n",
      " 9   Fare         889 non-null    float64\n",
      " 10  Embarked     889 non-null    object \n",
      "dtypes: float64(2), int64(5), object(4)\n",
      "memory usage: 83.3+ KB\n"
     ]
    }
   ],
   "source": [
    "titanic_data['Age'] = titanic_data['Age'].interpolate()\n",
    "titanic_data = titanic_data.dropna()\n",
    "titanic_data.info()"
   ]
  },
  {
   "cell_type": "code",
   "execution_count": 6,
   "id": "c150058f",
   "metadata": {
    "execution": {
     "iopub.execute_input": "2023-03-28T09:13:07.770681Z",
     "iopub.status.busy": "2023-03-28T09:13:07.770268Z",
     "iopub.status.idle": "2023-03-28T09:13:07.783370Z",
     "shell.execute_reply": "2023-03-28T09:13:07.782098Z"
    },
    "papermill": {
     "duration": 0.021662,
     "end_time": "2023-03-28T09:13:07.786034",
     "exception": false,
     "start_time": "2023-03-28T09:13:07.764372",
     "status": "completed"
    },
    "tags": []
   },
   "outputs": [],
   "source": [
    "dummy = []\n",
    "cols = ['Pclass', 'Sex', 'Embarked']\n",
    "for i in cols:\n",
    "    dummy.append(pd.get_dummies(titanic_data[i]))\n",
    "\n",
    "titanic_dummy = pd.concat(dummy, axis=1)\n",
    "titanic_data = pd.concat((titanic_data,titanic_dummy), axis=1)"
   ]
  },
  {
   "cell_type": "code",
   "execution_count": 7,
   "id": "e009d745",
   "metadata": {
    "execution": {
     "iopub.execute_input": "2023-03-28T09:13:07.796878Z",
     "iopub.status.busy": "2023-03-28T09:13:07.796484Z",
     "iopub.status.idle": "2023-03-28T09:13:07.804819Z",
     "shell.execute_reply": "2023-03-28T09:13:07.803476Z"
    },
    "papermill": {
     "duration": 0.016871,
     "end_time": "2023-03-28T09:13:07.807512",
     "exception": false,
     "start_time": "2023-03-28T09:13:07.790641",
     "status": "completed"
    },
    "tags": []
   },
   "outputs": [],
   "source": [
    "titanic_data = titanic_data.drop(cols,axis = 1)"
   ]
  },
  {
   "cell_type": "code",
   "execution_count": 8,
   "id": "e9d1d0d8",
   "metadata": {
    "execution": {
     "iopub.execute_input": "2023-03-28T09:13:07.818880Z",
     "iopub.status.busy": "2023-03-28T09:13:07.818425Z",
     "iopub.status.idle": "2023-03-28T09:13:07.827815Z",
     "shell.execute_reply": "2023-03-28T09:13:07.826397Z"
    },
    "papermill": {
     "duration": 0.018008,
     "end_time": "2023-03-28T09:13:07.830331",
     "exception": false,
     "start_time": "2023-03-28T09:13:07.812323",
     "status": "completed"
    },
    "tags": []
   },
   "outputs": [
    {
     "data": {
      "text/plain": [
       "Index(['PassengerId',    'Survived',        'Name',         'Age',\n",
       "             'SibSp',       'Parch',      'Ticket',        'Fare',\n",
       "                   1,             2,             3,      'female',\n",
       "              'male',           'C',           'Q',           'S'],\n",
       "      dtype='object')"
      ]
     },
     "execution_count": 8,
     "metadata": {},
     "output_type": "execute_result"
    }
   ],
   "source": [
    "titanic_data.columns"
   ]
  },
  {
   "cell_type": "code",
   "execution_count": 9,
   "id": "d3569e92",
   "metadata": {
    "execution": {
     "iopub.execute_input": "2023-03-28T09:13:07.841686Z",
     "iopub.status.busy": "2023-03-28T09:13:07.841257Z",
     "iopub.status.idle": "2023-03-28T09:13:07.860345Z",
     "shell.execute_reply": "2023-03-28T09:13:07.858866Z"
    },
    "papermill": {
     "duration": 0.028463,
     "end_time": "2023-03-28T09:13:07.863748",
     "exception": false,
     "start_time": "2023-03-28T09:13:07.835285",
     "status": "completed"
    },
    "tags": []
   },
   "outputs": [
    {
     "name": "stdout",
     "output_type": "stream",
     "text": [
      "<bound method NDFrame.head of      PassengerId   Age  SibSp  Parch     Fare  1  2  3  female  male  C  Q  S\n",
      "0              1  22.0      1      0   7.2500  0  0  1       0     1  0  0  1\n",
      "1              2  38.0      1      0  71.2833  1  0  0       1     0  1  0  0\n",
      "2              3  26.0      0      0   7.9250  0  0  1       1     0  0  0  1\n",
      "3              4  35.0      1      0  53.1000  1  0  0       1     0  0  0  1\n",
      "4              5  35.0      0      0   8.0500  0  0  1       0     1  0  0  1\n",
      "..           ...   ...    ...    ...      ... .. .. ..     ...   ... .. .. ..\n",
      "886          887  27.0      0      0  13.0000  0  1  0       0     1  0  0  1\n",
      "887          888  19.0      0      0  30.0000  1  0  0       1     0  0  0  1\n",
      "888          889  22.5      1      2  23.4500  0  0  1       1     0  0  0  1\n",
      "889          890  26.0      0      0  30.0000  1  0  0       0     1  1  0  0\n",
      "890          891  32.0      0      0   7.7500  0  0  1       0     1  0  1  0\n",
      "\n",
      "[889 rows x 13 columns]>\n"
     ]
    }
   ],
   "source": [
    "y = titanic_data.Survived\n",
    "X = titanic_data[['PassengerId','Age','SibSp','Parch','Fare',1,2,3,'female','male','C','Q','S']]\n",
    "# X = titanic_data[[ 'Age', 'SibSp','Parch', 'Fare']]\n",
    "print(X.head)"
   ]
  },
  {
   "cell_type": "code",
   "execution_count": 10,
   "id": "5b3f72e7",
   "metadata": {
    "execution": {
     "iopub.execute_input": "2023-03-28T09:13:07.876039Z",
     "iopub.status.busy": "2023-03-28T09:13:07.875643Z",
     "iopub.status.idle": "2023-03-28T09:13:07.891355Z",
     "shell.execute_reply": "2023-03-28T09:13:07.889756Z"
    },
    "papermill": {
     "duration": 0.02516,
     "end_time": "2023-03-28T09:13:07.894333",
     "exception": false,
     "start_time": "2023-03-28T09:13:07.869173",
     "status": "completed"
    },
    "tags": []
   },
   "outputs": [
    {
     "name": "stdout",
     "output_type": "stream",
     "text": [
      "<class 'pandas.core.frame.DataFrame'>\n",
      "Int64Index: 889 entries, 0 to 890\n",
      "Data columns (total 13 columns):\n",
      " #   Column       Non-Null Count  Dtype  \n",
      "---  ------       --------------  -----  \n",
      " 0   PassengerId  889 non-null    int64  \n",
      " 1   Age          889 non-null    float64\n",
      " 2   SibSp        889 non-null    int64  \n",
      " 3   Parch        889 non-null    int64  \n",
      " 4   Fare         889 non-null    float64\n",
      " 5   1            889 non-null    uint8  \n",
      " 6   2            889 non-null    uint8  \n",
      " 7   3            889 non-null    uint8  \n",
      " 8   female       889 non-null    uint8  \n",
      " 9   male         889 non-null    uint8  \n",
      " 10  C            889 non-null    uint8  \n",
      " 11  Q            889 non-null    uint8  \n",
      " 12  S            889 non-null    uint8  \n",
      "dtypes: float64(2), int64(3), uint8(8)\n",
      "memory usage: 48.6 KB\n"
     ]
    }
   ],
   "source": [
    "X.info()"
   ]
  },
  {
   "cell_type": "code",
   "execution_count": 11,
   "id": "f7f21600",
   "metadata": {
    "execution": {
     "iopub.execute_input": "2023-03-28T09:13:07.905724Z",
     "iopub.status.busy": "2023-03-28T09:13:07.905296Z",
     "iopub.status.idle": "2023-03-28T09:13:07.913802Z",
     "shell.execute_reply": "2023-03-28T09:13:07.912756Z"
    },
    "papermill": {
     "duration": 0.017285,
     "end_time": "2023-03-28T09:13:07.916373",
     "exception": false,
     "start_time": "2023-03-28T09:13:07.899088",
     "status": "completed"
    },
    "tags": []
   },
   "outputs": [],
   "source": [
    "train_X,val_X,train_y,val_y = train_test_split(X,y,random_state = 1)"
   ]
  },
  {
   "cell_type": "code",
   "execution_count": 12,
   "id": "de4a80ce",
   "metadata": {
    "execution": {
     "iopub.execute_input": "2023-03-28T09:13:07.928124Z",
     "iopub.status.busy": "2023-03-28T09:13:07.927688Z",
     "iopub.status.idle": "2023-03-28T09:13:08.151194Z",
     "shell.execute_reply": "2023-03-28T09:13:08.149751Z"
    },
    "papermill": {
     "duration": 0.23272,
     "end_time": "2023-03-28T09:13:08.153930",
     "exception": false,
     "start_time": "2023-03-28T09:13:07.921210",
     "status": "completed"
    },
    "tags": []
   },
   "outputs": [],
   "source": [
    "rf_model = RandomForestClassifier(random_state = 1)\n",
    "# rf_model = DecisionTreeClassifier(random_state = 1)\n",
    "rf_model.fit(train_X.values,train_y.values)\n",
    "prediction = rf_model.predict(val_X.values)"
   ]
  },
  {
   "cell_type": "code",
   "execution_count": 13,
   "id": "bb6a8b4f",
   "metadata": {
    "execution": {
     "iopub.execute_input": "2023-03-28T09:13:08.165514Z",
     "iopub.status.busy": "2023-03-28T09:13:08.165026Z",
     "iopub.status.idle": "2023-03-28T09:13:08.450919Z",
     "shell.execute_reply": "2023-03-28T09:13:08.449606Z"
    },
    "papermill": {
     "duration": 0.295085,
     "end_time": "2023-03-28T09:13:08.453837",
     "exception": false,
     "start_time": "2023-03-28T09:13:08.158752",
     "status": "completed"
    },
    "tags": []
   },
   "outputs": [
    {
     "data": {
      "image/png": "[encoded data removed]",
      "text/plain": [
       "<Figure size 640x480 with 2 Axes>"
      ]
     },
     "metadata": {},
     "output_type": "display_data"
    }
   ],
   "source": [
    "from sklearn.metrics import confusion_matrix,ConfusionMatrixDisplay,accuracy_score\n",
    "import matplotlib.pyplot as plt\n",
    "titanic_confusion_matrix = confusion_matrix(val_y,prediction)\n",
    "disp = ConfusionMatrixDisplay(confusion_matrix=titanic_confusion_matrix)\n",
    "disp.plot()\n",
    "plt.show()"
   ]
  },
  {
   "cell_type": "code",
   "execution_count": 14,
   "id": "6b800ba9",
   "metadata": {
    "execution": {
     "iopub.execute_input": "2023-03-28T09:13:08.466167Z",
     "iopub.status.busy": "2023-03-28T09:13:08.465748Z",
     "iopub.status.idle": "2023-03-28T09:13:08.473129Z",
     "shell.execute_reply": "2023-03-28T09:13:08.471877Z"
    },
    "papermill": {
     "duration": 0.01865,
     "end_time": "2023-03-28T09:13:08.477866",
     "exception": false,
     "start_time": "2023-03-28T09:13:08.459216",
     "status": "completed"
    },
    "tags": []
   },
   "outputs": [
    {
     "name": "stdout",
     "output_type": "stream",
     "text": [
      "0.8475336322869955\n"
     ]
    }
   ],
   "source": [
    "accuracy = accuracy_score(val_y,prediction)\n",
    "print(accuracy)"
   ]
  }
 ],
 "metadata": {
  "kernelspec": {
   "display_name": "Python 3",
   "language": "python",
   "name": "python3"
  },
  "language_info": {
   "codemirror_mode": {
    "name": "ipython",
    "version": 3
   },
   "file_extension": ".py",
   "mimetype": "text/x-python",
   "name": "python",
   "nbconvert_exporter": "python",
   "pygments_lexer": "ipython3",
   "version": "3.7.12"
  },
  "papermill": {
   "default_parameters": {},
   "duration": 13.47111,
   "end_time": "2023-03-28T09:13:09.306029",
   "environment_variables": {},
   "exception": null,
   "input_path": "__notebook__.ipynb",
   "output_path": "__notebook__.ipynb",
   "parameters": {},
   "start_time": "2023-03-28T09:12:55.834919",
   "version": "2.4.0"
  }
 },
 "nbformat": 4,
 "nbformat_minor": 5
}
