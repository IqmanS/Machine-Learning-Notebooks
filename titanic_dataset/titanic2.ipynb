{
 "cells": [
  {
   "cell_type": "code",
   "execution_count": 1,
   "id": "acf159f0",
   "metadata": {
    "_cell_guid": "b1076dfc-b9ad-4769-8c92-a6c4dae69d19",
    "_uuid": "8f2839f25d086af736a60e9eeb907d3b93b6e0e5",
    "execution": {
     "iopub.execute_input": "2023-03-28T09:55:58.589231Z",
     "iopub.status.busy": "2023-03-28T09:55:58.588067Z",
     "iopub.status.idle": "2023-03-28T09:56:00.517440Z",
     "shell.execute_reply": "2023-03-28T09:56:00.515236Z"
    },
    "papermill": {
     "duration": 1.944846,
     "end_time": "2023-03-28T09:56:00.521322",
     "exception": false,
     "start_time": "2023-03-28T09:55:58.576476",
     "status": "completed"
    },
    "tags": []
   },
   "outputs": [
    {
     "name": "stdout",
     "output_type": "stream",
     "text": [
      "/kaggle/input/titanic/train.csv\n",
      "/kaggle/input/titanic/test.csv\n",
      "/kaggle/input/titanic/gender_submission.csv\n"
     ]
    }
   ],
   "source": [
    "# This Python 3 environment comes with many helpful analytics libraries installed\n",
    "# It is defined by the kaggle/python Docker image: https://github.com/kaggle/docker-python\n",
    "# For example, here's several helpful packages to load\n",
    "\n",
    "import numpy as np # linear algebra\n",
    "import pandas as pd # data processing, CSV file I/O (e.g. pd.read_csv)\n",
    "pd.options.mode.chained_assignment = None  # default='warn'\n",
    "from sklearn.ensemble import RandomForestClassifier\n",
    "from sklearn.tree import DecisionTreeClassifier\n",
    "from sklearn.metrics import mean_absolute_error\n",
    "from sklearn.model_selection import train_test_split\n",
    "\n",
    "# Input data files are available in the read-only \"../input/\" directory\n",
    "# For example, running this (by clicking run or pressing Shift+Enter) will list all files under the input directory\n",
    "\n",
    "import os\n",
    "for dirname, _, filenames in os.walk('/kaggle/input'):\n",
    "    for filename in filenames:\n",
    "        print(os.path.join(dirname, filename))\n",
    "\n",
    "# You can write up to 20GB to the current directory (/kaggle/working/) that gets preserved as output when you create a version using \"Save & Run All\" \n",
    "# You can also write temporary files to /kaggle/temp/, but they won't be saved outside of the current session"
   ]
  },
  {
   "cell_type": "code",
   "execution_count": 2,
   "id": "40500aa8",
   "metadata": {
    "execution": {
     "iopub.execute_input": "2023-03-28T09:56:00.535389Z",
     "iopub.status.busy": "2023-03-28T09:56:00.534866Z",
     "iopub.status.idle": "2023-03-28T09:56:00.569794Z",
     "shell.execute_reply": "2023-03-28T09:56:00.568068Z"
    },
    "papermill": {
     "duration": 0.0459,
     "end_time": "2023-03-28T09:56:00.573259",
     "exception": false,
     "start_time": "2023-03-28T09:56:00.527359",
     "status": "completed"
    },
    "tags": []
   },
   "outputs": [],
   "source": [
    "titanic_file_path = '/kaggle/input/titanic/train.csv'\n",
    "titanic_test_path = '/kaggle/input/titanic/test.csv'\n",
    "titanic_data = pd.read_csv(titanic_file_path)\n",
    "titanic_test = pd.read_csv(titanic_test_path)"
   ]
  },
  {
   "cell_type": "code",
   "execution_count": 3,
   "id": "bf2295ca",
   "metadata": {
    "execution": {
     "iopub.execute_input": "2023-03-28T09:56:00.586714Z",
     "iopub.status.busy": "2023-03-28T09:56:00.586249Z",
     "iopub.status.idle": "2023-03-28T09:56:00.594199Z",
     "shell.execute_reply": "2023-03-28T09:56:00.592688Z"
    },
    "papermill": {
     "duration": 0.018258,
     "end_time": "2023-03-28T09:56:00.597232",
     "exception": false,
     "start_time": "2023-03-28T09:56:00.578974",
     "status": "completed"
    },
    "tags": []
   },
   "outputs": [
    {
     "name": "stdout",
     "output_type": "stream",
     "text": [
      "Index(['PassengerId', 'Survived', 'Pclass', 'Name', 'Sex', 'Age', 'SibSp',\n",
      "       'Parch', 'Ticket', 'Fare', 'Cabin', 'Embarked'],\n",
      "      dtype='object')\n",
      "Index(['PassengerId', 'Pclass', 'Name', 'Sex', 'Age', 'SibSp', 'Parch',\n",
      "       'Ticket', 'Fare', 'Cabin', 'Embarked'],\n",
      "      dtype='object')\n"
     ]
    }
   ],
   "source": [
    "print(titanic_data.columns,titanic_test.columns,sep=\"\\n\")"
   ]
  },
  {
   "cell_type": "code",
   "execution_count": 4,
   "id": "37cfb06d",
   "metadata": {
    "execution": {
     "iopub.execute_input": "2023-03-28T09:56:00.612250Z",
     "iopub.status.busy": "2023-03-28T09:56:00.610500Z",
     "iopub.status.idle": "2023-03-28T09:56:00.630744Z",
     "shell.execute_reply": "2023-03-28T09:56:00.628696Z"
    },
    "papermill": {
     "duration": 0.031273,
     "end_time": "2023-03-28T09:56:00.634312",
     "exception": false,
     "start_time": "2023-03-28T09:56:00.603039",
     "status": "completed"
    },
    "tags": []
   },
   "outputs": [],
   "source": [
    "titanic_data = titanic_data.drop(['Cabin'],axis = 1)\n",
    "titanic_test = titanic_test.drop(['Cabin'],axis = 1)"
   ]
  },
  {
   "cell_type": "code",
   "execution_count": 5,
   "id": "f45a0569",
   "metadata": {
    "execution": {
     "iopub.execute_input": "2023-03-28T09:56:00.648587Z",
     "iopub.status.busy": "2023-03-28T09:56:00.648062Z",
     "iopub.status.idle": "2023-03-28T09:56:00.677448Z",
     "shell.execute_reply": "2023-03-28T09:56:00.675464Z"
    },
    "papermill": {
     "duration": 0.040167,
     "end_time": "2023-03-28T09:56:00.680702",
     "exception": false,
     "start_time": "2023-03-28T09:56:00.640535",
     "status": "completed"
    },
    "tags": []
   },
   "outputs": [
    {
     "name": "stdout",
     "output_type": "stream",
     "text": [
      "<class 'pandas.core.frame.DataFrame'>\n",
      "RangeIndex: 891 entries, 0 to 890\n",
      "Data columns (total 11 columns):\n",
      " #   Column       Non-Null Count  Dtype  \n",
      "---  ------       --------------  -----  \n",
      " 0   PassengerId  891 non-null    int64  \n",
      " 1   Survived     891 non-null    int64  \n",
      " 2   Pclass       891 non-null    int64  \n",
      " 3   Name         891 non-null    object \n",
      " 4   Sex          891 non-null    object \n",
      " 5   Age          714 non-null    float64\n",
      " 6   SibSp        891 non-null    int64  \n",
      " 7   Parch        891 non-null    int64  \n",
      " 8   Ticket       891 non-null    object \n",
      " 9   Fare         891 non-null    float64\n",
      " 10  Embarked     889 non-null    object \n",
      "dtypes: float64(2), int64(5), object(4)\n",
      "memory usage: 76.7+ KB\n"
     ]
    }
   ],
   "source": [
    "titanic_data.info()\n",
    "# total = 891\n",
    "# age = 714 (177 missing)\n",
    "# cabin = missing\n",
    "# embarked = 2 missing "
   ]
  },
  {
   "cell_type": "code",
   "execution_count": 6,
   "id": "5a44c8fc",
   "metadata": {
    "execution": {
     "iopub.execute_input": "2023-03-28T09:56:00.694144Z",
     "iopub.status.busy": "2023-03-28T09:56:00.693665Z",
     "iopub.status.idle": "2023-03-28T09:56:00.708906Z",
     "shell.execute_reply": "2023-03-28T09:56:00.707072Z"
    },
    "papermill": {
     "duration": 0.025642,
     "end_time": "2023-03-28T09:56:00.712148",
     "exception": false,
     "start_time": "2023-03-28T09:56:00.686506",
     "status": "completed"
    },
    "tags": []
   },
   "outputs": [
    {
     "name": "stdout",
     "output_type": "stream",
     "text": [
      "<class 'pandas.core.frame.DataFrame'>\n",
      "RangeIndex: 418 entries, 0 to 417\n",
      "Data columns (total 10 columns):\n",
      " #   Column       Non-Null Count  Dtype  \n",
      "---  ------       --------------  -----  \n",
      " 0   PassengerId  418 non-null    int64  \n",
      " 1   Pclass       418 non-null    int64  \n",
      " 2   Name         418 non-null    object \n",
      " 3   Sex          418 non-null    object \n",
      " 4   Age          332 non-null    float64\n",
      " 5   SibSp        418 non-null    int64  \n",
      " 6   Parch        418 non-null    int64  \n",
      " 7   Ticket       418 non-null    object \n",
      " 8   Fare         417 non-null    float64\n",
      " 9   Embarked     418 non-null    object \n",
      "dtypes: float64(2), int64(4), object(4)\n",
      "memory usage: 32.8+ KB\n"
     ]
    }
   ],
   "source": [
    "titanic_test.info()"
   ]
  },
  {
   "cell_type": "code",
   "execution_count": 7,
   "id": "54ceb61e",
   "metadata": {
    "execution": {
     "iopub.execute_input": "2023-03-28T09:56:00.726366Z",
     "iopub.status.busy": "2023-03-28T09:56:00.725231Z",
     "iopub.status.idle": "2023-03-28T09:56:00.736993Z",
     "shell.execute_reply": "2023-03-28T09:56:00.735850Z"
    },
    "papermill": {
     "duration": 0.021935,
     "end_time": "2023-03-28T09:56:00.739853",
     "exception": false,
     "start_time": "2023-03-28T09:56:00.717918",
     "status": "completed"
    },
    "tags": []
   },
   "outputs": [],
   "source": [
    "titanic_data['Age'] = titanic_data['Age'].interpolate()\n",
    "titanic_test['Age'] = titanic_test['Age'].interpolate()\n",
    "titanic_test['Fare'] = titanic_test['Fare'].interpolate()\n",
    "titanic_data = titanic_data.dropna()"
   ]
  },
  {
   "cell_type": "code",
   "execution_count": 8,
   "id": "f8c490dd",
   "metadata": {
    "execution": {
     "iopub.execute_input": "2023-03-28T09:56:00.754108Z",
     "iopub.status.busy": "2023-03-28T09:56:00.753215Z",
     "iopub.status.idle": "2023-03-28T09:56:00.778823Z",
     "shell.execute_reply": "2023-03-28T09:56:00.777249Z"
    },
    "papermill": {
     "duration": 0.036373,
     "end_time": "2023-03-28T09:56:00.781968",
     "exception": false,
     "start_time": "2023-03-28T09:56:00.745595",
     "status": "completed"
    },
    "tags": []
   },
   "outputs": [
    {
     "name": "stdout",
     "output_type": "stream",
     "text": [
      "<class 'pandas.core.frame.DataFrame'>\n",
      "Int64Index: 889 entries, 0 to 890\n",
      "Data columns (total 11 columns):\n",
      " #   Column       Non-Null Count  Dtype  \n",
      "---  ------       --------------  -----  \n",
      " 0   PassengerId  889 non-null    int64  \n",
      " 1   Survived     889 non-null    int64  \n",
      " 2   Pclass       889 non-null    int64  \n",
      " 3   Name         889 non-null    object \n",
      " 4   Sex          889 non-null    object \n",
      " 5   Age          889 non-null    float64\n",
      " 6   SibSp        889 non-null    int64  \n",
      " 7   Parch        889 non-null    int64  \n",
      " 8   Ticket       889 non-null    object \n",
      " 9   Fare         889 non-null    float64\n",
      " 10  Embarked     889 non-null    object \n",
      "dtypes: float64(2), int64(5), object(4)\n",
      "memory usage: 83.3+ KB\n",
      "<class 'pandas.core.frame.DataFrame'>\n",
      "RangeIndex: 418 entries, 0 to 417\n",
      "Data columns (total 10 columns):\n",
      " #   Column       Non-Null Count  Dtype  \n",
      "---  ------       --------------  -----  \n",
      " 0   PassengerId  418 non-null    int64  \n",
      " 1   Pclass       418 non-null    int64  \n",
      " 2   Name         418 non-null    object \n",
      " 3   Sex          418 non-null    object \n",
      " 4   Age          418 non-null    float64\n",
      " 5   SibSp        418 non-null    int64  \n",
      " 6   Parch        418 non-null    int64  \n",
      " 7   Ticket       418 non-null    object \n",
      " 8   Fare         418 non-null    float64\n",
      " 9   Embarked     418 non-null    object \n",
      "dtypes: float64(2), int64(4), object(4)\n",
      "memory usage: 32.8+ KB\n",
      "None\n",
      "\n",
      "None\n"
     ]
    }
   ],
   "source": [
    "print(titanic_data.info(),titanic_test.info(),sep=\"\\n\\n\")"
   ]
  },
  {
   "cell_type": "code",
   "execution_count": 9,
   "id": "ce836703",
   "metadata": {
    "execution": {
     "iopub.execute_input": "2023-03-28T09:56:00.796530Z",
     "iopub.status.busy": "2023-03-28T09:56:00.795365Z",
     "iopub.status.idle": "2023-03-28T09:56:00.815319Z",
     "shell.execute_reply": "2023-03-28T09:56:00.813831Z"
    },
    "papermill": {
     "duration": 0.03024,
     "end_time": "2023-03-28T09:56:00.818173",
     "exception": false,
     "start_time": "2023-03-28T09:56:00.787933",
     "status": "completed"
    },
    "tags": []
   },
   "outputs": [],
   "source": [
    "dummy = []\n",
    "cols = ['Pclass', 'Sex', 'Embarked']\n",
    "for i in cols:\n",
    "    dummy.append(pd.get_dummies(titanic_data[i]))\n",
    "titanic_dummy = pd.concat(dummy, axis=1)\n",
    "titanic_data = pd.concat((titanic_data,titanic_dummy), axis=1)\n",
    "\n",
    "dummy = []\n",
    "for i in cols:\n",
    "    dummy.append(pd.get_dummies(titanic_test[i]))\n",
    "titanic_dummy = pd.concat(dummy, axis=1)\n",
    "titanic_test = pd.concat((titanic_test,titanic_dummy), axis=1)"
   ]
  },
  {
   "cell_type": "code",
   "execution_count": 10,
   "id": "e766cda6",
   "metadata": {
    "execution": {
     "iopub.execute_input": "2023-03-28T09:56:00.833122Z",
     "iopub.status.busy": "2023-03-28T09:56:00.831748Z",
     "iopub.status.idle": "2023-03-28T09:56:00.842415Z",
     "shell.execute_reply": "2023-03-28T09:56:00.840658Z"
    },
    "papermill": {
     "duration": 0.021855,
     "end_time": "2023-03-28T09:56:00.845999",
     "exception": false,
     "start_time": "2023-03-28T09:56:00.824144",
     "status": "completed"
    },
    "tags": []
   },
   "outputs": [],
   "source": [
    "titanic_data = titanic_data.drop(cols,axis = 1)\n",
    "titanic_test = titanic_test.drop(cols,axis = 1)"
   ]
  },
  {
   "cell_type": "code",
   "execution_count": 11,
   "id": "afde2eb8",
   "metadata": {
    "execution": {
     "iopub.execute_input": "2023-03-28T09:56:00.859874Z",
     "iopub.status.busy": "2023-03-28T09:56:00.859413Z",
     "iopub.status.idle": "2023-03-28T09:56:00.868829Z",
     "shell.execute_reply": "2023-03-28T09:56:00.867136Z"
    },
    "papermill": {
     "duration": 0.019908,
     "end_time": "2023-03-28T09:56:00.871948",
     "exception": false,
     "start_time": "2023-03-28T09:56:00.852040",
     "status": "completed"
    },
    "tags": []
   },
   "outputs": [
    {
     "data": {
      "text/plain": [
       "Index(['PassengerId',    'Survived',        'Name',         'Age',\n",
       "             'SibSp',       'Parch',      'Ticket',        'Fare',\n",
       "                   1,             2,             3,      'female',\n",
       "              'male',           'C',           'Q',           'S'],\n",
       "      dtype='object')"
      ]
     },
     "execution_count": 11,
     "metadata": {},
     "output_type": "execute_result"
    }
   ],
   "source": [
    "titanic_data.columns"
   ]
  },
  {
   "cell_type": "code",
   "execution_count": 12,
   "id": "406b4312",
   "metadata": {
    "execution": {
     "iopub.execute_input": "2023-03-28T09:56:00.888672Z",
     "iopub.status.busy": "2023-03-28T09:56:00.887675Z",
     "iopub.status.idle": "2023-03-28T09:56:00.897399Z",
     "shell.execute_reply": "2023-03-28T09:56:00.896086Z"
    },
    "papermill": {
     "duration": 0.021204,
     "end_time": "2023-03-28T09:56:00.900220",
     "exception": false,
     "start_time": "2023-03-28T09:56:00.879016",
     "status": "completed"
    },
    "tags": []
   },
   "outputs": [
    {
     "data": {
      "text/plain": [
       "Index(['PassengerId',        'Name',         'Age',       'SibSp',\n",
       "             'Parch',      'Ticket',        'Fare',             1,\n",
       "                   2,             3,      'female',        'male',\n",
       "                 'C',           'Q',           'S'],\n",
       "      dtype='object')"
      ]
     },
     "execution_count": 12,
     "metadata": {},
     "output_type": "execute_result"
    }
   ],
   "source": [
    "titanic_test.columns"
   ]
  },
  {
   "cell_type": "code",
   "execution_count": 13,
   "id": "7f228ccb",
   "metadata": {
    "execution": {
     "iopub.execute_input": "2023-03-28T09:56:00.915072Z",
     "iopub.status.busy": "2023-03-28T09:56:00.914603Z",
     "iopub.status.idle": "2023-03-28T09:56:00.924271Z",
     "shell.execute_reply": "2023-03-28T09:56:00.922603Z"
    },
    "papermill": {
     "duration": 0.020732,
     "end_time": "2023-03-28T09:56:00.927137",
     "exception": false,
     "start_time": "2023-03-28T09:56:00.906405",
     "status": "completed"
    },
    "tags": []
   },
   "outputs": [],
   "source": [
    "y = titanic_data.Survived\n",
    "train_X = titanic_data[['PassengerId','Age','SibSp','Parch','Fare',1,2,3,'female','male','C','Q','S']]\n",
    "test_X = titanic_test[['PassengerId','Age','SibSp','Parch','Fare',1,2,3,'female','male','C','Q','S']]"
   ]
  },
  {
   "cell_type": "code",
   "execution_count": 14,
   "id": "ec720f35",
   "metadata": {
    "execution": {
     "iopub.execute_input": "2023-03-28T09:56:00.943441Z",
     "iopub.status.busy": "2023-03-28T09:56:00.942995Z",
     "iopub.status.idle": "2023-03-28T09:56:01.199644Z",
     "shell.execute_reply": "2023-03-28T09:56:01.198085Z"
    },
    "papermill": {
     "duration": 0.270504,
     "end_time": "2023-03-28T09:56:01.204151",
     "exception": false,
     "start_time": "2023-03-28T09:56:00.933647",
     "status": "completed"
    },
    "tags": []
   },
   "outputs": [
    {
     "name": "stdout",
     "output_type": "stream",
     "text": [
      "[0 0 0 0 0 0 0 0 1 0 0 0 1 0 1 1 0 0 0 1 0 0 1 1 1 0 1 0 1 0 0 0 0 0 1 0 0\n",
      " 0 0 1 0 0 0 1 1 0 1 0 1 0 0 0 1 1 0 0 0 0 0 1 0 0 0 1 1 1 1 0 1 1 1 0 0 1\n",
      " 1 1 0 1 0 1 1 0 0 0 0 0 1 0 1 1 0 0 1 0 1 0 1 0 0 0 1 0 0 0 1 0 0 0 0 0 0\n",
      " 0 1 1 1 0 0 1 1 1 1 0 1 0 0 1 0 1 0 0 0 1 0 0 0 0 0 0 0 0 0 1 0 0 1 0 0 0\n",
      " 1 0 1 0 0 1 0 0 1 0 1 1 1 1 1 0 0 0 0 0 1 0 0 0 0 0 0 1 1 0 1 1 0 0 1 0 1\n",
      " 0 1 0 0 0 0 0 1 0 1 0 1 0 0 0 1 1 0 1 0 1 0 0 1 0 0 0 0 0 0 0 1 0 1 0 1 0\n",
      " 1 0 1 1 0 0 0 0 0 1 0 0 1 0 1 0 1 1 1 1 0 0 0 0 1 0 1 1 1 0 1 0 0 0 0 0 1\n",
      " 0 0 0 1 1 0 0 0 0 0 0 0 0 1 1 0 1 0 0 0 0 0 1 1 0 0 0 0 0 0 0 0 0 0 0 0 0\n",
      " 1 0 0 0 0 0 0 0 1 1 1 1 0 0 0 0 0 0 1 1 0 0 0 0 0 0 0 1 1 0 1 0 0 0 1 1 0\n",
      " 0 0 0 0 0 0 0 0 0 0 1 0 0 0 1 0 1 1 0 0 0 0 0 1 0 0 0 0 1 1 0 1 0 0 0 1 0\n",
      " 0 1 0 0 1 1 0 0 0 0 0 0 0 0 0 1 0 0 0 0 0 1 0 0 0 1 0 1 0 0 1 0 1 0 1 0 0\n",
      " 0 1 1 1 1 0 0 1 0 0 0]\n"
     ]
    }
   ],
   "source": [
    "rf_model = RandomForestClassifier(random_state = 1)\n",
    "# rf_model = DecisionTreeClassifier(random_state = 1)\n",
    "rf_model.fit(train_X.values,y.values)\n",
    "prediction = rf_model.predict(test_X.values)\n",
    "print(prediction)"
   ]
  },
  {
   "cell_type": "code",
   "execution_count": 15,
   "id": "eb1ac5cf",
   "metadata": {
    "execution": {
     "iopub.execute_input": "2023-03-28T09:56:01.220835Z",
     "iopub.status.busy": "2023-03-28T09:56:01.220165Z",
     "iopub.status.idle": "2023-03-28T09:56:01.230374Z",
     "shell.execute_reply": "2023-03-28T09:56:01.228778Z"
    },
    "papermill": {
     "duration": 0.021114,
     "end_time": "2023-03-28T09:56:01.233093",
     "exception": false,
     "start_time": "2023-03-28T09:56:01.211979",
     "status": "completed"
    },
    "tags": []
   },
   "outputs": [],
   "source": [
    "test_X['Survived'] = prediction\n",
    "test_X = test_X.drop(['Age','SibSp','Parch','Fare',1,2,3,'female','male','C','Q','S'],axis = 1)"
   ]
  },
  {
   "cell_type": "code",
   "execution_count": 16,
   "id": "65cd5634",
   "metadata": {
    "execution": {
     "iopub.execute_input": "2023-03-28T09:56:01.248989Z",
     "iopub.status.busy": "2023-03-28T09:56:01.248496Z",
     "iopub.status.idle": "2023-03-28T09:56:01.257010Z",
     "shell.execute_reply": "2023-03-28T09:56:01.255929Z"
    },
    "papermill": {
     "duration": 0.019921,
     "end_time": "2023-03-28T09:56:01.259301",
     "exception": false,
     "start_time": "2023-03-28T09:56:01.239380",
     "status": "completed"
    },
    "tags": []
   },
   "outputs": [
    {
     "data": {
      "text/plain": [
       "Index(['PassengerId', 'Survived'], dtype='object')"
      ]
     },
     "execution_count": 16,
     "metadata": {},
     "output_type": "execute_result"
    }
   ],
   "source": [
    "test_X.columns"
   ]
  },
  {
   "cell_type": "code",
   "execution_count": 17,
   "id": "11475393",
   "metadata": {
    "execution": {
     "iopub.execute_input": "2023-03-28T09:56:01.274431Z",
     "iopub.status.busy": "2023-03-28T09:56:01.274017Z",
     "iopub.status.idle": "2023-03-28T09:56:01.285662Z",
     "shell.execute_reply": "2023-03-28T09:56:01.284269Z"
    },
    "papermill": {
     "duration": 0.024143,
     "end_time": "2023-03-28T09:56:01.289810",
     "exception": false,
     "start_time": "2023-03-28T09:56:01.265667",
     "status": "completed"
    },
    "tags": []
   },
   "outputs": [],
   "source": [
    "test_X.to_csv('submission.csv',header=True,index=False)"
   ]
  },
  {
   "cell_type": "code",
   "execution_count": 18,
   "id": "e6555514",
   "metadata": {
    "execution": {
     "iopub.execute_input": "2023-03-28T09:56:01.308581Z",
     "iopub.status.busy": "2023-03-28T09:56:01.308168Z",
     "iopub.status.idle": "2023-03-28T09:56:01.313536Z",
     "shell.execute_reply": "2023-03-28T09:56:01.312063Z"
    },
    "papermill": {
     "duration": 0.019352,
     "end_time": "2023-03-28T09:56:01.316445",
     "exception": false,
     "start_time": "2023-03-28T09:56:01.297093",
     "status": "completed"
    },
    "tags": []
   },
   "outputs": [],
   "source": [
    "# from sklearn.metrics import confusion_matrix,ConfusionMatrixDisplay,accuracy_score\n",
    "# import matplotlib.pyplot as plt\n",
    "\n",
    "# train_X,val_X,train_y,val_y = train_test_split(train_X,y,random_state = 1)\n",
    "\n",
    "# pred = rf_model.predict(val_X)\n",
    "# print(len(pred))\n",
    "# titanic_confusion_matrix = confusion_matrix(val_y,pred)\n",
    "# disp = ConfusionMatrixDisplay(confusion_matrix=titanic_confusion_matrix)\n",
    "# disp.plot()\n",
    "# plt.show()"
   ]
  },
  {
   "cell_type": "code",
   "execution_count": 19,
   "id": "186b4a0e",
   "metadata": {
    "execution": {
     "iopub.execute_input": "2023-03-28T09:56:01.330977Z",
     "iopub.status.busy": "2023-03-28T09:56:01.330541Z",
     "iopub.status.idle": "2023-03-28T09:56:01.335969Z",
     "shell.execute_reply": "2023-03-28T09:56:01.334659Z"
    },
    "papermill": {
     "duration": 0.015948,
     "end_time": "2023-03-28T09:56:01.338722",
     "exception": false,
     "start_time": "2023-03-28T09:56:01.322774",
     "status": "completed"
    },
    "tags": []
   },
   "outputs": [],
   "source": [
    "# accuracy = accuracy_score(val_y,pred)\n",
    "# print(accuracy)"
   ]
  }
 ],
 "metadata": {
  "kernelspec": {
   "display_name": "Python 3",
   "language": "python",
   "name": "python3"
  },
  "language_info": {
   "codemirror_mode": {
    "name": "ipython",
    "version": 3
   },
   "file_extension": ".py",
   "mimetype": "text/x-python",
   "name": "python",
   "nbconvert_exporter": "python",
   "pygments_lexer": "ipython3",
   "version": "3.7.12"
  },
  "papermill": {
   "default_parameters": {},
   "duration": 16.031107,
   "end_time": "2023-03-28T09:56:02.171124",
   "environment_variables": {},
   "exception": null,
   "input_path": "__notebook__.ipynb",
   "output_path": "__notebook__.ipynb",
   "parameters": {},
   "start_time": "2023-03-28T09:55:46.140017",
   "version": "2.4.0"
  }
 },
 "nbformat": 4,
 "nbformat_minor": 5
}
