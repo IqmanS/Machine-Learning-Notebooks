{
  "nbformat": 4,
  "nbformat_minor": 0,
  "metadata": {
    "colab": {
      "provenance": [],
      "authorship_tag": "ABX9TyOJ6JctDEWdDId+RwioEtsK",
      "include_colab_link": true
    },
    "kernelspec": {
      "name": "python3",
      "display_name": "Python 3"
    },
    "language_info": {
      "name": "python"
    }
  },
  "cells": [
    {
      "cell_type": "markdown",
      "metadata": {
        "id": "view-in-github",
        "colab_type": "text"
      },
      "source": [
        "<a href=\"https://colab.research.google.com/github/IqmanS/ai_ml/blob/main/numpy_notebook/Numpy_Notebook.ipynb\" target=\"_parent\"><img src=\"https://colab.research.google.com/assets/colab-badge.svg\" alt=\"Open In Colab\"/></a>"
      ]
    },
    {
      "cell_type": "code",
      "source": [
        "import numpy as np"
      ],
      "metadata": {
        "id": "5RKsbbWo2LDi"
      },
      "execution_count": null,
      "outputs": []
    },
    {
      "cell_type": "code",
      "source": [
        "#Generating Data"
      ],
      "metadata": {
        "id": "GNbN9Xjw9-S3"
      },
      "execution_count": null,
      "outputs": []
    },
    {
      "cell_type": "code",
      "execution_count": null,
      "metadata": {
        "colab": {
          "base_uri": "https://localhost:8080/"
        },
        "id": "bNF8k41P0Hin",
        "outputId": "ee094180-a578-499f-8a9c-070f7d37dad9"
      },
      "outputs": [
        {
          "output_type": "execute_result",
          "data": {
            "text/plain": [
              "array([[0., 0., 0.],\n",
              "       [0., 0., 0.]])"
            ]
          },
          "metadata": {},
          "execution_count": 8
        }
      ],
      "source": [
        "np.zeros((2,3))"
      ]
    },
    {
      "cell_type": "code",
      "source": [
        "np.ones((3,2))"
      ],
      "metadata": {
        "colab": {
          "base_uri": "https://localhost:8080/"
        },
        "id": "u31M4uWM9cI1",
        "outputId": "d318cb2b-9dbb-4ab9-d465-c24fef098212"
      },
      "execution_count": null,
      "outputs": [
        {
          "output_type": "execute_result",
          "data": {
            "text/plain": [
              "array([[1., 1.],\n",
              "       [1., 1.],\n",
              "       [1., 1.]])"
            ]
          },
          "metadata": {},
          "execution_count": 5
        }
      ]
    },
    {
      "cell_type": "code",
      "source": [
        "np.eye(3)"
      ],
      "metadata": {
        "colab": {
          "base_uri": "https://localhost:8080/"
        },
        "id": "sjWDiYWQ94Ds",
        "outputId": "ce645e88-7c15-416b-ca5a-dc5d2f951eb3"
      },
      "execution_count": null,
      "outputs": [
        {
          "output_type": "execute_result",
          "data": {
            "text/plain": [
              "array([[1., 0., 0.],\n",
              "       [0., 1., 0.],\n",
              "       [0., 0., 1.]])"
            ]
          },
          "metadata": {},
          "execution_count": 6
        }
      ]
    },
    {
      "cell_type": "code",
      "source": [
        "np.random.random()"
      ],
      "metadata": {
        "colab": {
          "base_uri": "https://localhost:8080/"
        },
        "id": "U8U_5PVM96l9",
        "outputId": "43615dcb-0326-4e33-e715-e237f5996f59"
      },
      "execution_count": null,
      "outputs": [
        {
          "output_type": "execute_result",
          "data": {
            "text/plain": [
              "0.6054466240255939"
            ]
          },
          "metadata": {},
          "execution_count": 9
        }
      ]
    },
    {
      "cell_type": "code",
      "source": [
        "np.random.random((2,3))"
      ],
      "metadata": {
        "colab": {
          "base_uri": "https://localhost:8080/"
        },
        "id": "Tiw306wq-LL-",
        "outputId": "5731dc03-f338-4a3d-ac67-84aeb0837698"
      },
      "execution_count": null,
      "outputs": [
        {
          "output_type": "execute_result",
          "data": {
            "text/plain": [
              "array([[0.39422371, 0.92504253, 0.0281926 ],\n",
              "       [0.20116776, 0.37389416, 0.75977426]])"
            ]
          },
          "metadata": {},
          "execution_count": 10
        }
      ]
    },
    {
      "cell_type": "code",
      "source": [
        "np.random.randn(2,3)"
      ],
      "metadata": {
        "colab": {
          "base_uri": "https://localhost:8080/"
        },
        "id": "c4o4fYGI-OX8",
        "outputId": "e780eac2-ced6-40e5-e67a-f49608a38335"
      },
      "execution_count": null,
      "outputs": [
        {
          "output_type": "execute_result",
          "data": {
            "text/plain": [
              "array([[ 0.97563989, -1.53857726, -1.2131896 ],\n",
              "       [ 0.61917042,  1.28054935, -0.46649576]])"
            ]
          },
          "metadata": {},
          "execution_count": 11
        }
      ]
    },
    {
      "cell_type": "code",
      "source": [
        "arr = np.random.randn(10000)\n",
        "arr"
      ],
      "metadata": {
        "colab": {
          "base_uri": "https://localhost:8080/"
        },
        "id": "4cx0uTcT-TtW",
        "outputId": "1d13c021-f629-43d8-888e-8570a4dced2c"
      },
      "execution_count": null,
      "outputs": [
        {
          "output_type": "execute_result",
          "data": {
            "text/plain": [
              "array([-1.27355037, -1.57385272, -0.4564705 , ..., -0.92440843,\n",
              "       -0.60802795, -0.26136688])"
            ]
          },
          "metadata": {},
          "execution_count": 19
        }
      ]
    },
    {
      "cell_type": "code",
      "source": [
        "arr.mean()"
      ],
      "metadata": {
        "colab": {
          "base_uri": "https://localhost:8080/"
        },
        "id": "4hEnJkWX-bOb",
        "outputId": "2502bb8f-193e-4259-c588-e6f311cba56a"
      },
      "execution_count": null,
      "outputs": [
        {
          "output_type": "execute_result",
          "data": {
            "text/plain": [
              "-0.005238816841062459"
            ]
          },
          "metadata": {},
          "execution_count": 20
        }
      ]
    },
    {
      "cell_type": "code",
      "source": [
        "arr.var()"
      ],
      "metadata": {
        "colab": {
          "base_uri": "https://localhost:8080/"
        },
        "id": "xlZh-NyA-h8k",
        "outputId": "f04b24bb-5b21-48ba-e0af-7739794f1a8d"
      },
      "execution_count": null,
      "outputs": [
        {
          "output_type": "execute_result",
          "data": {
            "text/plain": [
              "1.01137166535855"
            ]
          },
          "metadata": {},
          "execution_count": 21
        }
      ]
    },
    {
      "cell_type": "code",
      "source": [
        "arr.std()"
      ],
      "metadata": {
        "colab": {
          "base_uri": "https://localhost:8080/"
        },
        "id": "dN9iKcKc-m4e",
        "outputId": "68b061a5-b92c-49e3-cc40-0751a19c5849"
      },
      "execution_count": null,
      "outputs": [
        {
          "output_type": "execute_result",
          "data": {
            "text/plain": [
              "1.0056697595923574"
            ]
          },
          "metadata": {},
          "execution_count": 22
        }
      ]
    },
    {
      "cell_type": "code",
      "source": [
        "m = np.random.randn(10000,3)\n",
        "m"
      ],
      "metadata": {
        "colab": {
          "base_uri": "https://localhost:8080/"
        },
        "id": "8PkpOMsW-pd3",
        "outputId": "2cd0eaab-bc3d-4b0f-bbdb-83159bfd47b7"
      },
      "execution_count": null,
      "outputs": [
        {
          "output_type": "execute_result",
          "data": {
            "text/plain": [
              "array([[ 0.80501452,  0.23350572, -0.86698643],\n",
              "       [-0.1207563 , -1.31766077,  0.93961716],\n",
              "       [ 0.31696346,  1.17352919,  1.02409071],\n",
              "       ...,\n",
              "       [ 0.16785901,  0.62348315, -0.33428298],\n",
              "       [ 0.28759178,  0.2606601 , -1.8745823 ],\n",
              "       [-0.11991858, -2.4278585 , -1.72575141]])"
            ]
          },
          "metadata": {},
          "execution_count": 23
        }
      ]
    },
    {
      "cell_type": "code",
      "source": [
        "m.mean(axis=0)    #mean of all columns"
      ],
      "metadata": {
        "colab": {
          "base_uri": "https://localhost:8080/"
        },
        "id": "sOrowTRN-uzM",
        "outputId": "ae316848-dd7e-45ed-d87c-bf9f9a6345ea"
      },
      "execution_count": null,
      "outputs": [
        {
          "output_type": "execute_result",
          "data": {
            "text/plain": [
              "array([-0.00762542,  0.01837989, -0.00057625])"
            ]
          },
          "metadata": {},
          "execution_count": 24
        }
      ]
    },
    {
      "cell_type": "code",
      "source": [
        "m.mean(axis=1)    #mean of all rows\n"
      ],
      "metadata": {
        "colab": {
          "base_uri": "https://localhost:8080/"
        },
        "id": "RMFPs7mz-0DL",
        "outputId": "4c1e4713-6a4d-4cdc-de71-16b3a00e42c5"
      },
      "execution_count": null,
      "outputs": [
        {
          "output_type": "execute_result",
          "data": {
            "text/plain": [
              "array([ 0.05717794, -0.16626663,  0.83819445, ...,  0.15235306,\n",
              "       -0.44211014, -1.4245095 ])"
            ]
          },
          "metadata": {},
          "execution_count": 27
        }
      ]
    },
    {
      "cell_type": "code",
      "source": [
        "m.mean(axis=1).shape"
      ],
      "metadata": {
        "colab": {
          "base_uri": "https://localhost:8080/"
        },
        "id": "s_rWqT1G-3hX",
        "outputId": "94ada638-f58a-44a2-a30b-f0c4b1610f8b"
      },
      "execution_count": null,
      "outputs": [
        {
          "output_type": "execute_result",
          "data": {
            "text/plain": [
              "(10000,)"
            ]
          },
          "metadata": {},
          "execution_count": 28
        }
      ]
    },
    {
      "cell_type": "code",
      "source": [
        "np.cov(m)           #covariance "
      ],
      "metadata": {
        "colab": {
          "base_uri": "https://localhost:8080/"
        },
        "id": "873FFpAX_D2k",
        "outputId": "ad923cc1-b092-49eb-e49a-68153209c150"
      },
      "execution_count": null,
      "outputs": [
        {
          "output_type": "execute_result",
          "data": {
            "text/plain": [
              "array([[ 0.72221541, -0.59550344, -0.25123273, ...,  0.27220046,\n",
              "         0.99672772,  0.53854978],\n",
              "       [-0.59550344,  1.27537931, -0.1021221 , ..., -0.53995683,\n",
              "        -1.18005215,  0.44074198],\n",
              "       [-0.25123273, -0.1021221 ,  0.20934428, ...,  0.02972014,\n",
              "        -0.20548559, -0.53622537],\n",
              "       ...,\n",
              "       [ 0.27220046, -0.53995683,  0.02972014, ...,  0.22950932,\n",
              "         0.51975176, -0.15294191],\n",
              "       [ 0.99672772, -1.18005215, -0.20548559, ...,  0.51975176,\n",
              "         1.53916369,  0.33917967],\n",
              "       [ 0.53854978,  0.44074198, -0.53622537, ..., -0.15294191,\n",
              "         0.33917967,  1.39970668]])"
            ]
          },
          "metadata": {},
          "execution_count": 29
        }
      ]
    },
    {
      "cell_type": "code",
      "source": [
        "np.cov(m).shape     #10000x10000 need to take transpose of m"
      ],
      "metadata": {
        "colab": {
          "base_uri": "https://localhost:8080/"
        },
        "id": "sW2ZWuCe_Itd",
        "outputId": "624e58ca-ac21-4b30-fff8-d2c1538275e2"
      },
      "execution_count": null,
      "outputs": [
        {
          "output_type": "execute_result",
          "data": {
            "text/plain": [
              "(10000, 10000)"
            ]
          },
          "metadata": {},
          "execution_count": 30
        }
      ]
    },
    {
      "cell_type": "code",
      "source": [
        "np.cov(m.transpose())   #close to identity"
      ],
      "metadata": {
        "colab": {
          "base_uri": "https://localhost:8080/"
        },
        "id": "MH0ZPPNf_i3L",
        "outputId": "8be08c2a-8776-4b5f-e3f3-f2d0338dea13"
      },
      "execution_count": null,
      "outputs": [
        {
          "output_type": "execute_result",
          "data": {
            "text/plain": [
              "array([[ 0.98417357, -0.00293066,  0.00327935],\n",
              "       [-0.00293066,  1.01648195, -0.00291989],\n",
              "       [ 0.00327935, -0.00291989,  1.02473278]])"
            ]
          },
          "metadata": {},
          "execution_count": 32
        }
      ]
    },
    {
      "cell_type": "code",
      "source": [
        "np.random.randint(0,10000,(2,3))"
      ],
      "metadata": {
        "colab": {
          "base_uri": "https://localhost:8080/"
        },
        "id": "Jgr9Ggui_34w",
        "outputId": "d2cd6f8b-dad9-4d93-a265-4cb29c00c3e4"
      },
      "execution_count": null,
      "outputs": [
        {
          "output_type": "execute_result",
          "data": {
            "text/plain": [
              "array([[8340, 8229,  926],\n",
              "       [ 285, 1873, 7583]])"
            ]
          },
          "metadata": {},
          "execution_count": 35
        }
      ]
    },
    {
      "cell_type": "code",
      "source": [
        "np.random.uniform(0,1,(100,2))"
      ],
      "metadata": {
        "id": "kT-SjyqmAH5C",
        "colab": {
          "base_uri": "https://localhost:8080/"
        },
        "outputId": "3565af67-ed56-4a80-f2a5-20c8637ce2c2"
      },
      "execution_count": null,
      "outputs": [
        {
          "output_type": "execute_result",
          "data": {
            "text/plain": [
              "array([[3.92638998e-01, 2.26710236e-01],\n",
              "       [7.35697181e-01, 8.34906691e-01],\n",
              "       [1.02361296e-01, 9.15318339e-01],\n",
              "       [6.10524036e-01, 3.08393801e-01],\n",
              "       [9.36573043e-01, 6.72720510e-01],\n",
              "       [7.61514447e-01, 7.55928622e-01],\n",
              "       [3.48860362e-01, 3.91675524e-01],\n",
              "       [5.91409702e-03, 1.75350808e-01],\n",
              "       [5.81210580e-01, 6.49303107e-01],\n",
              "       [3.80014276e-01, 8.95968788e-01],\n",
              "       [2.35807475e-01, 3.46949240e-01],\n",
              "       [7.92646689e-01, 9.72572576e-01],\n",
              "       [9.56409235e-01, 8.46202225e-01],\n",
              "       [1.05008777e-02, 3.64840101e-01],\n",
              "       [5.49634376e-01, 7.88523297e-01],\n",
              "       [4.96191280e-01, 8.07193730e-01],\n",
              "       [9.67500537e-01, 8.02393909e-01],\n",
              "       [6.18069681e-01, 8.81249656e-01],\n",
              "       [5.00685537e-02, 6.53937184e-01],\n",
              "       [4.80733800e-01, 9.86357767e-01],\n",
              "       [2.87405401e-01, 2.36717909e-01],\n",
              "       [2.64046611e-01, 4.42828538e-01],\n",
              "       [5.62066651e-01, 1.60596349e-01],\n",
              "       [1.99532467e-01, 9.29818283e-01],\n",
              "       [5.32620577e-01, 8.62578458e-01],\n",
              "       [8.01050975e-01, 3.17658305e-01],\n",
              "       [4.34396406e-01, 9.52561710e-01],\n",
              "       [7.69976302e-03, 6.29596400e-01],\n",
              "       [4.01225939e-01, 7.48531057e-01],\n",
              "       [6.27236536e-01, 1.60955700e-01],\n",
              "       [6.71156185e-01, 5.42594723e-02],\n",
              "       [6.27296161e-01, 7.35890912e-01],\n",
              "       [7.38474722e-01, 5.92811753e-01],\n",
              "       [2.01927025e-01, 7.04291894e-01],\n",
              "       [3.16064913e-01, 5.71065530e-01],\n",
              "       [2.69285772e-01, 7.07213553e-01],\n",
              "       [3.61017161e-01, 6.60270927e-01],\n",
              "       [8.73883030e-01, 4.81016397e-02],\n",
              "       [3.51619039e-01, 8.41236389e-01],\n",
              "       [3.52549537e-01, 6.24588355e-01],\n",
              "       [2.81912596e-01, 5.79955287e-01],\n",
              "       [8.92012529e-01, 7.17775062e-01],\n",
              "       [5.70435328e-01, 5.20379653e-01],\n",
              "       [2.75841249e-01, 7.40647241e-01],\n",
              "       [3.90004912e-01, 8.46047555e-01],\n",
              "       [2.95546949e-01, 7.54644213e-01],\n",
              "       [4.61195785e-01, 6.70072602e-01],\n",
              "       [7.78520853e-04, 4.62366716e-01],\n",
              "       [1.95308827e-01, 1.87643903e-01],\n",
              "       [7.14184893e-01, 9.31578590e-01],\n",
              "       [6.71725636e-01, 6.24825224e-01],\n",
              "       [1.19397356e-01, 6.05597699e-01],\n",
              "       [5.86781957e-01, 3.08164910e-01],\n",
              "       [6.93090977e-01, 6.55989659e-02],\n",
              "       [9.87245536e-01, 1.50688938e-02],\n",
              "       [9.68068660e-01, 2.12166331e-01],\n",
              "       [7.71948525e-01, 6.87282372e-01],\n",
              "       [8.30297026e-01, 1.78553413e-01],\n",
              "       [1.46016487e-01, 9.42616088e-01],\n",
              "       [3.23649188e-01, 9.04416797e-01],\n",
              "       [2.54177455e-01, 7.63394895e-01],\n",
              "       [5.93633475e-01, 9.49364874e-01],\n",
              "       [2.39950778e-01, 3.85324665e-01],\n",
              "       [6.61685938e-01, 3.55784926e-02],\n",
              "       [8.50356976e-01, 5.24878060e-02],\n",
              "       [5.55042200e-01, 4.28962013e-01],\n",
              "       [1.53183654e-01, 9.73962534e-01],\n",
              "       [6.74621937e-01, 3.19895298e-01],\n",
              "       [6.39617170e-01, 3.33756413e-01],\n",
              "       [9.66433130e-01, 7.94353511e-01],\n",
              "       [8.65246564e-01, 9.58118781e-01],\n",
              "       [2.89820730e-01, 4.32335061e-01],\n",
              "       [3.67165533e-01, 4.53502808e-01],\n",
              "       [1.31251115e-01, 5.42232037e-01],\n",
              "       [4.27703220e-01, 8.74316635e-01],\n",
              "       [7.46299519e-01, 4.11772977e-01],\n",
              "       [2.28416771e-01, 8.32505517e-01],\n",
              "       [3.43720551e-02, 5.38599485e-01],\n",
              "       [1.49779220e-01, 4.44006468e-01],\n",
              "       [9.63557029e-02, 3.58596111e-01],\n",
              "       [4.86842087e-01, 9.24816820e-01],\n",
              "       [5.15010098e-01, 6.16470888e-02],\n",
              "       [7.56830069e-01, 5.45463597e-01],\n",
              "       [8.31253724e-01, 1.02591430e-01],\n",
              "       [1.51480106e-01, 4.07103104e-01],\n",
              "       [3.09397456e-01, 2.89532799e-01],\n",
              "       [6.25818382e-01, 7.97583804e-01],\n",
              "       [3.77033184e-01, 3.04712942e-01],\n",
              "       [2.98883681e-01, 1.54037530e-01],\n",
              "       [9.01620736e-01, 2.93338377e-01],\n",
              "       [2.34535840e-01, 1.81551383e-02],\n",
              "       [9.67621874e-01, 5.74222889e-01],\n",
              "       [4.39384541e-01, 4.26998093e-01],\n",
              "       [2.66663789e-01, 2.90241891e-01],\n",
              "       [7.72974387e-02, 2.61206805e-01],\n",
              "       [2.17104848e-01, 2.29628001e-01],\n",
              "       [2.72897911e-01, 2.41260563e-01],\n",
              "       [4.31523191e-01, 5.97691164e-01],\n",
              "       [9.02961475e-02, 2.40269541e-01],\n",
              "       [1.75229143e-01, 5.94717024e-01]])"
            ]
          },
          "metadata": {},
          "execution_count": 5
        }
      ]
    },
    {
      "cell_type": "code",
      "source": [
        "A = np.arange(10)\n",
        "A"
      ],
      "metadata": {
        "colab": {
          "base_uri": "https://localhost:8080/"
        },
        "id": "vOr6O7LMDTLE",
        "outputId": "ac8c864d-ae0e-4cd9-b02f-b57743fb4838"
      },
      "execution_count": null,
      "outputs": [
        {
          "output_type": "execute_result",
          "data": {
            "text/plain": [
              "array([0, 1, 2, 3, 4, 5, 6, 7, 8, 9])"
            ]
          },
          "metadata": {},
          "execution_count": 8
        }
      ]
    },
    {
      "cell_type": "code",
      "source": [
        "A[A%2==0]"
      ],
      "metadata": {
        "colab": {
          "base_uri": "https://localhost:8080/"
        },
        "id": "upXsx6JMDaJu",
        "outputId": "01da7de0-830e-49b9-b8f7-efa0ac62400b"
      },
      "execution_count": null,
      "outputs": [
        {
          "output_type": "execute_result",
          "data": {
            "text/plain": [
              "array([0, 2, 4, 6, 8])"
            ]
          },
          "metadata": {},
          "execution_count": 9
        }
      ]
    }
  ]
}