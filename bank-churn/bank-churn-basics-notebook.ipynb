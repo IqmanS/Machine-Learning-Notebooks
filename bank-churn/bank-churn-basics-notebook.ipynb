{
 "cells": [
  {
   "cell_type": "markdown",
   "id": "73905ba8",
   "metadata": {
    "papermill": {
     "duration": 0.008638,
     "end_time": "2024-01-14T06:06:10.913983",
     "exception": false,
     "start_time": "2024-01-14T06:06:10.905345",
     "status": "completed"
    },
    "tags": []
   },
   "source": [
    "\n",
    "<div style=\"display:fill;\n",
    "           background-color:#e1d9ce;\n",
    "           letter-spacing:0.5px;border-bottom: 2px solid black;\">\n",
    "<img src=\"https://images.unsplash.com/photo-1501167786227-4cba60f6d58f?q=80&h=500&w=2000&auto=format&fit=crop&ixlib=rb-4.0.3&ixid=M3wxMjA3fDB8MHxwaG90by1wYWdlfHx8fGVufDB8fHx8fA%3D%3D\">\n",
    "    \n",
    "<H1 style=\"padding: 10px; color:black; font-weight:600;font-family: 'Garamond', 'Lucida Sans', sans-serif; text-align: center; font-size: 42px;\">Binary Classification with a Bank Churn Dataset</H1>\n",
    "</div>\n"
   ]
  },
  {
   "cell_type": "code",
   "execution_count": 1,
   "id": "c826ea5a",
   "metadata": {
    "_cell_guid": "b1076dfc-b9ad-4769-8c92-a6c4dae69d19",
    "_uuid": "8f2839f25d086af736a60e9eeb907d3b93b6e0e5",
    "execution": {
     "iopub.execute_input": "2024-01-14T06:06:10.932046Z",
     "iopub.status.busy": "2024-01-14T06:06:10.931124Z",
     "iopub.status.idle": "2024-01-14T06:06:16.694035Z",
     "shell.execute_reply": "2024-01-14T06:06:16.692864Z"
    },
    "papermill": {
     "duration": 5.774996,
     "end_time": "2024-01-14T06:06:16.696852",
     "exception": false,
     "start_time": "2024-01-14T06:06:10.921856",
     "status": "completed"
    },
    "tags": []
   },
   "outputs": [],
   "source": [
    "import numpy as np \n",
    "import pandas as pd \n",
    "import warnings\n",
    "warnings.filterwarnings(\"ignore\")\n",
    "import os\n",
    "pd.plotting.register_matplotlib_converters()\n",
    "import matplotlib.pyplot as plt\n",
    "%matplotlib inline\n",
    "import seaborn as sns\n",
    "sns.set_style(\"dark\") # Theme for plots as Dark\n",
    "sns.set_palette(\"copper\")\n",
    "from catboost import CatBoostClassifier, Pool\n",
    "from xgboost import XGBClassifier\n",
    "from xgboost.callback import EarlyStopping\n",
    "from lightgbm import LGBMClassifier\n",
    "from sklearn.model_selection import train_test_split, cross_val_score, GridSearchCV, cross_validate, StratifiedKFold, RepeatedStratifiedKFold\n",
    "from sklearn.metrics import accuracy_score, roc_auc_score, confusion_matrix\n",
    "from sklearn.ensemble import RandomForestClassifier\n",
    "from sklearn.ensemble import GradientBoostingClassifier\n",
    "from sklearn.ensemble import VotingClassifier, StackingClassifier\n",
    "from sklearn.ensemble import HistGradientBoostingClassifier\n",
    "from imblearn.over_sampling import RandomOverSampler\n",
    "from imblearn.under_sampling import RandomUnderSampler\n",
    "from catboost import Pool, CatBoostClassifier, cv\n",
    "from imblearn.over_sampling import KMeansSMOTE\n",
    "from imblearn.over_sampling import SMOTE, ADASYN\n",
    "from collections import Counter\n",
    "from sklearn.cluster import KMeans\n",
    "import optuna\n",
    "import imblearn"
   ]
  },
  {
   "cell_type": "markdown",
   "id": "a272f6c8",
   "metadata": {
    "papermill": {
     "duration": 0.007499,
     "end_time": "2024-01-14T06:06:16.712414",
     "exception": false,
     "start_time": "2024-01-14T06:06:16.704915",
     "status": "completed"
    },
    "tags": []
   },
   "source": [
    "<div style=\"background-color: #e1d9ce; padding: 20px; border-radius: 20px; border: 2px solid black;\">\n",
    "    <h1 style=\"font-family:  'Garamond', 'Lucida Sans', sans-serif; text-align: center; color: black; font-weight: bold; font-size: 42px;\">\n",
    "    Table of Contents\n",
    "    </h1>\n",
    "</div>\n",
    "\n",
    "<a href=\"#1\" style=\"font-family: 'Lucida Sans', 'Lucida Sans', sans-serif; text-align: left; color: #323232;font-size: 22px;\"> 1. Dataset Overview </a><br>\n",
    "<a href=\"#2\" style=\"font-family: 'Lucida Sans', 'Lucida Sans', sans-serif; text-align: left; color: #323232;font-size: 22px;\"> 2. Data Processing </a> <br>\n",
    "<a href=\"#3\" style=\"font-family: 'Lucida Sans', 'Lucida Sans', sans-serif; text-align: left; color: #323232;font-size: 22px;\"> 3. Exploratory Data Analysis & Visualization </a> <br>\n",
    "<a href=\"#4\" style=\"font-family: 'Lucida Sans', 'Lucida Sans', sans-serif; text-align: left; color: #323232;font-size: 22px;\"> 4. Training Models </a><br>\n",
    "<a href=\"#4.1\" style=\"font-family: 'Lucida Sans', 'Lucida Sans', sans-serif; text-align: left; color: #323232;font-size: 16px;padding-left: 25px;\"> 4.1 Random Forest Classifier </a><br>\n",
    "<a href=\"#4.2\" style=\"font-family: 'Lucida Sans', 'Lucida Sans', sans-serif; text-align: left; color: #323232;font-size: 16px;padding-left: 25px;\"> 4.2 LGBM Classifier </a><br>\n",
    "<a href=\"#4.3\" style=\"font-family: 'Lucida Sans', 'Lucida Sans', sans-serif; text-align: left; color: #323232;font-size: 16px;padding-left: 25px;\"> 4.3 XGB Classifier </a><br>\n",
    "<a href=\"#7\" style=\"font-family: 'Lucida Sans', 'Lucida Sans', sans-serif; text-align: left; color: #323232;font-size: 22px;\"> 5. Creating 'submission.csv' </a><br>\n"
   ]
  },
  {
   "cell_type": "markdown",
   "id": "52f34638",
   "metadata": {
    "papermill": {
     "duration": 0.007548,
     "end_time": "2024-01-14T06:06:16.727811",
     "exception": false,
     "start_time": "2024-01-14T06:06:16.720263",
     "status": "completed"
    },
    "tags": []
   },
   "source": [
    "<div id=\"1\" style=\"background-color: #e1d9ce; padding: 20px; border-radius: 20px; border: 2px solid black;\">\n",
    "    <h1 style=\"font-family:  'Garamond', 'Lucida Sans', sans-serif; text-align: center; color: #000000; font-weight: bold; font-size: 42px;\">\n",
    "    Dataset Overview\n",
    "    </h1>\n",
    "</div>\n",
    "<br>\n",
    "<p style=\"font-family: 'Lucida Sans', 'Lucida Sans', sans-serif; text-align: left; color: #323232;font-size: 22px;\">\n",
    "    (Binary) Target Column: 'Exited' </p>"
   ]
  },
  {
   "cell_type": "code",
   "execution_count": 2,
   "id": "93636217",
   "metadata": {
    "execution": {
     "iopub.execute_input": "2024-01-14T06:06:16.747155Z",
     "iopub.status.busy": "2024-01-14T06:06:16.746414Z",
     "iopub.status.idle": "2024-01-14T06:06:17.265866Z",
     "shell.execute_reply": "2024-01-14T06:06:17.264747Z"
    },
    "papermill": {
     "duration": 0.532966,
     "end_time": "2024-01-14T06:06:17.268589",
     "exception": false,
     "start_time": "2024-01-14T06:06:16.735623",
     "status": "completed"
    },
    "tags": []
   },
   "outputs": [
    {
     "data": {
      "text/html": [
       "<div>\n",
       "<style scoped>\n",
       "    .dataframe tbody tr th:only-of-type {\n",
       "        vertical-align: middle;\n",
       "    }\n",
       "\n",
       "    .dataframe tbody tr th {\n",
       "        vertical-align: top;\n",
       "    }\n",
       "\n",
       "    .dataframe thead th {\n",
       "        text-align: right;\n",
       "    }\n",
       "</style>\n",
       "<table border=\"1\" class=\"dataframe\">\n",
       "  <thead>\n",
       "    <tr style=\"text-align: right;\">\n",
       "      <th></th>\n",
       "      <th>CustomerId</th>\n",
       "      <th>Surname</th>\n",
       "      <th>CreditScore</th>\n",
       "      <th>Geography</th>\n",
       "      <th>Gender</th>\n",
       "      <th>Age</th>\n",
       "      <th>Tenure</th>\n",
       "      <th>Balance</th>\n",
       "      <th>NumOfProducts</th>\n",
       "      <th>HasCrCard</th>\n",
       "      <th>IsActiveMember</th>\n",
       "      <th>EstimatedSalary</th>\n",
       "      <th>Exited</th>\n",
       "    </tr>\n",
       "    <tr>\n",
       "      <th>id</th>\n",
       "      <th></th>\n",
       "      <th></th>\n",
       "      <th></th>\n",
       "      <th></th>\n",
       "      <th></th>\n",
       "      <th></th>\n",
       "      <th></th>\n",
       "      <th></th>\n",
       "      <th></th>\n",
       "      <th></th>\n",
       "      <th></th>\n",
       "      <th></th>\n",
       "      <th></th>\n",
       "    </tr>\n",
       "  </thead>\n",
       "  <tbody>\n",
       "    <tr>\n",
       "      <th>0</th>\n",
       "      <td>15674932</td>\n",
       "      <td>Okwudilichukwu</td>\n",
       "      <td>668</td>\n",
       "      <td>France</td>\n",
       "      <td>Male</td>\n",
       "      <td>33.0</td>\n",
       "      <td>3</td>\n",
       "      <td>0.00</td>\n",
       "      <td>2</td>\n",
       "      <td>1.0</td>\n",
       "      <td>0.0</td>\n",
       "      <td>181449.97</td>\n",
       "      <td>0</td>\n",
       "    </tr>\n",
       "    <tr>\n",
       "      <th>1</th>\n",
       "      <td>15749177</td>\n",
       "      <td>Okwudiliolisa</td>\n",
       "      <td>627</td>\n",
       "      <td>France</td>\n",
       "      <td>Male</td>\n",
       "      <td>33.0</td>\n",
       "      <td>1</td>\n",
       "      <td>0.00</td>\n",
       "      <td>2</td>\n",
       "      <td>1.0</td>\n",
       "      <td>1.0</td>\n",
       "      <td>49503.50</td>\n",
       "      <td>0</td>\n",
       "    </tr>\n",
       "    <tr>\n",
       "      <th>2</th>\n",
       "      <td>15694510</td>\n",
       "      <td>Hsueh</td>\n",
       "      <td>678</td>\n",
       "      <td>France</td>\n",
       "      <td>Male</td>\n",
       "      <td>40.0</td>\n",
       "      <td>10</td>\n",
       "      <td>0.00</td>\n",
       "      <td>2</td>\n",
       "      <td>1.0</td>\n",
       "      <td>0.0</td>\n",
       "      <td>184866.69</td>\n",
       "      <td>0</td>\n",
       "    </tr>\n",
       "    <tr>\n",
       "      <th>3</th>\n",
       "      <td>15741417</td>\n",
       "      <td>Kao</td>\n",
       "      <td>581</td>\n",
       "      <td>France</td>\n",
       "      <td>Male</td>\n",
       "      <td>34.0</td>\n",
       "      <td>2</td>\n",
       "      <td>148882.54</td>\n",
       "      <td>1</td>\n",
       "      <td>1.0</td>\n",
       "      <td>1.0</td>\n",
       "      <td>84560.88</td>\n",
       "      <td>0</td>\n",
       "    </tr>\n",
       "    <tr>\n",
       "      <th>4</th>\n",
       "      <td>15766172</td>\n",
       "      <td>Chiemenam</td>\n",
       "      <td>716</td>\n",
       "      <td>Spain</td>\n",
       "      <td>Male</td>\n",
       "      <td>33.0</td>\n",
       "      <td>5</td>\n",
       "      <td>0.00</td>\n",
       "      <td>2</td>\n",
       "      <td>1.0</td>\n",
       "      <td>1.0</td>\n",
       "      <td>15068.83</td>\n",
       "      <td>0</td>\n",
       "    </tr>\n",
       "    <tr>\n",
       "      <th>5</th>\n",
       "      <td>15771669</td>\n",
       "      <td>Genovese</td>\n",
       "      <td>588</td>\n",
       "      <td>Germany</td>\n",
       "      <td>Male</td>\n",
       "      <td>36.0</td>\n",
       "      <td>4</td>\n",
       "      <td>131778.58</td>\n",
       "      <td>1</td>\n",
       "      <td>1.0</td>\n",
       "      <td>0.0</td>\n",
       "      <td>136024.31</td>\n",
       "      <td>1</td>\n",
       "    </tr>\n",
       "    <tr>\n",
       "      <th>6</th>\n",
       "      <td>15692819</td>\n",
       "      <td>Ch'ang</td>\n",
       "      <td>593</td>\n",
       "      <td>France</td>\n",
       "      <td>Female</td>\n",
       "      <td>30.0</td>\n",
       "      <td>8</td>\n",
       "      <td>144772.69</td>\n",
       "      <td>1</td>\n",
       "      <td>1.0</td>\n",
       "      <td>0.0</td>\n",
       "      <td>29792.11</td>\n",
       "      <td>0</td>\n",
       "    </tr>\n",
       "    <tr>\n",
       "      <th>7</th>\n",
       "      <td>15669611</td>\n",
       "      <td>Chukwuebuka</td>\n",
       "      <td>678</td>\n",
       "      <td>Spain</td>\n",
       "      <td>Male</td>\n",
       "      <td>37.0</td>\n",
       "      <td>1</td>\n",
       "      <td>138476.41</td>\n",
       "      <td>1</td>\n",
       "      <td>1.0</td>\n",
       "      <td>0.0</td>\n",
       "      <td>106851.60</td>\n",
       "      <td>0</td>\n",
       "    </tr>\n",
       "    <tr>\n",
       "      <th>8</th>\n",
       "      <td>15691707</td>\n",
       "      <td>Manna</td>\n",
       "      <td>676</td>\n",
       "      <td>France</td>\n",
       "      <td>Male</td>\n",
       "      <td>43.0</td>\n",
       "      <td>4</td>\n",
       "      <td>0.00</td>\n",
       "      <td>2</td>\n",
       "      <td>1.0</td>\n",
       "      <td>0.0</td>\n",
       "      <td>142917.13</td>\n",
       "      <td>0</td>\n",
       "    </tr>\n",
       "    <tr>\n",
       "      <th>9</th>\n",
       "      <td>15591721</td>\n",
       "      <td>Cattaneo</td>\n",
       "      <td>583</td>\n",
       "      <td>Germany</td>\n",
       "      <td>Male</td>\n",
       "      <td>40.0</td>\n",
       "      <td>4</td>\n",
       "      <td>81274.33</td>\n",
       "      <td>1</td>\n",
       "      <td>1.0</td>\n",
       "      <td>1.0</td>\n",
       "      <td>170843.07</td>\n",
       "      <td>0</td>\n",
       "    </tr>\n",
       "  </tbody>\n",
       "</table>\n",
       "</div>"
      ],
      "text/plain": [
       "    CustomerId         Surname  CreditScore Geography  Gender   Age  Tenure  \\\n",
       "id                                                                            \n",
       "0     15674932  Okwudilichukwu          668    France    Male  33.0       3   \n",
       "1     15749177   Okwudiliolisa          627    France    Male  33.0       1   \n",
       "2     15694510           Hsueh          678    France    Male  40.0      10   \n",
       "3     15741417             Kao          581    France    Male  34.0       2   \n",
       "4     15766172       Chiemenam          716     Spain    Male  33.0       5   \n",
       "5     15771669        Genovese          588   Germany    Male  36.0       4   \n",
       "6     15692819          Ch'ang          593    France  Female  30.0       8   \n",
       "7     15669611     Chukwuebuka          678     Spain    Male  37.0       1   \n",
       "8     15691707           Manna          676    France    Male  43.0       4   \n",
       "9     15591721        Cattaneo          583   Germany    Male  40.0       4   \n",
       "\n",
       "      Balance  NumOfProducts  HasCrCard  IsActiveMember  EstimatedSalary  \\\n",
       "id                                                                         \n",
       "0        0.00              2        1.0             0.0        181449.97   \n",
       "1        0.00              2        1.0             1.0         49503.50   \n",
       "2        0.00              2        1.0             0.0        184866.69   \n",
       "3   148882.54              1        1.0             1.0         84560.88   \n",
       "4        0.00              2        1.0             1.0         15068.83   \n",
       "5   131778.58              1        1.0             0.0        136024.31   \n",
       "6   144772.69              1        1.0             0.0         29792.11   \n",
       "7   138476.41              1        1.0             0.0        106851.60   \n",
       "8        0.00              2        1.0             0.0        142917.13   \n",
       "9    81274.33              1        1.0             1.0        170843.07   \n",
       "\n",
       "    Exited  \n",
       "id          \n",
       "0        0  \n",
       "1        0  \n",
       "2        0  \n",
       "3        0  \n",
       "4        0  \n",
       "5        1  \n",
       "6        0  \n",
       "7        0  \n",
       "8        0  \n",
       "9        0  "
      ]
     },
     "execution_count": 2,
     "metadata": {},
     "output_type": "execute_result"
    }
   ],
   "source": [
    "train_data = pd.read_csv(\"/kaggle/input/playground-series-s4e1/train.csv\",index_col=\"id\")\n",
    "train_data.head(10)"
   ]
  },
  {
   "cell_type": "code",
   "execution_count": 3,
   "id": "65ea63d4",
   "metadata": {
    "execution": {
     "iopub.execute_input": "2024-01-14T06:06:17.287040Z",
     "iopub.status.busy": "2024-01-14T06:06:17.286653Z",
     "iopub.status.idle": "2024-01-14T06:06:17.574778Z",
     "shell.execute_reply": "2024-01-14T06:06:17.573648Z"
    },
    "papermill": {
     "duration": 0.300354,
     "end_time": "2024-01-14T06:06:17.577332",
     "exception": false,
     "start_time": "2024-01-14T06:06:17.276978",
     "status": "completed"
    },
    "tags": []
   },
   "outputs": [
    {
     "data": {
      "text/html": [
       "<div>\n",
       "<style scoped>\n",
       "    .dataframe tbody tr th:only-of-type {\n",
       "        vertical-align: middle;\n",
       "    }\n",
       "\n",
       "    .dataframe tbody tr th {\n",
       "        vertical-align: top;\n",
       "    }\n",
       "\n",
       "    .dataframe thead th {\n",
       "        text-align: right;\n",
       "    }\n",
       "</style>\n",
       "<table border=\"1\" class=\"dataframe\">\n",
       "  <thead>\n",
       "    <tr style=\"text-align: right;\">\n",
       "      <th></th>\n",
       "      <th>CustomerId</th>\n",
       "      <th>Surname</th>\n",
       "      <th>CreditScore</th>\n",
       "      <th>Geography</th>\n",
       "      <th>Gender</th>\n",
       "      <th>Age</th>\n",
       "      <th>Tenure</th>\n",
       "      <th>Balance</th>\n",
       "      <th>NumOfProducts</th>\n",
       "      <th>HasCrCard</th>\n",
       "      <th>IsActiveMember</th>\n",
       "      <th>EstimatedSalary</th>\n",
       "    </tr>\n",
       "    <tr>\n",
       "      <th>id</th>\n",
       "      <th></th>\n",
       "      <th></th>\n",
       "      <th></th>\n",
       "      <th></th>\n",
       "      <th></th>\n",
       "      <th></th>\n",
       "      <th></th>\n",
       "      <th></th>\n",
       "      <th></th>\n",
       "      <th></th>\n",
       "      <th></th>\n",
       "      <th></th>\n",
       "    </tr>\n",
       "  </thead>\n",
       "  <tbody>\n",
       "    <tr>\n",
       "      <th>165034</th>\n",
       "      <td>15773898</td>\n",
       "      <td>Lucchese</td>\n",
       "      <td>586</td>\n",
       "      <td>France</td>\n",
       "      <td>Female</td>\n",
       "      <td>23.0</td>\n",
       "      <td>2</td>\n",
       "      <td>0.00</td>\n",
       "      <td>2</td>\n",
       "      <td>0.0</td>\n",
       "      <td>1.0</td>\n",
       "      <td>160976.75</td>\n",
       "    </tr>\n",
       "    <tr>\n",
       "      <th>165035</th>\n",
       "      <td>15782418</td>\n",
       "      <td>Nott</td>\n",
       "      <td>683</td>\n",
       "      <td>France</td>\n",
       "      <td>Female</td>\n",
       "      <td>46.0</td>\n",
       "      <td>2</td>\n",
       "      <td>0.00</td>\n",
       "      <td>1</td>\n",
       "      <td>1.0</td>\n",
       "      <td>0.0</td>\n",
       "      <td>72549.27</td>\n",
       "    </tr>\n",
       "    <tr>\n",
       "      <th>165036</th>\n",
       "      <td>15807120</td>\n",
       "      <td>K?</td>\n",
       "      <td>656</td>\n",
       "      <td>France</td>\n",
       "      <td>Female</td>\n",
       "      <td>34.0</td>\n",
       "      <td>7</td>\n",
       "      <td>0.00</td>\n",
       "      <td>2</td>\n",
       "      <td>1.0</td>\n",
       "      <td>0.0</td>\n",
       "      <td>138882.09</td>\n",
       "    </tr>\n",
       "    <tr>\n",
       "      <th>165037</th>\n",
       "      <td>15808905</td>\n",
       "      <td>O'Donnell</td>\n",
       "      <td>681</td>\n",
       "      <td>France</td>\n",
       "      <td>Male</td>\n",
       "      <td>36.0</td>\n",
       "      <td>8</td>\n",
       "      <td>0.00</td>\n",
       "      <td>1</td>\n",
       "      <td>1.0</td>\n",
       "      <td>0.0</td>\n",
       "      <td>113931.57</td>\n",
       "    </tr>\n",
       "    <tr>\n",
       "      <th>165038</th>\n",
       "      <td>15607314</td>\n",
       "      <td>Higgins</td>\n",
       "      <td>752</td>\n",
       "      <td>Germany</td>\n",
       "      <td>Male</td>\n",
       "      <td>38.0</td>\n",
       "      <td>10</td>\n",
       "      <td>121263.62</td>\n",
       "      <td>1</td>\n",
       "      <td>1.0</td>\n",
       "      <td>0.0</td>\n",
       "      <td>139431.00</td>\n",
       "    </tr>\n",
       "    <tr>\n",
       "      <th>165039</th>\n",
       "      <td>15672704</td>\n",
       "      <td>Pearson</td>\n",
       "      <td>593</td>\n",
       "      <td>France</td>\n",
       "      <td>Female</td>\n",
       "      <td>22.0</td>\n",
       "      <td>9</td>\n",
       "      <td>0.00</td>\n",
       "      <td>2</td>\n",
       "      <td>0.0</td>\n",
       "      <td>0.0</td>\n",
       "      <td>51907.72</td>\n",
       "    </tr>\n",
       "    <tr>\n",
       "      <th>165040</th>\n",
       "      <td>15647838</td>\n",
       "      <td>Onyemere</td>\n",
       "      <td>682</td>\n",
       "      <td>Spain</td>\n",
       "      <td>Male</td>\n",
       "      <td>45.0</td>\n",
       "      <td>4</td>\n",
       "      <td>0.00</td>\n",
       "      <td>2</td>\n",
       "      <td>1.0</td>\n",
       "      <td>1.0</td>\n",
       "      <td>157878.67</td>\n",
       "    </tr>\n",
       "    <tr>\n",
       "      <th>165041</th>\n",
       "      <td>15775307</td>\n",
       "      <td>Hargreaves</td>\n",
       "      <td>539</td>\n",
       "      <td>Spain</td>\n",
       "      <td>Female</td>\n",
       "      <td>47.0</td>\n",
       "      <td>8</td>\n",
       "      <td>0.00</td>\n",
       "      <td>2</td>\n",
       "      <td>1.0</td>\n",
       "      <td>1.0</td>\n",
       "      <td>126784.29</td>\n",
       "    </tr>\n",
       "    <tr>\n",
       "      <th>165042</th>\n",
       "      <td>15653937</td>\n",
       "      <td>Hsueh</td>\n",
       "      <td>845</td>\n",
       "      <td>France</td>\n",
       "      <td>Female</td>\n",
       "      <td>47.0</td>\n",
       "      <td>3</td>\n",
       "      <td>111096.91</td>\n",
       "      <td>1</td>\n",
       "      <td>1.0</td>\n",
       "      <td>0.0</td>\n",
       "      <td>94978.10</td>\n",
       "    </tr>\n",
       "    <tr>\n",
       "      <th>165043</th>\n",
       "      <td>15752344</td>\n",
       "      <td>Teng</td>\n",
       "      <td>645</td>\n",
       "      <td>Spain</td>\n",
       "      <td>Male</td>\n",
       "      <td>30.0</td>\n",
       "      <td>5</td>\n",
       "      <td>0.00</td>\n",
       "      <td>2</td>\n",
       "      <td>0.0</td>\n",
       "      <td>1.0</td>\n",
       "      <td>149195.44</td>\n",
       "    </tr>\n",
       "  </tbody>\n",
       "</table>\n",
       "</div>"
      ],
      "text/plain": [
       "        CustomerId     Surname  CreditScore Geography  Gender   Age  Tenure  \\\n",
       "id                                                                            \n",
       "165034    15773898    Lucchese          586    France  Female  23.0       2   \n",
       "165035    15782418        Nott          683    France  Female  46.0       2   \n",
       "165036    15807120          K?          656    France  Female  34.0       7   \n",
       "165037    15808905   O'Donnell          681    France    Male  36.0       8   \n",
       "165038    15607314     Higgins          752   Germany    Male  38.0      10   \n",
       "165039    15672704     Pearson          593    France  Female  22.0       9   \n",
       "165040    15647838    Onyemere          682     Spain    Male  45.0       4   \n",
       "165041    15775307  Hargreaves          539     Spain  Female  47.0       8   \n",
       "165042    15653937       Hsueh          845    France  Female  47.0       3   \n",
       "165043    15752344        Teng          645     Spain    Male  30.0       5   \n",
       "\n",
       "          Balance  NumOfProducts  HasCrCard  IsActiveMember  EstimatedSalary  \n",
       "id                                                                            \n",
       "165034       0.00              2        0.0             1.0        160976.75  \n",
       "165035       0.00              1        1.0             0.0         72549.27  \n",
       "165036       0.00              2        1.0             0.0        138882.09  \n",
       "165037       0.00              1        1.0             0.0        113931.57  \n",
       "165038  121263.62              1        1.0             0.0        139431.00  \n",
       "165039       0.00              2        0.0             0.0         51907.72  \n",
       "165040       0.00              2        1.0             1.0        157878.67  \n",
       "165041       0.00              2        1.0             1.0        126784.29  \n",
       "165042  111096.91              1        1.0             0.0         94978.10  \n",
       "165043       0.00              2        0.0             1.0        149195.44  "
      ]
     },
     "execution_count": 3,
     "metadata": {},
     "output_type": "execute_result"
    }
   ],
   "source": [
    "test_data = pd.read_csv(\"/kaggle/input/playground-series-s4e1/test.csv\",index_col=\"id\")\n",
    "test_data.head(10)"
   ]
  },
  {
   "cell_type": "markdown",
   "id": "5f5ff9f8",
   "metadata": {
    "papermill": {
     "duration": 0.008613,
     "end_time": "2024-01-14T06:06:17.594771",
     "exception": false,
     "start_time": "2024-01-14T06:06:17.586158",
     "status": "completed"
    },
    "tags": []
   },
   "source": [
    "<div  >\n",
    "    <h1 style=\"font-family:  'Garamond', 'Lucida Sans', sans-serif; text-align: center; color: #263A29; font-weight: bold; font-size: 36px;\">\n",
    "   Concise Summary of Train Data\n",
    "    </h1>\n",
    "</div>\n",
    "<hr>"
   ]
  },
  {
   "cell_type": "code",
   "execution_count": 4,
   "id": "d2572efd",
   "metadata": {
    "execution": {
     "iopub.execute_input": "2024-01-14T06:06:17.614390Z",
     "iopub.status.busy": "2024-01-14T06:06:17.613608Z",
     "iopub.status.idle": "2024-01-14T06:06:17.688601Z",
     "shell.execute_reply": "2024-01-14T06:06:17.687444Z"
    },
    "papermill": {
     "duration": 0.08771,
     "end_time": "2024-01-14T06:06:17.691295",
     "exception": false,
     "start_time": "2024-01-14T06:06:17.603585",
     "status": "completed"
    },
    "tags": []
   },
   "outputs": [
    {
     "name": "stdout",
     "output_type": "stream",
     "text": [
      "<class 'pandas.core.frame.DataFrame'>\n",
      "Index: 165034 entries, 0 to 165033\n",
      "Data columns (total 13 columns):\n",
      " #   Column           Non-Null Count   Dtype  \n",
      "---  ------           --------------   -----  \n",
      " 0   CustomerId       165034 non-null  int64  \n",
      " 1   Surname          165034 non-null  object \n",
      " 2   CreditScore      165034 non-null  int64  \n",
      " 3   Geography        165034 non-null  object \n",
      " 4   Gender           165034 non-null  object \n",
      " 5   Age              165034 non-null  float64\n",
      " 6   Tenure           165034 non-null  int64  \n",
      " 7   Balance          165034 non-null  float64\n",
      " 8   NumOfProducts    165034 non-null  int64  \n",
      " 9   HasCrCard        165034 non-null  float64\n",
      " 10  IsActiveMember   165034 non-null  float64\n",
      " 11  EstimatedSalary  165034 non-null  float64\n",
      " 12  Exited           165034 non-null  int64  \n",
      "dtypes: float64(5), int64(5), object(3)\n",
      "memory usage: 17.6+ MB\n"
     ]
    }
   ],
   "source": [
    "train_data.info()"
   ]
  },
  {
   "cell_type": "markdown",
   "id": "f2e5a0f8",
   "metadata": {
    "papermill": {
     "duration": 0.008597,
     "end_time": "2024-01-14T06:06:17.709003",
     "exception": false,
     "start_time": "2024-01-14T06:06:17.700406",
     "status": "completed"
    },
    "tags": []
   },
   "source": [
    "<ul style=\"font-family: 'Lucida Sans', 'Lucida Sans', sans-serif; text-align: left; color: #323232; font-size: 20px;\"> \n",
    "    <li> No 'Na' Values in the dataset.</li>\n",
    "    <li> 5 columns of dataset are of 'float64' type.</li>\n",
    "    <li> 5 columns of dataset are of 'int64' type.</li>\n",
    "    <li> 3 columns of dataset are of 'object' type. (Needs to be processed)</li>\n",
    "</ul>"
   ]
  },
  {
   "cell_type": "markdown",
   "id": "47a59827",
   "metadata": {
    "papermill": {
     "duration": 0.009052,
     "end_time": "2024-01-14T06:06:17.726864",
     "exception": false,
     "start_time": "2024-01-14T06:06:17.717812",
     "status": "completed"
    },
    "tags": []
   },
   "source": [
    "<div id=\"2\" style=\"background-color: #e1d9ce; padding: 20px; border-radius: 20px; border: 2px solid black;\">\n",
    "    <h1 style=\"font-family:  'Garamond', 'Lucida Sans', sans-serif; text-align: center; color: #000000; font-weight: bold; font-size: 42px;\">\n",
    "    Data Processing\n",
    "    </h1>\n",
    "</div>\n",
    "<br>\n",
    "<p style=\"font-family: 'Lucida Sans', 'Lucida Sans', sans-serif; text-align: left; color: #323232; font-size: 20px;\"> \n",
    "Encoding the columns with 'object' datatype.\n",
    "   <br>\n",
    "I used Label Encoding here.\n",
    "</p>\n",
    "<img src = \"https://miro.medium.com/v2/resize:fit:1400/0*T5jaa2othYfXZX9W.\">"
   ]
  },
  {
   "cell_type": "code",
   "execution_count": 5,
   "id": "e1f5330f",
   "metadata": {
    "execution": {
     "iopub.execute_input": "2024-01-14T06:06:17.746234Z",
     "iopub.status.busy": "2024-01-14T06:06:17.745827Z",
     "iopub.status.idle": "2024-01-14T06:06:18.059770Z",
     "shell.execute_reply": "2024-01-14T06:06:18.058596Z"
    },
    "papermill": {
     "duration": 0.326647,
     "end_time": "2024-01-14T06:06:18.062283",
     "exception": false,
     "start_time": "2024-01-14T06:06:17.735636",
     "status": "completed"
    },
    "tags": []
   },
   "outputs": [
    {
     "data": {
      "text/html": [
       "<div>\n",
       "<style scoped>\n",
       "    .dataframe tbody tr th:only-of-type {\n",
       "        vertical-align: middle;\n",
       "    }\n",
       "\n",
       "    .dataframe tbody tr th {\n",
       "        vertical-align: top;\n",
       "    }\n",
       "\n",
       "    .dataframe thead th {\n",
       "        text-align: right;\n",
       "    }\n",
       "</style>\n",
       "<table border=\"1\" class=\"dataframe\">\n",
       "  <thead>\n",
       "    <tr style=\"text-align: right;\">\n",
       "      <th></th>\n",
       "      <th>CustomerId</th>\n",
       "      <th>Surname</th>\n",
       "      <th>CreditScore</th>\n",
       "      <th>Geography</th>\n",
       "      <th>Gender</th>\n",
       "      <th>Age</th>\n",
       "      <th>Tenure</th>\n",
       "      <th>Balance</th>\n",
       "      <th>NumOfProducts</th>\n",
       "      <th>HasCrCard</th>\n",
       "      <th>IsActiveMember</th>\n",
       "      <th>EstimatedSalary</th>\n",
       "      <th>Exited</th>\n",
       "    </tr>\n",
       "    <tr>\n",
       "      <th>id</th>\n",
       "      <th></th>\n",
       "      <th></th>\n",
       "      <th></th>\n",
       "      <th></th>\n",
       "      <th></th>\n",
       "      <th></th>\n",
       "      <th></th>\n",
       "      <th></th>\n",
       "      <th></th>\n",
       "      <th></th>\n",
       "      <th></th>\n",
       "      <th></th>\n",
       "      <th></th>\n",
       "    </tr>\n",
       "  </thead>\n",
       "  <tbody>\n",
       "    <tr>\n",
       "      <th>0</th>\n",
       "      <td>15674932</td>\n",
       "      <td>1992</td>\n",
       "      <td>668</td>\n",
       "      <td>0</td>\n",
       "      <td>1</td>\n",
       "      <td>33.0</td>\n",
       "      <td>3</td>\n",
       "      <td>0.00</td>\n",
       "      <td>2</td>\n",
       "      <td>1.0</td>\n",
       "      <td>0.0</td>\n",
       "      <td>181449.97</td>\n",
       "      <td>0</td>\n",
       "    </tr>\n",
       "    <tr>\n",
       "      <th>1</th>\n",
       "      <td>15749177</td>\n",
       "      <td>1993</td>\n",
       "      <td>627</td>\n",
       "      <td>0</td>\n",
       "      <td>1</td>\n",
       "      <td>33.0</td>\n",
       "      <td>1</td>\n",
       "      <td>0.00</td>\n",
       "      <td>2</td>\n",
       "      <td>1.0</td>\n",
       "      <td>1.0</td>\n",
       "      <td>49503.50</td>\n",
       "      <td>0</td>\n",
       "    </tr>\n",
       "    <tr>\n",
       "      <th>2</th>\n",
       "      <td>15694510</td>\n",
       "      <td>1217</td>\n",
       "      <td>678</td>\n",
       "      <td>0</td>\n",
       "      <td>1</td>\n",
       "      <td>40.0</td>\n",
       "      <td>10</td>\n",
       "      <td>0.00</td>\n",
       "      <td>2</td>\n",
       "      <td>1.0</td>\n",
       "      <td>0.0</td>\n",
       "      <td>184866.69</td>\n",
       "      <td>0</td>\n",
       "    </tr>\n",
       "    <tr>\n",
       "      <th>3</th>\n",
       "      <td>15741417</td>\n",
       "      <td>1341</td>\n",
       "      <td>581</td>\n",
       "      <td>0</td>\n",
       "      <td>1</td>\n",
       "      <td>34.0</td>\n",
       "      <td>2</td>\n",
       "      <td>148882.54</td>\n",
       "      <td>1</td>\n",
       "      <td>1.0</td>\n",
       "      <td>1.0</td>\n",
       "      <td>84560.88</td>\n",
       "      <td>0</td>\n",
       "    </tr>\n",
       "    <tr>\n",
       "      <th>4</th>\n",
       "      <td>15766172</td>\n",
       "      <td>483</td>\n",
       "      <td>716</td>\n",
       "      <td>2</td>\n",
       "      <td>1</td>\n",
       "      <td>33.0</td>\n",
       "      <td>5</td>\n",
       "      <td>0.00</td>\n",
       "      <td>2</td>\n",
       "      <td>1.0</td>\n",
       "      <td>1.0</td>\n",
       "      <td>15068.83</td>\n",
       "      <td>0</td>\n",
       "    </tr>\n",
       "  </tbody>\n",
       "</table>\n",
       "</div>"
      ],
      "text/plain": [
       "    CustomerId  Surname  CreditScore  Geography  Gender   Age  Tenure  \\\n",
       "id                                                                      \n",
       "0     15674932     1992          668          0       1  33.0       3   \n",
       "1     15749177     1993          627          0       1  33.0       1   \n",
       "2     15694510     1217          678          0       1  40.0      10   \n",
       "3     15741417     1341          581          0       1  34.0       2   \n",
       "4     15766172      483          716          2       1  33.0       5   \n",
       "\n",
       "      Balance  NumOfProducts  HasCrCard  IsActiveMember  EstimatedSalary  \\\n",
       "id                                                                         \n",
       "0        0.00              2        1.0             0.0        181449.97   \n",
       "1        0.00              2        1.0             1.0         49503.50   \n",
       "2        0.00              2        1.0             0.0        184866.69   \n",
       "3   148882.54              1        1.0             1.0         84560.88   \n",
       "4        0.00              2        1.0             1.0         15068.83   \n",
       "\n",
       "    Exited  \n",
       "id          \n",
       "0        0  \n",
       "1        0  \n",
       "2        0  \n",
       "3        0  \n",
       "4        0  "
      ]
     },
     "execution_count": 5,
     "metadata": {},
     "output_type": "execute_result"
    }
   ],
   "source": [
    "from sklearn.preprocessing import OneHotEncoder, LabelEncoder\n",
    "\n",
    "label_enc = LabelEncoder()\n",
    "\n",
    "train_data[\"Gender\"] = label_enc.fit_transform(train_data[[\"Gender\"]])\n",
    "test_data[\"Gender\"] = label_enc.transform(test_data[[\"Gender\"]])\n",
    "\n",
    "train_data[\"Geography\"] = label_enc.fit_transform(train_data[[\"Geography\"]])\n",
    "test_data[\"Geography\"] = label_enc.transform(test_data[[\"Geography\"]])\n",
    "\n",
    "label_enc.fit(pd.concat([test_data[[\"Surname\"]],train_data[[\"Surname\"]]]))\n",
    "train_data[\"Surname\"] = label_enc.transform(train_data[[\"Surname\"]])\n",
    "test_data[\"Surname\"] = label_enc.transform(test_data[[\"Surname\"]])\n",
    "\n",
    "train_data.head()"
   ]
  },
  {
   "cell_type": "code",
   "execution_count": 6,
   "id": "a8cae083",
   "metadata": {
    "execution": {
     "iopub.execute_input": "2024-01-14T06:06:18.083039Z",
     "iopub.status.busy": "2024-01-14T06:06:18.082215Z",
     "iopub.status.idle": "2024-01-14T06:06:18.097825Z",
     "shell.execute_reply": "2024-01-14T06:06:18.096961Z"
    },
    "papermill": {
     "duration": 0.028679,
     "end_time": "2024-01-14T06:06:18.100269",
     "exception": false,
     "start_time": "2024-01-14T06:06:18.071590",
     "status": "completed"
    },
    "tags": []
   },
   "outputs": [
    {
     "name": "stdout",
     "output_type": "stream",
     "text": [
      "<class 'pandas.core.frame.DataFrame'>\n",
      "Index: 165034 entries, 0 to 165033\n",
      "Data columns (total 13 columns):\n",
      " #   Column           Non-Null Count   Dtype  \n",
      "---  ------           --------------   -----  \n",
      " 0   CustomerId       165034 non-null  int64  \n",
      " 1   Surname          165034 non-null  int64  \n",
      " 2   CreditScore      165034 non-null  int64  \n",
      " 3   Geography        165034 non-null  int64  \n",
      " 4   Gender           165034 non-null  int64  \n",
      " 5   Age              165034 non-null  float64\n",
      " 6   Tenure           165034 non-null  int64  \n",
      " 7   Balance          165034 non-null  float64\n",
      " 8   NumOfProducts    165034 non-null  int64  \n",
      " 9   HasCrCard        165034 non-null  float64\n",
      " 10  IsActiveMember   165034 non-null  float64\n",
      " 11  EstimatedSalary  165034 non-null  float64\n",
      " 12  Exited           165034 non-null  int64  \n",
      "dtypes: float64(5), int64(8)\n",
      "memory usage: 17.6 MB\n"
     ]
    }
   ],
   "source": [
    "train_data.info()"
   ]
  },
  {
   "cell_type": "markdown",
   "id": "f4acbdb9",
   "metadata": {
    "papermill": {
     "duration": 0.009087,
     "end_time": "2024-01-14T06:06:18.119338",
     "exception": false,
     "start_time": "2024-01-14T06:06:18.110251",
     "status": "completed"
    },
    "tags": []
   },
   "source": [
    "<div id=\"3\" style=\"background-color: #e1d9ce; padding: 20px; border-radius: 20px; border: 2px solid black;\">\n",
    "    <h1 style=\"font-family:  'Garamond', 'Lucida Sans', sans-serif; text-align: center; color: #000000; font-weight: bold; font-size: 42px;\">\n",
    "    Exploratory Data Analysis & Visualization \n",
    "    </h1>\n",
    "</div>"
   ]
  },
  {
   "cell_type": "code",
   "execution_count": 7,
   "id": "0e45048c",
   "metadata": {
    "execution": {
     "iopub.execute_input": "2024-01-14T06:06:18.140063Z",
     "iopub.status.busy": "2024-01-14T06:06:18.139646Z",
     "iopub.status.idle": "2024-01-14T06:06:19.520395Z",
     "shell.execute_reply": "2024-01-14T06:06:19.519122Z"
    },
    "papermill": {
     "duration": 1.394231,
     "end_time": "2024-01-14T06:06:19.522974",
     "exception": false,
     "start_time": "2024-01-14T06:06:18.128743",
     "status": "completed"
    },
    "tags": []
   },
   "outputs": [
    {
     "data": {
      "image/png": "[encoded data removed]",
      "text/plain": [
       "<Figure size 2000x1200 with 2 Axes>"
      ]
     },
     "metadata": {},
     "output_type": "display_data"
    }
   ],
   "source": [
    "mask = np.triu(np.ones_like(train_data.corr()))\n",
    "plt.figure(figsize=(20,12))\n",
    "sns.heatmap(train_data.corr(), cmap=\"copper\", annot=True, mask=mask,vmin=-1,vmax=1);"
   ]
  },
  {
   "cell_type": "code",
   "execution_count": 8,
   "id": "206d1a58",
   "metadata": {
    "execution": {
     "iopub.execute_input": "2024-01-14T06:06:19.548884Z",
     "iopub.status.busy": "2024-01-14T06:06:19.548070Z",
     "iopub.status.idle": "2024-01-14T06:06:21.440764Z",
     "shell.execute_reply": "2024-01-14T06:06:21.439445Z"
    },
    "papermill": {
     "duration": 1.908582,
     "end_time": "2024-01-14T06:06:21.443436",
     "exception": false,
     "start_time": "2024-01-14T06:06:19.534854",
     "status": "completed"
    },
    "tags": []
   },
   "outputs": [
    {
     "data": {
      "image/png": "[encoded data removed]",
      "text/plain": [
       "<Figure size 1500x500 with 2 Axes>"
      ]
     },
     "metadata": {},
     "output_type": "display_data"
    }
   ],
   "source": [
    "fig,axes = plt.subplots(1,2,figsize=(15,5),gridspec_kw={'width_ratios': [1, 2.5]})\n",
    "\n",
    "plt.subplot(1,2,1)\n",
    "sns.countplot(data=train_data,x=\"Exited\", palette = \"copper\");\n",
    "plt.title(\"Distribution of Exited\")\n",
    "\n",
    "plt.subplot(1,2,2)\n",
    "sns.histplot(data=train_data,x=\"Age\",hue=\"Exited\", bins=40, kde=True, palette = \"copper\");\n",
    "plt.axvline(train_data.query(\"Exited == 1\")[\"Age\"].mean(), 0,10,linestyle=\"--\",linewidth=2,c = \"tan\")\n",
    "plt.axvline(train_data.query(\"Exited == 0\")[\"Age\"].mean(), 0,10,linestyle=\"--\",linewidth=2)\n",
    "plt.title(\"Distribution of Age\")\n",
    "\n",
    "fig.show();"
   ]
  },
  {
   "cell_type": "markdown",
   "id": "8251c04b",
   "metadata": {
    "papermill": {
     "duration": 0.012796,
     "end_time": "2024-01-14T06:06:21.468900",
     "exception": false,
     "start_time": "2024-01-14T06:06:21.456104",
     "status": "completed"
    },
    "tags": []
   },
   "source": [
    "<ul style=\"font-family: 'Lucida Sans', 'Lucida Sans', sans-serif; text-align: left; color: #323232; font-size: 20px;\"> \n",
    "    <li> The train data is biased.</li>\n",
    "    <li> Mean 'Age' of Exited==1 and Exited==0 differ by about 5-8 years</li>\n",
    "</ul>"
   ]
  },
  {
   "cell_type": "markdown",
   "id": "ce8544e0",
   "metadata": {
    "papermill": {
     "duration": 0.012582,
     "end_time": "2024-01-14T06:06:21.494040",
     "exception": false,
     "start_time": "2024-01-14T06:06:21.481458",
     "status": "completed"
    },
    "tags": []
   },
   "source": [
    "<div id=\"4\" style=\"background-color: #e1d9ce; padding: 20px; border-radius: 20px; border: 2px solid black;\">\n",
    "    <h1 style=\"font-family:  'Garamond', 'Lucida Sans', sans-serif; text-align: center; color: #000000; font-weight: bold; font-size: 42px;\">\n",
    "   Training Models\n",
    "    </h1>\n",
    "</div>\n",
    "<br>\n",
    "    <p style=\"font-family: 'Lucida Sans', 'Lucida Sans', sans-serif; text-align: left; color: #323232; font-size: 20px;\">Link to Scikit-Cheat Sheet: <a style=\"text-decoration: underline;\" href = \"https://www.educative.io/blog/scikit-learn-cheat-sheet-classification-regression-methods\">\n",
    "    https://www.educative.io/blog/scikit-learn-cheat-sheet-classification-regression-methods</a>\n",
    "    <br>\n",
    "    <p style=\"font-family: 'Lucida Sans', 'Lucida Sans', sans-serif; text-align: left; color: #323232; font-size: 20px;\">Link to LGBM Guide: <a style=\"text-decoration: underline;\" href=\"https://www.geeksforgeeks.org/lightgbm-light-gradient-boosting-machine/\">\n",
    "    https://www.geeksforgeeks.org/lightgbm-light-gradient-boosting-machine/</a>\n",
    "        <br>\n",
    "        <p style=\"font-family: 'Lucida Sans', 'Lucida Sans', sans-serif; text-align: left; color: #323232; font-size: 20px;\">Link to XGB Guide: <a style=\"text-decoration: underline;\" href=\"https://www.analyticsvidhya.com/blog/2016/03/complete-guide-parameter-tuning-xgboost-with-codes-python/\">\n",
    "    https://www.analyticsvidhya.com/blog/2016/03/complete-guide-parameter-tuning-xgboost-with-codes-python/</a>\n",
    "        <br><br>\n",
    "    Evaluation Metric for this Competiton: ROC AUC (ie area under the ROC curve)\n",
    "        <br>\n",
    "    &nbsp; &nbsp; The ROC curve is the plot of the true positive rate (TPR) against the false positive rate (FPR)\n",
    "</p>"
   ]
  },
  {
   "cell_type": "code",
   "execution_count": 9,
   "id": "e45ebeba",
   "metadata": {
    "execution": {
     "iopub.execute_input": "2024-01-14T06:06:21.521809Z",
     "iopub.status.busy": "2024-01-14T06:06:21.521353Z",
     "iopub.status.idle": "2024-01-14T06:06:21.578433Z",
     "shell.execute_reply": "2024-01-14T06:06:21.577180Z"
    },
    "papermill": {
     "duration": 0.073969,
     "end_time": "2024-01-14T06:06:21.581109",
     "exception": false,
     "start_time": "2024-01-14T06:06:21.507140",
     "status": "completed"
    },
    "tags": []
   },
   "outputs": [
    {
     "name": "stdout",
     "output_type": "stream",
     "text": [
      "115523 49511\n"
     ]
    }
   ],
   "source": [
    "X = train_data.drop(\"Exited\",axis=1)\n",
    "y = train_data.Exited\n",
    "\n",
    "X_train,X_val,y_train,y_val = train_test_split(X,y,test_size=0.3)\n",
    "print(len(X_train),len(X_val))"
   ]
  },
  {
   "cell_type": "markdown",
   "id": "05b1e6cb",
   "metadata": {
    "papermill": {
     "duration": 0.012556,
     "end_time": "2024-01-14T06:06:21.606435",
     "exception": false,
     "start_time": "2024-01-14T06:06:21.593879",
     "status": "completed"
    },
    "tags": []
   },
   "source": [
    "<div id=\"4.1\" >\n",
    "    <h1 style=\"font-family:  'Garamond', 'Lucida Sans', sans-serif; text-align: center; color: #263A29; font-weight: bold; font-size: 36px;\">\n",
    "   4.1  Random Forest Classifier\n",
    "    </h1>\n",
    "</div>\n",
    "<hr>\n"
   ]
  },
  {
   "cell_type": "code",
   "execution_count": 10,
   "id": "5527851b",
   "metadata": {
    "execution": {
     "iopub.execute_input": "2024-01-14T06:06:21.634222Z",
     "iopub.status.busy": "2024-01-14T06:06:21.633801Z",
     "iopub.status.idle": "2024-01-14T06:06:52.462668Z",
     "shell.execute_reply": "2024-01-14T06:06:52.461319Z"
    },
    "papermill": {
     "duration": 30.857813,
     "end_time": "2024-01-14T06:06:52.477117",
     "exception": false,
     "start_time": "2024-01-14T06:06:21.619304",
     "status": "completed"
    },
    "tags": []
   },
   "outputs": [
    {
     "name": "stdout",
     "output_type": "stream",
     "text": [
      "ROC AUC of RF: 0.8115383354443289\n"
     ]
    }
   ],
   "source": [
    "rfmodel = RandomForestClassifier()\n",
    "rfmodel.fit(X_train,y_train)\n",
    "print(\"ROC AUC of RF:\",roc_auc_score(rfmodel.predict(X_val),y_val))"
   ]
  },
  {
   "cell_type": "markdown",
   "id": "73d03e04",
   "metadata": {
    "papermill": {
     "duration": 0.011867,
     "end_time": "2024-01-14T06:06:52.501257",
     "exception": false,
     "start_time": "2024-01-14T06:06:52.489390",
     "status": "completed"
    },
    "tags": []
   },
   "source": [
    "<div id=\"4.2\" >\n",
    "    <h1 style=\"font-family:  'Garamond', 'Lucida Sans', sans-serif; text-align: center; color: #263A29; font-weight: bold; font-size: 36px;\">\n",
    "   4.2 LGBM (Light Gradient Boosting Machine) Classifier\n",
    "    </h1>\n",
    "</div>\n",
    "<hr>"
   ]
  },
  {
   "cell_type": "code",
   "execution_count": 11,
   "id": "3ab4cc3f",
   "metadata": {
    "execution": {
     "iopub.execute_input": "2024-01-14T06:06:52.528002Z",
     "iopub.status.busy": "2024-01-14T06:06:52.527573Z",
     "iopub.status.idle": "2024-01-14T06:06:54.143900Z",
     "shell.execute_reply": "2024-01-14T06:06:54.143040Z"
    },
    "papermill": {
     "duration": 1.632817,
     "end_time": "2024-01-14T06:06:54.146439",
     "exception": false,
     "start_time": "2024-01-14T06:06:52.513622",
     "status": "completed"
    },
    "tags": []
   },
   "outputs": [
    {
     "name": "stdout",
     "output_type": "stream",
     "text": [
      "ROC AUC of LGBM: 0.8177530351360248\n"
     ]
    }
   ],
   "source": [
    "lgbmmodel = LGBMClassifier(verbose=-1)\n",
    "lgbmmodel.fit(X_train,y_train)\n",
    "print(\"ROC AUC of LGBM:\",roc_auc_score(lgbmmodel.predict(X_val),y_val))"
   ]
  },
  {
   "cell_type": "markdown",
   "id": "864bb7b4",
   "metadata": {
    "papermill": {
     "duration": 0.012278,
     "end_time": "2024-01-14T06:06:54.171424",
     "exception": false,
     "start_time": "2024-01-14T06:06:54.159146",
     "status": "completed"
    },
    "tags": []
   },
   "source": [
    "<div id=\"4.3\" >\n",
    "    <h1 style=\"font-family:  'Garamond', 'Lucida Sans', sans-serif; text-align: center; color: #263A29; font-weight: bold; font-size: 36px;\">\n",
    "   4.3 XGB (eXtreme Gradient Boosting) Classifier\n",
    "    </h1>\n",
    "</div>\n",
    "<hr>"
   ]
  },
  {
   "cell_type": "code",
   "execution_count": 12,
   "id": "8ffc52f6",
   "metadata": {
    "execution": {
     "iopub.execute_input": "2024-01-14T06:06:54.200252Z",
     "iopub.status.busy": "2024-01-14T06:06:54.198100Z",
     "iopub.status.idle": "2024-01-14T06:06:56.524139Z",
     "shell.execute_reply": "2024-01-14T06:06:56.522876Z"
    },
    "papermill": {
     "duration": 2.342831,
     "end_time": "2024-01-14T06:06:56.526801",
     "exception": false,
     "start_time": "2024-01-14T06:06:54.183970",
     "status": "completed"
    },
    "tags": []
   },
   "outputs": [
    {
     "name": "stdout",
     "output_type": "stream",
     "text": [
      "ROC AUC of XGB: 0.8111113670731492\n"
     ]
    }
   ],
   "source": [
    "xgbmodel = XGBClassifier()\n",
    "xgbmodel.fit(X_train,y_train)\n",
    "print(\"ROC AUC of XGB:\",roc_auc_score(xgbmodel.predict(X_val),y_val))"
   ]
  },
  {
   "cell_type": "markdown",
   "id": "ee210d79",
   "metadata": {
    "papermill": {
     "duration": 0.012268,
     "end_time": "2024-01-14T06:06:56.551981",
     "exception": false,
     "start_time": "2024-01-14T06:06:56.539713",
     "status": "completed"
    },
    "tags": []
   },
   "source": [
    "<div id=\"7\" style=\"background-color: #e1d9ce; padding: 20px; border-radius: 20px; border: 2px solid black;\">\n",
    "    <h1 style=\"font-family:  'Garamond', 'Lucida Sans', sans-serif; text-align: center; color: #000000; font-weight: bold; font-size: 42px;\">\n",
    "   Creating 'submission.csv'\n",
    "    </h1>\n",
    "</div>"
   ]
  },
  {
   "cell_type": "code",
   "execution_count": 13,
   "id": "f78a971f",
   "metadata": {
    "execution": {
     "iopub.execute_input": "2024-01-14T06:06:56.579668Z",
     "iopub.status.busy": "2024-01-14T06:06:56.578883Z",
     "iopub.status.idle": "2024-01-14T06:06:57.610172Z",
     "shell.execute_reply": "2024-01-14T06:06:57.609305Z"
    },
    "papermill": {
     "duration": 1.047885,
     "end_time": "2024-01-14T06:06:57.612702",
     "exception": false,
     "start_time": "2024-01-14T06:06:56.564817",
     "status": "completed"
    },
    "tags": []
   },
   "outputs": [
    {
     "data": {
      "text/html": [
       "<div>\n",
       "<style scoped>\n",
       "    .dataframe tbody tr th:only-of-type {\n",
       "        vertical-align: middle;\n",
       "    }\n",
       "\n",
       "    .dataframe tbody tr th {\n",
       "        vertical-align: top;\n",
       "    }\n",
       "\n",
       "    .dataframe thead th {\n",
       "        text-align: right;\n",
       "    }\n",
       "</style>\n",
       "<table border=\"1\" class=\"dataframe\">\n",
       "  <thead>\n",
       "    <tr style=\"text-align: right;\">\n",
       "      <th></th>\n",
       "      <th>id</th>\n",
       "      <th>Exited</th>\n",
       "    </tr>\n",
       "  </thead>\n",
       "  <tbody>\n",
       "    <tr>\n",
       "      <th>0</th>\n",
       "      <td>165034</td>\n",
       "      <td>0.023115</td>\n",
       "    </tr>\n",
       "    <tr>\n",
       "      <th>1</th>\n",
       "      <td>165035</td>\n",
       "      <td>0.804801</td>\n",
       "    </tr>\n",
       "    <tr>\n",
       "      <th>2</th>\n",
       "      <td>165036</td>\n",
       "      <td>0.020611</td>\n",
       "    </tr>\n",
       "    <tr>\n",
       "      <th>3</th>\n",
       "      <td>165037</td>\n",
       "      <td>0.226834</td>\n",
       "    </tr>\n",
       "    <tr>\n",
       "      <th>4</th>\n",
       "      <td>165038</td>\n",
       "      <td>0.363600</td>\n",
       "    </tr>\n",
       "    <tr>\n",
       "      <th>...</th>\n",
       "      <td>...</td>\n",
       "      <td>...</td>\n",
       "    </tr>\n",
       "    <tr>\n",
       "      <th>110018</th>\n",
       "      <td>275052</td>\n",
       "      <td>0.039826</td>\n",
       "    </tr>\n",
       "    <tr>\n",
       "      <th>110019</th>\n",
       "      <td>275053</td>\n",
       "      <td>0.089579</td>\n",
       "    </tr>\n",
       "    <tr>\n",
       "      <th>110020</th>\n",
       "      <td>275054</td>\n",
       "      <td>0.031911</td>\n",
       "    </tr>\n",
       "    <tr>\n",
       "      <th>110021</th>\n",
       "      <td>275055</td>\n",
       "      <td>0.139914</td>\n",
       "    </tr>\n",
       "    <tr>\n",
       "      <th>110022</th>\n",
       "      <td>275056</td>\n",
       "      <td>0.152892</td>\n",
       "    </tr>\n",
       "  </tbody>\n",
       "</table>\n",
       "<p>110023 rows × 2 columns</p>\n",
       "</div>"
      ],
      "text/plain": [
       "            id    Exited\n",
       "0       165034  0.023115\n",
       "1       165035  0.804801\n",
       "2       165036  0.020611\n",
       "3       165037  0.226834\n",
       "4       165038  0.363600\n",
       "...        ...       ...\n",
       "110018  275052  0.039826\n",
       "110019  275053  0.089579\n",
       "110020  275054  0.031911\n",
       "110021  275055  0.139914\n",
       "110022  275056  0.152892\n",
       "\n",
       "[110023 rows x 2 columns]"
      ]
     },
     "execution_count": 13,
     "metadata": {},
     "output_type": "execute_result"
    }
   ],
   "source": [
    "submission = pd.DataFrame()\n",
    "submission[\"id\"] = test_data.index\n",
    "submission[\"Exited\"] = (lgbmmodel.predict_proba(test_data)[:,1]+xgbmodel.predict_proba(test_data)[:,1])/2\n",
    "\n",
    "submission.to_csv(\"submission.csv\",header=True,index=False)\n",
    "submission"
   ]
  }
 ],
 "metadata": {
  "kaggle": {
   "accelerator": "none",
   "dataSources": [
    {
     "databundleVersionId": 7405009,
     "sourceId": 65711,
     "sourceType": "competition"
    }
   ],
   "dockerImageVersionId": 30635,
   "isGpuEnabled": false,
   "isInternetEnabled": true,
   "language": "python",
   "sourceType": "notebook"
  },
  "kernelspec": {
   "display_name": "Python 3",
   "language": "python",
   "name": "python3"
  },
  "language_info": {
   "codemirror_mode": {
    "name": "ipython",
    "version": 3
   },
   "file_extension": ".py",
   "mimetype": "text/x-python",
   "name": "python",
   "nbconvert_exporter": "python",
   "pygments_lexer": "ipython3",
   "version": "3.10.12"
  },
  "papermill": {
   "default_parameters": {},
   "duration": 51.166391,
   "end_time": "2024-01-14T06:06:58.648493",
   "environment_variables": {},
   "exception": null,
   "input_path": "__notebook__.ipynb",
   "output_path": "__notebook__.ipynb",
   "parameters": {},
   "start_time": "2024-01-14T06:06:07.482102",
   "version": "2.4.0"
  }
 },
 "nbformat": 4,
 "nbformat_minor": 5
}
