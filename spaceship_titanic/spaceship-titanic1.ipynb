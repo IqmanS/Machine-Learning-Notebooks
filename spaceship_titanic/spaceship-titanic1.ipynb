{
 "cells": [
  {
   "cell_type": "code",
   "execution_count": 1,
   "id": "7004a8e1",
   "metadata": {
    "_cell_guid": "b1076dfc-b9ad-4769-8c92-a6c4dae69d19",
    "_uuid": "8f2839f25d086af736a60e9eeb907d3b93b6e0e5",
    "execution": {
     "iopub.execute_input": "2023-03-29T05:47:24.911906Z",
     "iopub.status.busy": "2023-03-29T05:47:24.911480Z",
     "iopub.status.idle": "2023-03-29T05:47:24.926658Z",
     "shell.execute_reply": "2023-03-29T05:47:24.925622Z"
    },
    "papermill": {
     "duration": 0.02623,
     "end_time": "2023-03-29T05:47:24.929175",
     "exception": false,
     "start_time": "2023-03-29T05:47:24.902945",
     "status": "completed"
    },
    "tags": []
   },
   "outputs": [
    {
     "name": "stdout",
     "output_type": "stream",
     "text": [
      "/kaggle/input/spaceship-titanic/sample_submission.csv\n",
      "/kaggle/input/spaceship-titanic/train.csv\n",
      "/kaggle/input/spaceship-titanic/test.csv\n"
     ]
    }
   ],
   "source": [
    "# This Python 3 environment comes with many helpful analytics libraries installed\n",
    "# It is defined by the kaggle/python Docker image: https://github.com/kaggle/docker-python\n",
    "# For example, here's several helpful packages to load\n",
    "\n",
    "import numpy as np # linear algebra\n",
    "import pandas as pd # data processing, CSV file I/O (e.g. pd.read_csv)\n",
    "pd.options.mode.chained_assignment = None  # default='warn'\n",
    "\n",
    "# Input data files are available in the read-only \"../input/\" directory\n",
    "# For example, running this (by clicking run or pressing Shift+Enter) will list all files under the input directory\n",
    "\n",
    "import os\n",
    "for dirname, _, filenames in os.walk('/kaggle/input'):\n",
    "    for filename in filenames:\n",
    "        print(os.path.join(dirname, filename))\n",
    "\n",
    "# You can write up to 20GB to the current directory (/kaggle/working/) that gets preserved as output when you create a version using \"Save & Run All\" \n",
    "# You can also write temporary files to /kaggle/temp/, but they won't be saved outside of the current session"
   ]
  },
  {
   "cell_type": "code",
   "execution_count": 2,
   "id": "a2a155bf",
   "metadata": {
    "execution": {
     "iopub.execute_input": "2023-03-29T05:47:24.941775Z",
     "iopub.status.busy": "2023-03-29T05:47:24.941147Z",
     "iopub.status.idle": "2023-03-29T05:47:25.026362Z",
     "shell.execute_reply": "2023-03-29T05:47:25.024905Z"
    },
    "papermill": {
     "duration": 0.094457,
     "end_time": "2023-03-29T05:47:25.029199",
     "exception": false,
     "start_time": "2023-03-29T05:47:24.934742",
     "status": "completed"
    },
    "tags": []
   },
   "outputs": [
    {
     "data": {
      "text/plain": [
       "<bound method NDFrame.head of      PassengerId HomePlanet CryoSleep     Cabin    Destination   Age    VIP  \\\n",
       "0        0001_01     Europa     False     B/0/P    TRAPPIST-1e  39.0  False   \n",
       "1        0002_01      Earth     False     F/0/S    TRAPPIST-1e  24.0  False   \n",
       "2        0003_01     Europa     False     A/0/S    TRAPPIST-1e  58.0   True   \n",
       "3        0003_02     Europa     False     A/0/S    TRAPPIST-1e  33.0  False   \n",
       "4        0004_01      Earth     False     F/1/S    TRAPPIST-1e  16.0  False   \n",
       "...          ...        ...       ...       ...            ...   ...    ...   \n",
       "8688     9276_01     Europa     False    A/98/P    55 Cancri e  41.0   True   \n",
       "8689     9278_01      Earth      True  G/1499/S  PSO J318.5-22  18.0  False   \n",
       "8690     9279_01      Earth     False  G/1500/S    TRAPPIST-1e  26.0  False   \n",
       "8691     9280_01     Europa     False   E/608/S    55 Cancri e  32.0  False   \n",
       "8692     9280_02     Europa     False   E/608/S    TRAPPIST-1e  44.0  False   \n",
       "\n",
       "      RoomService  FoodCourt  ShoppingMall     Spa  VRDeck               Name  \\\n",
       "0             0.0        0.0           0.0     0.0     0.0    Maham Ofracculy   \n",
       "1           109.0        9.0          25.0   549.0    44.0       Juanna Vines   \n",
       "2            43.0     3576.0           0.0  6715.0    49.0      Altark Susent   \n",
       "3             0.0     1283.0         371.0  3329.0   193.0       Solam Susent   \n",
       "4           303.0       70.0         151.0   565.0     2.0  Willy Santantines   \n",
       "...           ...        ...           ...     ...     ...                ...   \n",
       "8688          0.0     6819.0           0.0  1643.0    74.0  Gravior Noxnuther   \n",
       "8689          0.0        0.0           0.0     0.0     0.0    Kurta Mondalley   \n",
       "8690          0.0        0.0        1872.0     1.0     0.0       Fayey Connon   \n",
       "8691          0.0     1049.0           0.0   353.0  3235.0   Celeon Hontichre   \n",
       "8692        126.0     4688.0           0.0     0.0    12.0   Propsh Hontichre   \n",
       "\n",
       "      Transported  \n",
       "0           False  \n",
       "1            True  \n",
       "2           False  \n",
       "3           False  \n",
       "4            True  \n",
       "...           ...  \n",
       "8688        False  \n",
       "8689        False  \n",
       "8690         True  \n",
       "8691        False  \n",
       "8692         True  \n",
       "\n",
       "[8693 rows x 14 columns]>"
      ]
     },
     "execution_count": 2,
     "metadata": {},
     "output_type": "execute_result"
    }
   ],
   "source": [
    "st_path = '/kaggle/input/spaceship-titanic/train.csv'\n",
    "st_data = pd.read_csv(st_path)\n",
    "st_data.head"
   ]
  },
  {
   "cell_type": "code",
   "execution_count": 3,
   "id": "0767a2df",
   "metadata": {
    "execution": {
     "iopub.execute_input": "2023-03-29T05:47:25.042311Z",
     "iopub.status.busy": "2023-03-29T05:47:25.041874Z",
     "iopub.status.idle": "2023-03-29T05:47:25.049357Z",
     "shell.execute_reply": "2023-03-29T05:47:25.048229Z"
    },
    "papermill": {
     "duration": 0.017534,
     "end_time": "2023-03-29T05:47:25.052371",
     "exception": false,
     "start_time": "2023-03-29T05:47:25.034837",
     "status": "completed"
    },
    "tags": []
   },
   "outputs": [
    {
     "data": {
      "text/plain": [
       "Index(['PassengerId', 'HomePlanet', 'CryoSleep', 'Cabin', 'Destination', 'Age',\n",
       "       'VIP', 'RoomService', 'FoodCourt', 'ShoppingMall', 'Spa', 'VRDeck',\n",
       "       'Name', 'Transported'],\n",
       "      dtype='object')"
      ]
     },
     "execution_count": 3,
     "metadata": {},
     "output_type": "execute_result"
    }
   ],
   "source": [
    "st_data.columns"
   ]
  },
  {
   "cell_type": "code",
   "execution_count": 4,
   "id": "9ce6072a",
   "metadata": {
    "execution": {
     "iopub.execute_input": "2023-03-29T05:47:25.065504Z",
     "iopub.status.busy": "2023-03-29T05:47:25.065120Z",
     "iopub.status.idle": "2023-03-29T05:47:25.096229Z",
     "shell.execute_reply": "2023-03-29T05:47:25.094543Z"
    },
    "papermill": {
     "duration": 0.041347,
     "end_time": "2023-03-29T05:47:25.099360",
     "exception": false,
     "start_time": "2023-03-29T05:47:25.058013",
     "status": "completed"
    },
    "tags": []
   },
   "outputs": [
    {
     "name": "stdout",
     "output_type": "stream",
     "text": [
      "<class 'pandas.core.frame.DataFrame'>\n",
      "RangeIndex: 8693 entries, 0 to 8692\n",
      "Data columns (total 14 columns):\n",
      " #   Column        Non-Null Count  Dtype  \n",
      "---  ------        --------------  -----  \n",
      " 0   PassengerId   8693 non-null   object \n",
      " 1   HomePlanet    8492 non-null   object \n",
      " 2   CryoSleep     8476 non-null   object \n",
      " 3   Cabin         8494 non-null   object \n",
      " 4   Destination   8511 non-null   object \n",
      " 5   Age           8514 non-null   float64\n",
      " 6   VIP           8490 non-null   object \n",
      " 7   RoomService   8512 non-null   float64\n",
      " 8   FoodCourt     8510 non-null   float64\n",
      " 9   ShoppingMall  8485 non-null   float64\n",
      " 10  Spa           8510 non-null   float64\n",
      " 11  VRDeck        8505 non-null   float64\n",
      " 12  Name          8493 non-null   object \n",
      " 13  Transported   8693 non-null   bool   \n",
      "dtypes: bool(1), float64(6), object(7)\n",
      "memory usage: 891.5+ KB\n"
     ]
    }
   ],
   "source": [
    "st_data.info()"
   ]
  },
  {
   "cell_type": "code",
   "execution_count": 5,
   "id": "05534944",
   "metadata": {
    "execution": {
     "iopub.execute_input": "2023-03-29T05:47:25.113564Z",
     "iopub.status.busy": "2023-03-29T05:47:25.113160Z",
     "iopub.status.idle": "2023-03-29T05:47:25.126251Z",
     "shell.execute_reply": "2023-03-29T05:47:25.125048Z"
    },
    "papermill": {
     "duration": 0.02416,
     "end_time": "2023-03-29T05:47:25.129448",
     "exception": false,
     "start_time": "2023-03-29T05:47:25.105288",
     "status": "completed"
    },
    "tags": []
   },
   "outputs": [],
   "source": [
    "# Better to fill up blanks using interpolate\n",
    "st_data.Age = st_data.Age.interpolate()\n",
    "st_data.RoomService = st_data.RoomService.interpolate()\n",
    "st_data.FoodCourt = st_data.FoodCourt.interpolate()\n",
    "st_data.ShoppingMall = st_data.ShoppingMall.interpolate()\n",
    "st_data.Spa = st_data.Spa.interpolate()\n",
    "st_data.VRDeck = st_data.VRDeck.interpolate()\n"
   ]
  },
  {
   "cell_type": "code",
   "execution_count": 6,
   "id": "7aeb9d25",
   "metadata": {
    "execution": {
     "iopub.execute_input": "2023-03-29T05:47:25.143021Z",
     "iopub.status.busy": "2023-03-29T05:47:25.142634Z",
     "iopub.status.idle": "2023-03-29T05:47:25.170990Z",
     "shell.execute_reply": "2023-03-29T05:47:25.168835Z"
    },
    "papermill": {
     "duration": 0.039774,
     "end_time": "2023-03-29T05:47:25.175094",
     "exception": false,
     "start_time": "2023-03-29T05:47:25.135320",
     "status": "completed"
    },
    "tags": []
   },
   "outputs": [
    {
     "name": "stdout",
     "output_type": "stream",
     "text": [
      "<class 'pandas.core.frame.DataFrame'>\n",
      "Int64Index: 7913 entries, 0 to 8692\n",
      "Data columns (total 11 columns):\n",
      " #   Column        Non-Null Count  Dtype  \n",
      "---  ------        --------------  -----  \n",
      " 0   HomePlanet    7913 non-null   object \n",
      " 1   CryoSleep     7913 non-null   object \n",
      " 2   Destination   7913 non-null   object \n",
      " 3   Age           7913 non-null   float64\n",
      " 4   VIP           7913 non-null   object \n",
      " 5   RoomService   7913 non-null   float64\n",
      " 6   FoodCourt     7913 non-null   float64\n",
      " 7   ShoppingMall  7913 non-null   float64\n",
      " 8   Spa           7913 non-null   float64\n",
      " 9   VRDeck        7913 non-null   float64\n",
      " 10  Transported   7913 non-null   bool   \n",
      "dtypes: bool(1), float64(6), object(4)\n",
      "memory usage: 687.8+ KB\n"
     ]
    }
   ],
   "source": [
    "# bad practice to drop data as it reduces models accuracy, learn better methods\n",
    "# learn how to exteact data drom cabin\n",
    "cols = ['Name','Cabin','PassengerId']\n",
    "st_data = st_data.drop(cols,axis = 1)\n",
    "st_data = st_data.dropna()\n",
    "st_data.info()"
   ]
  },
  {
   "cell_type": "code",
   "execution_count": 7,
   "id": "97c67410",
   "metadata": {
    "execution": {
     "iopub.execute_input": "2023-03-29T05:47:25.190313Z",
     "iopub.status.busy": "2023-03-29T05:47:25.189000Z",
     "iopub.status.idle": "2023-03-29T05:47:25.201693Z",
     "shell.execute_reply": "2023-03-29T05:47:25.200207Z"
    },
    "papermill": {
     "duration": 0.022929,
     "end_time": "2023-03-29T05:47:25.204465",
     "exception": false,
     "start_time": "2023-03-29T05:47:25.181536",
     "status": "completed"
    },
    "tags": []
   },
   "outputs": [
    {
     "data": {
      "text/plain": [
       "array([False, True], dtype=object)"
      ]
     },
     "execution_count": 7,
     "metadata": {},
     "output_type": "execute_result"
    }
   ],
   "source": [
    "st_data.HomePlanet.unique()\n",
    "st_data.CryoSleep.unique()\n",
    "st_data.Destination.unique()\n",
    "st_data.VIP.unique()"
   ]
  },
  {
   "cell_type": "code",
   "execution_count": 8,
   "id": "e3336e6a",
   "metadata": {
    "execution": {
     "iopub.execute_input": "2023-03-29T05:47:25.219409Z",
     "iopub.status.busy": "2023-03-29T05:47:25.218452Z",
     "iopub.status.idle": "2023-03-29T05:47:25.231947Z",
     "shell.execute_reply": "2023-03-29T05:47:25.230338Z"
    },
    "papermill": {
     "duration": 0.024383,
     "end_time": "2023-03-29T05:47:25.234758",
     "exception": false,
     "start_time": "2023-03-29T05:47:25.210375",
     "status": "completed"
    },
    "tags": []
   },
   "outputs": [],
   "source": [
    "# convert objects to float \n",
    "\n",
    "st_data.HomePlanet = st_data.HomePlanet.astype(\"string\")\n",
    "st_data.Destination = st_data.Destination.astype(\"string\")\n",
    "st_data.CryoSleep = st_data.CryoSleep.astype(float)\n",
    "st_data.VIP = st_data.VIP.astype(float)\n",
    "st_data.Transported = st_data.Transported.astype(int)"
   ]
  },
  {
   "cell_type": "code",
   "execution_count": 9,
   "id": "7380319d",
   "metadata": {
    "execution": {
     "iopub.execute_input": "2023-03-29T05:47:25.250084Z",
     "iopub.status.busy": "2023-03-29T05:47:25.248927Z",
     "iopub.status.idle": "2023-03-29T05:47:25.257257Z",
     "shell.execute_reply": "2023-03-29T05:47:25.255925Z"
    },
    "papermill": {
     "duration": 0.019139,
     "end_time": "2023-03-29T05:47:25.260054",
     "exception": false,
     "start_time": "2023-03-29T05:47:25.240915",
     "status": "completed"
    },
    "tags": []
   },
   "outputs": [
    {
     "name": "stdout",
     "output_type": "stream",
     "text": [
      "string\n",
      "string\n",
      "float64\n",
      "float64\n",
      "int64\n"
     ]
    }
   ],
   "source": [
    "print(st_data.HomePlanet.dtype)\n",
    "print(st_data.Destination.dtype)\n",
    "print(st_data.CryoSleep.dtype)\n",
    "print(st_data.VIP.dtype)\n",
    "print(st_data.Transported.dtype)"
   ]
  },
  {
   "cell_type": "code",
   "execution_count": 10,
   "id": "9f6e3ae6",
   "metadata": {
    "execution": {
     "iopub.execute_input": "2023-03-29T05:47:25.273940Z",
     "iopub.status.busy": "2023-03-29T05:47:25.273544Z",
     "iopub.status.idle": "2023-03-29T05:47:25.290557Z",
     "shell.execute_reply": "2023-03-29T05:47:25.288255Z"
    },
    "papermill": {
     "duration": 0.028044,
     "end_time": "2023-03-29T05:47:25.294063",
     "exception": false,
     "start_time": "2023-03-29T05:47:25.266019",
     "status": "completed"
    },
    "tags": []
   },
   "outputs": [
    {
     "name": "stdout",
     "output_type": "stream",
     "text": [
      "<class 'pandas.core.frame.DataFrame'>\n",
      "Int64Index: 7913 entries, 0 to 8692\n",
      "Data columns (total 11 columns):\n",
      " #   Column        Non-Null Count  Dtype  \n",
      "---  ------        --------------  -----  \n",
      " 0   HomePlanet    7913 non-null   string \n",
      " 1   CryoSleep     7913 non-null   float64\n",
      " 2   Destination   7913 non-null   string \n",
      " 3   Age           7913 non-null   float64\n",
      " 4   VIP           7913 non-null   float64\n",
      " 5   RoomService   7913 non-null   float64\n",
      " 6   FoodCourt     7913 non-null   float64\n",
      " 7   ShoppingMall  7913 non-null   float64\n",
      " 8   Spa           7913 non-null   float64\n",
      " 9   VRDeck        7913 non-null   float64\n",
      " 10  Transported   7913 non-null   int64  \n",
      "dtypes: float64(8), int64(1), string(2)\n",
      "memory usage: 741.8 KB\n"
     ]
    }
   ],
   "source": [
    "st_data.info()"
   ]
  },
  {
   "cell_type": "code",
   "execution_count": 11,
   "id": "db53d227",
   "metadata": {
    "execution": {
     "iopub.execute_input": "2023-03-29T05:47:25.309778Z",
     "iopub.status.busy": "2023-03-29T05:47:25.308700Z",
     "iopub.status.idle": "2023-03-29T05:47:25.314213Z",
     "shell.execute_reply": "2023-03-29T05:47:25.313270Z"
    },
    "papermill": {
     "duration": 0.016274,
     "end_time": "2023-03-29T05:47:25.316591",
     "exception": false,
     "start_time": "2023-03-29T05:47:25.300317",
     "status": "completed"
    },
    "tags": []
   },
   "outputs": [],
   "source": [
    "# st_data.HomePlanet.unique()\n",
    "# def HomePlanettoNewCol(row):\n",
    "#     if str(row.HomePlanet)=='Earth':\n",
    "#         row['Earth'] = 1\n",
    "#         row['Europa'] = 0\n",
    "#         row['Mars'] = 0\n",
    "#     elif str(row.HomePlanet)=='Europa':\n",
    "#         row['Earth'] = 0\n",
    "#         row['Europa'] = 1\n",
    "#         row['Mars'] = 0\n",
    "#     elif str(row.HomePlanet)=='Mars':\n",
    "#         row['Earth'] = 0\n",
    "#         row['Europa'] = 0\n",
    "#         row['Mars'] = 1\n",
    "# st_data.apply(HomePlanettoNewCol,axis=1)\n",
    "# st_data[['Earth','Europa','Mars']].head"
   ]
  },
  {
   "cell_type": "code",
   "execution_count": 12,
   "id": "cddcde23",
   "metadata": {
    "execution": {
     "iopub.execute_input": "2023-03-29T05:47:25.330743Z",
     "iopub.status.busy": "2023-03-29T05:47:25.330296Z",
     "iopub.status.idle": "2023-03-29T05:47:25.352429Z",
     "shell.execute_reply": "2023-03-29T05:47:25.350875Z"
    },
    "papermill": {
     "duration": 0.032733,
     "end_time": "2023-03-29T05:47:25.355599",
     "exception": false,
     "start_time": "2023-03-29T05:47:25.322866",
     "status": "completed"
    },
    "tags": []
   },
   "outputs": [
    {
     "data": {
      "text/plain": [
       "Index(['CryoSleep', 'Age', 'VIP', 'RoomService', 'FoodCourt', 'ShoppingMall',\n",
       "       'Spa', 'VRDeck', 'Transported', 'Earth', 'Europa', 'Mars',\n",
       "       '55 Cancri e', 'PSO J318.5-22', 'TRAPPIST-1e'],\n",
       "      dtype='object')"
      ]
     },
     "execution_count": 12,
     "metadata": {},
     "output_type": "execute_result"
    }
   ],
   "source": [
    "dummy = []\n",
    "cols = ['HomePlanet','Destination']\n",
    "for i in cols:\n",
    "    dummy.append(pd.get_dummies(st_data[i]))\n",
    "st_dummy = pd.concat(dummy,axis=1)\n",
    "st_data = pd.concat((st_data,st_dummy),axis = 1)\n",
    "st_data = st_data.drop(cols,axis=1)\n",
    "st_data.columns\n"
   ]
  },
  {
   "cell_type": "code",
   "execution_count": 13,
   "id": "c3b309f0",
   "metadata": {
    "execution": {
     "iopub.execute_input": "2023-03-29T05:47:25.370752Z",
     "iopub.status.busy": "2023-03-29T05:47:25.369803Z",
     "iopub.status.idle": "2023-03-29T05:47:25.386268Z",
     "shell.execute_reply": "2023-03-29T05:47:25.384451Z"
    },
    "papermill": {
     "duration": 0.027159,
     "end_time": "2023-03-29T05:47:25.389215",
     "exception": false,
     "start_time": "2023-03-29T05:47:25.362056",
     "status": "completed"
    },
    "tags": []
   },
   "outputs": [
    {
     "name": "stdout",
     "output_type": "stream",
     "text": [
      "<class 'pandas.core.frame.DataFrame'>\n",
      "Int64Index: 7913 entries, 0 to 8692\n",
      "Data columns (total 15 columns):\n",
      " #   Column         Non-Null Count  Dtype  \n",
      "---  ------         --------------  -----  \n",
      " 0   CryoSleep      7913 non-null   float64\n",
      " 1   Age            7913 non-null   float64\n",
      " 2   VIP            7913 non-null   float64\n",
      " 3   RoomService    7913 non-null   float64\n",
      " 4   FoodCourt      7913 non-null   float64\n",
      " 5   ShoppingMall   7913 non-null   float64\n",
      " 6   Spa            7913 non-null   float64\n",
      " 7   VRDeck         7913 non-null   float64\n",
      " 8   Transported    7913 non-null   int64  \n",
      " 9   Earth          7913 non-null   uint8  \n",
      " 10  Europa         7913 non-null   uint8  \n",
      " 11  Mars           7913 non-null   uint8  \n",
      " 12  55 Cancri e    7913 non-null   uint8  \n",
      " 13  PSO J318.5-22  7913 non-null   uint8  \n",
      " 14  TRAPPIST-1e    7913 non-null   uint8  \n",
      "dtypes: float64(8), int64(1), uint8(6)\n",
      "memory usage: 664.6 KB\n"
     ]
    }
   ],
   "source": [
    "st_data.info()"
   ]
  },
  {
   "cell_type": "code",
   "execution_count": 14,
   "id": "11785ab1",
   "metadata": {
    "execution": {
     "iopub.execute_input": "2023-03-29T05:47:25.404623Z",
     "iopub.status.busy": "2023-03-29T05:47:25.403365Z",
     "iopub.status.idle": "2023-03-29T05:47:25.412803Z",
     "shell.execute_reply": "2023-03-29T05:47:25.411174Z"
    },
    "papermill": {
     "duration": 0.020186,
     "end_time": "2023-03-29T05:47:25.415682",
     "exception": false,
     "start_time": "2023-03-29T05:47:25.395496",
     "status": "completed"
    },
    "tags": []
   },
   "outputs": [],
   "source": [
    "y = st_data.Transported\n",
    "st_data = st_data.drop('Transported',axis = 1)\n",
    "X = st_data"
   ]
  },
  {
   "cell_type": "code",
   "execution_count": 15,
   "id": "e6a9f2e5",
   "metadata": {
    "execution": {
     "iopub.execute_input": "2023-03-29T05:47:25.430856Z",
     "iopub.status.busy": "2023-03-29T05:47:25.430378Z",
     "iopub.status.idle": "2023-03-29T05:47:27.055176Z",
     "shell.execute_reply": "2023-03-29T05:47:27.053867Z"
    },
    "papermill": {
     "duration": 1.636376,
     "end_time": "2023-03-29T05:47:27.058477",
     "exception": false,
     "start_time": "2023-03-29T05:47:25.422101",
     "status": "completed"
    },
    "tags": []
   },
   "outputs": [],
   "source": [
    "from sklearn.ensemble import RandomForestClassifier\n",
    "from sklearn.tree import DecisionTreeClassifier\n",
    "from sklearn.metrics import mean_absolute_error\n",
    "from sklearn.model_selection import train_test_split\n",
    "\n",
    "train_X,val_X,train_y,val_y = train_test_split(X,y,random_state = 1)"
   ]
  },
  {
   "cell_type": "code",
   "execution_count": 16,
   "id": "8097423c",
   "metadata": {
    "execution": {
     "iopub.execute_input": "2023-03-29T05:47:27.075490Z",
     "iopub.status.busy": "2023-03-29T05:47:27.075037Z",
     "iopub.status.idle": "2023-03-29T05:47:27.892817Z",
     "shell.execute_reply": "2023-03-29T05:47:27.891178Z"
    },
    "papermill": {
     "duration": 0.829303,
     "end_time": "2023-03-29T05:47:27.895940",
     "exception": false,
     "start_time": "2023-03-29T05:47:27.066637",
     "status": "completed"
    },
    "tags": []
   },
   "outputs": [],
   "source": [
    "rf_model = RandomForestClassifier(random_state = 1)\n",
    "# rf_model = DecisionTreeClassifier(random_state = 1)\n",
    "rf_model.fit(train_X.values,train_y.values)\n",
    "prediction = rf_model.predict(val_X.values)"
   ]
  },
  {
   "cell_type": "code",
   "execution_count": 17,
   "id": "2cc5de0c",
   "metadata": {
    "execution": {
     "iopub.execute_input": "2023-03-29T05:47:27.910523Z",
     "iopub.status.busy": "2023-03-29T05:47:27.910024Z",
     "iopub.status.idle": "2023-03-29T05:47:28.210320Z",
     "shell.execute_reply": "2023-03-29T05:47:28.208802Z"
    },
    "papermill": {
     "duration": 0.310784,
     "end_time": "2023-03-29T05:47:28.212942",
     "exception": false,
     "start_time": "2023-03-29T05:47:27.902158",
     "status": "completed"
    },
    "tags": []
   },
   "outputs": [
    {
     "data": {
      "image/png": "[encoded data removed]",
      "text/plain": [
       "<Figure size 640x480 with 2 Axes>"
      ]
     },
     "metadata": {},
     "output_type": "display_data"
    }
   ],
   "source": [
    "from sklearn.metrics import confusion_matrix,ConfusionMatrixDisplay,accuracy_score\n",
    "import matplotlib.pyplot as plt\n",
    "titanic_confusion_matrix = confusion_matrix(val_y,prediction)\n",
    "disp = ConfusionMatrixDisplay(confusion_matrix=titanic_confusion_matrix)\n",
    "disp.plot()\n",
    "plt.show()"
   ]
  },
  {
   "cell_type": "code",
   "execution_count": 18,
   "id": "5487ae77",
   "metadata": {
    "execution": {
     "iopub.execute_input": "2023-03-29T05:47:28.229179Z",
     "iopub.status.busy": "2023-03-29T05:47:28.227772Z",
     "iopub.status.idle": "2023-03-29T05:47:28.235427Z",
     "shell.execute_reply": "2023-03-29T05:47:28.234041Z"
    },
    "papermill": {
     "duration": 0.018503,
     "end_time": "2023-03-29T05:47:28.238069",
     "exception": false,
     "start_time": "2023-03-29T05:47:28.219566",
     "status": "completed"
    },
    "tags": []
   },
   "outputs": [
    {
     "name": "stdout",
     "output_type": "stream",
     "text": [
      "0.7751389590702374\n"
     ]
    }
   ],
   "source": [
    "accuracy = accuracy_score(val_y,prediction)\n",
    "print(accuracy)"
   ]
  }
 ],
 "metadata": {
  "kernelspec": {
   "display_name": "Python 3",
   "language": "python",
   "name": "python3"
  },
  "language_info": {
   "codemirror_mode": {
    "name": "ipython",
    "version": 3
   },
   "file_extension": ".py",
   "mimetype": "text/x-python",
   "name": "python",
   "nbconvert_exporter": "python",
   "pygments_lexer": "ipython3",
   "version": "3.7.12"
  },
  "papermill": {
   "default_parameters": {},
   "duration": 17.907427,
   "end_time": "2023-03-29T05:47:31.347369",
   "environment_variables": {},
   "exception": null,
   "input_path": "__notebook__.ipynb",
   "output_path": "__notebook__.ipynb",
   "parameters": {},
   "start_time": "2023-03-29T05:47:13.439942",
   "version": "2.4.0"
  }
 },
 "nbformat": 4,
 "nbformat_minor": 5
}
