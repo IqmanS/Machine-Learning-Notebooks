{
 "cells": [
  {
   "cell_type": "code",
   "execution_count": 1,
   "id": "6482b2f6",
   "metadata": {
    "_cell_guid": "b1076dfc-b9ad-4769-8c92-a6c4dae69d19",
    "_uuid": "8f2839f25d086af736a60e9eeb907d3b93b6e0e5",
    "execution": {
     "iopub.execute_input": "2023-03-29T06:07:52.435107Z",
     "iopub.status.busy": "2023-03-29T06:07:52.434656Z",
     "iopub.status.idle": "2023-03-29T06:07:53.928675Z",
     "shell.execute_reply": "2023-03-29T06:07:53.927057Z"
    },
    "papermill": {
     "duration": 1.506682,
     "end_time": "2023-03-29T06:07:53.931996",
     "exception": false,
     "start_time": "2023-03-29T06:07:52.425314",
     "status": "completed"
    },
    "tags": []
   },
   "outputs": [
    {
     "name": "stdout",
     "output_type": "stream",
     "text": [
      "/kaggle/input/spaceship-titanic/sample_submission.csv\n",
      "/kaggle/input/spaceship-titanic/train.csv\n",
      "/kaggle/input/spaceship-titanic/test.csv\n"
     ]
    }
   ],
   "source": [
    "# This Python 3 environment comes with many helpful analytics libraries installed\n",
    "# It is defined by the kaggle/python Docker image: https://github.com/kaggle/docker-python\n",
    "# For example, here's several helpful packages to load\n",
    "\n",
    "import numpy as np # linear algebra\n",
    "import pandas as pd # data processing, CSV file I/O (e.g. pd.read_csv)\n",
    "pd.options.mode.chained_assignment = None  # default='warn'\n",
    "from sklearn.ensemble import RandomForestClassifier\n",
    "from sklearn.tree import DecisionTreeClassifier\n",
    "from sklearn.metrics import mean_absolute_error\n",
    "from sklearn.model_selection import train_test_split\n",
    "\n",
    "# Input data files are available in the read-only \"../input/\" directory\n",
    "# For example, running this (by clicking run or pressing Shift+Enter) will list all files under the input directory\n",
    "\n",
    "import os\n",
    "for dirname, _, filenames in os.walk('/kaggle/input'):\n",
    "    for filename in filenames:\n",
    "        print(os.path.join(dirname, filename))\n",
    "\n",
    "# You can write up to 20GB to the current directory (/kaggle/working/) that gets preserved as output when you create a version using \"Save & Run All\" \n",
    "# You can also write temporary files to /kaggle/temp/, but they won't be saved outside of the current session"
   ]
  },
  {
   "cell_type": "code",
   "execution_count": 2,
   "id": "f33c71a4",
   "metadata": {
    "execution": {
     "iopub.execute_input": "2023-03-29T06:07:53.946927Z",
     "iopub.status.busy": "2023-03-29T06:07:53.946504Z",
     "iopub.status.idle": "2023-03-29T06:07:54.053678Z",
     "shell.execute_reply": "2023-03-29T06:07:54.052638Z"
    },
    "papermill": {
     "duration": 0.117798,
     "end_time": "2023-03-29T06:07:54.056417",
     "exception": false,
     "start_time": "2023-03-29T06:07:53.938619",
     "status": "completed"
    },
    "tags": []
   },
   "outputs": [
    {
     "data": {
      "text/plain": [
       "<bound method NDFrame.head of      PassengerId HomePlanet CryoSleep     Cabin    Destination   Age    VIP  \\\n",
       "0        0001_01     Europa     False     B/0/P    TRAPPIST-1e  39.0  False   \n",
       "1        0002_01      Earth     False     F/0/S    TRAPPIST-1e  24.0  False   \n",
       "2        0003_01     Europa     False     A/0/S    TRAPPIST-1e  58.0   True   \n",
       "3        0003_02     Europa     False     A/0/S    TRAPPIST-1e  33.0  False   \n",
       "4        0004_01      Earth     False     F/1/S    TRAPPIST-1e  16.0  False   \n",
       "...          ...        ...       ...       ...            ...   ...    ...   \n",
       "8688     9276_01     Europa     False    A/98/P    55 Cancri e  41.0   True   \n",
       "8689     9278_01      Earth      True  G/1499/S  PSO J318.5-22  18.0  False   \n",
       "8690     9279_01      Earth     False  G/1500/S    TRAPPIST-1e  26.0  False   \n",
       "8691     9280_01     Europa     False   E/608/S    55 Cancri e  32.0  False   \n",
       "8692     9280_02     Europa     False   E/608/S    TRAPPIST-1e  44.0  False   \n",
       "\n",
       "      RoomService  FoodCourt  ShoppingMall     Spa  VRDeck               Name  \\\n",
       "0             0.0        0.0           0.0     0.0     0.0    Maham Ofracculy   \n",
       "1           109.0        9.0          25.0   549.0    44.0       Juanna Vines   \n",
       "2            43.0     3576.0           0.0  6715.0    49.0      Altark Susent   \n",
       "3             0.0     1283.0         371.0  3329.0   193.0       Solam Susent   \n",
       "4           303.0       70.0         151.0   565.0     2.0  Willy Santantines   \n",
       "...           ...        ...           ...     ...     ...                ...   \n",
       "8688          0.0     6819.0           0.0  1643.0    74.0  Gravior Noxnuther   \n",
       "8689          0.0        0.0           0.0     0.0     0.0    Kurta Mondalley   \n",
       "8690          0.0        0.0        1872.0     1.0     0.0       Fayey Connon   \n",
       "8691          0.0     1049.0           0.0   353.0  3235.0   Celeon Hontichre   \n",
       "8692        126.0     4688.0           0.0     0.0    12.0   Propsh Hontichre   \n",
       "\n",
       "      Transported  \n",
       "0           False  \n",
       "1            True  \n",
       "2           False  \n",
       "3           False  \n",
       "4            True  \n",
       "...           ...  \n",
       "8688        False  \n",
       "8689        False  \n",
       "8690         True  \n",
       "8691        False  \n",
       "8692         True  \n",
       "\n",
       "[8693 rows x 14 columns]>"
      ]
     },
     "execution_count": 2,
     "metadata": {},
     "output_type": "execute_result"
    }
   ],
   "source": [
    "st_path = '/kaggle/input/spaceship-titanic/train.csv'\n",
    "st_test = '/kaggle/input/spaceship-titanic/test.csv'\n",
    "st_data = pd.read_csv(st_path)\n",
    "st_test = pd.read_csv(st_test)\n",
    "st_data.head"
   ]
  },
  {
   "cell_type": "code",
   "execution_count": 3,
   "id": "d72fd836",
   "metadata": {
    "execution": {
     "iopub.execute_input": "2023-03-29T06:07:54.072825Z",
     "iopub.status.busy": "2023-03-29T06:07:54.071643Z",
     "iopub.status.idle": "2023-03-29T06:07:54.081243Z",
     "shell.execute_reply": "2023-03-29T06:07:54.079797Z"
    },
    "papermill": {
     "duration": 0.020504,
     "end_time": "2023-03-29T06:07:54.083971",
     "exception": false,
     "start_time": "2023-03-29T06:07:54.063467",
     "status": "completed"
    },
    "tags": []
   },
   "outputs": [
    {
     "data": {
      "text/plain": [
       "Index(['PassengerId', 'HomePlanet', 'CryoSleep', 'Cabin', 'Destination', 'Age',\n",
       "       'VIP', 'RoomService', 'FoodCourt', 'ShoppingMall', 'Spa', 'VRDeck',\n",
       "       'Name', 'Transported'],\n",
       "      dtype='object')"
      ]
     },
     "execution_count": 3,
     "metadata": {},
     "output_type": "execute_result"
    }
   ],
   "source": [
    "st_data.columns"
   ]
  },
  {
   "cell_type": "code",
   "execution_count": 4,
   "id": "4f358fb4",
   "metadata": {
    "execution": {
     "iopub.execute_input": "2023-03-29T06:07:54.099884Z",
     "iopub.status.busy": "2023-03-29T06:07:54.099438Z",
     "iopub.status.idle": "2023-03-29T06:07:54.137268Z",
     "shell.execute_reply": "2023-03-29T06:07:54.136011Z"
    },
    "papermill": {
     "duration": 0.049191,
     "end_time": "2023-03-29T06:07:54.140307",
     "exception": false,
     "start_time": "2023-03-29T06:07:54.091116",
     "status": "completed"
    },
    "tags": []
   },
   "outputs": [
    {
     "name": "stdout",
     "output_type": "stream",
     "text": [
      "<class 'pandas.core.frame.DataFrame'>\n",
      "RangeIndex: 8693 entries, 0 to 8692\n",
      "Data columns (total 14 columns):\n",
      " #   Column        Non-Null Count  Dtype  \n",
      "---  ------        --------------  -----  \n",
      " 0   PassengerId   8693 non-null   object \n",
      " 1   HomePlanet    8492 non-null   object \n",
      " 2   CryoSleep     8476 non-null   object \n",
      " 3   Cabin         8494 non-null   object \n",
      " 4   Destination   8511 non-null   object \n",
      " 5   Age           8514 non-null   float64\n",
      " 6   VIP           8490 non-null   object \n",
      " 7   RoomService   8512 non-null   float64\n",
      " 8   FoodCourt     8510 non-null   float64\n",
      " 9   ShoppingMall  8485 non-null   float64\n",
      " 10  Spa           8510 non-null   float64\n",
      " 11  VRDeck        8505 non-null   float64\n",
      " 12  Name          8493 non-null   object \n",
      " 13  Transported   8693 non-null   bool   \n",
      "dtypes: bool(1), float64(6), object(7)\n",
      "memory usage: 891.5+ KB\n"
     ]
    }
   ],
   "source": [
    "st_data.info()"
   ]
  },
  {
   "cell_type": "code",
   "execution_count": 5,
   "id": "d66aeff1",
   "metadata": {
    "execution": {
     "iopub.execute_input": "2023-03-29T06:07:54.156169Z",
     "iopub.status.busy": "2023-03-29T06:07:54.155706Z",
     "iopub.status.idle": "2023-03-29T06:07:54.172694Z",
     "shell.execute_reply": "2023-03-29T06:07:54.170847Z"
    },
    "papermill": {
     "duration": 0.028384,
     "end_time": "2023-03-29T06:07:54.175563",
     "exception": false,
     "start_time": "2023-03-29T06:07:54.147179",
     "status": "completed"
    },
    "tags": []
   },
   "outputs": [
    {
     "name": "stdout",
     "output_type": "stream",
     "text": [
      "<class 'pandas.core.frame.DataFrame'>\n",
      "RangeIndex: 4277 entries, 0 to 4276\n",
      "Data columns (total 13 columns):\n",
      " #   Column        Non-Null Count  Dtype  \n",
      "---  ------        --------------  -----  \n",
      " 0   PassengerId   4277 non-null   object \n",
      " 1   HomePlanet    4190 non-null   object \n",
      " 2   CryoSleep     4184 non-null   object \n",
      " 3   Cabin         4177 non-null   object \n",
      " 4   Destination   4185 non-null   object \n",
      " 5   Age           4186 non-null   float64\n",
      " 6   VIP           4184 non-null   object \n",
      " 7   RoomService   4195 non-null   float64\n",
      " 8   FoodCourt     4171 non-null   float64\n",
      " 9   ShoppingMall  4179 non-null   float64\n",
      " 10  Spa           4176 non-null   float64\n",
      " 11  VRDeck        4197 non-null   float64\n",
      " 12  Name          4183 non-null   object \n",
      "dtypes: float64(6), object(7)\n",
      "memory usage: 434.5+ KB\n"
     ]
    }
   ],
   "source": [
    "st_test.info()"
   ]
  },
  {
   "cell_type": "code",
   "execution_count": 6,
   "id": "012b4c0b",
   "metadata": {
    "execution": {
     "iopub.execute_input": "2023-03-29T06:07:54.191066Z",
     "iopub.status.busy": "2023-03-29T06:07:54.190641Z",
     "iopub.status.idle": "2023-03-29T06:07:54.211845Z",
     "shell.execute_reply": "2023-03-29T06:07:54.210185Z"
    },
    "papermill": {
     "duration": 0.032373,
     "end_time": "2023-03-29T06:07:54.214820",
     "exception": false,
     "start_time": "2023-03-29T06:07:54.182447",
     "status": "completed"
    },
    "tags": []
   },
   "outputs": [],
   "source": [
    "# Better to fill up blanks using interpolate\n",
    "st_data.Age = st_data.Age.interpolate()\n",
    "st_data.RoomService = st_data.RoomService.interpolate()\n",
    "st_data.FoodCourt = st_data.FoodCourt.interpolate()\n",
    "st_data.ShoppingMall = st_data.ShoppingMall.interpolate()\n",
    "st_data.Spa = st_data.Spa.interpolate()\n",
    "st_data.VRDeck = st_data.VRDeck.interpolate()\n",
    "\n",
    "st_test.Age = st_test.Age.interpolate()\n",
    "st_test.RoomService = st_test.RoomService.interpolate()\n",
    "st_test.FoodCourt = st_test.FoodCourt.interpolate()\n",
    "st_test.ShoppingMall = st_test.ShoppingMall.interpolate()\n",
    "st_test.Spa = st_test.Spa.interpolate()\n",
    "st_test.VRDeck = st_test.VRDeck.interpolate()"
   ]
  },
  {
   "cell_type": "code",
   "execution_count": 7,
   "id": "6eefd80e",
   "metadata": {
    "execution": {
     "iopub.execute_input": "2023-03-29T06:07:54.231135Z",
     "iopub.status.busy": "2023-03-29T06:07:54.229992Z",
     "iopub.status.idle": "2023-03-29T06:07:54.268921Z",
     "shell.execute_reply": "2023-03-29T06:07:54.267347Z"
    },
    "papermill": {
     "duration": 0.051241,
     "end_time": "2023-03-29T06:07:54.272966",
     "exception": false,
     "start_time": "2023-03-29T06:07:54.221725",
     "status": "completed"
    },
    "tags": []
   },
   "outputs": [
    {
     "name": "stdout",
     "output_type": "stream",
     "text": [
      "<class 'pandas.core.frame.DataFrame'>\n",
      "Int64Index: 7913 entries, 0 to 8692\n",
      "Data columns (total 11 columns):\n",
      " #   Column        Non-Null Count  Dtype  \n",
      "---  ------        --------------  -----  \n",
      " 0   HomePlanet    7913 non-null   object \n",
      " 1   CryoSleep     7913 non-null   object \n",
      " 2   Destination   7913 non-null   object \n",
      " 3   Age           7913 non-null   float64\n",
      " 4   VIP           7913 non-null   object \n",
      " 5   RoomService   7913 non-null   float64\n",
      " 6   FoodCourt     7913 non-null   float64\n",
      " 7   ShoppingMall  7913 non-null   float64\n",
      " 8   Spa           7913 non-null   float64\n",
      " 9   VRDeck        7913 non-null   float64\n",
      " 10  Transported   7913 non-null   bool   \n",
      "dtypes: bool(1), float64(6), object(4)\n",
      "memory usage: 687.8+ KB\n",
      "<class 'pandas.core.frame.DataFrame'>\n",
      "Int64Index: 3925 entries, 0 to 4276\n",
      "Data columns (total 11 columns):\n",
      " #   Column        Non-Null Count  Dtype  \n",
      "---  ------        --------------  -----  \n",
      " 0   PassengerId   3925 non-null   object \n",
      " 1   HomePlanet    3925 non-null   object \n",
      " 2   CryoSleep     3925 non-null   object \n",
      " 3   Destination   3925 non-null   object \n",
      " 4   Age           3925 non-null   float64\n",
      " 5   VIP           3925 non-null   object \n",
      " 6   RoomService   3925 non-null   float64\n",
      " 7   FoodCourt     3925 non-null   float64\n",
      " 8   ShoppingMall  3925 non-null   float64\n",
      " 9   Spa           3925 non-null   float64\n",
      " 10  VRDeck        3925 non-null   float64\n",
      "dtypes: float64(6), object(5)\n",
      "memory usage: 368.0+ KB\n",
      "None\n",
      "\n",
      "None\n"
     ]
    }
   ],
   "source": [
    "# bad practice to drop data as it reduces models accuracy, learn better methods\n",
    "# learn how to exteact data drom cabin\n",
    "# cols = ['Name','Cabin','PassengerId']\n",
    "st_data = st_data.drop(['Name','Cabin','PassengerId'],axis = 1)\n",
    "st_test = st_test.drop(['Name','Cabin'],axis = 1)\n",
    "st_data = st_data.dropna()\n",
    "st_test = st_test.dropna()\n",
    "print(st_data.info(),st_test.info(),sep=\"\\n\\n\")"
   ]
  },
  {
   "cell_type": "code",
   "execution_count": 8,
   "id": "55c5018e",
   "metadata": {
    "execution": {
     "iopub.execute_input": "2023-03-29T06:07:54.289633Z",
     "iopub.status.busy": "2023-03-29T06:07:54.289200Z",
     "iopub.status.idle": "2023-03-29T06:07:54.299751Z",
     "shell.execute_reply": "2023-03-29T06:07:54.298574Z"
    },
    "papermill": {
     "duration": 0.022003,
     "end_time": "2023-03-29T06:07:54.302400",
     "exception": false,
     "start_time": "2023-03-29T06:07:54.280397",
     "status": "completed"
    },
    "tags": []
   },
   "outputs": [
    {
     "data": {
      "text/plain": [
       "array([False, True], dtype=object)"
      ]
     },
     "execution_count": 8,
     "metadata": {},
     "output_type": "execute_result"
    }
   ],
   "source": [
    "st_data.HomePlanet.unique()\n",
    "st_data.CryoSleep.unique()\n",
    "st_data.Destination.unique()\n",
    "st_data.VIP.unique()"
   ]
  },
  {
   "cell_type": "code",
   "execution_count": 9,
   "id": "b487c611",
   "metadata": {
    "execution": {
     "iopub.execute_input": "2023-03-29T06:07:54.318979Z",
     "iopub.status.busy": "2023-03-29T06:07:54.318145Z",
     "iopub.status.idle": "2023-03-29T06:07:54.333310Z",
     "shell.execute_reply": "2023-03-29T06:07:54.332336Z"
    },
    "papermill": {
     "duration": 0.026454,
     "end_time": "2023-03-29T06:07:54.335857",
     "exception": false,
     "start_time": "2023-03-29T06:07:54.309403",
     "status": "completed"
    },
    "tags": []
   },
   "outputs": [],
   "source": [
    "# convert objects to float \n",
    "\n",
    "st_data.HomePlanet = st_data.HomePlanet.astype(\"string\")\n",
    "st_data.Destination = st_data.Destination.astype(\"string\")\n",
    "st_data.CryoSleep = st_data.CryoSleep.astype(float)\n",
    "st_data.VIP = st_data.VIP.astype(float)\n",
    "st_data.Transported = st_data.Transported.astype(int)\n",
    "\n",
    "st_test.HomePlanet = st_test.HomePlanet.astype(\"string\")\n",
    "st_test.Destination = st_test.Destination.astype(\"string\")\n",
    "st_test.CryoSleep = st_test.CryoSleep.astype(float)\n",
    "st_test.VIP = st_test.VIP.astype(float)\n"
   ]
  },
  {
   "cell_type": "code",
   "execution_count": 10,
   "id": "bf8b4b60",
   "metadata": {
    "execution": {
     "iopub.execute_input": "2023-03-29T06:07:54.351693Z",
     "iopub.status.busy": "2023-03-29T06:07:54.351241Z",
     "iopub.status.idle": "2023-03-29T06:07:54.358993Z",
     "shell.execute_reply": "2023-03-29T06:07:54.357633Z"
    },
    "papermill": {
     "duration": 0.018736,
     "end_time": "2023-03-29T06:07:54.361581",
     "exception": false,
     "start_time": "2023-03-29T06:07:54.342845",
     "status": "completed"
    },
    "tags": []
   },
   "outputs": [
    {
     "name": "stdout",
     "output_type": "stream",
     "text": [
      "string\n",
      "string\n",
      "float64\n",
      "float64\n",
      "int64\n"
     ]
    }
   ],
   "source": [
    "print(st_data.HomePlanet.dtype)\n",
    "print(st_data.Destination.dtype)\n",
    "print(st_data.CryoSleep.dtype)\n",
    "print(st_data.VIP.dtype)\n",
    "print(st_data.Transported.dtype)"
   ]
  },
  {
   "cell_type": "code",
   "execution_count": 11,
   "id": "94e8cd92",
   "metadata": {
    "execution": {
     "iopub.execute_input": "2023-03-29T06:07:54.377727Z",
     "iopub.status.busy": "2023-03-29T06:07:54.377284Z",
     "iopub.status.idle": "2023-03-29T06:07:54.394156Z",
     "shell.execute_reply": "2023-03-29T06:07:54.392274Z"
    },
    "papermill": {
     "duration": 0.028541,
     "end_time": "2023-03-29T06:07:54.397169",
     "exception": false,
     "start_time": "2023-03-29T06:07:54.368628",
     "status": "completed"
    },
    "tags": []
   },
   "outputs": [
    {
     "name": "stdout",
     "output_type": "stream",
     "text": [
      "<class 'pandas.core.frame.DataFrame'>\n",
      "Int64Index: 7913 entries, 0 to 8692\n",
      "Data columns (total 11 columns):\n",
      " #   Column        Non-Null Count  Dtype  \n",
      "---  ------        --------------  -----  \n",
      " 0   HomePlanet    7913 non-null   string \n",
      " 1   CryoSleep     7913 non-null   float64\n",
      " 2   Destination   7913 non-null   string \n",
      " 3   Age           7913 non-null   float64\n",
      " 4   VIP           7913 non-null   float64\n",
      " 5   RoomService   7913 non-null   float64\n",
      " 6   FoodCourt     7913 non-null   float64\n",
      " 7   ShoppingMall  7913 non-null   float64\n",
      " 8   Spa           7913 non-null   float64\n",
      " 9   VRDeck        7913 non-null   float64\n",
      " 10  Transported   7913 non-null   int64  \n",
      "dtypes: float64(8), int64(1), string(2)\n",
      "memory usage: 741.8 KB\n"
     ]
    }
   ],
   "source": [
    "st_data.info()"
   ]
  },
  {
   "cell_type": "code",
   "execution_count": 12,
   "id": "8fc0e3d2",
   "metadata": {
    "execution": {
     "iopub.execute_input": "2023-03-29T06:07:54.414755Z",
     "iopub.status.busy": "2023-03-29T06:07:54.414311Z",
     "iopub.status.idle": "2023-03-29T06:07:54.420095Z",
     "shell.execute_reply": "2023-03-29T06:07:54.418587Z"
    },
    "papermill": {
     "duration": 0.018352,
     "end_time": "2023-03-29T06:07:54.422670",
     "exception": false,
     "start_time": "2023-03-29T06:07:54.404318",
     "status": "completed"
    },
    "tags": []
   },
   "outputs": [],
   "source": [
    "# st_data.HomePlanet.unique()\n",
    "# def HomePlanettoNewCol(row):\n",
    "#     if str(row.HomePlanet)=='Earth':\n",
    "#         row['Earth'] = 1\n",
    "#         row['Europa'] = 0\n",
    "#         row['Mars'] = 0\n",
    "#     elif str(row.HomePlanet)=='Europa':\n",
    "#         row['Earth'] = 0\n",
    "#         row['Europa'] = 1\n",
    "#         row['Mars'] = 0\n",
    "#     elif str(row.HomePlanet)=='Mars':\n",
    "#         row['Earth'] = 0\n",
    "#         row['Europa'] = 0\n",
    "#         row['Mars'] = 1\n",
    "# st_data.apply(HomePlanettoNewCol,axis=1)\n",
    "# st_data[['Earth','Europa','Mars']].head"
   ]
  },
  {
   "cell_type": "code",
   "execution_count": 13,
   "id": "d0fc00fa",
   "metadata": {
    "execution": {
     "iopub.execute_input": "2023-03-29T06:07:54.439065Z",
     "iopub.status.busy": "2023-03-29T06:07:54.438606Z",
     "iopub.status.idle": "2023-03-29T06:07:54.467171Z",
     "shell.execute_reply": "2023-03-29T06:07:54.465846Z"
    },
    "papermill": {
     "duration": 0.040063,
     "end_time": "2023-03-29T06:07:54.470032",
     "exception": false,
     "start_time": "2023-03-29T06:07:54.429969",
     "status": "completed"
    },
    "tags": []
   },
   "outputs": [
    {
     "data": {
      "text/plain": [
       "Index(['PassengerId', 'CryoSleep', 'Age', 'VIP', 'RoomService', 'FoodCourt',\n",
       "       'ShoppingMall', 'Spa', 'VRDeck', 'Earth', 'Europa', 'Mars',\n",
       "       '55 Cancri e', 'PSO J318.5-22', 'TRAPPIST-1e'],\n",
       "      dtype='object')"
      ]
     },
     "execution_count": 13,
     "metadata": {},
     "output_type": "execute_result"
    }
   ],
   "source": [
    "dummy = []\n",
    "cols = ['HomePlanet','Destination']\n",
    "for i in cols:\n",
    "    dummy.append(pd.get_dummies(st_data[i]))\n",
    "st_dummy = pd.concat(dummy,axis=1)\n",
    "st_data = pd.concat((st_data,st_dummy),axis = 1)\n",
    "st_data = st_data.drop(cols,axis=1)\n",
    "st_data.columns\n",
    "\n",
    "dummy = []\n",
    "for i in cols:\n",
    "    dummy.append(pd.get_dummies(st_test[i]))\n",
    "st_dummy = pd.concat(dummy,axis=1)\n",
    "st_test = pd.concat((st_test,st_dummy),axis = 1)\n",
    "st_test = st_test.drop(cols,axis=1)\n",
    "st_test.columns\n"
   ]
  },
  {
   "cell_type": "code",
   "execution_count": 14,
   "id": "526d863c",
   "metadata": {
    "execution": {
     "iopub.execute_input": "2023-03-29T06:07:54.487599Z",
     "iopub.status.busy": "2023-03-29T06:07:54.486268Z",
     "iopub.status.idle": "2023-03-29T06:07:54.512011Z",
     "shell.execute_reply": "2023-03-29T06:07:54.509401Z"
    },
    "papermill": {
     "duration": 0.037941,
     "end_time": "2023-03-29T06:07:54.515376",
     "exception": false,
     "start_time": "2023-03-29T06:07:54.477435",
     "status": "completed"
    },
    "tags": []
   },
   "outputs": [
    {
     "name": "stdout",
     "output_type": "stream",
     "text": [
      "<class 'pandas.core.frame.DataFrame'>\n",
      "Int64Index: 7913 entries, 0 to 8692\n",
      "Data columns (total 15 columns):\n",
      " #   Column         Non-Null Count  Dtype  \n",
      "---  ------         --------------  -----  \n",
      " 0   CryoSleep      7913 non-null   float64\n",
      " 1   Age            7913 non-null   float64\n",
      " 2   VIP            7913 non-null   float64\n",
      " 3   RoomService    7913 non-null   float64\n",
      " 4   FoodCourt      7913 non-null   float64\n",
      " 5   ShoppingMall   7913 non-null   float64\n",
      " 6   Spa            7913 non-null   float64\n",
      " 7   VRDeck         7913 non-null   float64\n",
      " 8   Transported    7913 non-null   int64  \n",
      " 9   Earth          7913 non-null   uint8  \n",
      " 10  Europa         7913 non-null   uint8  \n",
      " 11  Mars           7913 non-null   uint8  \n",
      " 12  55 Cancri e    7913 non-null   uint8  \n",
      " 13  PSO J318.5-22  7913 non-null   uint8  \n",
      " 14  TRAPPIST-1e    7913 non-null   uint8  \n",
      "dtypes: float64(8), int64(1), uint8(6)\n",
      "memory usage: 664.6 KB\n",
      "<class 'pandas.core.frame.DataFrame'>\n",
      "Int64Index: 3925 entries, 0 to 4276\n",
      "Data columns (total 15 columns):\n",
      " #   Column         Non-Null Count  Dtype  \n",
      "---  ------         --------------  -----  \n",
      " 0   PassengerId    3925 non-null   object \n",
      " 1   CryoSleep      3925 non-null   float64\n",
      " 2   Age            3925 non-null   float64\n",
      " 3   VIP            3925 non-null   float64\n",
      " 4   RoomService    3925 non-null   float64\n",
      " 5   FoodCourt      3925 non-null   float64\n",
      " 6   ShoppingMall   3925 non-null   float64\n",
      " 7   Spa            3925 non-null   float64\n",
      " 8   VRDeck         3925 non-null   float64\n",
      " 9   Earth          3925 non-null   uint8  \n",
      " 10  Europa         3925 non-null   uint8  \n",
      " 11  Mars           3925 non-null   uint8  \n",
      " 12  55 Cancri e    3925 non-null   uint8  \n",
      " 13  PSO J318.5-22  3925 non-null   uint8  \n",
      " 14  TRAPPIST-1e    3925 non-null   uint8  \n",
      "dtypes: float64(8), object(1), uint8(6)\n",
      "memory usage: 329.6+ KB\n",
      "None\n",
      "\n",
      "None\n"
     ]
    }
   ],
   "source": [
    "print(st_data.info(),st_test.info(),sep=\"\\n\\n\")"
   ]
  },
  {
   "cell_type": "code",
   "execution_count": 15,
   "id": "00a533da",
   "metadata": {
    "execution": {
     "iopub.execute_input": "2023-03-29T06:07:54.532796Z",
     "iopub.status.busy": "2023-03-29T06:07:54.532163Z",
     "iopub.status.idle": "2023-03-29T06:07:54.541248Z",
     "shell.execute_reply": "2023-03-29T06:07:54.540210Z"
    },
    "papermill": {
     "duration": 0.020651,
     "end_time": "2023-03-29T06:07:54.543824",
     "exception": false,
     "start_time": "2023-03-29T06:07:54.523173",
     "status": "completed"
    },
    "tags": []
   },
   "outputs": [],
   "source": [
    "y = st_data.Transported\n",
    "st_data = st_data.drop('Transported',axis = 1)\n",
    "X = st_data\n",
    "test_X = st_test.drop('PassengerId',axis = 1)"
   ]
  },
  {
   "cell_type": "code",
   "execution_count": 16,
   "id": "5cd38ef9",
   "metadata": {
    "execution": {
     "iopub.execute_input": "2023-03-29T06:07:54.560903Z",
     "iopub.status.busy": "2023-03-29T06:07:54.560442Z",
     "iopub.status.idle": "2023-03-29T06:07:55.606860Z",
     "shell.execute_reply": "2023-03-29T06:07:55.605406Z"
    },
    "papermill": {
     "duration": 1.058328,
     "end_time": "2023-03-29T06:07:55.609692",
     "exception": false,
     "start_time": "2023-03-29T06:07:54.551364",
     "status": "completed"
    },
    "tags": []
   },
   "outputs": [
    {
     "name": "stdout",
     "output_type": "stream",
     "text": [
      "[1 0 1 ... 0 1 0]\n"
     ]
    }
   ],
   "source": [
    "rf_model = RandomForestClassifier(random_state = 1)\n",
    "rf_model.fit(X.values,y.values)\n",
    "prediction = rf_model.predict(test_X.values)\n",
    "print(prediction)"
   ]
  },
  {
   "cell_type": "code",
   "execution_count": 17,
   "id": "7c53395e",
   "metadata": {
    "execution": {
     "iopub.execute_input": "2023-03-29T06:07:55.627380Z",
     "iopub.status.busy": "2023-03-29T06:07:55.626233Z",
     "iopub.status.idle": "2023-03-29T06:07:55.638751Z",
     "shell.execute_reply": "2023-03-29T06:07:55.637386Z"
    },
    "papermill": {
     "duration": 0.024262,
     "end_time": "2023-03-29T06:07:55.641564",
     "exception": false,
     "start_time": "2023-03-29T06:07:55.617302",
     "status": "completed"
    },
    "tags": []
   },
   "outputs": [
    {
     "data": {
      "text/plain": [
       "Index(['PassengerId', 'Transported'], dtype='object')"
      ]
     },
     "execution_count": 17,
     "metadata": {},
     "output_type": "execute_result"
    }
   ],
   "source": [
    "st_test['Transported']  = prediction\n",
    "st_test.columns\n",
    "cols = ['CryoSleep', 'Age', 'VIP', 'RoomService', 'FoodCourt',\n",
    "       'ShoppingMall', 'Spa', 'VRDeck', 'Earth', 'Europa', 'Mars',\n",
    "       '55 Cancri e', 'PSO J318.5-22', 'TRAPPIST-1e']\n",
    "st_test = st_test.drop(cols,axis =1)\n",
    "st_test.columns"
   ]
  },
  {
   "cell_type": "code",
   "execution_count": 18,
   "id": "6dbf9813",
   "metadata": {
    "execution": {
     "iopub.execute_input": "2023-03-29T06:07:55.658906Z",
     "iopub.status.busy": "2023-03-29T06:07:55.658069Z",
     "iopub.status.idle": "2023-03-29T06:07:55.666324Z",
     "shell.execute_reply": "2023-03-29T06:07:55.664881Z"
    },
    "papermill": {
     "duration": 0.020257,
     "end_time": "2023-03-29T06:07:55.669431",
     "exception": false,
     "start_time": "2023-03-29T06:07:55.649174",
     "status": "completed"
    },
    "tags": []
   },
   "outputs": [
    {
     "name": "stdout",
     "output_type": "stream",
     "text": [
      "<bound method NDFrame.head of 0        True\n",
      "1       False\n",
      "2        True\n",
      "3        True\n",
      "4       False\n",
      "        ...  \n",
      "4271     True\n",
      "4272     True\n",
      "4273    False\n",
      "4274     True\n",
      "4276    False\n",
      "Name: Transported, Length: 3925, dtype: bool>\n"
     ]
    }
   ],
   "source": [
    "st_test.Transported = st_test.Transported.astype(bool)\n",
    "print(st_test.Transported.head)"
   ]
  },
  {
   "cell_type": "code",
   "execution_count": 19,
   "id": "c76b9c03",
   "metadata": {
    "execution": {
     "iopub.execute_input": "2023-03-29T06:07:55.686794Z",
     "iopub.status.busy": "2023-03-29T06:07:55.686380Z",
     "iopub.status.idle": "2023-03-29T06:07:55.702174Z",
     "shell.execute_reply": "2023-03-29T06:07:55.700620Z"
    },
    "papermill": {
     "duration": 0.027847,
     "end_time": "2023-03-29T06:07:55.704994",
     "exception": false,
     "start_time": "2023-03-29T06:07:55.677147",
     "status": "completed"
    },
    "tags": []
   },
   "outputs": [],
   "source": [
    "st_test.to_csv('submission.csv',header=True,index=False)"
   ]
  },
  {
   "cell_type": "code",
   "execution_count": 20,
   "id": "81cc947d",
   "metadata": {
    "execution": {
     "iopub.execute_input": "2023-03-29T06:07:55.722221Z",
     "iopub.status.busy": "2023-03-29T06:07:55.721622Z",
     "iopub.status.idle": "2023-03-29T06:07:55.727372Z",
     "shell.execute_reply": "2023-03-29T06:07:55.725911Z"
    },
    "papermill": {
     "duration": 0.016985,
     "end_time": "2023-03-29T06:07:55.729631",
     "exception": false,
     "start_time": "2023-03-29T06:07:55.712646",
     "status": "completed"
    },
    "tags": []
   },
   "outputs": [],
   "source": [
    "# train_X,val_X,train_y,val_y = train_test_split(X,y,random_state = 1)"
   ]
  },
  {
   "cell_type": "code",
   "execution_count": 21,
   "id": "af3045fe",
   "metadata": {
    "execution": {
     "iopub.execute_input": "2023-03-29T06:07:55.747575Z",
     "iopub.status.busy": "2023-03-29T06:07:55.746348Z",
     "iopub.status.idle": "2023-03-29T06:07:55.751456Z",
     "shell.execute_reply": "2023-03-29T06:07:55.750378Z"
    },
    "papermill": {
     "duration": 0.016529,
     "end_time": "2023-03-29T06:07:55.753839",
     "exception": false,
     "start_time": "2023-03-29T06:07:55.737310",
     "status": "completed"
    },
    "tags": []
   },
   "outputs": [],
   "source": [
    "# rf_model = RandomForestClassifier(random_state = 1)\n",
    "# # rf_model = DecisionTreeClassifier(random_state = 1)\n",
    "# rf_model.fit(train_X.values,train_y.values)\n",
    "# prediction = rf_model.predict(val_X.values)"
   ]
  },
  {
   "cell_type": "code",
   "execution_count": 22,
   "id": "3d67d831",
   "metadata": {
    "execution": {
     "iopub.execute_input": "2023-03-29T06:07:55.771408Z",
     "iopub.status.busy": "2023-03-29T06:07:55.770998Z",
     "iopub.status.idle": "2023-03-29T06:07:55.775683Z",
     "shell.execute_reply": "2023-03-29T06:07:55.774430Z"
    },
    "papermill": {
     "duration": 0.016296,
     "end_time": "2023-03-29T06:07:55.777987",
     "exception": false,
     "start_time": "2023-03-29T06:07:55.761691",
     "status": "completed"
    },
    "tags": []
   },
   "outputs": [],
   "source": [
    "# from sklearn.metrics import confusion_matrix,ConfusionMatrixDisplay,accuracy_score\n",
    "# import matplotlib.pyplot as plt\n",
    "# titanic_confusion_matrix = confusion_matrix(val_y,prediction)\n",
    "# disp = ConfusionMatrixDisplay(confusion_matrix=titanic_confusion_matrix)\n",
    "# disp.plot()\n",
    "# plt.show()"
   ]
  },
  {
   "cell_type": "code",
   "execution_count": 23,
   "id": "935ee708",
   "metadata": {
    "execution": {
     "iopub.execute_input": "2023-03-29T06:07:55.795651Z",
     "iopub.status.busy": "2023-03-29T06:07:55.794576Z",
     "iopub.status.idle": "2023-03-29T06:07:55.799628Z",
     "shell.execute_reply": "2023-03-29T06:07:55.798453Z"
    },
    "papermill": {
     "duration": 0.0164,
     "end_time": "2023-03-29T06:07:55.801980",
     "exception": false,
     "start_time": "2023-03-29T06:07:55.785580",
     "status": "completed"
    },
    "tags": []
   },
   "outputs": [],
   "source": [
    "# accuracy = accuracy_score(val_y,prediction)\n",
    "# print(accuracy)"
   ]
  }
 ],
 "metadata": {
  "kernelspec": {
   "display_name": "Python 3",
   "language": "python",
   "name": "python3"
  },
  "language_info": {
   "codemirror_mode": {
    "name": "ipython",
    "version": 3
   },
   "file_extension": ".py",
   "mimetype": "text/x-python",
   "name": "python",
   "nbconvert_exporter": "python",
   "pygments_lexer": "ipython3",
   "version": "3.7.12"
  },
  "papermill": {
   "default_parameters": {},
   "duration": 15.851,
   "end_time": "2023-03-29T06:07:56.633796",
   "environment_variables": {},
   "exception": null,
   "input_path": "__notebook__.ipynb",
   "output_path": "__notebook__.ipynb",
   "parameters": {},
   "start_time": "2023-03-29T06:07:40.782796",
   "version": "2.4.0"
  }
 },
 "nbformat": 4,
 "nbformat_minor": 5
}
